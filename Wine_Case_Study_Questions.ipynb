{
 "cells": [
  {
   "cell_type": "markdown",
   "metadata": {},
   "source": [
    "## Practice Exercise"
   ]
  },
  {
   "cell_type": "markdown",
   "metadata": {},
   "source": [
    "### About the Data set (Wine Quality.csv)\n",
    "Attribute Information:\n",
    "\n",
    "The dataset are related to red and white variants of the \"Vinho Verde\" wine. Vinho verde is a unique product from the Minho (northwest) region of Portugal. Medium in alcohol, is it particularly appreciated due to its freshness (specially in the summer). \n",
    "\n",
    "    1 - fixed acidity \n",
    "    2 - volatile acidity \n",
    "    3 - citric acid \n",
    "    4 - residual sugar \n",
    "    5 - chlorides \n",
    "    6 - free sulfur dioxide \n",
    "    7 - total sulfur dioxide \n",
    "    8 - density \n",
    "    9 - pH \n",
    "    10 - sulphates \n",
    "    11 - alcohol Output variable (based on sensory data): \n",
    "    12 - quality (score between 0 and 10)"
   ]
  },
  {
   "cell_type": "markdown",
   "metadata": {},
   "source": [
    "## 1. Load the libraries:"
   ]
  },
  {
   "cell_type": "code",
   "execution_count": 32,
   "metadata": {},
   "outputs": [],
   "source": [
    "import pandas as pd\n",
    "import numpy as np\n",
    "import seaborn as sns\n",
    "import matplotlib.pyplot as plt\n",
    "%matplotlib inline\n",
    "from scipy.stats import skew, norm, probplot, boxcox, f_oneway\n",
    "import warnings\n",
    "pd.set_option('display.float_format', lambda x: '%.5f' % x) # To supress numerical display in scientific notations"
   ]
  },
  {
   "cell_type": "markdown",
   "metadata": {},
   "source": [
    "## 2. Importing the dataset:"
   ]
  },
  {
   "cell_type": "code",
   "execution_count": 33,
   "metadata": {},
   "outputs": [
    {
     "data": {
      "text/html": [
       "<div>\n",
       "<style scoped>\n",
       "    .dataframe tbody tr th:only-of-type {\n",
       "        vertical-align: middle;\n",
       "    }\n",
       "\n",
       "    .dataframe tbody tr th {\n",
       "        vertical-align: top;\n",
       "    }\n",
       "\n",
       "    .dataframe thead th {\n",
       "        text-align: right;\n",
       "    }\n",
       "</style>\n",
       "<table border=\"1\" class=\"dataframe\">\n",
       "  <thead>\n",
       "    <tr style=\"text-align: right;\">\n",
       "      <th></th>\n",
       "      <th>fixed acidity</th>\n",
       "      <th>volatile acidity</th>\n",
       "      <th>citric acid</th>\n",
       "      <th>residual sugar</th>\n",
       "      <th>chlorides</th>\n",
       "      <th>free sulfur dioxide</th>\n",
       "      <th>total sulfur dioxide</th>\n",
       "      <th>density</th>\n",
       "      <th>pH</th>\n",
       "      <th>sulphates</th>\n",
       "      <th>alcohol</th>\n",
       "      <th>quality</th>\n",
       "    </tr>\n",
       "  </thead>\n",
       "  <tbody>\n",
       "    <tr>\n",
       "      <th>0</th>\n",
       "      <td>7.00000</td>\n",
       "      <td>0.27000</td>\n",
       "      <td>0.36000</td>\n",
       "      <td>20.70000</td>\n",
       "      <td>0.04500</td>\n",
       "      <td>45.00000</td>\n",
       "      <td>170.00000</td>\n",
       "      <td>1.00100</td>\n",
       "      <td>3.00000</td>\n",
       "      <td>0.45000</td>\n",
       "      <td>8.80000</td>\n",
       "      <td>6</td>\n",
       "    </tr>\n",
       "    <tr>\n",
       "      <th>1</th>\n",
       "      <td>6.30000</td>\n",
       "      <td>0.30000</td>\n",
       "      <td>0.34000</td>\n",
       "      <td>1.60000</td>\n",
       "      <td>0.04900</td>\n",
       "      <td>14.00000</td>\n",
       "      <td>132.00000</td>\n",
       "      <td>0.99400</td>\n",
       "      <td>3.30000</td>\n",
       "      <td>0.49000</td>\n",
       "      <td>9.50000</td>\n",
       "      <td>6</td>\n",
       "    </tr>\n",
       "    <tr>\n",
       "      <th>2</th>\n",
       "      <td>8.10000</td>\n",
       "      <td>0.28000</td>\n",
       "      <td>0.40000</td>\n",
       "      <td>6.90000</td>\n",
       "      <td>0.05000</td>\n",
       "      <td>30.00000</td>\n",
       "      <td>97.00000</td>\n",
       "      <td>0.99510</td>\n",
       "      <td>3.26000</td>\n",
       "      <td>0.44000</td>\n",
       "      <td>10.10000</td>\n",
       "      <td>6</td>\n",
       "    </tr>\n",
       "    <tr>\n",
       "      <th>3</th>\n",
       "      <td>7.20000</td>\n",
       "      <td>0.23000</td>\n",
       "      <td>0.32000</td>\n",
       "      <td>8.50000</td>\n",
       "      <td>0.05800</td>\n",
       "      <td>47.00000</td>\n",
       "      <td>186.00000</td>\n",
       "      <td>0.99560</td>\n",
       "      <td>3.19000</td>\n",
       "      <td>0.40000</td>\n",
       "      <td>9.90000</td>\n",
       "      <td>6</td>\n",
       "    </tr>\n",
       "    <tr>\n",
       "      <th>4</th>\n",
       "      <td>7.20000</td>\n",
       "      <td>0.23000</td>\n",
       "      <td>0.32000</td>\n",
       "      <td>8.50000</td>\n",
       "      <td>0.05800</td>\n",
       "      <td>47.00000</td>\n",
       "      <td>186.00000</td>\n",
       "      <td>0.99560</td>\n",
       "      <td>3.19000</td>\n",
       "      <td>0.40000</td>\n",
       "      <td>9.90000</td>\n",
       "      <td>6</td>\n",
       "    </tr>\n",
       "  </tbody>\n",
       "</table>\n",
       "</div>"
      ],
      "text/plain": [
       "   fixed acidity  volatile acidity  citric acid  residual sugar  chlorides  \\\n",
       "0        7.00000           0.27000      0.36000        20.70000    0.04500   \n",
       "1        6.30000           0.30000      0.34000         1.60000    0.04900   \n",
       "2        8.10000           0.28000      0.40000         6.90000    0.05000   \n",
       "3        7.20000           0.23000      0.32000         8.50000    0.05800   \n",
       "4        7.20000           0.23000      0.32000         8.50000    0.05800   \n",
       "\n",
       "   free sulfur dioxide  total sulfur dioxide  density      pH  sulphates  \\\n",
       "0             45.00000             170.00000  1.00100 3.00000    0.45000   \n",
       "1             14.00000             132.00000  0.99400 3.30000    0.49000   \n",
       "2             30.00000              97.00000  0.99510 3.26000    0.44000   \n",
       "3             47.00000             186.00000  0.99560 3.19000    0.40000   \n",
       "4             47.00000             186.00000  0.99560 3.19000    0.40000   \n",
       "\n",
       "   alcohol  quality  \n",
       "0  8.80000        6  \n",
       "1  9.50000        6  \n",
       "2 10.10000        6  \n",
       "3  9.90000        6  \n",
       "4  9.90000        6  "
      ]
     },
     "execution_count": 33,
     "metadata": {},
     "output_type": "execute_result"
    }
   ],
   "source": [
    "wines = pd.read_csv(\"Wine_data.csv\")\n",
    "wines.head(5)"
   ]
  },
  {
   "cell_type": "markdown",
   "metadata": {},
   "source": [
    "## 3.EDA Descriptive Statistics:"
   ]
  },
  {
   "cell_type": "markdown",
   "metadata": {},
   "source": [
    "### 3.1.  Measures of Central Tendency\n",
    "\n",
    "Measures of Central Tendency define significant, representative and adequate values for a set of data, depending on what you want to analyze. They are the \n",
    "\n",
    "1. mean\n",
    "2. median\n",
    "3. quantiles and mode."
   ]
  },
  {
   "cell_type": "markdown",
   "metadata": {},
   "source": [
    "### 3.2 Check the  mean ,Mode, Median and Quantile for dataset?"
   ]
  },
  {
   "cell_type": "markdown",
   "metadata": {},
   "source": [
    "### Mean"
   ]
  },
  {
   "cell_type": "code",
   "execution_count": 6,
   "metadata": {},
   "outputs": [
    {
     "data": {
      "text/plain": [
       "fixed acidity            6.85479\n",
       "volatile acidity         0.27824\n",
       "citric acid              0.33419\n",
       "residual sugar           6.39141\n",
       "chlorides                0.04577\n",
       "free sulfur dioxide     35.30808\n",
       "total sulfur dioxide   138.36066\n",
       "density                  0.99403\n",
       "pH                       3.18827\n",
       "sulphates                0.48985\n",
       "alcohol                 10.51427\n",
       "quality                  5.87791\n",
       "dtype: float64"
      ]
     },
     "execution_count": 6,
     "metadata": {},
     "output_type": "execute_result"
    }
   ],
   "source": [
    "wines.mean()"
   ]
  },
  {
   "cell_type": "markdown",
   "metadata": {},
   "source": [
    "### Mode"
   ]
  },
  {
   "cell_type": "code",
   "execution_count": 7,
   "metadata": {},
   "outputs": [
    {
     "data": {
      "text/html": [
       "<div>\n",
       "<style scoped>\n",
       "    .dataframe tbody tr th:only-of-type {\n",
       "        vertical-align: middle;\n",
       "    }\n",
       "\n",
       "    .dataframe tbody tr th {\n",
       "        vertical-align: top;\n",
       "    }\n",
       "\n",
       "    .dataframe thead th {\n",
       "        text-align: right;\n",
       "    }\n",
       "</style>\n",
       "<table border=\"1\" class=\"dataframe\">\n",
       "  <thead>\n",
       "    <tr style=\"text-align: right;\">\n",
       "      <th></th>\n",
       "      <th>fixed acidity</th>\n",
       "      <th>volatile acidity</th>\n",
       "      <th>citric acid</th>\n",
       "      <th>residual sugar</th>\n",
       "      <th>chlorides</th>\n",
       "      <th>free sulfur dioxide</th>\n",
       "      <th>total sulfur dioxide</th>\n",
       "      <th>density</th>\n",
       "      <th>pH</th>\n",
       "      <th>sulphates</th>\n",
       "      <th>alcohol</th>\n",
       "      <th>quality</th>\n",
       "    </tr>\n",
       "  </thead>\n",
       "  <tbody>\n",
       "    <tr>\n",
       "      <th>0</th>\n",
       "      <td>6.80000</td>\n",
       "      <td>0.28000</td>\n",
       "      <td>0.30000</td>\n",
       "      <td>1.20000</td>\n",
       "      <td>0.04400</td>\n",
       "      <td>29.00000</td>\n",
       "      <td>111.00000</td>\n",
       "      <td>0.99200</td>\n",
       "      <td>3.14000</td>\n",
       "      <td>0.50000</td>\n",
       "      <td>9.40000</td>\n",
       "      <td>6</td>\n",
       "    </tr>\n",
       "  </tbody>\n",
       "</table>\n",
       "</div>"
      ],
      "text/plain": [
       "   fixed acidity  volatile acidity  citric acid  residual sugar  chlorides  \\\n",
       "0        6.80000           0.28000      0.30000         1.20000    0.04400   \n",
       "\n",
       "   free sulfur dioxide  total sulfur dioxide  density      pH  sulphates  \\\n",
       "0             29.00000             111.00000  0.99200 3.14000    0.50000   \n",
       "\n",
       "   alcohol  quality  \n",
       "0  9.40000        6  "
      ]
     },
     "execution_count": 7,
     "metadata": {},
     "output_type": "execute_result"
    }
   ],
   "source": [
    "wines.mode()"
   ]
  },
  {
   "cell_type": "markdown",
   "metadata": {},
   "source": [
    "### Median and Quantile"
   ]
  },
  {
   "cell_type": "code",
   "execution_count": 9,
   "metadata": {},
   "outputs": [
    {
     "data": {
      "text/plain": [
       "fixed acidity            6.80000\n",
       "volatile acidity         0.26000\n",
       "citric acid              0.32000\n",
       "residual sugar           5.20000\n",
       "chlorides                0.04300\n",
       "free sulfur dioxide     34.00000\n",
       "total sulfur dioxide   134.00000\n",
       "density                  0.99374\n",
       "pH                       3.18000\n",
       "sulphates                0.47000\n",
       "alcohol                 10.40000\n",
       "quality                  6.00000\n",
       "dtype: float64"
      ]
     },
     "execution_count": 9,
     "metadata": {},
     "output_type": "execute_result"
    }
   ],
   "source": [
    "wines.median()"
   ]
  },
  {
   "cell_type": "markdown",
   "metadata": {},
   "source": [
    "### 3.3 check (Quantile 25%,50%,75%) for dataset"
   ]
  },
  {
   "cell_type": "markdown",
   "metadata": {},
   "source": [
    "### Quantile 25%"
   ]
  },
  {
   "cell_type": "code",
   "execution_count": 10,
   "metadata": {},
   "outputs": [
    {
     "data": {
      "text/plain": [
       "fixed acidity            6.30000\n",
       "volatile acidity         0.21000\n",
       "citric acid              0.27000\n",
       "residual sugar           1.70000\n",
       "chlorides                0.03600\n",
       "free sulfur dioxide     23.00000\n",
       "total sulfur dioxide   108.00000\n",
       "density                  0.99172\n",
       "pH                       3.09000\n",
       "sulphates                0.41000\n",
       "alcohol                  9.50000\n",
       "quality                  5.00000\n",
       "Name: 0.25, dtype: float64"
      ]
     },
     "execution_count": 10,
     "metadata": {},
     "output_type": "execute_result"
    }
   ],
   "source": [
    "wines.quantile(q=.25)"
   ]
  },
  {
   "cell_type": "markdown",
   "metadata": {},
   "source": [
    "\n",
    "### Quantile 50%"
   ]
  },
  {
   "cell_type": "code",
   "execution_count": 11,
   "metadata": {},
   "outputs": [
    {
     "data": {
      "text/plain": [
       "fixed acidity            6.80000\n",
       "volatile acidity         0.26000\n",
       "citric acid              0.32000\n",
       "residual sugar           5.20000\n",
       "chlorides                0.04300\n",
       "free sulfur dioxide     34.00000\n",
       "total sulfur dioxide   134.00000\n",
       "density                  0.99374\n",
       "pH                       3.18000\n",
       "sulphates                0.47000\n",
       "alcohol                 10.40000\n",
       "quality                  6.00000\n",
       "Name: 0.5, dtype: float64"
      ]
     },
     "execution_count": 11,
     "metadata": {},
     "output_type": "execute_result"
    }
   ],
   "source": [
    "wines.quantile(q=.5)"
   ]
  },
  {
   "cell_type": "markdown",
   "metadata": {},
   "source": [
    "### Quantile 75%"
   ]
  },
  {
   "cell_type": "code",
   "execution_count": 13,
   "metadata": {},
   "outputs": [
    {
     "data": {
      "text/plain": [
       "fixed acidity            7.30000\n",
       "volatile acidity         0.32000\n",
       "citric acid              0.39000\n",
       "residual sugar           9.90000\n",
       "chlorides                0.05000\n",
       "free sulfur dioxide     46.00000\n",
       "total sulfur dioxide   167.00000\n",
       "density                  0.99610\n",
       "pH                       3.28000\n",
       "sulphates                0.55000\n",
       "alcohol                 11.40000\n",
       "quality                  6.00000\n",
       "Name: 0.75, dtype: float64"
      ]
     },
     "execution_count": 13,
     "metadata": {},
     "output_type": "execute_result"
    }
   ],
   "source": [
    "wines.quantile(q=.75)"
   ]
  },
  {
   "cell_type": "markdown",
   "metadata": {},
   "source": [
    "## 4. Measures of Dispersion"
   ]
  },
  {
   "cell_type": "markdown",
   "metadata": {},
   "source": [
    "Measures of Dispersion are measures that indicate how spread the data is, or how they vary. The measures of dispersion are range, variance, standard deviation and the absolute deviation, or mean absolute deviation."
   ]
  },
  {
   "cell_type": "markdown",
   "metadata": {},
   "source": [
    "### 4.1 check the Range,Variance,Standard Deviation,Absolute Deviation or Mean Absolute Deviation?"
   ]
  },
  {
   "cell_type": "markdown",
   "metadata": {},
   "source": [
    "### Range"
   ]
  },
  {
   "cell_type": "code",
   "execution_count": 14,
   "metadata": {},
   "outputs": [
    {
     "data": {
      "text/plain": [
       "fixed acidity           10.40000\n",
       "volatile acidity         1.02000\n",
       "citric acid              1.66000\n",
       "residual sugar          65.20000\n",
       "chlorides                0.33700\n",
       "free sulfur dioxide    287.00000\n",
       "total sulfur dioxide   431.00000\n",
       "density                  0.05187\n",
       "pH                       1.10000\n",
       "sulphates                0.86000\n",
       "alcohol                  6.20000\n",
       "quality                  6.00000\n",
       "dtype: float64"
      ]
     },
     "execution_count": 14,
     "metadata": {},
     "output_type": "execute_result"
    }
   ],
   "source": [
    "wines.max()-wines.min()"
   ]
  },
  {
   "cell_type": "markdown",
   "metadata": {},
   "source": [
    "### Variance"
   ]
  },
  {
   "cell_type": "code",
   "execution_count": 15,
   "metadata": {},
   "outputs": [
    {
     "data": {
      "text/plain": [
       "fixed acidity             0.71211\n",
       "volatile acidity          0.01016\n",
       "citric acid               0.01465\n",
       "residual sugar           25.72577\n",
       "chlorides                 0.00048\n",
       "free sulfur dioxide     289.24272\n",
       "total sulfur dioxide   1806.08549\n",
       "density                   0.00001\n",
       "pH                        0.02280\n",
       "sulphates                 0.01302\n",
       "alcohol                   1.51443\n",
       "quality                   0.78436\n",
       "dtype: float64"
      ]
     },
     "execution_count": 15,
     "metadata": {},
     "output_type": "execute_result"
    }
   ],
   "source": [
    "wines.var()"
   ]
  },
  {
   "cell_type": "markdown",
   "metadata": {},
   "source": [
    "### Standard Deviation"
   ]
  },
  {
   "cell_type": "code",
   "execution_count": 16,
   "metadata": {},
   "outputs": [
    {
     "data": {
      "text/plain": [
       "fixed acidity           0.84387\n",
       "volatile acidity        0.10079\n",
       "citric acid             0.12102\n",
       "residual sugar          5.07206\n",
       "chlorides               0.02185\n",
       "free sulfur dioxide    17.00714\n",
       "total sulfur dioxide   42.49806\n",
       "density                 0.00299\n",
       "pH                      0.15100\n",
       "sulphates               0.11413\n",
       "alcohol                 1.23062\n",
       "quality                 0.88564\n",
       "dtype: float64"
      ]
     },
     "execution_count": 16,
     "metadata": {},
     "output_type": "execute_result"
    }
   ],
   "source": [
    "wines.std()"
   ]
  },
  {
   "cell_type": "markdown",
   "metadata": {},
   "source": [
    "### Absolute Deviation or Mean Absolute Deviation"
   ]
  },
  {
   "cell_type": "code",
   "execution_count": 17,
   "metadata": {},
   "outputs": [
    {
     "data": {
      "text/plain": [
       "fixed acidity           0.64492\n",
       "volatile acidity        0.07380\n",
       "citric acid             0.08641\n",
       "residual sugar          4.22779\n",
       "chlorides               0.01146\n",
       "free sulfur dioxide    13.14916\n",
       "total sulfur dioxide   34.28244\n",
       "density                 0.00245\n",
       "pH                      0.11820\n",
       "sulphates               0.08750\n",
       "alcohol                 1.03421\n",
       "quality                 0.67079\n",
       "dtype: float64"
      ]
     },
     "execution_count": 17,
     "metadata": {},
     "output_type": "execute_result"
    }
   ],
   "source": [
    "wines.mad()"
   ]
  },
  {
   "cell_type": "markdown",
   "metadata": {},
   "source": [
    "## 5. Covariance and Correlation"
   ]
  },
  {
   "cell_type": "markdown",
   "metadata": {},
   "source": [
    "1. Covariance is a numerical measure that indicates the inter-dependency between two variables. \n",
    "2. Covariance indicates how two variables behave together in relation to their averages. \n",
    "3. A covariance of 0 indicates that the variables are totally independant, while a high and positive covariance value means that a variable is big when the other is big. Analogously, a negative covariance with a high absolute value means that one variable is big when the other is small.\n",
    "4. Covariance can be calculated through the cov() function. "
   ]
  },
  {
   "cell_type": "markdown",
   "metadata": {},
   "source": [
    "### 5.1 Check the Covariance and Correlation scores . write your Observations?"
   ]
  },
  {
   "cell_type": "markdown",
   "metadata": {},
   "source": [
    "### Covariance"
   ]
  },
  {
   "cell_type": "code",
   "execution_count": 20,
   "metadata": {},
   "outputs": [
    {
     "data": {
      "text/html": [
       "<div>\n",
       "<style scoped>\n",
       "    .dataframe tbody tr th:only-of-type {\n",
       "        vertical-align: middle;\n",
       "    }\n",
       "\n",
       "    .dataframe tbody tr th {\n",
       "        vertical-align: top;\n",
       "    }\n",
       "\n",
       "    .dataframe thead th {\n",
       "        text-align: right;\n",
       "    }\n",
       "</style>\n",
       "<table border=\"1\" class=\"dataframe\">\n",
       "  <thead>\n",
       "    <tr style=\"text-align: right;\">\n",
       "      <th></th>\n",
       "      <th>fixed acidity</th>\n",
       "      <th>volatile acidity</th>\n",
       "      <th>citric acid</th>\n",
       "      <th>residual sugar</th>\n",
       "      <th>chlorides</th>\n",
       "      <th>free sulfur dioxide</th>\n",
       "      <th>total sulfur dioxide</th>\n",
       "      <th>density</th>\n",
       "      <th>pH</th>\n",
       "      <th>sulphates</th>\n",
       "      <th>alcohol</th>\n",
       "      <th>quality</th>\n",
       "    </tr>\n",
       "  </thead>\n",
       "  <tbody>\n",
       "    <tr>\n",
       "      <th>fixed acidity</th>\n",
       "      <td>0.71211</td>\n",
       "      <td>-0.00193</td>\n",
       "      <td>0.02953</td>\n",
       "      <td>0.38102</td>\n",
       "      <td>0.00043</td>\n",
       "      <td>-0.70892</td>\n",
       "      <td>3.26601</td>\n",
       "      <td>0.00067</td>\n",
       "      <td>-0.05426</td>\n",
       "      <td>-0.00165</td>\n",
       "      <td>-0.12553</td>\n",
       "      <td>-0.08495</td>\n",
       "    </tr>\n",
       "    <tr>\n",
       "      <th>volatile acidity</th>\n",
       "      <td>-0.00193</td>\n",
       "      <td>0.01016</td>\n",
       "      <td>-0.00182</td>\n",
       "      <td>0.03287</td>\n",
       "      <td>0.00016</td>\n",
       "      <td>-0.16630</td>\n",
       "      <td>0.38235</td>\n",
       "      <td>0.00001</td>\n",
       "      <td>-0.00049</td>\n",
       "      <td>-0.00041</td>\n",
       "      <td>0.00840</td>\n",
       "      <td>-0.01738</td>\n",
       "    </tr>\n",
       "    <tr>\n",
       "      <th>citric acid</th>\n",
       "      <td>0.02953</td>\n",
       "      <td>-0.00182</td>\n",
       "      <td>0.01465</td>\n",
       "      <td>0.05783</td>\n",
       "      <td>0.00030</td>\n",
       "      <td>0.19363</td>\n",
       "      <td>0.62299</td>\n",
       "      <td>0.00005</td>\n",
       "      <td>-0.00299</td>\n",
       "      <td>0.00086</td>\n",
       "      <td>-0.01128</td>\n",
       "      <td>-0.00099</td>\n",
       "    </tr>\n",
       "    <tr>\n",
       "      <th>residual sugar</th>\n",
       "      <td>0.38102</td>\n",
       "      <td>0.03287</td>\n",
       "      <td>0.05783</td>\n",
       "      <td>25.72577</td>\n",
       "      <td>0.00983</td>\n",
       "      <td>25.80058</td>\n",
       "      <td>86.53130</td>\n",
       "      <td>0.01273</td>\n",
       "      <td>-0.14868</td>\n",
       "      <td>-0.01543</td>\n",
       "      <td>-2.81274</td>\n",
       "      <td>-0.43832</td>\n",
       "    </tr>\n",
       "    <tr>\n",
       "      <th>chlorides</th>\n",
       "      <td>0.00043</td>\n",
       "      <td>0.00016</td>\n",
       "      <td>0.00030</td>\n",
       "      <td>0.00983</td>\n",
       "      <td>0.00048</td>\n",
       "      <td>0.03767</td>\n",
       "      <td>0.18469</td>\n",
       "      <td>0.00002</td>\n",
       "      <td>-0.00030</td>\n",
       "      <td>0.00004</td>\n",
       "      <td>-0.00968</td>\n",
       "      <td>-0.00406</td>\n",
       "    </tr>\n",
       "    <tr>\n",
       "      <th>free sulfur dioxide</th>\n",
       "      <td>-0.70892</td>\n",
       "      <td>-0.16630</td>\n",
       "      <td>0.19363</td>\n",
       "      <td>25.80058</td>\n",
       "      <td>0.03767</td>\n",
       "      <td>289.24272</td>\n",
       "      <td>444.86589</td>\n",
       "      <td>0.01497</td>\n",
       "      <td>-0.00159</td>\n",
       "      <td>0.11494</td>\n",
       "      <td>-5.23451</td>\n",
       "      <td>0.12288</td>\n",
       "    </tr>\n",
       "    <tr>\n",
       "      <th>total sulfur dioxide</th>\n",
       "      <td>3.26601</td>\n",
       "      <td>0.38235</td>\n",
       "      <td>0.62299</td>\n",
       "      <td>86.53130</td>\n",
       "      <td>0.18469</td>\n",
       "      <td>444.86589</td>\n",
       "      <td>1806.08549</td>\n",
       "      <td>0.06735</td>\n",
       "      <td>0.01489</td>\n",
       "      <td>0.65264</td>\n",
       "      <td>-23.47660</td>\n",
       "      <td>-6.57675</td>\n",
       "    </tr>\n",
       "    <tr>\n",
       "      <th>density</th>\n",
       "      <td>0.00067</td>\n",
       "      <td>0.00001</td>\n",
       "      <td>0.00005</td>\n",
       "      <td>0.01273</td>\n",
       "      <td>0.00002</td>\n",
       "      <td>0.01497</td>\n",
       "      <td>0.06735</td>\n",
       "      <td>0.00001</td>\n",
       "      <td>-0.00004</td>\n",
       "      <td>0.00003</td>\n",
       "      <td>-0.00287</td>\n",
       "      <td>-0.00081</td>\n",
       "    </tr>\n",
       "    <tr>\n",
       "      <th>pH</th>\n",
       "      <td>-0.05426</td>\n",
       "      <td>-0.00049</td>\n",
       "      <td>-0.00299</td>\n",
       "      <td>-0.14868</td>\n",
       "      <td>-0.00030</td>\n",
       "      <td>-0.00159</td>\n",
       "      <td>0.01489</td>\n",
       "      <td>-0.00004</td>\n",
       "      <td>0.02280</td>\n",
       "      <td>0.00269</td>\n",
       "      <td>0.02257</td>\n",
       "      <td>0.01330</td>\n",
       "    </tr>\n",
       "    <tr>\n",
       "      <th>sulphates</th>\n",
       "      <td>-0.00165</td>\n",
       "      <td>-0.00041</td>\n",
       "      <td>0.00086</td>\n",
       "      <td>-0.01543</td>\n",
       "      <td>0.00004</td>\n",
       "      <td>0.11494</td>\n",
       "      <td>0.65264</td>\n",
       "      <td>0.00003</td>\n",
       "      <td>0.00269</td>\n",
       "      <td>0.01302</td>\n",
       "      <td>-0.00245</td>\n",
       "      <td>0.00543</td>\n",
       "    </tr>\n",
       "    <tr>\n",
       "      <th>alcohol</th>\n",
       "      <td>-0.12553</td>\n",
       "      <td>0.00840</td>\n",
       "      <td>-0.01128</td>\n",
       "      <td>-2.81274</td>\n",
       "      <td>-0.00968</td>\n",
       "      <td>-5.23451</td>\n",
       "      <td>-23.47660</td>\n",
       "      <td>-0.00287</td>\n",
       "      <td>0.02257</td>\n",
       "      <td>-0.00245</td>\n",
       "      <td>1.51443</td>\n",
       "      <td>0.47473</td>\n",
       "    </tr>\n",
       "    <tr>\n",
       "      <th>quality</th>\n",
       "      <td>-0.08495</td>\n",
       "      <td>-0.01738</td>\n",
       "      <td>-0.00099</td>\n",
       "      <td>-0.43832</td>\n",
       "      <td>-0.00406</td>\n",
       "      <td>0.12288</td>\n",
       "      <td>-6.57675</td>\n",
       "      <td>-0.00081</td>\n",
       "      <td>0.01330</td>\n",
       "      <td>0.00543</td>\n",
       "      <td>0.47473</td>\n",
       "      <td>0.78436</td>\n",
       "    </tr>\n",
       "  </tbody>\n",
       "</table>\n",
       "</div>"
      ],
      "text/plain": [
       "                      fixed acidity  volatile acidity  citric acid  \\\n",
       "fixed acidity               0.71211          -0.00193      0.02953   \n",
       "volatile acidity           -0.00193           0.01016     -0.00182   \n",
       "citric acid                 0.02953          -0.00182      0.01465   \n",
       "residual sugar              0.38102           0.03287      0.05783   \n",
       "chlorides                   0.00043           0.00016      0.00030   \n",
       "free sulfur dioxide        -0.70892          -0.16630      0.19363   \n",
       "total sulfur dioxide        3.26601           0.38235      0.62299   \n",
       "density                     0.00067           0.00001      0.00005   \n",
       "pH                         -0.05426          -0.00049     -0.00299   \n",
       "sulphates                  -0.00165          -0.00041      0.00086   \n",
       "alcohol                    -0.12553           0.00840     -0.01128   \n",
       "quality                    -0.08495          -0.01738     -0.00099   \n",
       "\n",
       "                      residual sugar  chlorides  free sulfur dioxide  \\\n",
       "fixed acidity                0.38102    0.00043             -0.70892   \n",
       "volatile acidity             0.03287    0.00016             -0.16630   \n",
       "citric acid                  0.05783    0.00030              0.19363   \n",
       "residual sugar              25.72577    0.00983             25.80058   \n",
       "chlorides                    0.00983    0.00048              0.03767   \n",
       "free sulfur dioxide         25.80058    0.03767            289.24272   \n",
       "total sulfur dioxide        86.53130    0.18469            444.86589   \n",
       "density                      0.01273    0.00002              0.01497   \n",
       "pH                          -0.14868   -0.00030             -0.00159   \n",
       "sulphates                   -0.01543    0.00004              0.11494   \n",
       "alcohol                     -2.81274   -0.00968             -5.23451   \n",
       "quality                     -0.43832   -0.00406              0.12288   \n",
       "\n",
       "                      total sulfur dioxide  density       pH  sulphates  \\\n",
       "fixed acidity                      3.26601  0.00067 -0.05426   -0.00165   \n",
       "volatile acidity                   0.38235  0.00001 -0.00049   -0.00041   \n",
       "citric acid                        0.62299  0.00005 -0.00299    0.00086   \n",
       "residual sugar                    86.53130  0.01273 -0.14868   -0.01543   \n",
       "chlorides                          0.18469  0.00002 -0.00030    0.00004   \n",
       "free sulfur dioxide              444.86589  0.01497 -0.00159    0.11494   \n",
       "total sulfur dioxide            1806.08549  0.06735  0.01489    0.65264   \n",
       "density                            0.06735  0.00001 -0.00004    0.00003   \n",
       "pH                                 0.01489 -0.00004  0.02280    0.00269   \n",
       "sulphates                          0.65264  0.00003  0.00269    0.01302   \n",
       "alcohol                          -23.47660 -0.00287  0.02257   -0.00245   \n",
       "quality                           -6.57675 -0.00081  0.01330    0.00543   \n",
       "\n",
       "                       alcohol  quality  \n",
       "fixed acidity         -0.12553 -0.08495  \n",
       "volatile acidity       0.00840 -0.01738  \n",
       "citric acid           -0.01128 -0.00099  \n",
       "residual sugar        -2.81274 -0.43832  \n",
       "chlorides             -0.00968 -0.00406  \n",
       "free sulfur dioxide   -5.23451  0.12288  \n",
       "total sulfur dioxide -23.47660 -6.57675  \n",
       "density               -0.00287 -0.00081  \n",
       "pH                     0.02257  0.01330  \n",
       "sulphates             -0.00245  0.00543  \n",
       "alcohol                1.51443  0.47473  \n",
       "quality                0.47473  0.78436  "
      ]
     },
     "execution_count": 20,
     "metadata": {},
     "output_type": "execute_result"
    }
   ],
   "source": [
    "wines.cov()"
   ]
  },
  {
   "cell_type": "markdown",
   "metadata": {},
   "source": [
    "### Observation: "
   ]
  },
  {
   "cell_type": "markdown",
   "metadata": {},
   "source": [
    "- Not sure how to interpret, since certain covariances are very high, and some are just high (jsut above zero) [data at various scales], so it feels we should somehow normalize the data in order to have a better way to compare."
   ]
  },
  {
   "cell_type": "markdown",
   "metadata": {},
   "source": [
    "### Correlation"
   ]
  },
  {
   "cell_type": "code",
   "execution_count": 21,
   "metadata": {},
   "outputs": [
    {
     "data": {
      "text/html": [
       "<div>\n",
       "<style scoped>\n",
       "    .dataframe tbody tr th:only-of-type {\n",
       "        vertical-align: middle;\n",
       "    }\n",
       "\n",
       "    .dataframe tbody tr th {\n",
       "        vertical-align: top;\n",
       "    }\n",
       "\n",
       "    .dataframe thead th {\n",
       "        text-align: right;\n",
       "    }\n",
       "</style>\n",
       "<table border=\"1\" class=\"dataframe\">\n",
       "  <thead>\n",
       "    <tr style=\"text-align: right;\">\n",
       "      <th></th>\n",
       "      <th>fixed acidity</th>\n",
       "      <th>volatile acidity</th>\n",
       "      <th>citric acid</th>\n",
       "      <th>residual sugar</th>\n",
       "      <th>chlorides</th>\n",
       "      <th>free sulfur dioxide</th>\n",
       "      <th>total sulfur dioxide</th>\n",
       "      <th>density</th>\n",
       "      <th>pH</th>\n",
       "      <th>sulphates</th>\n",
       "      <th>alcohol</th>\n",
       "      <th>quality</th>\n",
       "    </tr>\n",
       "  </thead>\n",
       "  <tbody>\n",
       "    <tr>\n",
       "      <th>fixed acidity</th>\n",
       "      <td>1.00000</td>\n",
       "      <td>-0.02270</td>\n",
       "      <td>0.28918</td>\n",
       "      <td>0.08902</td>\n",
       "      <td>0.02309</td>\n",
       "      <td>-0.04940</td>\n",
       "      <td>0.09107</td>\n",
       "      <td>0.26533</td>\n",
       "      <td>-0.42586</td>\n",
       "      <td>-0.01714</td>\n",
       "      <td>-0.12088</td>\n",
       "      <td>-0.11366</td>\n",
       "    </tr>\n",
       "    <tr>\n",
       "      <th>volatile acidity</th>\n",
       "      <td>-0.02270</td>\n",
       "      <td>1.00000</td>\n",
       "      <td>-0.14947</td>\n",
       "      <td>0.06429</td>\n",
       "      <td>0.07051</td>\n",
       "      <td>-0.09701</td>\n",
       "      <td>0.08926</td>\n",
       "      <td>0.02711</td>\n",
       "      <td>-0.03192</td>\n",
       "      <td>-0.03573</td>\n",
       "      <td>0.06772</td>\n",
       "      <td>-0.19472</td>\n",
       "    </tr>\n",
       "    <tr>\n",
       "      <th>citric acid</th>\n",
       "      <td>0.28918</td>\n",
       "      <td>-0.14947</td>\n",
       "      <td>1.00000</td>\n",
       "      <td>0.09421</td>\n",
       "      <td>0.11436</td>\n",
       "      <td>0.09408</td>\n",
       "      <td>0.12113</td>\n",
       "      <td>0.14950</td>\n",
       "      <td>-0.16375</td>\n",
       "      <td>0.06233</td>\n",
       "      <td>-0.07573</td>\n",
       "      <td>-0.00921</td>\n",
       "    </tr>\n",
       "    <tr>\n",
       "      <th>residual sugar</th>\n",
       "      <td>0.08902</td>\n",
       "      <td>0.06429</td>\n",
       "      <td>0.09421</td>\n",
       "      <td>1.00000</td>\n",
       "      <td>0.08868</td>\n",
       "      <td>0.29910</td>\n",
       "      <td>0.40144</td>\n",
       "      <td>0.83897</td>\n",
       "      <td>-0.19413</td>\n",
       "      <td>-0.02666</td>\n",
       "      <td>-0.45063</td>\n",
       "      <td>-0.09758</td>\n",
       "    </tr>\n",
       "    <tr>\n",
       "      <th>chlorides</th>\n",
       "      <td>0.02309</td>\n",
       "      <td>0.07051</td>\n",
       "      <td>0.11436</td>\n",
       "      <td>0.08868</td>\n",
       "      <td>1.00000</td>\n",
       "      <td>0.10139</td>\n",
       "      <td>0.19891</td>\n",
       "      <td>0.25721</td>\n",
       "      <td>-0.09044</td>\n",
       "      <td>0.01676</td>\n",
       "      <td>-0.36019</td>\n",
       "      <td>-0.20993</td>\n",
       "    </tr>\n",
       "    <tr>\n",
       "      <th>free sulfur dioxide</th>\n",
       "      <td>-0.04940</td>\n",
       "      <td>-0.09701</td>\n",
       "      <td>0.09408</td>\n",
       "      <td>0.29910</td>\n",
       "      <td>0.10139</td>\n",
       "      <td>1.00000</td>\n",
       "      <td>0.61550</td>\n",
       "      <td>0.29421</td>\n",
       "      <td>-0.00062</td>\n",
       "      <td>0.05922</td>\n",
       "      <td>-0.25010</td>\n",
       "      <td>0.00816</td>\n",
       "    </tr>\n",
       "    <tr>\n",
       "      <th>total sulfur dioxide</th>\n",
       "      <td>0.09107</td>\n",
       "      <td>0.08926</td>\n",
       "      <td>0.12113</td>\n",
       "      <td>0.40144</td>\n",
       "      <td>0.19891</td>\n",
       "      <td>0.61550</td>\n",
       "      <td>1.00000</td>\n",
       "      <td>0.52988</td>\n",
       "      <td>0.00232</td>\n",
       "      <td>0.13456</td>\n",
       "      <td>-0.44889</td>\n",
       "      <td>-0.17474</td>\n",
       "    </tr>\n",
       "    <tr>\n",
       "      <th>density</th>\n",
       "      <td>0.26533</td>\n",
       "      <td>0.02711</td>\n",
       "      <td>0.14950</td>\n",
       "      <td>0.83897</td>\n",
       "      <td>0.25721</td>\n",
       "      <td>0.29421</td>\n",
       "      <td>0.52988</td>\n",
       "      <td>1.00000</td>\n",
       "      <td>-0.09359</td>\n",
       "      <td>0.07449</td>\n",
       "      <td>-0.78014</td>\n",
       "      <td>-0.30712</td>\n",
       "    </tr>\n",
       "    <tr>\n",
       "      <th>pH</th>\n",
       "      <td>-0.42586</td>\n",
       "      <td>-0.03192</td>\n",
       "      <td>-0.16375</td>\n",
       "      <td>-0.19413</td>\n",
       "      <td>-0.09044</td>\n",
       "      <td>-0.00062</td>\n",
       "      <td>0.00232</td>\n",
       "      <td>-0.09359</td>\n",
       "      <td>1.00000</td>\n",
       "      <td>0.15595</td>\n",
       "      <td>0.12143</td>\n",
       "      <td>0.09943</td>\n",
       "    </tr>\n",
       "    <tr>\n",
       "      <th>sulphates</th>\n",
       "      <td>-0.01714</td>\n",
       "      <td>-0.03573</td>\n",
       "      <td>0.06233</td>\n",
       "      <td>-0.02666</td>\n",
       "      <td>0.01676</td>\n",
       "      <td>0.05922</td>\n",
       "      <td>0.13456</td>\n",
       "      <td>0.07449</td>\n",
       "      <td>0.15595</td>\n",
       "      <td>1.00000</td>\n",
       "      <td>-0.01743</td>\n",
       "      <td>0.05368</td>\n",
       "    </tr>\n",
       "    <tr>\n",
       "      <th>alcohol</th>\n",
       "      <td>-0.12088</td>\n",
       "      <td>0.06772</td>\n",
       "      <td>-0.07573</td>\n",
       "      <td>-0.45063</td>\n",
       "      <td>-0.36019</td>\n",
       "      <td>-0.25010</td>\n",
       "      <td>-0.44889</td>\n",
       "      <td>-0.78014</td>\n",
       "      <td>0.12143</td>\n",
       "      <td>-0.01743</td>\n",
       "      <td>1.00000</td>\n",
       "      <td>0.43557</td>\n",
       "    </tr>\n",
       "    <tr>\n",
       "      <th>quality</th>\n",
       "      <td>-0.11366</td>\n",
       "      <td>-0.19472</td>\n",
       "      <td>-0.00921</td>\n",
       "      <td>-0.09758</td>\n",
       "      <td>-0.20993</td>\n",
       "      <td>0.00816</td>\n",
       "      <td>-0.17474</td>\n",
       "      <td>-0.30712</td>\n",
       "      <td>0.09943</td>\n",
       "      <td>0.05368</td>\n",
       "      <td>0.43557</td>\n",
       "      <td>1.00000</td>\n",
       "    </tr>\n",
       "  </tbody>\n",
       "</table>\n",
       "</div>"
      ],
      "text/plain": [
       "                      fixed acidity  volatile acidity  citric acid  \\\n",
       "fixed acidity               1.00000          -0.02270      0.28918   \n",
       "volatile acidity           -0.02270           1.00000     -0.14947   \n",
       "citric acid                 0.28918          -0.14947      1.00000   \n",
       "residual sugar              0.08902           0.06429      0.09421   \n",
       "chlorides                   0.02309           0.07051      0.11436   \n",
       "free sulfur dioxide        -0.04940          -0.09701      0.09408   \n",
       "total sulfur dioxide        0.09107           0.08926      0.12113   \n",
       "density                     0.26533           0.02711      0.14950   \n",
       "pH                         -0.42586          -0.03192     -0.16375   \n",
       "sulphates                  -0.01714          -0.03573      0.06233   \n",
       "alcohol                    -0.12088           0.06772     -0.07573   \n",
       "quality                    -0.11366          -0.19472     -0.00921   \n",
       "\n",
       "                      residual sugar  chlorides  free sulfur dioxide  \\\n",
       "fixed acidity                0.08902    0.02309             -0.04940   \n",
       "volatile acidity             0.06429    0.07051             -0.09701   \n",
       "citric acid                  0.09421    0.11436              0.09408   \n",
       "residual sugar               1.00000    0.08868              0.29910   \n",
       "chlorides                    0.08868    1.00000              0.10139   \n",
       "free sulfur dioxide          0.29910    0.10139              1.00000   \n",
       "total sulfur dioxide         0.40144    0.19891              0.61550   \n",
       "density                      0.83897    0.25721              0.29421   \n",
       "pH                          -0.19413   -0.09044             -0.00062   \n",
       "sulphates                   -0.02666    0.01676              0.05922   \n",
       "alcohol                     -0.45063   -0.36019             -0.25010   \n",
       "quality                     -0.09758   -0.20993              0.00816   \n",
       "\n",
       "                      total sulfur dioxide  density       pH  sulphates  \\\n",
       "fixed acidity                      0.09107  0.26533 -0.42586   -0.01714   \n",
       "volatile acidity                   0.08926  0.02711 -0.03192   -0.03573   \n",
       "citric acid                        0.12113  0.14950 -0.16375    0.06233   \n",
       "residual sugar                     0.40144  0.83897 -0.19413   -0.02666   \n",
       "chlorides                          0.19891  0.25721 -0.09044    0.01676   \n",
       "free sulfur dioxide                0.61550  0.29421 -0.00062    0.05922   \n",
       "total sulfur dioxide               1.00000  0.52988  0.00232    0.13456   \n",
       "density                            0.52988  1.00000 -0.09359    0.07449   \n",
       "pH                                 0.00232 -0.09359  1.00000    0.15595   \n",
       "sulphates                          0.13456  0.07449  0.15595    1.00000   \n",
       "alcohol                           -0.44889 -0.78014  0.12143   -0.01743   \n",
       "quality                           -0.17474 -0.30712  0.09943    0.05368   \n",
       "\n",
       "                      alcohol  quality  \n",
       "fixed acidity        -0.12088 -0.11366  \n",
       "volatile acidity      0.06772 -0.19472  \n",
       "citric acid          -0.07573 -0.00921  \n",
       "residual sugar       -0.45063 -0.09758  \n",
       "chlorides            -0.36019 -0.20993  \n",
       "free sulfur dioxide  -0.25010  0.00816  \n",
       "total sulfur dioxide -0.44889 -0.17474  \n",
       "density              -0.78014 -0.30712  \n",
       "pH                    0.12143  0.09943  \n",
       "sulphates            -0.01743  0.05368  \n",
       "alcohol               1.00000  0.43557  \n",
       "quality               0.43557  1.00000  "
      ]
     },
     "execution_count": 21,
     "metadata": {},
     "output_type": "execute_result"
    }
   ],
   "source": [
    "wines.corr()"
   ]
  },
  {
   "cell_type": "markdown",
   "metadata": {},
   "source": [
    "### Observation:\n",
    "    \n"
   ]
  },
  {
   "cell_type": "markdown",
   "metadata": {},
   "source": [
    "Since correlation is always between -1 and 1, this data is easier to compare than covariance. With that said, in the above table, the only correlation that is getting close to 1 is between residual sugar and density."
   ]
  },
  {
   "cell_type": "markdown",
   "metadata": {},
   "source": [
    "### 6.1 Check the statistcal summary or 5-point summary of data"
   ]
  },
  {
   "cell_type": "code",
   "execution_count": 23,
   "metadata": {},
   "outputs": [
    {
     "data": {
      "text/html": [
       "<div>\n",
       "<style scoped>\n",
       "    .dataframe tbody tr th:only-of-type {\n",
       "        vertical-align: middle;\n",
       "    }\n",
       "\n",
       "    .dataframe tbody tr th {\n",
       "        vertical-align: top;\n",
       "    }\n",
       "\n",
       "    .dataframe thead th {\n",
       "        text-align: right;\n",
       "    }\n",
       "</style>\n",
       "<table border=\"1\" class=\"dataframe\">\n",
       "  <thead>\n",
       "    <tr style=\"text-align: right;\">\n",
       "      <th></th>\n",
       "      <th>fixed acidity</th>\n",
       "      <th>volatile acidity</th>\n",
       "      <th>citric acid</th>\n",
       "      <th>residual sugar</th>\n",
       "      <th>chlorides</th>\n",
       "      <th>free sulfur dioxide</th>\n",
       "      <th>total sulfur dioxide</th>\n",
       "      <th>density</th>\n",
       "      <th>pH</th>\n",
       "      <th>sulphates</th>\n",
       "      <th>alcohol</th>\n",
       "      <th>quality</th>\n",
       "    </tr>\n",
       "  </thead>\n",
       "  <tbody>\n",
       "    <tr>\n",
       "      <th>count</th>\n",
       "      <td>4898.00000</td>\n",
       "      <td>4898.00000</td>\n",
       "      <td>4898.00000</td>\n",
       "      <td>4898.00000</td>\n",
       "      <td>4898.00000</td>\n",
       "      <td>4898.00000</td>\n",
       "      <td>4898.00000</td>\n",
       "      <td>4898.00000</td>\n",
       "      <td>4898.00000</td>\n",
       "      <td>4898.00000</td>\n",
       "      <td>4898.00000</td>\n",
       "      <td>4898.00000</td>\n",
       "    </tr>\n",
       "    <tr>\n",
       "      <th>mean</th>\n",
       "      <td>6.85479</td>\n",
       "      <td>0.27824</td>\n",
       "      <td>0.33419</td>\n",
       "      <td>6.39141</td>\n",
       "      <td>0.04577</td>\n",
       "      <td>35.30808</td>\n",
       "      <td>138.36066</td>\n",
       "      <td>0.99403</td>\n",
       "      <td>3.18827</td>\n",
       "      <td>0.48985</td>\n",
       "      <td>10.51427</td>\n",
       "      <td>5.87791</td>\n",
       "    </tr>\n",
       "    <tr>\n",
       "      <th>std</th>\n",
       "      <td>0.84387</td>\n",
       "      <td>0.10079</td>\n",
       "      <td>0.12102</td>\n",
       "      <td>5.07206</td>\n",
       "      <td>0.02185</td>\n",
       "      <td>17.00714</td>\n",
       "      <td>42.49806</td>\n",
       "      <td>0.00299</td>\n",
       "      <td>0.15100</td>\n",
       "      <td>0.11413</td>\n",
       "      <td>1.23062</td>\n",
       "      <td>0.88564</td>\n",
       "    </tr>\n",
       "    <tr>\n",
       "      <th>min</th>\n",
       "      <td>3.80000</td>\n",
       "      <td>0.08000</td>\n",
       "      <td>0.00000</td>\n",
       "      <td>0.60000</td>\n",
       "      <td>0.00900</td>\n",
       "      <td>2.00000</td>\n",
       "      <td>9.00000</td>\n",
       "      <td>0.98711</td>\n",
       "      <td>2.72000</td>\n",
       "      <td>0.22000</td>\n",
       "      <td>8.00000</td>\n",
       "      <td>3.00000</td>\n",
       "    </tr>\n",
       "    <tr>\n",
       "      <th>25%</th>\n",
       "      <td>6.30000</td>\n",
       "      <td>0.21000</td>\n",
       "      <td>0.27000</td>\n",
       "      <td>1.70000</td>\n",
       "      <td>0.03600</td>\n",
       "      <td>23.00000</td>\n",
       "      <td>108.00000</td>\n",
       "      <td>0.99172</td>\n",
       "      <td>3.09000</td>\n",
       "      <td>0.41000</td>\n",
       "      <td>9.50000</td>\n",
       "      <td>5.00000</td>\n",
       "    </tr>\n",
       "    <tr>\n",
       "      <th>50%</th>\n",
       "      <td>6.80000</td>\n",
       "      <td>0.26000</td>\n",
       "      <td>0.32000</td>\n",
       "      <td>5.20000</td>\n",
       "      <td>0.04300</td>\n",
       "      <td>34.00000</td>\n",
       "      <td>134.00000</td>\n",
       "      <td>0.99374</td>\n",
       "      <td>3.18000</td>\n",
       "      <td>0.47000</td>\n",
       "      <td>10.40000</td>\n",
       "      <td>6.00000</td>\n",
       "    </tr>\n",
       "    <tr>\n",
       "      <th>75%</th>\n",
       "      <td>7.30000</td>\n",
       "      <td>0.32000</td>\n",
       "      <td>0.39000</td>\n",
       "      <td>9.90000</td>\n",
       "      <td>0.05000</td>\n",
       "      <td>46.00000</td>\n",
       "      <td>167.00000</td>\n",
       "      <td>0.99610</td>\n",
       "      <td>3.28000</td>\n",
       "      <td>0.55000</td>\n",
       "      <td>11.40000</td>\n",
       "      <td>6.00000</td>\n",
       "    </tr>\n",
       "    <tr>\n",
       "      <th>max</th>\n",
       "      <td>14.20000</td>\n",
       "      <td>1.10000</td>\n",
       "      <td>1.66000</td>\n",
       "      <td>65.80000</td>\n",
       "      <td>0.34600</td>\n",
       "      <td>289.00000</td>\n",
       "      <td>440.00000</td>\n",
       "      <td>1.03898</td>\n",
       "      <td>3.82000</td>\n",
       "      <td>1.08000</td>\n",
       "      <td>14.20000</td>\n",
       "      <td>9.00000</td>\n",
       "    </tr>\n",
       "  </tbody>\n",
       "</table>\n",
       "</div>"
      ],
      "text/plain": [
       "       fixed acidity  volatile acidity  citric acid  residual sugar  \\\n",
       "count     4898.00000        4898.00000   4898.00000      4898.00000   \n",
       "mean         6.85479           0.27824      0.33419         6.39141   \n",
       "std          0.84387           0.10079      0.12102         5.07206   \n",
       "min          3.80000           0.08000      0.00000         0.60000   \n",
       "25%          6.30000           0.21000      0.27000         1.70000   \n",
       "50%          6.80000           0.26000      0.32000         5.20000   \n",
       "75%          7.30000           0.32000      0.39000         9.90000   \n",
       "max         14.20000           1.10000      1.66000        65.80000   \n",
       "\n",
       "       chlorides  free sulfur dioxide  total sulfur dioxide    density  \\\n",
       "count 4898.00000           4898.00000            4898.00000 4898.00000   \n",
       "mean     0.04577             35.30808             138.36066    0.99403   \n",
       "std      0.02185             17.00714              42.49806    0.00299   \n",
       "min      0.00900              2.00000               9.00000    0.98711   \n",
       "25%      0.03600             23.00000             108.00000    0.99172   \n",
       "50%      0.04300             34.00000             134.00000    0.99374   \n",
       "75%      0.05000             46.00000             167.00000    0.99610   \n",
       "max      0.34600            289.00000             440.00000    1.03898   \n",
       "\n",
       "              pH  sulphates    alcohol    quality  \n",
       "count 4898.00000 4898.00000 4898.00000 4898.00000  \n",
       "mean     3.18827    0.48985   10.51427    5.87791  \n",
       "std      0.15100    0.11413    1.23062    0.88564  \n",
       "min      2.72000    0.22000    8.00000    3.00000  \n",
       "25%      3.09000    0.41000    9.50000    5.00000  \n",
       "50%      3.18000    0.47000   10.40000    6.00000  \n",
       "75%      3.28000    0.55000   11.40000    6.00000  \n",
       "max      3.82000    1.08000   14.20000    9.00000  "
      ]
     },
     "execution_count": 23,
     "metadata": {},
     "output_type": "execute_result"
    }
   ],
   "source": [
    "wines.describe()"
   ]
  },
  {
   "cell_type": "markdown",
   "metadata": {},
   "source": [
    "### 6.2 Extract all the numeric_features from the dataset"
   ]
  },
  {
   "cell_type": "code",
   "execution_count": 25,
   "metadata": {},
   "outputs": [
    {
     "data": {
      "text/plain": [
       "Index(['fixed acidity', 'volatile acidity', 'citric acid', 'residual sugar',\n",
       "       'chlorides', 'free sulfur dioxide', 'total sulfur dioxide', 'density',\n",
       "       'pH', 'sulphates', 'alcohol', 'quality'],\n",
       "      dtype='object')"
      ]
     },
     "execution_count": 25,
     "metadata": {},
     "output_type": "execute_result"
    }
   ],
   "source": [
    "numeric_features = wines.select_dtypes(include=[\"int64\",\"float64\"])\n",
    "numeric_features.columns"
   ]
  },
  {
   "cell_type": "markdown",
   "metadata": {},
   "source": [
    "### 6.3 Determine the skewness of all the numerical features in the dataset"
   ]
  },
  {
   "cell_type": "code",
   "execution_count": 34,
   "metadata": {},
   "outputs": [
    {
     "data": {
      "text/plain": [
       "chlorides              5.02179\n",
       "volatile acidity       1.57650\n",
       "free sulfur dioxide    1.40631\n",
       "citric acid            1.28153\n",
       "residual sugar         1.07676\n",
       "density                0.97747\n",
       "sulphates              0.97689\n",
       "fixed acidity          0.64755\n",
       "alcohol                0.48719\n",
       "pH                     0.45764\n",
       "total sulfur dioxide   0.39059\n",
       "quality                0.15575\n",
       "dtype: float64"
      ]
     },
     "execution_count": 34,
     "metadata": {},
     "output_type": "execute_result"
    }
   ],
   "source": [
    "skewness = numeric_features.apply(lambda x : skew(x.dropna())).sort_values(ascending=False)\n",
    "skewness"
   ]
  },
  {
   "cell_type": "markdown",
   "metadata": {},
   "source": [
    "### 6.4 Find out which variables are highly skewned (skewness > 0.7)?"
   ]
  },
  {
   "cell_type": "code",
   "execution_count": 36,
   "metadata": {},
   "outputs": [
    {
     "data": {
      "text/plain": [
       "chlorides             5.02179\n",
       "volatile acidity      1.57650\n",
       "free sulfur dioxide   1.40631\n",
       "citric acid           1.28153\n",
       "residual sugar        1.07676\n",
       "density               0.97747\n",
       "sulphates             0.97689\n",
       "dtype: float64"
      ]
     },
     "execution_count": 36,
     "metadata": {},
     "output_type": "execute_result"
    }
   ],
   "source": [
    "highly_skewed=skewness[abs(skewness)>0.7]\n",
    "highly_skewed"
   ]
  },
  {
   "cell_type": "code",
   "execution_count": 39,
   "metadata": {},
   "outputs": [
    {
     "name": "stdout",
     "output_type": "stream",
     "text": [
      "There are 7 highly skewed numerical featuers. We can transform them.\n"
     ]
    }
   ],
   "source": [
    "print(\"There are {} highly skewed numerical featuers. We can transform them.\".format(highly_skewed.shape[0]))"
   ]
  },
  {
   "cell_type": "code",
   "execution_count": null,
   "metadata": {},
   "outputs": [],
   "source": []
  }
 ],
 "metadata": {
  "kernelspec": {
   "display_name": "Python 3",
   "language": "python",
   "name": "python3"
  },
  "language_info": {
   "codemirror_mode": {
    "name": "ipython",
    "version": 3
   },
   "file_extension": ".py",
   "mimetype": "text/x-python",
   "name": "python",
   "nbconvert_exporter": "python",
   "pygments_lexer": "ipython3",
   "version": "3.8.8"
  }
 },
 "nbformat": 4,
 "nbformat_minor": 2
}
