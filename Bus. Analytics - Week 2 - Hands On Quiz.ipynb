{
 "cells": [
  {
   "cell_type": "markdown",
   "metadata": {},
   "source": [
    "## Problem Statement\n",
    "\n",
    "The Health Company, which provides various diet plans to lose weight, conducted a market test experiment to test three different levels of diets (A, B, C). Each diet had a different impact on the weight after following the diet for 6 weeks. We are given a dataset of 78 observations who are provided with either of the diet plans - A, B, or C, along with their weights before and 6 weeks after taking the diet. The information is recorded in the columns 'diet', 'preweight', and 'weight6weeks'.\n",
    "\n",
    "Find statistical evidence to check whether the mean weight losses with respect to the three diet plans are significantly different."
   ]
  },
  {
   "cell_type": "markdown",
   "metadata": {},
   "source": [
    "## Data Dictionary\n",
    "\n",
    "diet: Type of the diet\n",
    "\n",
    "preweight: Weight before following the diet plan\n",
    "\n",
    "weight6weeks: Weight after 6 weeks of following the diet plan"
   ]
  },
  {
   "cell_type": "markdown",
   "metadata": {},
   "source": [
    "### Importing the necessary libraries"
   ]
  },
  {
   "cell_type": "code",
   "execution_count": 1,
   "metadata": {
    "ExecuteTime": {
     "end_time": "2020-05-06T07:28:53.286508Z",
     "start_time": "2020-05-06T07:28:24.935193Z"
    }
   },
   "outputs": [],
   "source": [
    "import numpy as np\n",
    "import pandas as pd\n",
    "import seaborn as sns\n",
    "import scipy.stats as stats\n",
    "import matplotlib.pyplot as plt"
   ]
  },
  {
   "cell_type": "markdown",
   "metadata": {},
   "source": [
    "### Reading the data into a dataframe"
   ]
  },
  {
   "cell_type": "code",
   "execution_count": 6,
   "metadata": {
    "ExecuteTime": {
     "end_time": "2020-05-06T07:28:53.356337Z",
     "start_time": "2020-05-06T07:28:53.304280Z"
    }
   },
   "outputs": [
    {
     "data": {
      "text/html": [
       "<div>\n",
       "<style scoped>\n",
       "    .dataframe tbody tr th:only-of-type {\n",
       "        vertical-align: middle;\n",
       "    }\n",
       "\n",
       "    .dataframe tbody tr th {\n",
       "        vertical-align: top;\n",
       "    }\n",
       "\n",
       "    .dataframe thead th {\n",
       "        text-align: right;\n",
       "    }\n",
       "</style>\n",
       "<table border=\"1\" class=\"dataframe\">\n",
       "  <thead>\n",
       "    <tr style=\"text-align: right;\">\n",
       "      <th></th>\n",
       "      <th>gender</th>\n",
       "      <th>race</th>\n",
       "      <th>parental_level_of_education</th>\n",
       "      <th>taken_test_preparation_course</th>\n",
       "      <th>maths_score</th>\n",
       "      <th>reading_score</th>\n",
       "      <th>writing_score</th>\n",
       "      <th>overall_score</th>\n",
       "    </tr>\n",
       "  </thead>\n",
       "  <tbody>\n",
       "    <tr>\n",
       "      <th>0</th>\n",
       "      <td>male</td>\n",
       "      <td>Race C</td>\n",
       "      <td>high school</td>\n",
       "      <td>no</td>\n",
       "      <td>73</td>\n",
       "      <td>74</td>\n",
       "      <td>74</td>\n",
       "      <td>73.67</td>\n",
       "    </tr>\n",
       "    <tr>\n",
       "      <th>1</th>\n",
       "      <td>female</td>\n",
       "      <td>Race A</td>\n",
       "      <td>high school</td>\n",
       "      <td>no</td>\n",
       "      <td>71</td>\n",
       "      <td>62</td>\n",
       "      <td>68</td>\n",
       "      <td>67.00</td>\n",
       "    </tr>\n",
       "    <tr>\n",
       "      <th>2</th>\n",
       "      <td>male</td>\n",
       "      <td>Race B</td>\n",
       "      <td>bachelor's degree</td>\n",
       "      <td>yes</td>\n",
       "      <td>87</td>\n",
       "      <td>92</td>\n",
       "      <td>89</td>\n",
       "      <td>89.33</td>\n",
       "    </tr>\n",
       "    <tr>\n",
       "      <th>3</th>\n",
       "      <td>female</td>\n",
       "      <td>Race D</td>\n",
       "      <td>high school</td>\n",
       "      <td>no</td>\n",
       "      <td>63</td>\n",
       "      <td>62</td>\n",
       "      <td>58</td>\n",
       "      <td>61.00</td>\n",
       "    </tr>\n",
       "    <tr>\n",
       "      <th>4</th>\n",
       "      <td>female</td>\n",
       "      <td>Race A</td>\n",
       "      <td>high school</td>\n",
       "      <td>no</td>\n",
       "      <td>60</td>\n",
       "      <td>66</td>\n",
       "      <td>66</td>\n",
       "      <td>64.00</td>\n",
       "    </tr>\n",
       "    <tr>\n",
       "      <th>5</th>\n",
       "      <td>female</td>\n",
       "      <td>Race A</td>\n",
       "      <td>high school</td>\n",
       "      <td>no</td>\n",
       "      <td>75</td>\n",
       "      <td>71</td>\n",
       "      <td>75</td>\n",
       "      <td>73.67</td>\n",
       "    </tr>\n",
       "    <tr>\n",
       "      <th>6</th>\n",
       "      <td>female</td>\n",
       "      <td>Race A</td>\n",
       "      <td>master's degree</td>\n",
       "      <td>no</td>\n",
       "      <td>67</td>\n",
       "      <td>75</td>\n",
       "      <td>72</td>\n",
       "      <td>71.33</td>\n",
       "    </tr>\n",
       "    <tr>\n",
       "      <th>7</th>\n",
       "      <td>male</td>\n",
       "      <td>Race D</td>\n",
       "      <td>high school</td>\n",
       "      <td>no</td>\n",
       "      <td>53</td>\n",
       "      <td>58</td>\n",
       "      <td>53</td>\n",
       "      <td>54.67</td>\n",
       "    </tr>\n",
       "    <tr>\n",
       "      <th>8</th>\n",
       "      <td>male</td>\n",
       "      <td>Race C</td>\n",
       "      <td>high school</td>\n",
       "      <td>no</td>\n",
       "      <td>43</td>\n",
       "      <td>40</td>\n",
       "      <td>38</td>\n",
       "      <td>40.33</td>\n",
       "    </tr>\n",
       "    <tr>\n",
       "      <th>9</th>\n",
       "      <td>male</td>\n",
       "      <td>Race D</td>\n",
       "      <td>associate's degree</td>\n",
       "      <td>yes</td>\n",
       "      <td>70</td>\n",
       "      <td>82</td>\n",
       "      <td>84</td>\n",
       "      <td>78.67</td>\n",
       "    </tr>\n",
       "  </tbody>\n",
       "</table>\n",
       "</div>"
      ],
      "text/plain": [
       "   gender    race parental_level_of_education taken_test_preparation_course  \\\n",
       "0    male  Race C                 high school                            no   \n",
       "1  female  Race A                 high school                            no   \n",
       "2    male  Race B           bachelor's degree                           yes   \n",
       "3  female  Race D                 high school                            no   \n",
       "4  female  Race A                 high school                            no   \n",
       "5  female  Race A                 high school                            no   \n",
       "6  female  Race A             master's degree                            no   \n",
       "7    male  Race D                 high school                            no   \n",
       "8    male  Race C                 high school                            no   \n",
       "9    male  Race D          associate's degree                           yes   \n",
       "\n",
       "   maths_score  reading_score  writing_score  overall_score  \n",
       "0           73             74             74          73.67  \n",
       "1           71             62             68          67.00  \n",
       "2           87             92             89          89.33  \n",
       "3           63             62             58          61.00  \n",
       "4           60             66             66          64.00  \n",
       "5           75             71             75          73.67  \n",
       "6           67             75             72          71.33  \n",
       "7           53             58             53          54.67  \n",
       "8           43             40             38          40.33  \n",
       "9           70             82             84          78.67  "
      ]
     },
     "execution_count": 6,
     "metadata": {},
     "output_type": "execute_result"
    }
   ],
   "source": [
    "df=pd.read_csv('students.csv')\n",
    "df.head(10)"
   ]
  },
  {
   "cell_type": "code",
   "execution_count": 3,
   "metadata": {},
   "outputs": [
    {
     "data": {
      "text/plain": [
       "(100, 8)"
      ]
     },
     "execution_count": 3,
     "metadata": {},
     "output_type": "execute_result"
    }
   ],
   "source": [
    "# shape of the dataset\n",
    "df.shape"
   ]
  },
  {
   "cell_type": "markdown",
   "metadata": {},
   "source": [
    "* The dataset contains 100 rows and 8 columns"
   ]
  },
  {
   "cell_type": "code",
   "execution_count": 4,
   "metadata": {},
   "outputs": [
    {
     "name": "stdout",
     "output_type": "stream",
     "text": [
      "<class 'pandas.core.frame.DataFrame'>\n",
      "RangeIndex: 100 entries, 0 to 99\n",
      "Data columns (total 8 columns):\n",
      " #   Column                         Non-Null Count  Dtype  \n",
      "---  ------                         --------------  -----  \n",
      " 0   gender                         100 non-null    object \n",
      " 1   race                           100 non-null    object \n",
      " 2   parental_level_of_education    100 non-null    object \n",
      " 3   taken_test_preparation_course  100 non-null    object \n",
      " 4   maths_score                    100 non-null    int64  \n",
      " 5   reading_score                  100 non-null    int64  \n",
      " 6   writing_score                  100 non-null    int64  \n",
      " 7   overall_score                  100 non-null    float64\n",
      "dtypes: float64(1), int64(3), object(4)\n",
      "memory usage: 6.4+ KB\n"
     ]
    }
   ],
   "source": [
    "# information about the columns in the dataset\n",
    "df.info()"
   ]
  },
  {
   "cell_type": "markdown",
   "metadata": {},
   "source": [
    "* The `Diet` column is categorical. While, `preweight` and `weight6weeks` are numerical."
   ]
  },
  {
   "cell_type": "code",
   "execution_count": 5,
   "metadata": {
    "ExecuteTime": {
     "end_time": "2020-05-06T07:29:17.231853Z",
     "start_time": "2020-05-06T07:29:16.338089Z"
    }
   },
   "outputs": [
    {
     "data": {
      "text/html": [
       "<div>\n",
       "<style scoped>\n",
       "    .dataframe tbody tr th:only-of-type {\n",
       "        vertical-align: middle;\n",
       "    }\n",
       "\n",
       "    .dataframe tbody tr th {\n",
       "        vertical-align: top;\n",
       "    }\n",
       "\n",
       "    .dataframe thead th {\n",
       "        text-align: right;\n",
       "    }\n",
       "</style>\n",
       "<table border=\"1\" class=\"dataframe\">\n",
       "  <thead>\n",
       "    <tr style=\"text-align: right;\">\n",
       "      <th></th>\n",
       "      <th>maths_score</th>\n",
       "      <th>reading_score</th>\n",
       "      <th>writing_score</th>\n",
       "      <th>overall_score</th>\n",
       "    </tr>\n",
       "  </thead>\n",
       "  <tbody>\n",
       "    <tr>\n",
       "      <th>count</th>\n",
       "      <td>100.000000</td>\n",
       "      <td>100.000000</td>\n",
       "      <td>100.000000</td>\n",
       "      <td>100.000000</td>\n",
       "    </tr>\n",
       "    <tr>\n",
       "      <th>mean</th>\n",
       "      <td>68.450000</td>\n",
       "      <td>70.800000</td>\n",
       "      <td>69.650000</td>\n",
       "      <td>69.633500</td>\n",
       "    </tr>\n",
       "    <tr>\n",
       "      <th>std</th>\n",
       "      <td>14.240627</td>\n",
       "      <td>13.586238</td>\n",
       "      <td>13.567173</td>\n",
       "      <td>13.099381</td>\n",
       "    </tr>\n",
       "    <tr>\n",
       "      <th>min</th>\n",
       "      <td>36.000000</td>\n",
       "      <td>35.000000</td>\n",
       "      <td>33.000000</td>\n",
       "      <td>38.000000</td>\n",
       "    </tr>\n",
       "    <tr>\n",
       "      <th>25%</th>\n",
       "      <td>57.750000</td>\n",
       "      <td>61.750000</td>\n",
       "      <td>60.750000</td>\n",
       "      <td>61.000000</td>\n",
       "    </tr>\n",
       "    <tr>\n",
       "      <th>50%</th>\n",
       "      <td>69.000000</td>\n",
       "      <td>71.000000</td>\n",
       "      <td>69.500000</td>\n",
       "      <td>69.330000</td>\n",
       "    </tr>\n",
       "    <tr>\n",
       "      <th>75%</th>\n",
       "      <td>78.250000</td>\n",
       "      <td>81.000000</td>\n",
       "      <td>80.000000</td>\n",
       "      <td>78.752500</td>\n",
       "    </tr>\n",
       "    <tr>\n",
       "      <th>max</th>\n",
       "      <td>100.000000</td>\n",
       "      <td>100.000000</td>\n",
       "      <td>100.000000</td>\n",
       "      <td>99.000000</td>\n",
       "    </tr>\n",
       "  </tbody>\n",
       "</table>\n",
       "</div>"
      ],
      "text/plain": [
       "       maths_score  reading_score  writing_score  overall_score\n",
       "count   100.000000     100.000000     100.000000     100.000000\n",
       "mean     68.450000      70.800000      69.650000      69.633500\n",
       "std      14.240627      13.586238      13.567173      13.099381\n",
       "min      36.000000      35.000000      33.000000      38.000000\n",
       "25%      57.750000      61.750000      60.750000      61.000000\n",
       "50%      69.000000      71.000000      69.500000      69.330000\n",
       "75%      78.250000      81.000000      80.000000      78.752500\n",
       "max     100.000000     100.000000     100.000000      99.000000"
      ]
     },
     "execution_count": 5,
     "metadata": {},
     "output_type": "execute_result"
    }
   ],
   "source": [
    "# summary of the dataset\n",
    "df.describe()"
   ]
  },
  {
   "cell_type": "markdown",
   "metadata": {},
   "source": [
    "* The mean weight before any diet plan is 72.53 kg, while the mean weight after 6 weeks of a diet plan is 68.68 kg.\n",
    "* Overall it can be seen that weights have been reduced after taking a diet."
   ]
  },
  {
   "cell_type": "markdown",
   "metadata": {},
   "source": [
    "### Q 1 In which ranges do the mean and standard deviation for maths score lie?"
   ]
  },
  {
   "cell_type": "code",
   "execution_count": 42,
   "metadata": {},
   "outputs": [
    {
     "data": {
      "text/plain": [
       "(68.45, 14.240626901420269)"
      ]
     },
     "execution_count": 42,
     "metadata": {},
     "output_type": "execute_result"
    }
   ],
   "source": [
    "# After loading the data set, simply calculate the mean and the standard deviation\n",
    "\n",
    "df['maths_score'].mean(),df['maths_score'].std()\n",
    "# this result is also visible in the data.describe() function"
   ]
  },
  {
   "cell_type": "markdown",
   "metadata": {},
   "source": [
    "### Q 2 Using the above mean and standard deviation, find the range on which the z-score for the maths score of the 5th student lies."
   ]
  },
  {
   "cell_type": "code",
   "execution_count": 44,
   "metadata": {},
   "outputs": [
    {
     "data": {
      "text/plain": [
       "-0.5933727537765388"
      ]
     },
     "execution_count": 44,
     "metadata": {},
     "output_type": "execute_result"
    }
   ],
   "source": [
    "# find the z-score of the 5th student\n",
    "(df['maths_score'][4]-df['maths_score'].mean())/df['maths_score'].std()"
   ]
  },
  {
   "cell_type": "markdown",
   "metadata": {},
   "source": [
    "The result is -0.59 so the closest offered range in the solution options is from -0.7, -0.5"
   ]
  },
  {
   "cell_type": "markdown",
   "metadata": {},
   "source": [
    "### Q 3 Suppose that the reading scores follow a normal distribution with a mean of 71 and standard deviation of 13 and the writing scores follow a normal distribution with a mean of 69 and standard deviation of 10. In which subject, the 5th student has performed the best?"
   ]
  },
  {
   "cell_type": "markdown",
   "metadata": {},
   "source": [
    "#### To solve...\n",
    "* Calculate the z-scores for both reading and writing scores. \n",
    "* The higher the z-score, the better is the performance."
   ]
  },
  {
   "cell_type": "code",
   "execution_count": 51,
   "metadata": {},
   "outputs": [
    {
     "name": "stdout",
     "output_type": "stream",
     "text": [
      "The 5th student has performed the best in writing.\n"
     ]
    }
   ],
   "source": [
    "# find the z-score for reading scores\n",
    "reading=(df['reading_score'][4]-71)/13\n",
    "writing=(df['writing_score'][4]-69)/10\n",
    "\n",
    "if reading>writing:\n",
    "    print(\"The 5th student has performed the best in reading.\")\n",
    "else:\n",
    "    print(\"The 5th student has performed the best in writing.\")"
   ]
  },
  {
   "cell_type": "markdown",
   "metadata": {},
   "source": [
    "### Q 4  Suppose the reading scores follow a normal distribution with a mean of 71 and a standard deviation of 13. Find the range on which the probability that a student will score more than 90 in reading lies."
   ]
  },
  {
   "cell_type": "code",
   "execution_count": 57,
   "metadata": {},
   "outputs": [
    {
     "data": {
      "text/plain": [
       "0.07193386424080761"
      ]
     },
     "execution_count": 57,
     "metadata": {},
     "output_type": "execute_result"
    }
   ],
   "source": [
    "# probability to score more than 90 in reading, on the scale to 100, is like scoring 90% or better\n",
    "(1-norm.cdf(90, loc=71, scale=13))"
   ]
  },
  {
   "cell_type": "markdown",
   "metadata": {},
   "source": [
    "The answer above expressed as percentage is 7.2%, and that falls in the range between the given 6-8%.\n",
    "You can also take the above solution * 100 for percentage."
   ]
  },
  {
   "cell_type": "markdown",
   "metadata": {},
   "source": [
    "### Q 5 Construct a 95% confidence interval for the mean overall scores from the sample data."
   ]
  },
  {
   "cell_type": "code",
   "execution_count": 60,
   "metadata": {},
   "outputs": [
    {
     "data": {
      "text/plain": [
       "array([67.03, 72.23])"
      ]
     },
     "execution_count": 60,
     "metadata": {},
     "output_type": "execute_result"
    }
   ],
   "source": [
    "# set the values of sample mean and sample standard deviation\n",
    "x_bar, s = df['overall_score'].mean(), df['overall_score'].std()\n",
    "\n",
    "# set the value of sample size and degrees of freedom\n",
    "n = len(df)\n",
    "k = n - 1 # degrees of freedom is always / often '-1'\n",
    "\n",
    "# construct the confidence interval\n",
    "np.round(t.interval(0.95, df=k, loc=x_bar, scale=s / np.sqrt(n)), 2)"
   ]
  },
  {
   "cell_type": "code",
   "execution_count": 62,
   "metadata": {},
   "outputs": [
    {
     "data": {
      "text/plain": [
       "array([67.03, 72.23])"
      ]
     },
     "execution_count": 62,
     "metadata": {},
     "output_type": "execute_result"
    }
   ],
   "source": [
    "# the above can also be written as follows\n",
    "\n",
    "np.round(t.interval(0.95, df=100-1, loc=69.633500, scale=13.099381 / np.sqrt(100)), 2)\n",
    "# df is overal number of values less 1\n",
    "# loc = mean of overall scores\n",
    "# scale = standard deviation"
   ]
  },
  {
   "cell_type": "markdown",
   "metadata": {},
   "source": [
    "### Q 6 An educational consultant claims that on average students receive an overall score of more than 70. Suppose you tested the educational consultant's claim using the sample data. What will be the conclusion based on the p-value?"
   ]
  },
  {
   "cell_type": "code",
   "execution_count": 64,
   "metadata": {},
   "outputs": [
    {
     "name": "stdout",
     "output_type": "stream",
     "text": [
      "The p-value is  0.6098866036964306\n"
     ]
    }
   ],
   "source": [
    "#import the required functions\n",
    "from scipy.stats import ttest_1samp\n",
    "\n",
    "# calculate the test statistic and p-value\n",
    "test_stat, p_value = ttest_1samp(df['overall_score'], popmean = 70, alternative = 'greater') # greater bcs more than 70\n",
    "print('The p-value is ', p_value)"
   ]
  },
  {
   "cell_type": "markdown",
   "metadata": {},
   "source": [
    "As the p-value is much greater than 0.05, there is no enough evidence to say that the average overall score of the students is more than 70."
   ]
  },
  {
   "cell_type": "markdown",
   "metadata": {},
   "source": [
    "### Q 7 Suppose you want to test whether the maths score of students who have not taken the test preparation course is less than the maths score of students who have taken any test preparation course. What will be the conclusion based on the p-value?\n",
    "\n",
    "#### Note - Assume that the population standard deviations are equal."
   ]
  },
  {
   "cell_type": "code",
   "execution_count": 67,
   "metadata": {},
   "outputs": [
    {
     "name": "stdout",
     "output_type": "stream",
     "text": [
      "The p-value is  6.010315522311647e-07\n"
     ]
    }
   ],
   "source": [
    "# import the required functions\n",
    "from scipy.stats import ttest_ind\n",
    "\n",
    "# prepare the data using Python\n",
    "# first filter for students who have taken the test prep and find their math scores\n",
    "score_taken_test=df[df.taken_test_preparation_course=='yes']['maths_score']\n",
    "\n",
    "# then filter for students who have not taken the test prep and find their math scores\n",
    "score_not_taken_test=df[df.taken_test_preparation_course=='no']['maths_score']\n",
    "\n",
    "# find the p-value\n",
    "test_stat, p_value = ttest_ind(score_not_taken_test, score_taken_test, equal_var = True, alternative = 'less')\n",
    "# we use alternative = less because it's part of the the task hypothesis\n",
    "\n",
    "print('The p-value is ', p_value)"
   ]
  },
  {
   "cell_type": "markdown",
   "metadata": {},
   "source": [
    "#### As the p-value is less than 0.05, you do have enough evidence (significance) to say that the maths scores of students who have not taken the test preparation course is less than the maths scores of students who have taken any test preparation course."
   ]
  },
  {
   "cell_type": "markdown",
   "metadata": {},
   "source": [
    "### Q 8 Suppose you want to test whether the student takes a test course preparation course or not depends on their parents' educational level. To test this, which of the below tests will be the most appropriate?"
   ]
  },
  {
   "cell_type": "markdown",
   "metadata": {},
   "source": [
    "* ANOVA test\n",
    "\n",
    "* --> **Chi-square test of independence**\n",
    "\n",
    "* Paired t-test\n",
    "\n",
    "* One sample t-test"
   ]
  },
  {
   "cell_type": "markdown",
   "metadata": {},
   "source": [
    "### Q 9 Suppose you want to test whether the student takes a test preparation course or not depends on their parents' educational level. What will be the conclusion based on the p-value?"
   ]
  },
  {
   "cell_type": "code",
   "execution_count": 73,
   "metadata": {},
   "outputs": [
    {
     "data": {
      "text/html": [
       "<div>\n",
       "<style scoped>\n",
       "    .dataframe tbody tr th:only-of-type {\n",
       "        vertical-align: middle;\n",
       "    }\n",
       "\n",
       "    .dataframe tbody tr th {\n",
       "        vertical-align: top;\n",
       "    }\n",
       "\n",
       "    .dataframe thead th {\n",
       "        text-align: right;\n",
       "    }\n",
       "</style>\n",
       "<table border=\"1\" class=\"dataframe\">\n",
       "  <thead>\n",
       "    <tr style=\"text-align: right;\">\n",
       "      <th>taken_test_preparation_course</th>\n",
       "      <th>no</th>\n",
       "      <th>yes</th>\n",
       "    </tr>\n",
       "    <tr>\n",
       "      <th>parental_level_of_education</th>\n",
       "      <th></th>\n",
       "      <th></th>\n",
       "    </tr>\n",
       "  </thead>\n",
       "  <tbody>\n",
       "    <tr>\n",
       "      <th>associate's degree</th>\n",
       "      <td>6</td>\n",
       "      <td>10</td>\n",
       "    </tr>\n",
       "    <tr>\n",
       "      <th>bachelor's degree</th>\n",
       "      <td>5</td>\n",
       "      <td>5</td>\n",
       "    </tr>\n",
       "    <tr>\n",
       "      <th>high school</th>\n",
       "      <td>40</td>\n",
       "      <td>9</td>\n",
       "    </tr>\n",
       "    <tr>\n",
       "      <th>master's degree</th>\n",
       "      <td>5</td>\n",
       "      <td>2</td>\n",
       "    </tr>\n",
       "    <tr>\n",
       "      <th>some high school</th>\n",
       "      <td>15</td>\n",
       "      <td>3</td>\n",
       "    </tr>\n",
       "  </tbody>\n",
       "</table>\n",
       "</div>"
      ],
      "text/plain": [
       "taken_test_preparation_course  no  yes\n",
       "parental_level_of_education           \n",
       "associate's degree              6   10\n",
       "bachelor's degree               5    5\n",
       "high school                    40    9\n",
       "master's degree                 5    2\n",
       "some high school               15    3"
      ]
     },
     "execution_count": 73,
     "metadata": {},
     "output_type": "execute_result"
    }
   ],
   "source": [
    "#import the required functions\n",
    "from scipy.stats import chi2_contingency\n",
    "\n",
    "#preparing the needed data table using 'crosstab function'\n",
    "\n",
    "\"\"\"crosstab() function in Python. This method is used to compute a simple cross-tabulation of \n",
    "two (or more) factors. By default, computes a frequency table of the factors unless an array of \n",
    "values and an aggregation function are passed.\"\"\"\n",
    "\n",
    "table= pd.crosstab(df['parental_level_of_education'],df['taken_test_preparation_course'])\n",
    "table"
   ]
  },
  {
   "cell_type": "code",
   "execution_count": 74,
   "metadata": {},
   "outputs": [
    {
     "name": "stdout",
     "output_type": "stream",
     "text": [
      "The p-value is  0.004949288534412502\n"
     ]
    }
   ],
   "source": [
    "chi, p_value, dof, expected = chi2_contingency(table)\n",
    "\n",
    "print('The p-value is ', p_value)"
   ]
  },
  {
   "cell_type": "markdown",
   "metadata": {},
   "source": [
    "#### As the p-value is less than 0.05, we have enough evidence to reject the H0 and say that the student taking the test preparation course depends on their parents' educational level."
   ]
  },
  {
   "cell_type": "markdown",
   "metadata": {},
   "source": [
    "### Q 10 Suppose you want to test that whether there is any difference in means of student performance in reading, writing, and maths. What will be the conclusion based on the p-value?"
   ]
  },
  {
   "cell_type": "code",
   "execution_count": 98,
   "metadata": {},
   "outputs": [],
   "source": [
    "# import the required function\n",
    "from scipy.stats import f_oneway\n",
    "\n",
    "# preparing the data\n",
    "maths=df['maths_score']\n",
    "reading=df['reading_score']\n",
    "writing=df['writing_score']"
   ]
  },
  {
   "cell_type": "code",
   "execution_count": 99,
   "metadata": {},
   "outputs": [
    {
     "name": "stdout",
     "output_type": "stream",
     "text": [
      "The p-value is  0.4852226859144665\n"
     ]
    }
   ],
   "source": [
    "# find the p-value\n",
    "test_stat, p_value = f_oneway(maths,reading,writing)\n",
    "\n",
    "print('The p-value is ', p_value)"
   ]
  },
  {
   "cell_type": "markdown",
   "metadata": {},
   "source": [
    "The above can also be written as..."
   ]
  },
  {
   "cell_type": "code",
   "execution_count": 97,
   "metadata": {},
   "outputs": [
    {
     "name": "stdout",
     "output_type": "stream",
     "text": [
      "The p-value is  0.4852226859144665\n"
     ]
    }
   ],
   "source": [
    "# find the p-value\n",
    "test_stat, p_value = f_oneway(df['maths_score'],\n",
    "                              df['reading_score'],\n",
    "                              df['writing_score'])\n",
    "\n",
    "print('The p-value is ', p_value)"
   ]
  },
  {
   "cell_type": "markdown",
   "metadata": {},
   "source": [
    "#### As the p-value is greater than 0.05, you do not have enough evidence to say that there is any difference in means of student performance in reading, writing, and maths."
   ]
  },
  {
   "cell_type": "code",
   "execution_count": null,
   "metadata": {},
   "outputs": [],
   "source": []
  }
 ],
 "metadata": {
  "kernelspec": {
   "display_name": "Python 3",
   "language": "python",
   "name": "python3"
  },
  "language_info": {
   "codemirror_mode": {
    "name": "ipython",
    "version": 3
   },
   "file_extension": ".py",
   "mimetype": "text/x-python",
   "name": "python",
   "nbconvert_exporter": "python",
   "pygments_lexer": "ipython3",
   "version": "3.8.8"
  },
  "toc": {
   "base_numbering": 1,
   "nav_menu": {},
   "number_sections": true,
   "sideBar": true,
   "skip_h1_title": false,
   "title_cell": "Table of Contents",
   "title_sidebar": "Contents",
   "toc_cell": false,
   "toc_position": {},
   "toc_section_display": true,
   "toc_window_display": false
  },
  "varInspector": {
   "cols": {
    "lenName": 16,
    "lenType": 16,
    "lenVar": 40
   },
   "kernels_config": {
    "python": {
     "delete_cmd_postfix": "",
     "delete_cmd_prefix": "del ",
     "library": "var_list.py",
     "varRefreshCmd": "print(var_dic_list())"
    },
    "r": {
     "delete_cmd_postfix": ") ",
     "delete_cmd_prefix": "rm(",
     "library": "var_list.r",
     "varRefreshCmd": "cat(var_dic_list()) "
    }
   },
   "types_to_exclude": [
    "module",
    "function",
    "builtin_function_or_method",
    "instance",
    "_Feature"
   ],
   "window_display": false
  }
 },
 "nbformat": 4,
 "nbformat_minor": 2
}
