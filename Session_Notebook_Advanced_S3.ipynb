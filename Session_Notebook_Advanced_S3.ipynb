{
 "cells": [
  {
   "cell_type": "markdown",
   "metadata": {
    "id": "6OLzY3s37HLf"
   },
   "source": [
    "-----\n",
    "# **Context**\n",
    "-----\n",
    "\n",
    "**WOW Superstore** sells different products like office supplies, furniture and appliances. For each order that is placed, the superstore keeps a record of various attributes related to the product, like state, city, category, subcategory and quantity.\n",
    "\n",
    "**Each row of the data corresponds to a unique order placed.** The detailed description of the attributes recorded are given below:\n",
    "\n",
    "-----\n",
    "## **Data Description**\n",
    "-----\n",
    "\n",
    "1. **Order ID:** Unique ID for an order\n",
    "2. **Ship Mode:** Mode of shipping used for shipment delivery\n",
    "3. **Segment:** Customer segment product was shipped to\n",
    "4. **City:** City in which shipment was delivered\n",
    "5. **State:** State in which the shipment was delivered\n",
    "6. **Region:** State region\n",
    "7. **Category:** The category product belongs to\n",
    "8. **Sub-Category:** Sub-category of the product\n",
    "9. **Sales:** Sale made in USD\n",
    "10. **Quantity:** Product quantity\n",
    "11. **Discount:** Discount given on the product\n",
    "12. **Profit:** Profit/loss made on the sale"
   ]
  },
  {
   "cell_type": "markdown",
   "metadata": {
    "id": "vUIAUfKs7HLi"
   },
   "source": [
    "### **We will first import the Python libraries needed for our analysis**"
   ]
  },
  {
   "cell_type": "code",
   "execution_count": 1,
   "metadata": {
    "id": "ARUZUQIC7HLi"
   },
   "outputs": [],
   "source": [
    "# Load the Pandas library with alias 'pd' - to import and analyze tabular data\n",
    "import pandas as pd\n",
    "\n",
    "# Load the Seaborn library with alias 'sns' -to create visualizations\n",
    "import seaborn as sns"
   ]
  },
  {
   "cell_type": "markdown",
   "metadata": {
    "id": "bPIjx8fD7HLk"
   },
   "source": [
    "### **Let's load the data into a pandas dataframe for analysis**"
   ]
  },
  {
   "cell_type": "markdown",
   "metadata": {
    "id": "-O-qbQ5X83Vd"
   },
   "source": [
    "When you specify a filename to *pandas.read_csv()*, Python will look in your current working directory. Your working directory is typically the directory that you started your Python process or Jupyter notebook from."
   ]
  },
  {
   "cell_type": "code",
   "execution_count": 9,
   "metadata": {
    "id": "V1zaExil7HLk"
   },
   "outputs": [],
   "source": [
    "# Read data from file 'WOW Superstore.csv' \n",
    "# (in the same directory that your python process is based)\n",
    "\n",
    "data = pd.read_csv(\"WOW Superstore.csv\")\n",
    "\n",
    "#pd.read_excel"
   ]
  },
  {
   "cell_type": "markdown",
   "metadata": {
    "id": "CGsPsU837HLk"
   },
   "source": [
    "### **Before we begin our analysis, let's take a quick look at our data to get a feel for it**"
   ]
  },
  {
   "cell_type": "markdown",
   "metadata": {
    "id": "bD4Knvbo7HLl"
   },
   "source": [
    "* We can check the first 5 rows of the data using the *head()* function."
   ]
  },
  {
   "cell_type": "code",
   "execution_count": 7,
   "metadata": {
    "id": "GZgpQl7j7HLl",
    "outputId": "44ba00a9-8ef0-4b8e-aff6-38c45be95913"
   },
   "outputs": [
    {
     "data": {
      "text/html": [
       "<div>\n",
       "<style scoped>\n",
       "    .dataframe tbody tr th:only-of-type {\n",
       "        vertical-align: middle;\n",
       "    }\n",
       "\n",
       "    .dataframe tbody tr th {\n",
       "        vertical-align: top;\n",
       "    }\n",
       "\n",
       "    .dataframe thead th {\n",
       "        text-align: right;\n",
       "    }\n",
       "</style>\n",
       "<table border=\"1\" class=\"dataframe\">\n",
       "  <thead>\n",
       "    <tr style=\"text-align: right;\">\n",
       "      <th></th>\n",
       "      <th>Order ID</th>\n",
       "      <th>Ship Mode</th>\n",
       "      <th>Segment</th>\n",
       "      <th>City</th>\n",
       "      <th>State</th>\n",
       "      <th>Region</th>\n",
       "      <th>Category</th>\n",
       "      <th>Sub-Category</th>\n",
       "      <th>Sales</th>\n",
       "      <th>Quantity</th>\n",
       "      <th>Discount</th>\n",
       "      <th>Profit</th>\n",
       "    </tr>\n",
       "  </thead>\n",
       "  <tbody>\n",
       "    <tr>\n",
       "      <th>0</th>\n",
       "      <td>WOWID0001</td>\n",
       "      <td>Standard Class</td>\n",
       "      <td>Consumer</td>\n",
       "      <td>Seattle</td>\n",
       "      <td>Washington</td>\n",
       "      <td>West</td>\n",
       "      <td>Office Supplies</td>\n",
       "      <td>Binders</td>\n",
       "      <td>407.976</td>\n",
       "      <td>3</td>\n",
       "      <td>0.2</td>\n",
       "      <td>132.5922</td>\n",
       "    </tr>\n",
       "    <tr>\n",
       "      <th>1</th>\n",
       "      <td>WOWID0002</td>\n",
       "      <td>Standard Class</td>\n",
       "      <td>Home Office</td>\n",
       "      <td>Fort Worth</td>\n",
       "      <td>Texas</td>\n",
       "      <td>Central</td>\n",
       "      <td>Office Supplies</td>\n",
       "      <td>Appliances</td>\n",
       "      <td>68.810</td>\n",
       "      <td>5</td>\n",
       "      <td>0.8</td>\n",
       "      <td>-123.8580</td>\n",
       "    </tr>\n",
       "    <tr>\n",
       "      <th>2</th>\n",
       "      <td>WOWID0003</td>\n",
       "      <td>Standard Class</td>\n",
       "      <td>Home Office</td>\n",
       "      <td>Fort Worth</td>\n",
       "      <td>Texas</td>\n",
       "      <td>Central</td>\n",
       "      <td>Office Supplies</td>\n",
       "      <td>Binders</td>\n",
       "      <td>2.544</td>\n",
       "      <td>3</td>\n",
       "      <td>0.8</td>\n",
       "      <td>-3.8160</td>\n",
       "    </tr>\n",
       "    <tr>\n",
       "      <th>3</th>\n",
       "      <td>WOWID0004</td>\n",
       "      <td>Standard Class</td>\n",
       "      <td>Consumer</td>\n",
       "      <td>Philadelphia</td>\n",
       "      <td>Pennsylvania</td>\n",
       "      <td>East</td>\n",
       "      <td>Furniture</td>\n",
       "      <td>Bookcases</td>\n",
       "      <td>3083.430</td>\n",
       "      <td>7</td>\n",
       "      <td>0.5</td>\n",
       "      <td>-1665.0522</td>\n",
       "    </tr>\n",
       "    <tr>\n",
       "      <th>4</th>\n",
       "      <td>WOWID0005</td>\n",
       "      <td>Standard Class</td>\n",
       "      <td>Consumer</td>\n",
       "      <td>Philadelphia</td>\n",
       "      <td>Pennsylvania</td>\n",
       "      <td>East</td>\n",
       "      <td>Office Supplies</td>\n",
       "      <td>Binders</td>\n",
       "      <td>9.618</td>\n",
       "      <td>2</td>\n",
       "      <td>0.7</td>\n",
       "      <td>-7.0532</td>\n",
       "    </tr>\n",
       "  </tbody>\n",
       "</table>\n",
       "</div>"
      ],
      "text/plain": [
       "    Order ID       Ship Mode      Segment          City         State  \\\n",
       "0  WOWID0001  Standard Class     Consumer       Seattle    Washington   \n",
       "1  WOWID0002  Standard Class  Home Office    Fort Worth         Texas   \n",
       "2  WOWID0003  Standard Class  Home Office    Fort Worth         Texas   \n",
       "3  WOWID0004  Standard Class     Consumer  Philadelphia  Pennsylvania   \n",
       "4  WOWID0005  Standard Class     Consumer  Philadelphia  Pennsylvania   \n",
       "\n",
       "    Region         Category Sub-Category     Sales  Quantity  Discount  \\\n",
       "0     West  Office Supplies      Binders   407.976         3       0.2   \n",
       "1  Central  Office Supplies   Appliances    68.810         5       0.8   \n",
       "2  Central  Office Supplies      Binders     2.544         3       0.8   \n",
       "3     East        Furniture    Bookcases  3083.430         7       0.5   \n",
       "4     East  Office Supplies      Binders     9.618         2       0.7   \n",
       "\n",
       "      Profit  \n",
       "0   132.5922  \n",
       "1  -123.8580  \n",
       "2    -3.8160  \n",
       "3 -1665.0522  \n",
       "4    -7.0532  "
      ]
     },
     "execution_count": 7,
     "metadata": {},
     "output_type": "execute_result"
    }
   ],
   "source": [
    "data.head()"
   ]
  },
  {
   "cell_type": "markdown",
   "metadata": {
    "id": "VWjlaGAm7HLm"
   },
   "source": [
    "* We can check the last 5 rows of the data using the *tail()* function."
   ]
  },
  {
   "cell_type": "code",
   "execution_count": null,
   "metadata": {
    "id": "OWqwiImP7HLm",
    "outputId": "07535895-a312-4282-d7ce-8c11ade89b8c"
   },
   "outputs": [
    {
     "data": {
      "text/html": [
       "<div>\n",
       "<style scoped>\n",
       "    .dataframe tbody tr th:only-of-type {\n",
       "        vertical-align: middle;\n",
       "    }\n",
       "\n",
       "    .dataframe tbody tr th {\n",
       "        vertical-align: top;\n",
       "    }\n",
       "\n",
       "    .dataframe thead th {\n",
       "        text-align: right;\n",
       "    }\n",
       "</style>\n",
       "<table border=\"1\" class=\"dataframe\">\n",
       "  <thead>\n",
       "    <tr style=\"text-align: right;\">\n",
       "      <th></th>\n",
       "      <th>Order ID</th>\n",
       "      <th>Ship Mode</th>\n",
       "      <th>Segment</th>\n",
       "      <th>City</th>\n",
       "      <th>State</th>\n",
       "      <th>Region</th>\n",
       "      <th>Category</th>\n",
       "      <th>Sub-Category</th>\n",
       "      <th>Sales</th>\n",
       "      <th>Quantity</th>\n",
       "      <th>Discount</th>\n",
       "      <th>Profit</th>\n",
       "    </tr>\n",
       "  </thead>\n",
       "  <tbody>\n",
       "    <tr>\n",
       "      <th>1945</th>\n",
       "      <td>WOWID1946</td>\n",
       "      <td>Standard Class</td>\n",
       "      <td>Corporate</td>\n",
       "      <td>Philadelphia</td>\n",
       "      <td>Pennsylvania</td>\n",
       "      <td>East</td>\n",
       "      <td>Office Supplies</td>\n",
       "      <td>Paper</td>\n",
       "      <td>3.4240</td>\n",
       "      <td>1</td>\n",
       "      <td>0.20</td>\n",
       "      <td>1.0700</td>\n",
       "    </tr>\n",
       "    <tr>\n",
       "      <th>1946</th>\n",
       "      <td>WOWID1947</td>\n",
       "      <td>Standard Class</td>\n",
       "      <td>Corporate</td>\n",
       "      <td>Philadelphia</td>\n",
       "      <td>Pennsylvania</td>\n",
       "      <td>East</td>\n",
       "      <td>Technology</td>\n",
       "      <td>Accessories</td>\n",
       "      <td>151.2000</td>\n",
       "      <td>3</td>\n",
       "      <td>0.20</td>\n",
       "      <td>32.1300</td>\n",
       "    </tr>\n",
       "    <tr>\n",
       "      <th>1947</th>\n",
       "      <td>WOWID1948</td>\n",
       "      <td>First Class</td>\n",
       "      <td>Home Office</td>\n",
       "      <td>Houston</td>\n",
       "      <td>Texas</td>\n",
       "      <td>Central</td>\n",
       "      <td>Office Supplies</td>\n",
       "      <td>Paper</td>\n",
       "      <td>65.5840</td>\n",
       "      <td>2</td>\n",
       "      <td>0.20</td>\n",
       "      <td>23.7742</td>\n",
       "    </tr>\n",
       "    <tr>\n",
       "      <th>1948</th>\n",
       "      <td>WOWID1949</td>\n",
       "      <td>First Class</td>\n",
       "      <td>Home Office</td>\n",
       "      <td>Houston</td>\n",
       "      <td>Texas</td>\n",
       "      <td>Central</td>\n",
       "      <td>Furniture</td>\n",
       "      <td>Bookcases</td>\n",
       "      <td>383.4656</td>\n",
       "      <td>4</td>\n",
       "      <td>0.32</td>\n",
       "      <td>-67.6704</td>\n",
       "    </tr>\n",
       "    <tr>\n",
       "      <th>1949</th>\n",
       "      <td>WOWID1950</td>\n",
       "      <td>Standard Class</td>\n",
       "      <td>Consumer</td>\n",
       "      <td>Houston</td>\n",
       "      <td>Texas</td>\n",
       "      <td>Central</td>\n",
       "      <td>Office Supplies</td>\n",
       "      <td>Envelopes</td>\n",
       "      <td>99.5680</td>\n",
       "      <td>2</td>\n",
       "      <td>0.20</td>\n",
       "      <td>33.6042</td>\n",
       "    </tr>\n",
       "  </tbody>\n",
       "</table>\n",
       "</div>"
      ],
      "text/plain": [
       "       Order ID       Ship Mode      Segment          City         State  \\\n",
       "1945  WOWID1946  Standard Class    Corporate  Philadelphia  Pennsylvania   \n",
       "1946  WOWID1947  Standard Class    Corporate  Philadelphia  Pennsylvania   \n",
       "1947  WOWID1948     First Class  Home Office       Houston         Texas   \n",
       "1948  WOWID1949     First Class  Home Office       Houston         Texas   \n",
       "1949  WOWID1950  Standard Class     Consumer       Houston         Texas   \n",
       "\n",
       "       Region         Category Sub-Category     Sales  Quantity  Discount  \\\n",
       "1945     East  Office Supplies        Paper    3.4240         1      0.20   \n",
       "1946     East       Technology  Accessories  151.2000         3      0.20   \n",
       "1947  Central  Office Supplies        Paper   65.5840         2      0.20   \n",
       "1948  Central        Furniture    Bookcases  383.4656         4      0.32   \n",
       "1949  Central  Office Supplies    Envelopes   99.5680         2      0.20   \n",
       "\n",
       "       Profit  \n",
       "1945   1.0700  \n",
       "1946  32.1300  \n",
       "1947  23.7742  \n",
       "1948 -67.6704  \n",
       "1949  33.6042  "
      ]
     },
     "execution_count": 4,
     "metadata": {
      "tags": []
     },
     "output_type": "execute_result"
    }
   ],
   "source": [
    "data.tail()"
   ]
  },
  {
   "cell_type": "markdown",
   "metadata": {
    "id": "4_s8i5fr7HLn"
   },
   "source": [
    "* We can check a **random sample** of rows of the data using the *sample()* function.\n",
    "* We will set the *n* parameter to 5 to display 5 random rows.\n",
    "* Note that **the sample rows displayed will change each time we execute the code,** since a random selection is executed."
   ]
  },
  {
   "cell_type": "code",
   "execution_count": 14,
   "metadata": {
    "id": "DDB7-SR-7HLn",
    "outputId": "8e427f56-4672-417c-c862-ecf1484f1ed4"
   },
   "outputs": [
    {
     "data": {
      "text/html": [
       "<div>\n",
       "<style scoped>\n",
       "    .dataframe tbody tr th:only-of-type {\n",
       "        vertical-align: middle;\n",
       "    }\n",
       "\n",
       "    .dataframe tbody tr th {\n",
       "        vertical-align: top;\n",
       "    }\n",
       "\n",
       "    .dataframe thead th {\n",
       "        text-align: right;\n",
       "    }\n",
       "</style>\n",
       "<table border=\"1\" class=\"dataframe\">\n",
       "  <thead>\n",
       "    <tr style=\"text-align: right;\">\n",
       "      <th></th>\n",
       "      <th>Order ID</th>\n",
       "      <th>Ship Mode</th>\n",
       "      <th>Segment</th>\n",
       "      <th>City</th>\n",
       "      <th>State</th>\n",
       "      <th>Region</th>\n",
       "      <th>Category</th>\n",
       "      <th>Sub-Category</th>\n",
       "      <th>Sales</th>\n",
       "      <th>Quantity</th>\n",
       "      <th>Discount</th>\n",
       "      <th>Profit</th>\n",
       "    </tr>\n",
       "  </thead>\n",
       "  <tbody>\n",
       "    <tr>\n",
       "      <th>123</th>\n",
       "      <td>WOWID0124</td>\n",
       "      <td>Standard Class</td>\n",
       "      <td>Consumer</td>\n",
       "      <td>Tyler</td>\n",
       "      <td>Texas</td>\n",
       "      <td>Central</td>\n",
       "      <td>Technology</td>\n",
       "      <td>Accessories</td>\n",
       "      <td>27.816</td>\n",
       "      <td>3</td>\n",
       "      <td>0.2</td>\n",
       "      <td>4.5201</td>\n",
       "    </tr>\n",
       "    <tr>\n",
       "      <th>1135</th>\n",
       "      <td>WOWID1136</td>\n",
       "      <td>Standard Class</td>\n",
       "      <td>Consumer</td>\n",
       "      <td>Fort Worth</td>\n",
       "      <td>Texas</td>\n",
       "      <td>Central</td>\n",
       "      <td>Technology</td>\n",
       "      <td>Copiers</td>\n",
       "      <td>1999.960</td>\n",
       "      <td>5</td>\n",
       "      <td>0.2</td>\n",
       "      <td>624.9875</td>\n",
       "    </tr>\n",
       "    <tr>\n",
       "      <th>1054</th>\n",
       "      <td>WOWID1055</td>\n",
       "      <td>Standard Class</td>\n",
       "      <td>Consumer</td>\n",
       "      <td>Decatur</td>\n",
       "      <td>Illinois</td>\n",
       "      <td>Central</td>\n",
       "      <td>Furniture</td>\n",
       "      <td>Chairs</td>\n",
       "      <td>37.296</td>\n",
       "      <td>2</td>\n",
       "      <td>0.3</td>\n",
       "      <td>-1.0656</td>\n",
       "    </tr>\n",
       "    <tr>\n",
       "      <th>570</th>\n",
       "      <td>WOWID0571</td>\n",
       "      <td>Standard Class</td>\n",
       "      <td>Consumer</td>\n",
       "      <td>Seattle</td>\n",
       "      <td>Washington</td>\n",
       "      <td>West</td>\n",
       "      <td>Office Supplies</td>\n",
       "      <td>Binders</td>\n",
       "      <td>11.264</td>\n",
       "      <td>4</td>\n",
       "      <td>0.2</td>\n",
       "      <td>3.8016</td>\n",
       "    </tr>\n",
       "    <tr>\n",
       "      <th>675</th>\n",
       "      <td>WOWID0676</td>\n",
       "      <td>Standard Class</td>\n",
       "      <td>Consumer</td>\n",
       "      <td>Bellevue</td>\n",
       "      <td>Washington</td>\n",
       "      <td>West</td>\n",
       "      <td>Office Supplies</td>\n",
       "      <td>Binders</td>\n",
       "      <td>24.816</td>\n",
       "      <td>3</td>\n",
       "      <td>0.2</td>\n",
       "      <td>8.3754</td>\n",
       "    </tr>\n",
       "  </tbody>\n",
       "</table>\n",
       "</div>"
      ],
      "text/plain": [
       "       Order ID       Ship Mode   Segment        City       State   Region  \\\n",
       "123   WOWID0124  Standard Class  Consumer       Tyler       Texas  Central   \n",
       "1135  WOWID1136  Standard Class  Consumer  Fort Worth       Texas  Central   \n",
       "1054  WOWID1055  Standard Class  Consumer     Decatur    Illinois  Central   \n",
       "570   WOWID0571  Standard Class  Consumer     Seattle  Washington     West   \n",
       "675   WOWID0676  Standard Class  Consumer    Bellevue  Washington     West   \n",
       "\n",
       "             Category Sub-Category     Sales  Quantity  Discount    Profit  \n",
       "123        Technology  Accessories    27.816         3       0.2    4.5201  \n",
       "1135       Technology      Copiers  1999.960         5       0.2  624.9875  \n",
       "1054        Furniture       Chairs    37.296         2       0.3   -1.0656  \n",
       "570   Office Supplies      Binders    11.264         4       0.2    3.8016  \n",
       "675   Office Supplies      Binders    24.816         3       0.2    8.3754  "
      ]
     },
     "execution_count": 14,
     "metadata": {},
     "output_type": "execute_result"
    }
   ],
   "source": [
    "data.sample(n=5)"
   ]
  },
  {
   "cell_type": "markdown",
   "metadata": {
    "id": "3XEy7TTw7HLn"
   },
   "source": [
    "**What does this quick look at our data tell us?**\n",
    "\n",
    "* Two modes of shipping are visible - *Standard Class* and *First Class*.\n",
    "* Three customer segments are visible - *Consumer*, *Corporate*, and *Home Office*.\n",
    "* The customers are spread across different cities and states of the US.\n",
    "* The products ordered belong to various categories like *Office Supplies*, *Furniture*, *Technology* etc.\n",
    "* The discounts provided range from 20% to 80%.\n",
    "* The *Profit* column has negative values too, indicating losses incurred.\n",
    "\n",
    "This, of course, is true **only for this snapshot of 15 rows** that we have just seen. We have some very handy fuctions in Pandas to do a thorough summary analysis of the entire data without having to view all the rows. "
   ]
  },
  {
   "cell_type": "markdown",
   "metadata": {
    "id": "jwJlLbDv7HLo"
   },
   "source": [
    "### **Now that we have taken a quick look at our data, let's check the number of rows and columns in the data, and what type of values we are going to deal with**\n",
    "\n",
    "* The *shape* attribute and the *info()* function will help us with this."
   ]
  },
  {
   "cell_type": "code",
   "execution_count": 15,
   "metadata": {
    "id": "okP8faGd7HLo",
    "outputId": "c4fae219-a464-40af-b3e0-3de81ea12589"
   },
   "outputs": [
    {
     "data": {
      "text/plain": [
       "(1950, 12)"
      ]
     },
     "execution_count": 15,
     "metadata": {},
     "output_type": "execute_result"
    }
   ],
   "source": [
    "# checking the shape of the data\n",
    "data.shape"
   ]
  },
  {
   "cell_type": "markdown",
   "metadata": {
    "id": "YUTO0Do_7HLo"
   },
   "source": [
    "* We see that there are 1950 rows and 12 columns in the data."
   ]
  },
  {
   "cell_type": "code",
   "execution_count": 16,
   "metadata": {
    "id": "KD4I8UWm7HLo",
    "outputId": "282a02c2-7e71-4e40-d412-8dab8dfa088f"
   },
   "outputs": [
    {
     "name": "stdout",
     "output_type": "stream",
     "text": [
      "<class 'pandas.core.frame.DataFrame'>\n",
      "RangeIndex: 1950 entries, 0 to 1949\n",
      "Data columns (total 12 columns):\n",
      " #   Column        Non-Null Count  Dtype  \n",
      "---  ------        --------------  -----  \n",
      " 0   Order ID      1950 non-null   object \n",
      " 1   Ship Mode     1950 non-null   object \n",
      " 2   Segment       1950 non-null   object \n",
      " 3   City          1950 non-null   object \n",
      " 4   State         1950 non-null   object \n",
      " 5   Region        1950 non-null   object \n",
      " 6   Category      1950 non-null   object \n",
      " 7   Sub-Category  1950 non-null   object \n",
      " 8   Sales         1950 non-null   float64\n",
      " 9   Quantity      1950 non-null   int64  \n",
      " 10  Discount      1950 non-null   float64\n",
      " 11  Profit        1950 non-null   float64\n",
      "dtypes: float64(3), int64(1), object(8)\n",
      "memory usage: 182.9+ KB\n"
     ]
    }
   ],
   "source": [
    "data.info()"
   ]
  },
  {
   "cell_type": "markdown",
   "metadata": {
    "id": "-SxUSNIZ7HLo"
   },
   "source": [
    "- There are columns of different types in the data.\n",
    "- *Sales*, *Discount*, and *Profit* are *float* type columns.\n",
    "- *Quantity* is an *int* type column.\n",
    "- The rest of the columns are of the *object* data type."
   ]
  },
  {
   "cell_type": "markdown",
   "metadata": {
    "id": "aTFuGl-r7HLp"
   },
   "source": [
    "### **We now know how many and what type of values we are going to deal with. It's time to proceed with our analysis.**\n",
    "\n",
    "#### Summary statistics are a good place to start an analysis. Pandas provides a neat statistical summary of the data through the *describe()* function. Let's take a look at it."
   ]
  },
  {
   "cell_type": "code",
   "execution_count": 17,
   "metadata": {
    "id": "ySBn0ebv7HLp",
    "outputId": "5dc7e7d9-b397-4a9b-866a-3a5214df55de"
   },
   "outputs": [
    {
     "data": {
      "text/html": [
       "<div>\n",
       "<style scoped>\n",
       "    .dataframe tbody tr th:only-of-type {\n",
       "        vertical-align: middle;\n",
       "    }\n",
       "\n",
       "    .dataframe tbody tr th {\n",
       "        vertical-align: top;\n",
       "    }\n",
       "\n",
       "    .dataframe thead th {\n",
       "        text-align: right;\n",
       "    }\n",
       "</style>\n",
       "<table border=\"1\" class=\"dataframe\">\n",
       "  <thead>\n",
       "    <tr style=\"text-align: right;\">\n",
       "      <th></th>\n",
       "      <th>Sales</th>\n",
       "      <th>Quantity</th>\n",
       "      <th>Discount</th>\n",
       "      <th>Profit</th>\n",
       "    </tr>\n",
       "  </thead>\n",
       "  <tbody>\n",
       "    <tr>\n",
       "      <th>count</th>\n",
       "      <td>1950.000000</td>\n",
       "      <td>1950.000000</td>\n",
       "      <td>1950.000000</td>\n",
       "      <td>1950.000000</td>\n",
       "    </tr>\n",
       "    <tr>\n",
       "      <th>mean</th>\n",
       "      <td>192.301891</td>\n",
       "      <td>3.746154</td>\n",
       "      <td>0.311046</td>\n",
       "      <td>-8.701654</td>\n",
       "    </tr>\n",
       "    <tr>\n",
       "      <th>std</th>\n",
       "      <td>541.179175</td>\n",
       "      <td>2.144994</td>\n",
       "      <td>0.244929</td>\n",
       "      <td>236.981216</td>\n",
       "    </tr>\n",
       "    <tr>\n",
       "      <th>min</th>\n",
       "      <td>0.444000</td>\n",
       "      <td>1.000000</td>\n",
       "      <td>0.000000</td>\n",
       "      <td>-3701.892800</td>\n",
       "    </tr>\n",
       "    <tr>\n",
       "      <th>25%</th>\n",
       "      <td>12.624000</td>\n",
       "      <td>2.000000</td>\n",
       "      <td>0.200000</td>\n",
       "      <td>-12.434725</td>\n",
       "    </tr>\n",
       "    <tr>\n",
       "      <th>50%</th>\n",
       "      <td>41.424000</td>\n",
       "      <td>3.000000</td>\n",
       "      <td>0.200000</td>\n",
       "      <td>1.823600</td>\n",
       "    </tr>\n",
       "    <tr>\n",
       "      <th>75%</th>\n",
       "      <td>173.304000</td>\n",
       "      <td>5.000000</td>\n",
       "      <td>0.400000</td>\n",
       "      <td>10.258850</td>\n",
       "    </tr>\n",
       "    <tr>\n",
       "      <th>max</th>\n",
       "      <td>13999.960000</td>\n",
       "      <td>14.000000</td>\n",
       "      <td>0.800000</td>\n",
       "      <td>6719.980800</td>\n",
       "    </tr>\n",
       "  </tbody>\n",
       "</table>\n",
       "</div>"
      ],
      "text/plain": [
       "              Sales     Quantity     Discount       Profit\n",
       "count   1950.000000  1950.000000  1950.000000  1950.000000\n",
       "mean     192.301891     3.746154     0.311046    -8.701654\n",
       "std      541.179175     2.144994     0.244929   236.981216\n",
       "min        0.444000     1.000000     0.000000 -3701.892800\n",
       "25%       12.624000     2.000000     0.200000   -12.434725\n",
       "50%       41.424000     3.000000     0.200000     1.823600\n",
       "75%      173.304000     5.000000     0.400000    10.258850\n",
       "max    13999.960000    14.000000     0.800000  6719.980800"
      ]
     },
     "execution_count": 17,
     "metadata": {},
     "output_type": "execute_result"
    }
   ],
   "source": [
    "# this 'describe' works just for numerical data columns\n",
    "data.describe()"
   ]
  },
  {
   "cell_type": "markdown",
   "metadata": {
    "id": "tQTczVvm7HLp"
   },
   "source": [
    "- The sale amount of products varies from 0.44 to ~14000 dollars.\n",
    "- The order quantity varies from 1 to 14 units.\n",
    "- The discount on products varies from 0 to 80%.\n",
    "- The *Profit* column has negative values, indicating losses incurred."
   ]
  },
  {
   "cell_type": "markdown",
   "metadata": {
    "id": "axHv_NYg7HLq"
   },
   "source": [
    "# <font color='blue'>Question:</font>\n",
    "\n",
    "### What is the average discount offered across all orders?\n",
    "\n",
    "1. Approx. 31%\n",
    "2. Approx. 24.5%\n",
    "3. Approx. 20%\n",
    "4. Approx. 80%"
   ]
  },
  {
   "cell_type": "markdown",
   "metadata": {
    "id": "bqxnUAmN7HLp"
   },
   "source": [
    "* The above summary shows only the numerical columns.\n",
    "* Can we include the non-numerical columns too? - YES! Let's set the *include* parameter of the *describe()* function to *'all'*.\n",
    "* We will also transpose the data using the *T* attribute to make it easier to view the whole summary at once."
   ]
  },
  {
   "cell_type": "code",
   "execution_count": 26,
   "metadata": {
    "id": "_dv1-4zL7HLp",
    "outputId": "db1c2ba0-d093-4995-add7-98864b6ab30d"
   },
   "outputs": [
    {
     "data": {
      "text/html": [
       "<div>\n",
       "<style scoped>\n",
       "    .dataframe tbody tr th:only-of-type {\n",
       "        vertical-align: middle;\n",
       "    }\n",
       "\n",
       "    .dataframe tbody tr th {\n",
       "        vertical-align: top;\n",
       "    }\n",
       "\n",
       "    .dataframe thead th {\n",
       "        text-align: right;\n",
       "    }\n",
       "</style>\n",
       "<table border=\"1\" class=\"dataframe\">\n",
       "  <thead>\n",
       "    <tr style=\"text-align: right;\">\n",
       "      <th></th>\n",
       "      <th>count</th>\n",
       "      <th>unique</th>\n",
       "      <th>top</th>\n",
       "      <th>freq</th>\n",
       "      <th>mean</th>\n",
       "      <th>std</th>\n",
       "      <th>min</th>\n",
       "      <th>25%</th>\n",
       "      <th>50%</th>\n",
       "      <th>75%</th>\n",
       "      <th>max</th>\n",
       "    </tr>\n",
       "  </thead>\n",
       "  <tbody>\n",
       "    <tr>\n",
       "      <th>Order ID</th>\n",
       "      <td>1950</td>\n",
       "      <td>1950</td>\n",
       "      <td>WOWID1308</td>\n",
       "      <td>1</td>\n",
       "      <td>NaN</td>\n",
       "      <td>NaN</td>\n",
       "      <td>NaN</td>\n",
       "      <td>NaN</td>\n",
       "      <td>NaN</td>\n",
       "      <td>NaN</td>\n",
       "      <td>NaN</td>\n",
       "    </tr>\n",
       "    <tr>\n",
       "      <th>Ship Mode</th>\n",
       "      <td>1950</td>\n",
       "      <td>2</td>\n",
       "      <td>Standard Class</td>\n",
       "      <td>1562</td>\n",
       "      <td>NaN</td>\n",
       "      <td>NaN</td>\n",
       "      <td>NaN</td>\n",
       "      <td>NaN</td>\n",
       "      <td>NaN</td>\n",
       "      <td>NaN</td>\n",
       "      <td>NaN</td>\n",
       "    </tr>\n",
       "    <tr>\n",
       "      <th>Segment</th>\n",
       "      <td>1950</td>\n",
       "      <td>3</td>\n",
       "      <td>Consumer</td>\n",
       "      <td>1023</td>\n",
       "      <td>NaN</td>\n",
       "      <td>NaN</td>\n",
       "      <td>NaN</td>\n",
       "      <td>NaN</td>\n",
       "      <td>NaN</td>\n",
       "      <td>NaN</td>\n",
       "      <td>NaN</td>\n",
       "    </tr>\n",
       "    <tr>\n",
       "      <th>City</th>\n",
       "      <td>1950</td>\n",
       "      <td>105</td>\n",
       "      <td>Philadelphia</td>\n",
       "      <td>437</td>\n",
       "      <td>NaN</td>\n",
       "      <td>NaN</td>\n",
       "      <td>NaN</td>\n",
       "      <td>NaN</td>\n",
       "      <td>NaN</td>\n",
       "      <td>NaN</td>\n",
       "      <td>NaN</td>\n",
       "    </tr>\n",
       "    <tr>\n",
       "      <th>State</th>\n",
       "      <td>1950</td>\n",
       "      <td>4</td>\n",
       "      <td>Texas</td>\n",
       "      <td>746</td>\n",
       "      <td>NaN</td>\n",
       "      <td>NaN</td>\n",
       "      <td>NaN</td>\n",
       "      <td>NaN</td>\n",
       "      <td>NaN</td>\n",
       "      <td>NaN</td>\n",
       "      <td>NaN</td>\n",
       "    </tr>\n",
       "    <tr>\n",
       "      <th>Region</th>\n",
       "      <td>1950</td>\n",
       "      <td>3</td>\n",
       "      <td>Central</td>\n",
       "      <td>1108</td>\n",
       "      <td>NaN</td>\n",
       "      <td>NaN</td>\n",
       "      <td>NaN</td>\n",
       "      <td>NaN</td>\n",
       "      <td>NaN</td>\n",
       "      <td>NaN</td>\n",
       "      <td>NaN</td>\n",
       "    </tr>\n",
       "    <tr>\n",
       "      <th>Category</th>\n",
       "      <td>1950</td>\n",
       "      <td>3</td>\n",
       "      <td>Office Supplies</td>\n",
       "      <td>1200</td>\n",
       "      <td>NaN</td>\n",
       "      <td>NaN</td>\n",
       "      <td>NaN</td>\n",
       "      <td>NaN</td>\n",
       "      <td>NaN</td>\n",
       "      <td>NaN</td>\n",
       "      <td>NaN</td>\n",
       "    </tr>\n",
       "    <tr>\n",
       "      <th>Sub-Category</th>\n",
       "      <td>1950</td>\n",
       "      <td>17</td>\n",
       "      <td>Binders</td>\n",
       "      <td>342</td>\n",
       "      <td>NaN</td>\n",
       "      <td>NaN</td>\n",
       "      <td>NaN</td>\n",
       "      <td>NaN</td>\n",
       "      <td>NaN</td>\n",
       "      <td>NaN</td>\n",
       "      <td>NaN</td>\n",
       "    </tr>\n",
       "    <tr>\n",
       "      <th>Sales</th>\n",
       "      <td>1950.0</td>\n",
       "      <td>NaN</td>\n",
       "      <td>NaN</td>\n",
       "      <td>NaN</td>\n",
       "      <td>192.301891</td>\n",
       "      <td>541.179175</td>\n",
       "      <td>0.444</td>\n",
       "      <td>12.624</td>\n",
       "      <td>41.424</td>\n",
       "      <td>173.304</td>\n",
       "      <td>13999.96</td>\n",
       "    </tr>\n",
       "    <tr>\n",
       "      <th>Quantity</th>\n",
       "      <td>1950.0</td>\n",
       "      <td>NaN</td>\n",
       "      <td>NaN</td>\n",
       "      <td>NaN</td>\n",
       "      <td>3.746154</td>\n",
       "      <td>2.144994</td>\n",
       "      <td>1.0</td>\n",
       "      <td>2.0</td>\n",
       "      <td>3.0</td>\n",
       "      <td>5.0</td>\n",
       "      <td>14.0</td>\n",
       "    </tr>\n",
       "    <tr>\n",
       "      <th>Discount</th>\n",
       "      <td>1950.0</td>\n",
       "      <td>NaN</td>\n",
       "      <td>NaN</td>\n",
       "      <td>NaN</td>\n",
       "      <td>0.311046</td>\n",
       "      <td>0.244929</td>\n",
       "      <td>0.0</td>\n",
       "      <td>0.2</td>\n",
       "      <td>0.2</td>\n",
       "      <td>0.4</td>\n",
       "      <td>0.8</td>\n",
       "    </tr>\n",
       "    <tr>\n",
       "      <th>Profit</th>\n",
       "      <td>1950.0</td>\n",
       "      <td>NaN</td>\n",
       "      <td>NaN</td>\n",
       "      <td>NaN</td>\n",
       "      <td>-8.701654</td>\n",
       "      <td>236.981216</td>\n",
       "      <td>-3701.8928</td>\n",
       "      <td>-12.434725</td>\n",
       "      <td>1.8236</td>\n",
       "      <td>10.25885</td>\n",
       "      <td>6719.9808</td>\n",
       "    </tr>\n",
       "  </tbody>\n",
       "</table>\n",
       "</div>"
      ],
      "text/plain": [
       "               count unique              top  freq        mean         std  \\\n",
       "Order ID        1950   1950        WOWID1308     1         NaN         NaN   \n",
       "Ship Mode       1950      2   Standard Class  1562         NaN         NaN   \n",
       "Segment         1950      3         Consumer  1023         NaN         NaN   \n",
       "City            1950    105     Philadelphia   437         NaN         NaN   \n",
       "State           1950      4            Texas   746         NaN         NaN   \n",
       "Region          1950      3          Central  1108         NaN         NaN   \n",
       "Category        1950      3  Office Supplies  1200         NaN         NaN   \n",
       "Sub-Category    1950     17          Binders   342         NaN         NaN   \n",
       "Sales         1950.0    NaN              NaN   NaN  192.301891  541.179175   \n",
       "Quantity      1950.0    NaN              NaN   NaN    3.746154    2.144994   \n",
       "Discount      1950.0    NaN              NaN   NaN    0.311046    0.244929   \n",
       "Profit        1950.0    NaN              NaN   NaN   -8.701654  236.981216   \n",
       "\n",
       "                    min        25%     50%       75%        max  \n",
       "Order ID            NaN        NaN     NaN       NaN        NaN  \n",
       "Ship Mode           NaN        NaN     NaN       NaN        NaN  \n",
       "Segment             NaN        NaN     NaN       NaN        NaN  \n",
       "City                NaN        NaN     NaN       NaN        NaN  \n",
       "State               NaN        NaN     NaN       NaN        NaN  \n",
       "Region              NaN        NaN     NaN       NaN        NaN  \n",
       "Category            NaN        NaN     NaN       NaN        NaN  \n",
       "Sub-Category        NaN        NaN     NaN       NaN        NaN  \n",
       "Sales             0.444     12.624  41.424   173.304   13999.96  \n",
       "Quantity            1.0        2.0     3.0       5.0       14.0  \n",
       "Discount            0.0        0.2     0.2       0.4        0.8  \n",
       "Profit       -3701.8928 -12.434725  1.8236  10.25885  6719.9808  "
      ]
     },
     "execution_count": 26,
     "metadata": {},
     "output_type": "execute_result"
    }
   ],
   "source": [
    "data.describe(include=\"all\").T"
   ]
  },
  {
   "cell_type": "markdown",
   "metadata": {
    "id": "PzcBF9I67HLq"
   },
   "source": [
    "- There are two shipment modes, '*Standard Class*' being the more frequent one.\n",
    "- Orders were shipped across 3 regions, 4 states, and 105 cities. '*Philadelphia*' was the most frequent city for shipping.\n",
    "- The products are spread across 3 categories and 17 sub-categories."
   ]
  },
  {
   "cell_type": "markdown",
   "metadata": {
    "id": "XY1KLeQaceCp"
   },
   "source": [
    "# <font color='blue'>Question:</font>\n",
    "\n",
    "### How many distinct segments of customers are present in the data?\n",
    "\n",
    "1. 2\n",
    "2. 3\n",
    "3. 4\n",
    "4. 5"
   ]
  },
  {
   "cell_type": "markdown",
   "metadata": {
    "id": "9YYoYGu47HLq"
   },
   "source": [
    "### **The statistical summary was really helpful. The next step would be to analyze some of the columns individually to see if we can gain more insights.**\n",
    "\n",
    "### **We will begin with the categorical variables in the data.**"
   ]
  },
  {
   "cell_type": "markdown",
   "metadata": {
    "id": "2YCb_ekq7HLq"
   },
   "source": [
    "* Let's check the unique value in the *Category* column.\n",
    "* The Pandas *unique()* function will help us here."
   ]
  },
  {
   "cell_type": "code",
   "execution_count": 27,
   "metadata": {
    "id": "J3iw78W37HLq",
    "outputId": "88446b45-4705-46af-a133-57019e592046"
   },
   "outputs": [
    {
     "data": {
      "text/plain": [
       "array(['Office Supplies', 'Furniture', 'Technology'], dtype=object)"
      ]
     },
     "execution_count": 27,
     "metadata": {},
     "output_type": "execute_result"
    }
   ],
   "source": [
    "data[\"Category\"].unique()"
   ]
  },
  {
   "cell_type": "markdown",
   "metadata": {
    "id": "mRSWmi0E7HLr"
   },
   "source": [
    "* Let's check the number of orders corresponding to each unique value in the *Category* column.\n",
    "* The *value_counts()* function in Pandas allows us to do this."
   ]
  },
  {
   "cell_type": "code",
   "execution_count": 28,
   "metadata": {
    "id": "XVTkPcDs7HLr",
    "outputId": "87397439-791d-4c36-b359-605a65c757bf"
   },
   "outputs": [
    {
     "data": {
      "text/plain": [
       "Office Supplies    1200\n",
       "Furniture           411\n",
       "Technology          339\n",
       "Name: Category, dtype: int64"
      ]
     },
     "execution_count": 28,
     "metadata": {},
     "output_type": "execute_result"
    }
   ],
   "source": [
    "data[\"Category\"].value_counts()"
   ]
  },
  {
   "cell_type": "markdown",
   "metadata": {
    "id": "x73nZnqI7HLr"
   },
   "source": [
    "**Observations**\n",
    "\n",
    "- There are 3 categories of products.\n",
    "- Most of the orders are for products under the category *Office Supplies*."
   ]
  },
  {
   "cell_type": "markdown",
   "metadata": {
    "id": "gXWG5YnkceCr"
   },
   "source": [
    "# <font color='Blue'> Your turn to code! </font>"
   ]
  },
  {
   "cell_type": "code",
   "execution_count": 29,
   "metadata": {
    "id": "uzh3ZxYyceCr"
   },
   "outputs": [
    {
     "data": {
      "text/plain": [
       "array(['Washington', 'Texas', 'Pennsylvania', 'Illinois'], dtype=object)"
      ]
     },
     "execution_count": 29,
     "metadata": {},
     "output_type": "execute_result"
    }
   ],
   "source": [
    "### Check the number of unique values in the State column.\n",
    "data[\"State\"].unique()"
   ]
  },
  {
   "cell_type": "code",
   "execution_count": 30,
   "metadata": {
    "id": "V-rlZxa9ceCr"
   },
   "outputs": [
    {
     "data": {
      "text/plain": [
       "Texas           746\n",
       "Pennsylvania    480\n",
       "Washington      362\n",
       "Illinois        362\n",
       "Name: State, dtype: int64"
      ]
     },
     "execution_count": 30,
     "metadata": {},
     "output_type": "execute_result"
    }
   ],
   "source": [
    "### Check the number of orders corresponding to each unique value of the State column.\n",
    "data[\"State\"].value_counts() # not sure if correct?!?"
   ]
  },
  {
   "cell_type": "code",
   "execution_count": 34,
   "metadata": {},
   "outputs": [
    {
     "data": {
      "text/plain": [
       "State\n",
       "Illinois        362\n",
       "Pennsylvania    480\n",
       "Texas           746\n",
       "Washington      362\n",
       "Name: Quantity, dtype: int64"
      ]
     },
     "execution_count": 34,
     "metadata": {},
     "output_type": "execute_result"
    }
   ],
   "source": [
    "### Check the number of orders corresponding to each unique value of the State column.\n",
    "data.groupby(\"State\")[\"Quantity\"].count()"
   ]
  },
  {
   "cell_type": "markdown",
   "metadata": {
    "id": "4apCcHuvceCr"
   },
   "source": [
    "# <font color='blue'>Question:</font>\n",
    "\n",
    "### Which state were most of the orders placed from?\n",
    "\n",
    "1. Texas\n",
    "2. Pennsylvania\n",
    "3. Illinois\n",
    "4. Washington"
   ]
  },
  {
   "cell_type": "markdown",
   "metadata": {
    "id": "PMPGPFN_7HLs"
   },
   "source": [
    "### **Now let's analyze some of the numerical variables in the data.**"
   ]
  },
  {
   "cell_type": "markdown",
   "metadata": {
    "id": "PBIaLGny7HLs"
   },
   "source": [
    "* Let's check the average profit across all the orders.\n",
    "* The *mean()* function can be used for this."
   ]
  },
  {
   "cell_type": "code",
   "execution_count": 31,
   "metadata": {
    "id": "ipw7oK3u7HLs",
    "outputId": "e31dca18-bddf-445e-91e4-974caa2b1a82"
   },
   "outputs": [
    {
     "data": {
      "text/plain": [
       "-8.701654102564095"
      ]
     },
     "execution_count": 31,
     "metadata": {},
     "output_type": "execute_result"
    }
   ],
   "source": [
    "data[\"Profit\"].mean()"
   ]
  },
  {
   "cell_type": "markdown",
   "metadata": {
    "id": "N1KW6RXu7HLs"
   },
   "source": [
    "* Let's check the maximum profit across all the orders.\n",
    "* The *max()* function can be used for this."
   ]
  },
  {
   "cell_type": "code",
   "execution_count": null,
   "metadata": {
    "id": "j9aPUnoM7HLt",
    "outputId": "d89b4ffb-e7e6-4d67-980f-8294cd2c7720"
   },
   "outputs": [
    {
     "data": {
      "text/plain": [
       "6719.9808"
      ]
     },
     "execution_count": 15,
     "metadata": {
      "tags": []
     },
     "output_type": "execute_result"
    }
   ],
   "source": [
    "data[\"Profit\"].max()"
   ]
  },
  {
   "cell_type": "markdown",
   "metadata": {
    "id": "Q3x6TZ0t7HLt"
   },
   "source": [
    "* Let's check the minimum profit across all the orders.\n",
    "* The *min()* function can be used for this."
   ]
  },
  {
   "cell_type": "code",
   "execution_count": null,
   "metadata": {
    "id": "FXCjaf8R7HLt",
    "outputId": "e08110e2-30cd-43e1-d934-ca5f51127f77"
   },
   "outputs": [
    {
     "data": {
      "text/plain": [
       "-3701.8928"
      ]
     },
     "execution_count": 16,
     "metadata": {
      "tags": []
     },
     "output_type": "execute_result"
    }
   ],
   "source": [
    "data[\"Profit\"].min()"
   ]
  },
  {
   "cell_type": "markdown",
   "metadata": {
    "id": "edMzSkso7HLt"
   },
   "source": [
    "**Observations**\n",
    "\n",
    "* On an average, the orders have resulted in a loss of 8.7 dollars to the superstore.\n",
    "* The maximum profit made was ~6720 dollars, while the maximum loss incurred was ~3700 dollars."
   ]
  },
  {
   "cell_type": "markdown",
   "metadata": {
    "id": "liJiQcKz7HLt"
   },
   "source": [
    "### **That gives us an overall idea of how the superstore is performing in financial terms. Let's dig a little deeper now.**"
   ]
  },
  {
   "cell_type": "markdown",
   "metadata": {
    "id": "WW3JFiDJ7HLt"
   },
   "source": [
    "* Let's check the average profit across the different product categories and different states.\n",
    "* To do so, we will have to first group the data with respect to a particular variable and then check the average profit.\n",
    "* The *groupby()* function in Pandas will help us group the data with respect to a particular variable."
   ]
  },
  {
   "cell_type": "code",
   "execution_count": 32,
   "metadata": {
    "id": "LMbtZBPP7HLt",
    "outputId": "04a928f9-6ecc-4e1d-d451-f5ce4c6d7459"
   },
   "outputs": [
    {
     "data": {
      "text/plain": [
       "Category\n",
       "Furniture         -35.104347\n",
       "Office Supplies   -15.013882\n",
       "Technology         45.652861\n",
       "Name: Profit, dtype: float64"
      ]
     },
     "execution_count": 32,
     "metadata": {},
     "output_type": "execute_result"
    }
   ],
   "source": [
    "# checking the average profit across the different product categories\n",
    "data.groupby(\"Category\")[\"Profit\"].mean()"
   ]
  },
  {
   "cell_type": "markdown",
   "metadata": {
    "id": "tQ-uiGPu7HLt"
   },
   "source": [
    "* Products under the *Furniture* category result in more losses on average, while products under the *Technology* category result in more profits on average."
   ]
  },
  {
   "cell_type": "code",
   "execution_count": 38,
   "metadata": {
    "id": "QAYeQs_37HLu",
    "outputId": "59b0657d-20d3-4784-c89d-94f8561ff561"
   },
   "outputs": [
    {
     "data": {
      "text/plain": [
       "State\n",
       "Washington      73.147109\n",
       "Pennsylvania   -22.256420\n",
       "Texas          -29.389154\n",
       "Illinois       -29.944996\n",
       "Name: Profit, dtype: float64"
      ]
     },
     "execution_count": 38,
     "metadata": {},
     "output_type": "execute_result"
    }
   ],
   "source": [
    "# checking the average profit across the different states\n",
    "data.groupby(\"State\")[\"Profit\"].mean().sort_values(ascending=False)"
   ]
  },
  {
   "cell_type": "markdown",
   "metadata": {
    "id": "LpEdxl6c7HLu"
   },
   "source": [
    "* Here we also sorted the data in descending order of values using the *sort_values()* function.\n",
    "* Orders placed from the state of Washington result in more profits on average, while those placed from the state of Illinois result in more losses on average."
   ]
  },
  {
   "cell_type": "markdown",
   "metadata": {
    "id": "Nouny2ef7HLv"
   },
   "source": [
    "### **We can communicate our insights in a clearer and more visually appealing manner with visualizations instead of numbers.**"
   ]
  },
  {
   "cell_type": "markdown",
   "metadata": {
    "id": "j-M3rTMv7HLv"
   },
   "source": [
    "* Pair plots are a very informative type of visualization for numerical variables.\n",
    "* Let's see what insights we can get from it."
   ]
  },
  {
   "cell_type": "code",
   "execution_count": 47,
   "metadata": {},
   "outputs": [
    {
     "name": "stdout",
     "output_type": "stream",
     "text": [
      "Data Science from Great Learning\n"
     ]
    }
   ],
   "source": [
    "a = 'Data'\n",
    "b = 'Great'\n",
    "c = 'Science'\n",
    "d = 'Learning'\n",
    "e = 'from'\n",
    "print(a,c,e,b,d)"
   ]
  },
  {
   "cell_type": "code",
   "execution_count": 49,
   "metadata": {
    "id": "JXaos86c7HLv",
    "outputId": "109ec9dd-daf6-4cf2-efd1-6ae416d8d789"
   },
   "outputs": [
    {
     "data": {
      "text/plain": [
       "<seaborn.axisgrid.PairGrid at 0x1257c8e05b0>"
      ]
     },
     "execution_count": 49,
     "metadata": {},
     "output_type": "execute_result"
    },
    {
     "data": {
      "image/png": "[encoded data removed]",
      "text/plain": [
       "<Figure size 792.375x720 with 20 Axes>"
      ]
     },
     "metadata": {
      "needs_background": "light"
     },
     "output_type": "display_data"
    }
   ],
   "source": [
    "# list of numerical columns in the data\n",
    "numerical_columns = [\"Sales\", \"Quantity\", \"Discount\", \"Profit\"]\n",
    "\n",
    "sns.pairplot(data=data, vars=numerical_columns, diag_kind=\"kde\", hue=\"Region\")"
   ]
  },
  {
   "cell_type": "markdown",
   "metadata": {
    "id": "F8_Tr-K67HLv"
   },
   "source": [
    "* We can see that a lot of orders are clustered between a profit or loss of 1000 dollars.\n",
    "* We can see that the distribution of the variables is similar for both shipment modes, but the number of orders are more for *Standard Class* shipping.\n",
    "* We had seen that the maximum profit made was ~6720 dollars, and the above plot shows that the order was shipped under *First Class*."
   ]
  },
  {
   "cell_type": "markdown",
   "metadata": {
    "id": "1fZGUSMZ7HLv"
   },
   "source": [
    "# <font color='blue'>Question:</font>\n",
    "\n",
    "### We had seen that the maximum loss incurred was ~3700 dollars. Which shipping mode does that order correspond to?\n",
    "\n",
    "1. Standard Class\n",
    "2. First Class"
   ]
  },
  {
   "cell_type": "markdown",
   "metadata": {
    "id": "tV9Du7yF1iOa"
   },
   "source": [
    "## Summary\n",
    "**Data description**\n",
    "* The dataset has **1950 observations and 12 columns.**\n",
    "* Sales, Discount, Profit, and Quantity are numerical columns while the rest are of the object datatype.\n",
    "\n",
    "**Insights from data exploration**\n",
    "* The sale amount of products varies from 0.44 to ~14000 dollars.\n",
    "* The minimum discount offered by the Superstore is 0% while the maximum is 80%.\n",
    "* The Profit column has negative values, indicating losses incurred.\n",
    "* 'Standard Class' is the most frequent mode of shipment and 'Philadelphia' is the most frequent city for shipping.\n",
    "* The products are spread across 3 categories and 17 sub-categories.\n",
    "* The orders are spread over 4 states and most of the orders are placed from the state of Texas.\n",
    "* Products under the Furniture category result in more losses on average, while Technology products tend to result in more profits.\n",
    "* Orders placed from the state of Washington result in more profits on average, while those placed from Illinois result in more losses."
   ]
  },
  {
   "cell_type": "code",
   "execution_count": 4,
   "metadata": {},
   "outputs": [
    {
     "data": {
      "text/plain": [
       "(True, True, True)"
      ]
     },
     "execution_count": 4,
     "metadata": {},
     "output_type": "execute_result"
    }
   ],
   "source": [
    "27/2==13.5, 27%2==1, 27//2==13"
   ]
  },
  {
   "cell_type": "code",
   "execution_count": 7,
   "metadata": {},
   "outputs": [
    {
     "data": {
      "text/plain": [
       "True"
      ]
     },
     "execution_count": 7,
     "metadata": {},
     "output_type": "execute_result"
    }
   ],
   "source": [
    "(4/2 !=2) == False"
   ]
  },
  {
   "cell_type": "code",
   "execution_count": 8,
   "metadata": {},
   "outputs": [
    {
     "data": {
      "text/plain": [
       "2"
      ]
     },
     "execution_count": 8,
     "metadata": {},
     "output_type": "execute_result"
    }
   ],
   "source": [
    "A,B,C,D = 21,8,20,5\n",
    "( A % B ) + ( C // B ) - D"
   ]
  },
  {
   "cell_type": "code",
   "execution_count": 9,
   "metadata": {},
   "outputs": [
    {
     "ename": "ValueError",
     "evalue": "not enough values to unpack (expected 3, got 2)",
     "output_type": "error",
     "traceback": [
      "\u001b[1;31m---------------------------------------------------------------------------\u001b[0m",
      "\u001b[1;31mValueError\u001b[0m                                Traceback (most recent call last)",
      "\u001b[1;32m<ipython-input-9-29547587a7ef>\u001b[0m in \u001b[0;36m<module>\u001b[1;34m\u001b[0m\n\u001b[1;32m----> 1\u001b[1;33m \u001b[0ma\u001b[0m\u001b[1;33m,\u001b[0m \u001b[0mb\u001b[0m\u001b[1;33m,\u001b[0m \u001b[0mc\u001b[0m \u001b[1;33m=\u001b[0m \u001b[1;36m1\u001b[0m\u001b[1;33m,\u001b[0m \u001b[1;36m3\u001b[0m\u001b[1;33m\u001b[0m\u001b[1;33m\u001b[0m\u001b[0m\n\u001b[0m\u001b[0;32m      2\u001b[0m \u001b[1;33m\u001b[0m\u001b[0m\n\u001b[0;32m      3\u001b[0m \u001b[0mprint\u001b[0m\u001b[1;33m(\u001b[0m\u001b[0mb\u001b[0m\u001b[1;33m)\u001b[0m\u001b[1;33m\u001b[0m\u001b[1;33m\u001b[0m\u001b[0m\n",
      "\u001b[1;31mValueError\u001b[0m: not enough values to unpack (expected 3, got 2)"
     ]
    }
   ],
   "source": [
    "a, b, c = 1, 3\n",
    "\n",
    "print(b)"
   ]
  },
  {
   "cell_type": "code",
   "execution_count": 10,
   "metadata": {},
   "outputs": [
    {
     "name": "stdout",
     "output_type": "stream",
     "text": [
      "10\n"
     ]
    }
   ],
   "source": [
    "i = 5\n",
    "i += 5\n",
    "print(i)"
   ]
  },
  {
   "cell_type": "code",
   "execution_count": 11,
   "metadata": {},
   "outputs": [
    {
     "data": {
      "text/plain": [
       "False"
      ]
     },
     "execution_count": 11,
     "metadata": {},
     "output_type": "execute_result"
    }
   ],
   "source": [
    "3%2 > 1 and 4/2 ==2"
   ]
  },
  {
   "cell_type": "code",
   "execution_count": 12,
   "metadata": {},
   "outputs": [
    {
     "data": {
      "text/plain": [
       "False"
      ]
     },
     "execution_count": 12,
     "metadata": {},
     "output_type": "execute_result"
    }
   ],
   "source": [
    "5%2 > 1 or 4/2 !=2"
   ]
  },
  {
   "cell_type": "code",
   "execution_count": 14,
   "metadata": {},
   "outputs": [
    {
     "data": {
      "text/plain": [
       "0"
      ]
     },
     "execution_count": 14,
     "metadata": {},
     "output_type": "execute_result"
    }
   ],
   "source": [
    "D = [0 , 1 , 2 , 3 , 0 , 1 , 2 , 3 , 4]\n",
    "D[D[D[0]]]"
   ]
  },
  {
   "cell_type": "code",
   "execution_count": 19,
   "metadata": {},
   "outputs": [
    {
     "name": "stdout",
     "output_type": "stream",
     "text": [
      "[0, 0, 1, 1, 2, 2, 3, 0, 1]\n"
     ]
    }
   ],
   "source": [
    "D = [0 , 1 , 2 , 3 , 0 , 1 , 2 , 3 , 4]\n",
    "print(D[0:1]+D[:2]+D[1:3]+D[2:4]+D[-5:-3])"
   ]
  },
  {
   "cell_type": "code",
   "execution_count": 20,
   "metadata": {},
   "outputs": [
    {
     "name": "stdout",
     "output_type": "stream",
     "text": [
      "[0, 1, 2, 3, 4, 'a', 'b', 'c', 'd', 'e']\n"
     ]
    }
   ],
   "source": [
    "a='abcde'\n",
    "b = list(a)\n",
    "c = list(range(len(a)))\n",
    "c.extend(b)\n",
    "print(c)"
   ]
  },
  {
   "cell_type": "code",
   "execution_count": 21,
   "metadata": {},
   "outputs": [
    {
     "name": "stdout",
     "output_type": "stream",
     "text": [
      "[0, 1, 2, 3, 4, ['a', 'b', 'c', 'd', 'e']]\n"
     ]
    }
   ],
   "source": [
    "a='abcde'\n",
    "b = list(a)\n",
    "c = list(range(len(a)))\n",
    "c.append(b)\n",
    "print(c)"
   ]
  },
  {
   "cell_type": "code",
   "execution_count": 24,
   "metadata": {},
   "outputs": [
    {
     "ename": "TypeError",
     "evalue": "'int' object is not iterable",
     "output_type": "error",
     "traceback": [
      "\u001b[1;31m---------------------------------------------------------------------------\u001b[0m",
      "\u001b[1;31mTypeError\u001b[0m                                 Traceback (most recent call last)",
      "\u001b[1;32m<ipython-input-24-4ebe8d92ddc9>\u001b[0m in \u001b[0;36m<module>\u001b[1;34m\u001b[0m\n\u001b[0;32m      2\u001b[0m \u001b[0mb\u001b[0m \u001b[1;33m=\u001b[0m \u001b[1;33m[\u001b[0m\u001b[1;34m'c'\u001b[0m\u001b[1;33m,\u001b[0m\u001b[1;34m'd'\u001b[0m\u001b[1;33m]\u001b[0m\u001b[1;33m\u001b[0m\u001b[1;33m\u001b[0m\u001b[0m\n\u001b[0;32m      3\u001b[0m \u001b[0mc\u001b[0m \u001b[1;33m=\u001b[0m \u001b[1;36m13\u001b[0m\u001b[1;33m\u001b[0m\u001b[1;33m\u001b[0m\u001b[0m\n\u001b[1;32m----> 4\u001b[1;33m \u001b[0md\u001b[0m \u001b[1;33m=\u001b[0m \u001b[0mlist\u001b[0m\u001b[1;33m(\u001b[0m\u001b[0mc\u001b[0m\u001b[1;33m)\u001b[0m\u001b[1;33m\u001b[0m\u001b[1;33m\u001b[0m\u001b[0m\n\u001b[0m\u001b[0;32m      5\u001b[0m \u001b[1;33m\u001b[0m\u001b[0m\n\u001b[0;32m      6\u001b[0m \u001b[0ma\u001b[0m\u001b[1;33m+\u001b[0m\u001b[0mb\u001b[0m\u001b[1;33m+\u001b[0m\u001b[0mc\u001b[0m\u001b[1;33m\u001b[0m\u001b[1;33m\u001b[0m\u001b[0m\n",
      "\u001b[1;31mTypeError\u001b[0m: 'int' object is not iterable"
     ]
    }
   ],
   "source": [
    "a = ['a','b']\n",
    "b = ['c','d']\n",
    "c = 13\n",
    "d = list(c)\n",
    "\n",
    "a+b+c"
   ]
  },
  {
   "cell_type": "code",
   "execution_count": 25,
   "metadata": {},
   "outputs": [
    {
     "data": {
      "text/plain": [
       "5"
      ]
     },
     "execution_count": 25,
     "metadata": {},
     "output_type": "execute_result"
    }
   ],
   "source": [
    "A= (1,2,3,4,5)\n",
    "A[-1]\n"
   ]
  },
  {
   "cell_type": "code",
   "execution_count": 27,
   "metadata": {},
   "outputs": [
    {
     "data": {
      "text/plain": [
       "4"
      ]
     },
     "execution_count": 27,
     "metadata": {},
     "output_type": "execute_result"
    }
   ],
   "source": [
    "X= (1,2,3,4,5)\n",
    "X[-2]"
   ]
  },
  {
   "cell_type": "code",
   "execution_count": 31,
   "metadata": {},
   "outputs": [
    {
     "name": "stdout",
     "output_type": "stream",
     "text": [
      "1\n",
      "e\n"
     ]
    }
   ],
   "source": [
    "#Tuple methods\n",
    "letters = ('a', 'b', 'c', 'd', 'e')\n",
    "index = letters.index('b')\n",
    "print(index)\n",
    "print(letters[len(letters) - index])"
   ]
  },
  {
   "cell_type": "code",
   "execution_count": 32,
   "metadata": {},
   "outputs": [
    {
     "name": "stdout",
     "output_type": "stream",
     "text": [
      "b\n"
     ]
    }
   ],
   "source": [
    "letters = ('a', 'b', 'c', 'd', 'e')\n",
    "index = letters.count('e')\n",
    "print(letters[index])"
   ]
  },
  {
   "cell_type": "code",
   "execution_count": 33,
   "metadata": {},
   "outputs": [
    {
     "name": "stdout",
     "output_type": "stream",
     "text": [
      "{0: [], 1: [1], 2: [2, 2], 3: [3, 3, 3]}\n"
     ]
    }
   ],
   "source": [
    "Dict = { 0 : [], 1 : [1], 2: [2, 2], 3: [3, 3, 3]}\n",
    "\n",
    "print(Dict)"
   ]
  },
  {
   "cell_type": "code",
   "execution_count": 36,
   "metadata": {},
   "outputs": [
    {
     "name": "stdout",
     "output_type": "stream",
     "text": [
      "A2\n"
     ]
    }
   ],
   "source": [
    "Dict = {'A1': 'A1','A2': 'A2','A3': {'A1': 'A1','A2': 'A2','A3': 'A3'}}\n",
    "print(Dict['A2'])"
   ]
  },
  {
   "cell_type": "code",
   "execution_count": 41,
   "metadata": {},
   "outputs": [
    {
     "name": "stdout",
     "output_type": "stream",
     "text": [
      "A2\n"
     ]
    }
   ],
   "source": [
    "Dict = {'A1': 'A1','A2': 'A2','A3': {'A1': 'A1','A2': 'A2','A3': 'A3'}}\n",
    "print(Dict['A3']['A2'])"
   ]
  },
  {
   "cell_type": "code",
   "execution_count": 43,
   "metadata": {},
   "outputs": [
    {
     "name": "stdout",
     "output_type": "stream",
     "text": [
      "{'Name': 'John', 'Sex': 'Male', 'Age': 25}\n",
      "{'Name': 'John', 'Sex': 'Male', 'Age': 50}\n"
     ]
    }
   ],
   "source": [
    "dict = {\n",
    " \"Name\": \"John\",\n",
    " \"Sex\": \"Male\",\n",
    " \"Age\": 25\n",
    "}\n",
    "print(dict)\n",
    "\n",
    "dict[\"Age\"] = 50\n",
    "print(dict)"
   ]
  },
  {
   "cell_type": "code",
   "execution_count": 44,
   "metadata": {},
   "outputs": [
    {
     "name": "stdout",
     "output_type": "stream",
     "text": [
      "{1: [1], 2: [2, 2, 2], 3: {3: [3, 3, 3, 3]}}\n",
      "{1: [1], 2: [2, 2, 2], 3: {3: [3, 3, 3, 2]}}\n"
     ]
    }
   ],
   "source": [
    "Dict = { 1 : [1], 2: [2, 2, 2], 3: {3 :[3, 3, 3, 3]}}\n",
    "print(Dict)\n",
    "Dict[3][3][3] = 2\n",
    "print(Dict)"
   ]
  },
  {
   "cell_type": "code",
   "execution_count": 45,
   "metadata": {},
   "outputs": [
    {
     "name": "stdout",
     "output_type": "stream",
     "text": [
      "{}\n",
      "{}\n"
     ]
    }
   ],
   "source": [
    "A={}\n",
    "A1 = A\n",
    "print(A1)\n",
    "A.update(A1)\n",
    "print(A)"
   ]
  },
  {
   "cell_type": "code",
   "execution_count": 46,
   "metadata": {},
   "outputs": [
    {
     "data": {
      "text/plain": [
       "['A', 'B', 'C']"
      ]
     },
     "execution_count": 46,
     "metadata": {},
     "output_type": "execute_result"
    }
   ],
   "source": [
    "A={'A':1,'C':2,'B':3}\n",
    "sorted(A)"
   ]
  },
  {
   "cell_type": "code",
   "execution_count": 57,
   "metadata": {},
   "outputs": [
    {
     "name": "stdout",
     "output_type": "stream",
     "text": [
      "{'B': 2, 'C': 3}\n"
     ]
    }
   ],
   "source": [
    "A={'A':1,'B':2,'C':3}\n",
    "B=A\n",
    "del B['A']\n",
    "print(A)"
   ]
  },
  {
   "cell_type": "code",
   "execution_count": 62,
   "metadata": {},
   "outputs": [
    {
     "name": "stdout",
     "output_type": "stream",
     "text": [
      "[{'a'}, {'b'}, {'c'}]\n"
     ]
    }
   ],
   "source": [
    "#Introduction to Sets\n",
    "A ='a'\n",
    "B ='b'\n",
    "C= 'c'\n",
    "\n",
    "output = [set(A),set(B),set(C)]\n",
    "print(output)"
   ]
  },
  {
   "cell_type": "code",
   "execution_count": 63,
   "metadata": {},
   "outputs": [
    {
     "name": "stdout",
     "output_type": "stream",
     "text": [
      "[1, 2, 3, 3, 4, 5, 2]\n"
     ]
    }
   ],
   "source": [
    "sets=[1,2,3,3,4,5,2]\n",
    "print(sets)"
   ]
  },
  {
   "cell_type": "code",
   "execution_count": 64,
   "metadata": {},
   "outputs": [
    {
     "name": "stdout",
     "output_type": "stream",
     "text": [
      "{1, 2, 3, 4, 5}\n"
     ]
    }
   ],
   "source": [
    "sets={1,2,3,3,4,5,2}\n",
    "print(sets)"
   ]
  },
  {
   "cell_type": "code",
   "execution_count": 65,
   "metadata": {},
   "outputs": [
    {
     "name": "stdout",
     "output_type": "stream",
     "text": [
      "True\n"
     ]
    }
   ],
   "source": [
    "A = (3,4,5)\n",
    "if A[1] == 8/2:\n",
    "    print('True')\n",
    "else:\n",
    "    print('False')"
   ]
  },
  {
   "cell_type": "code",
   "execution_count": 66,
   "metadata": {},
   "outputs": [
    {
     "name": "stdout",
     "output_type": "stream",
     "text": [
      "The sum is 20\n"
     ]
    }
   ],
   "source": [
    "numbers=[2,3,4,5,6]\n",
    "sum=0\n",
    "\n",
    "for i in numbers:\n",
    "    sum=sum+i\n",
    "    \n",
    "print (\"The sum is\", sum)"
   ]
  },
  {
   "cell_type": "code",
   "execution_count": 68,
   "metadata": {},
   "outputs": [
    {
     "name": "stdout",
     "output_type": "stream",
     "text": [
      "The sume of first 9 integers: 45\n"
     ]
    }
   ],
   "source": [
    "a=0\n",
    "b=0\n",
    "\n",
    "while (a<10):\n",
    "    b=b+a\n",
    "    a=a+1\n",
    "else:\n",
    "    print(\"The sume of first 9 integers:\", b)"
   ]
  },
  {
   "cell_type": "code",
   "execution_count": 69,
   "metadata": {},
   "outputs": [
    {
     "name": "stdout",
     "output_type": "stream",
     "text": [
      "\n",
      "B\n",
      "CC\n",
      "DDD\n",
      "EEEE\n",
      "FFFFF\n",
      "GGGGGG\n"
     ]
    }
   ],
   "source": [
    "A = 'ABCDEFG'\n",
    "\n",
    "for i in range(len(A)):\n",
    "    print(A[i]*i)"
   ]
  },
  {
   "cell_type": "code",
   "execution_count": 70,
   "metadata": {},
   "outputs": [
    {
     "name": "stdout",
     "output_type": "stream",
     "text": [
      "00\n",
      "11\n",
      "22\n",
      "33\n",
      "44\n",
      "55\n",
      "66\n"
     ]
    }
   ],
   "source": [
    "A = 'ABCDEFG'\n",
    "\n",
    "for i in range(len(A)):\n",
    "    print(str(i)*2)"
   ]
  },
  {
   "cell_type": "code",
   "execution_count": 72,
   "metadata": {},
   "outputs": [
    {
     "name": "stdout",
     "output_type": "stream",
     "text": [
      "1222324252728292102"
     ]
    }
   ],
   "source": [
    "for i in range (1,11):\n",
    "    if i == 6:\n",
    "        continue\n",
    "    else:\n",
    "        print(i, end = \"2\")"
   ]
  },
  {
   "cell_type": "code",
   "execution_count": 73,
   "metadata": {},
   "outputs": [
    {
     "name": "stdout",
     "output_type": "stream",
     "text": [
      "0\n"
     ]
    }
   ],
   "source": [
    "A = 'abcde'\n",
    "\n",
    "for i in range(len(A)):\n",
    "    if i%2==0:\n",
    "        print(i)\n",
    "    else:\n",
    "        break"
   ]
  },
  {
   "cell_type": "code",
   "execution_count": 74,
   "metadata": {},
   "outputs": [
    {
     "name": "stdout",
     "output_type": "stream",
     "text": [
      "0\n"
     ]
    }
   ],
   "source": [
    "A = '0123'\n",
    "\n",
    "for i in range(len(A)):\n",
    "    if i%2==0:\n",
    "        print(A[i])\n",
    "    else:\n",
    "        break"
   ]
  },
  {
   "cell_type": "code",
   "execution_count": 75,
   "metadata": {},
   "outputs": [
    {
     "ename": "SyntaxError",
     "evalue": "invalid syntax (<ipython-input-75-063e534678ed>, line 1)",
     "output_type": "error",
     "traceback": [
      "\u001b[1;36m  File \u001b[1;32m\"<ipython-input-75-063e534678ed>\"\u001b[1;36m, line \u001b[1;32m1\u001b[0m\n\u001b[1;33m    print(Intro to Python)\u001b[0m\n\u001b[1;37m                ^\u001b[0m\n\u001b[1;31mSyntaxError\u001b[0m\u001b[1;31m:\u001b[0m invalid syntax\n"
     ]
    }
   ],
   "source": [
    "print(Intro to Python)"
   ]
  },
  {
   "cell_type": "code",
   "execution_count": 76,
   "metadata": {},
   "outputs": [
    {
     "name": "stdout",
     "output_type": "stream",
     "text": [
      "Intro to Python\n"
     ]
    }
   ],
   "source": [
    "print(\"Intro to Python\")"
   ]
  },
  {
   "cell_type": "code",
   "execution_count": 77,
   "metadata": {},
   "outputs": [
    {
     "ename": "NameError",
     "evalue": "name 'Print' is not defined",
     "output_type": "error",
     "traceback": [
      "\u001b[1;31m---------------------------------------------------------------------------\u001b[0m",
      "\u001b[1;31mNameError\u001b[0m                                 Traceback (most recent call last)",
      "\u001b[1;32m<ipython-input-77-d7a4de693c8c>\u001b[0m in \u001b[0;36m<module>\u001b[1;34m\u001b[0m\n\u001b[1;32m----> 1\u001b[1;33m \u001b[0mPrint\u001b[0m\u001b[1;33m(\u001b[0m\u001b[1;34m\"Intro to Python\"\u001b[0m\u001b[1;33m)\u001b[0m\u001b[1;33m\u001b[0m\u001b[1;33m\u001b[0m\u001b[0m\n\u001b[0m",
      "\u001b[1;31mNameError\u001b[0m: name 'Print' is not defined"
     ]
    }
   ],
   "source": [
    "Print(\"Intro to Python\")"
   ]
  },
  {
   "cell_type": "code",
   "execution_count": 78,
   "metadata": {},
   "outputs": [
    {
     "name": "stdout",
     "output_type": "stream",
     "text": [
      "Intro to Python\n"
     ]
    }
   ],
   "source": [
    "print(\"Intro to\", \"Python\")"
   ]
  },
  {
   "cell_type": "code",
   "execution_count": 79,
   "metadata": {},
   "outputs": [
    {
     "name": "stdout",
     "output_type": "stream",
     "text": [
      "5\n"
     ]
    }
   ],
   "source": [
    "print(2 + 3)"
   ]
  },
  {
   "cell_type": "code",
   "execution_count": 80,
   "metadata": {},
   "outputs": [
    {
     "name": "stdout",
     "output_type": "stream",
     "text": [
      "25\n"
     ]
    }
   ],
   "source": [
    "print(5 * 5)"
   ]
  },
  {
   "cell_type": "code",
   "execution_count": 81,
   "metadata": {},
   "outputs": [
    {
     "ename": "NameError",
     "evalue": "name 'Print' is not defined",
     "output_type": "error",
     "traceback": [
      "\u001b[1;31m---------------------------------------------------------------------------\u001b[0m",
      "\u001b[1;31mNameError\u001b[0m                                 Traceback (most recent call last)",
      "\u001b[1;32m<ipython-input-81-2a87a712785b>\u001b[0m in \u001b[0;36m<module>\u001b[1;34m\u001b[0m\n\u001b[1;32m----> 1\u001b[1;33m \u001b[0mPrint\u001b[0m\u001b[1;33m(\u001b[0m\u001b[1;36m10\u001b[0m \u001b[1;33m-\u001b[0m \u001b[1;36m10\u001b[0m\u001b[1;33m)\u001b[0m\u001b[1;33m\u001b[0m\u001b[1;33m\u001b[0m\u001b[0m\n\u001b[0m",
      "\u001b[1;31mNameError\u001b[0m: name 'Print' is not defined"
     ]
    }
   ],
   "source": [
    "Print(10 - 10)"
   ]
  },
  {
   "cell_type": "code",
   "execution_count": 82,
   "metadata": {},
   "outputs": [
    {
     "name": "stdout",
     "output_type": "stream",
     "text": [
      "75.0\n"
     ]
    }
   ],
   "source": [
    "print((10 / 2) * (3 + 2) * (1 + 2))"
   ]
  },
  {
   "cell_type": "code",
   "execution_count": 84,
   "metadata": {},
   "outputs": [
    {
     "name": "stdout",
     "output_type": "stream",
     "text": [
      "3 3\n"
     ]
    }
   ],
   "source": [
    "print(1 + 2, \"3\")"
   ]
  },
  {
   "cell_type": "code",
   "execution_count": 85,
   "metadata": {},
   "outputs": [
    {
     "name": "stdout",
     "output_type": "stream",
     "text": [
      "Jack\n",
      "Summer\n",
      "June\n"
     ]
    }
   ],
   "source": [
    "name_age = {'Jack':20, 'Summer':25, 'June':30}\n",
    "for i in name_age:\n",
    " print(i)"
   ]
  },
  {
   "cell_type": "code",
   "execution_count": 86,
   "metadata": {},
   "outputs": [
    {
     "data": {
      "text/plain": [
       "['Summer']"
      ]
     },
     "execution_count": 86,
     "metadata": {},
     "output_type": "execute_result"
    }
   ],
   "source": [
    "name = ['John', 'Nick', 'Summer', 'June']\n",
    "name[2:3]"
   ]
  },
  {
   "cell_type": "code",
   "execution_count": 87,
   "metadata": {},
   "outputs": [
    {
     "ename": "TypeError",
     "evalue": "'tuple' object doesn't support item deletion",
     "output_type": "error",
     "traceback": [
      "\u001b[1;31m---------------------------------------------------------------------------\u001b[0m",
      "\u001b[1;31mTypeError\u001b[0m                                 Traceback (most recent call last)",
      "\u001b[1;32m<ipython-input-87-000f21d7d46d>\u001b[0m in \u001b[0;36m<module>\u001b[1;34m\u001b[0m\n\u001b[0;32m      1\u001b[0m \u001b[0mtup\u001b[0m \u001b[1;33m=\u001b[0m \u001b[1;33m(\u001b[0m\u001b[1;34m'Jack'\u001b[0m\u001b[1;33m,\u001b[0m \u001b[1;34m'June'\u001b[0m\u001b[1;33m,\u001b[0m \u001b[1;34m'Nick'\u001b[0m\u001b[1;33m,\u001b[0m \u001b[1;34m'Summer'\u001b[0m\u001b[1;33m)\u001b[0m\u001b[1;33m\u001b[0m\u001b[1;33m\u001b[0m\u001b[0m\n\u001b[1;32m----> 2\u001b[1;33m \u001b[1;32mdel\u001b[0m \u001b[0mtup\u001b[0m\u001b[1;33m[\u001b[0m\u001b[1;36m0\u001b[0m\u001b[1;33m]\u001b[0m\u001b[1;33m\u001b[0m\u001b[1;33m\u001b[0m\u001b[0m\n\u001b[0m",
      "\u001b[1;31mTypeError\u001b[0m: 'tuple' object doesn't support item deletion"
     ]
    }
   ],
   "source": [
    "tup = ('Jack', 'June', 'Nick', 'Summer')\n",
    "del tup[0]"
   ]
  },
  {
   "cell_type": "code",
   "execution_count": 111,
   "metadata": {},
   "outputs": [
    {
     "name": "stdout",
     "output_type": "stream",
     "text": [
      "   Col1  Col2\n",
      "0     1     2\n",
      "1     3     4\n"
     ]
    }
   ],
   "source": [
    "# Load the Pandas library with alias 'pd' - to import and analyze tabular data\n",
    "import pandas as pd\n",
    "import seaborn as sns\n",
    "import numpy as np\n",
    "\n",
    "data = [[1,2],[3,4]] #a nested list (a list containing 2 lists) \n",
    "df = pd.DataFrame([[1,2],[3,4]], columns=['Col1','Col2'])\n",
    "print(df)"
   ]
  },
  {
   "cell_type": "code",
   "execution_count": 98,
   "metadata": {},
   "outputs": [
    {
     "data": {
      "text/plain": [
       "2"
      ]
     },
     "execution_count": 98,
     "metadata": {},
     "output_type": "execute_result"
    }
   ],
   "source": [
    "df['Col2'] #will return all values in Col2\n",
    "df['Col2'][0] #will return the value at index 0 of Col2 \n",
    "#Using iloc in DataFrame to access values\n",
    "df.iloc[0,1] #will return the value 2"
   ]
  },
  {
   "cell_type": "code",
   "execution_count": 105,
   "metadata": {},
   "outputs": [
    {
     "data": {
      "text/plain": [
       "Col1    3\n",
       "Col2    4\n",
       "Name: 1, dtype: int64"
      ]
     },
     "execution_count": 105,
     "metadata": {},
     "output_type": "execute_result"
    }
   ],
   "source": [
    "#df.iloc[:,1] #will give all rows of Col2\n",
    "#df.iloc[:,:] #will give all rows and columns \n",
    "df.iloc[1,:] #will give all columns and second row"
   ]
  },
  {
   "cell_type": "code",
   "execution_count": 109,
   "metadata": {},
   "outputs": [
    {
     "name": "stdout",
     "output_type": "stream",
     "text": [
      "The DataFrame object before deleting the column\n",
      "   a  b\n",
      "0  1  2\n",
      "1  2  4\n",
      "2  3  6\n",
      "The DataFrame object after deleting the column a\n",
      "   b\n",
      "0  2\n",
      "1  4\n",
      "2  6\n"
     ]
    }
   ],
   "source": [
    "# Create a dataframe from a dict\n",
    "df = pd.DataFrame({\"a\": [1,2,3], \"b\":[2,4,6]})\n",
    "print(\"The DataFrame object before deleting the column\")\n",
    "print(df)\n",
    "df.drop('a', inplace=True, axis=1)\n",
    "print(\"The DataFrame object after deleting the column a\")\n",
    "print(df)"
   ]
  },
  {
   "cell_type": "code",
   "execution_count": 126,
   "metadata": {},
   "outputs": [
    {
     "name": "stdout",
     "output_type": "stream",
     "text": [
      "[[ 2  3  4  5]\n",
      " [ 7  8  9 10]]\n"
     ]
    }
   ],
   "source": [
    "arr = np.array([[1, 2, 3, 4, 5], [6, 7, 8, 9, 10]])\n",
    "print(arr[0:2, 1:5])"
   ]
  },
  {
   "cell_type": "code",
   "execution_count": 130,
   "metadata": {},
   "outputs": [
    {
     "data": {
      "text/plain": [
       "array([10.        , 13.33333333, 16.66666667, 20.        ])"
      ]
     },
     "execution_count": 130,
     "metadata": {},
     "output_type": "execute_result"
    }
   ],
   "source": [
    "np.linspace(10,20,4)"
   ]
  },
  {
   "cell_type": "code",
   "execution_count": 131,
   "metadata": {},
   "outputs": [
    {
     "data": {
      "text/plain": [
       "array([10., 15., 20.])"
      ]
     },
     "execution_count": 131,
     "metadata": {},
     "output_type": "execute_result"
    }
   ],
   "source": [
    "np.linspace(10,20,3)"
   ]
  },
  {
   "cell_type": "code",
   "execution_count": 132,
   "metadata": {},
   "outputs": [
    {
     "data": {
      "text/plain": [
       "array([10. , 12.5, 15. , 17.5])"
      ]
     },
     "execution_count": 132,
     "metadata": {},
     "output_type": "execute_result"
    }
   ],
   "source": [
    "np.linspace(10,20,4, endpoint = False)"
   ]
  },
  {
   "cell_type": "code",
   "execution_count": 133,
   "metadata": {},
   "outputs": [
    {
     "data": {
      "text/html": [
       "<div>\n",
       "<style scoped>\n",
       "    .dataframe tbody tr th:only-of-type {\n",
       "        vertical-align: middle;\n",
       "    }\n",
       "\n",
       "    .dataframe tbody tr th {\n",
       "        vertical-align: top;\n",
       "    }\n",
       "\n",
       "    .dataframe thead th {\n",
       "        text-align: right;\n",
       "    }\n",
       "</style>\n",
       "<table border=\"1\" class=\"dataframe\">\n",
       "  <thead>\n",
       "    <tr style=\"text-align: right;\">\n",
       "      <th></th>\n",
       "      <th>customer</th>\n",
       "      <th>category</th>\n",
       "      <th>important</th>\n",
       "      <th>sales</th>\n",
       "    </tr>\n",
       "  </thead>\n",
       "  <tbody>\n",
       "    <tr>\n",
       "      <th>0</th>\n",
       "      <td>101</td>\n",
       "      <td>cat2</td>\n",
       "      <td>yes</td>\n",
       "      <td>123</td>\n",
       "    </tr>\n",
       "    <tr>\n",
       "      <th>1</th>\n",
       "      <td>102</td>\n",
       "      <td>cat2</td>\n",
       "      <td>no</td>\n",
       "      <td>52</td>\n",
       "    </tr>\n",
       "    <tr>\n",
       "      <th>2</th>\n",
       "      <td>103</td>\n",
       "      <td>cat1</td>\n",
       "      <td>yes</td>\n",
       "      <td>214</td>\n",
       "    </tr>\n",
       "    <tr>\n",
       "      <th>3</th>\n",
       "      <td>104</td>\n",
       "      <td>cat3</td>\n",
       "      <td>yes</td>\n",
       "      <td>663</td>\n",
       "    </tr>\n",
       "  </tbody>\n",
       "</table>\n",
       "</div>"
      ],
      "text/plain": [
       "  customer category important  sales\n",
       "0      101     cat2       yes    123\n",
       "1      102     cat2        no     52\n",
       "2      103     cat1       yes    214\n",
       "3      104     cat3       yes    663"
      ]
     },
     "execution_count": 133,
     "metadata": {},
     "output_type": "execute_result"
    }
   ],
   "source": [
    "import pandas as pd\n",
    "df7 = pd.DataFrame({\"customer\":[\"101\",\"102\",\"103\",\"104\"], \"category\":[\"cat2\",\"cat2\",\"cat1\",\"cat3\"], \n",
    "                    \"important\":[\"yes\",\"no\",\"yes\",\"yes\"],\"sales\":[123,52,214,663]})\n",
    "df7"
   ]
  },
  {
   "cell_type": "code",
   "execution_count": 174,
   "metadata": {},
   "outputs": [
    {
     "name": "stdout",
     "output_type": "stream",
     "text": [
      "   A  B\n",
      "0  4  9\n",
      "1  3  6\n",
      "2  7  8\n"
     ]
    },
    {
     "data": {
      "text/html": [
       "<div>\n",
       "<style scoped>\n",
       "    .dataframe tbody tr th:only-of-type {\n",
       "        vertical-align: middle;\n",
       "    }\n",
       "\n",
       "    .dataframe tbody tr th {\n",
       "        vertical-align: top;\n",
       "    }\n",
       "\n",
       "    .dataframe thead th {\n",
       "        text-align: right;\n",
       "    }\n",
       "</style>\n",
       "<table border=\"1\" class=\"dataframe\">\n",
       "  <thead>\n",
       "    <tr style=\"text-align: right;\">\n",
       "      <th></th>\n",
       "      <th>A</th>\n",
       "      <th>B</th>\n",
       "    </tr>\n",
       "  </thead>\n",
       "  <tbody>\n",
       "    <tr>\n",
       "      <th>0</th>\n",
       "      <td>16</td>\n",
       "      <td>81</td>\n",
       "    </tr>\n",
       "    <tr>\n",
       "      <th>1</th>\n",
       "      <td>9</td>\n",
       "      <td>36</td>\n",
       "    </tr>\n",
       "    <tr>\n",
       "      <th>2</th>\n",
       "      <td>49</td>\n",
       "      <td>64</td>\n",
       "    </tr>\n",
       "  </tbody>\n",
       "</table>\n",
       "</div>"
      ],
      "text/plain": [
       "    A   B\n",
       "0  16  81\n",
       "1   9  36\n",
       "2  49  64"
      ]
     },
     "execution_count": 174,
     "metadata": {},
     "output_type": "execute_result"
    }
   ],
   "source": [
    "df = pd.DataFrame([[4, 9],[3,6],[7,8]], columns=['A', 'B'])\n",
    "print(df)\n",
    "df.apply(np.square)"
   ]
  },
  {
   "cell_type": "code",
   "execution_count": 175,
   "metadata": {},
   "outputs": [
    {
     "ename": "TypeError",
     "evalue": "'int' object is not callable",
     "output_type": "error",
     "traceback": [
      "\u001b[1;31m---------------------------------------------------------------------------\u001b[0m",
      "\u001b[1;31mTypeError\u001b[0m                                 Traceback (most recent call last)",
      "\u001b[1;32m<ipython-input-175-e056b9423ece>\u001b[0m in \u001b[0;36m<module>\u001b[1;34m\u001b[0m\n\u001b[0;32m      1\u001b[0m \u001b[1;32mdef\u001b[0m \u001b[0msum_input\u001b[0m\u001b[1;33m(\u001b[0m\u001b[0ms\u001b[0m\u001b[1;33m)\u001b[0m\u001b[1;33m:\u001b[0m\u001b[1;33m\u001b[0m\u001b[1;33m\u001b[0m\u001b[0m\n\u001b[0;32m      2\u001b[0m     \u001b[1;32mreturn\u001b[0m \u001b[0msum\u001b[0m\u001b[1;33m(\u001b[0m\u001b[0ms\u001b[0m\u001b[1;33m)\u001b[0m\u001b[1;33m\u001b[0m\u001b[1;33m\u001b[0m\u001b[0m\n\u001b[1;32m----> 3\u001b[1;33m \u001b[0mdf\u001b[0m\u001b[1;33m.\u001b[0m\u001b[0mapply\u001b[0m\u001b[1;33m(\u001b[0m\u001b[0msum_input\u001b[0m\u001b[1;33m,\u001b[0m \u001b[0maxis\u001b[0m\u001b[1;33m=\u001b[0m\u001b[1;36m1\u001b[0m\u001b[1;33m)\u001b[0m\u001b[1;33m\u001b[0m\u001b[1;33m\u001b[0m\u001b[0m\n\u001b[0m",
      "\u001b[1;32m~\\anaconda3\\lib\\site-packages\\pandas\\core\\frame.py\u001b[0m in \u001b[0;36mapply\u001b[1;34m(self, func, axis, raw, result_type, args, **kwds)\u001b[0m\n\u001b[0;32m   7766\u001b[0m             \u001b[0mkwds\u001b[0m\u001b[1;33m=\u001b[0m\u001b[0mkwds\u001b[0m\u001b[1;33m,\u001b[0m\u001b[1;33m\u001b[0m\u001b[1;33m\u001b[0m\u001b[0m\n\u001b[0;32m   7767\u001b[0m         )\n\u001b[1;32m-> 7768\u001b[1;33m         \u001b[1;32mreturn\u001b[0m \u001b[0mop\u001b[0m\u001b[1;33m.\u001b[0m\u001b[0mget_result\u001b[0m\u001b[1;33m(\u001b[0m\u001b[1;33m)\u001b[0m\u001b[1;33m\u001b[0m\u001b[1;33m\u001b[0m\u001b[0m\n\u001b[0m\u001b[0;32m   7769\u001b[0m \u001b[1;33m\u001b[0m\u001b[0m\n\u001b[0;32m   7770\u001b[0m     \u001b[1;32mdef\u001b[0m \u001b[0mapplymap\u001b[0m\u001b[1;33m(\u001b[0m\u001b[0mself\u001b[0m\u001b[1;33m,\u001b[0m \u001b[0mfunc\u001b[0m\u001b[1;33m,\u001b[0m \u001b[0mna_action\u001b[0m\u001b[1;33m:\u001b[0m \u001b[0mOptional\u001b[0m\u001b[1;33m[\u001b[0m\u001b[0mstr\u001b[0m\u001b[1;33m]\u001b[0m \u001b[1;33m=\u001b[0m \u001b[1;32mNone\u001b[0m\u001b[1;33m)\u001b[0m \u001b[1;33m->\u001b[0m \u001b[0mDataFrame\u001b[0m\u001b[1;33m:\u001b[0m\u001b[1;33m\u001b[0m\u001b[1;33m\u001b[0m\u001b[0m\n",
      "\u001b[1;32m~\\anaconda3\\lib\\site-packages\\pandas\\core\\apply.py\u001b[0m in \u001b[0;36mget_result\u001b[1;34m(self)\u001b[0m\n\u001b[0;32m    183\u001b[0m             \u001b[1;32mreturn\u001b[0m \u001b[0mself\u001b[0m\u001b[1;33m.\u001b[0m\u001b[0mapply_raw\u001b[0m\u001b[1;33m(\u001b[0m\u001b[1;33m)\u001b[0m\u001b[1;33m\u001b[0m\u001b[1;33m\u001b[0m\u001b[0m\n\u001b[0;32m    184\u001b[0m \u001b[1;33m\u001b[0m\u001b[0m\n\u001b[1;32m--> 185\u001b[1;33m         \u001b[1;32mreturn\u001b[0m \u001b[0mself\u001b[0m\u001b[1;33m.\u001b[0m\u001b[0mapply_standard\u001b[0m\u001b[1;33m(\u001b[0m\u001b[1;33m)\u001b[0m\u001b[1;33m\u001b[0m\u001b[1;33m\u001b[0m\u001b[0m\n\u001b[0m\u001b[0;32m    186\u001b[0m \u001b[1;33m\u001b[0m\u001b[0m\n\u001b[0;32m    187\u001b[0m     \u001b[1;32mdef\u001b[0m \u001b[0mapply_empty_result\u001b[0m\u001b[1;33m(\u001b[0m\u001b[0mself\u001b[0m\u001b[1;33m)\u001b[0m\u001b[1;33m:\u001b[0m\u001b[1;33m\u001b[0m\u001b[1;33m\u001b[0m\u001b[0m\n",
      "\u001b[1;32m~\\anaconda3\\lib\\site-packages\\pandas\\core\\apply.py\u001b[0m in \u001b[0;36mapply_standard\u001b[1;34m(self)\u001b[0m\n\u001b[0;32m    274\u001b[0m \u001b[1;33m\u001b[0m\u001b[0m\n\u001b[0;32m    275\u001b[0m     \u001b[1;32mdef\u001b[0m \u001b[0mapply_standard\u001b[0m\u001b[1;33m(\u001b[0m\u001b[0mself\u001b[0m\u001b[1;33m)\u001b[0m\u001b[1;33m:\u001b[0m\u001b[1;33m\u001b[0m\u001b[1;33m\u001b[0m\u001b[0m\n\u001b[1;32m--> 276\u001b[1;33m         \u001b[0mresults\u001b[0m\u001b[1;33m,\u001b[0m \u001b[0mres_index\u001b[0m \u001b[1;33m=\u001b[0m \u001b[0mself\u001b[0m\u001b[1;33m.\u001b[0m\u001b[0mapply_series_generator\u001b[0m\u001b[1;33m(\u001b[0m\u001b[1;33m)\u001b[0m\u001b[1;33m\u001b[0m\u001b[1;33m\u001b[0m\u001b[0m\n\u001b[0m\u001b[0;32m    277\u001b[0m \u001b[1;33m\u001b[0m\u001b[0m\n\u001b[0;32m    278\u001b[0m         \u001b[1;31m# wrap results\u001b[0m\u001b[1;33m\u001b[0m\u001b[1;33m\u001b[0m\u001b[1;33m\u001b[0m\u001b[0m\n",
      "\u001b[1;32m~\\anaconda3\\lib\\site-packages\\pandas\\core\\apply.py\u001b[0m in \u001b[0;36mapply_series_generator\u001b[1;34m(self)\u001b[0m\n\u001b[0;32m    288\u001b[0m             \u001b[1;32mfor\u001b[0m \u001b[0mi\u001b[0m\u001b[1;33m,\u001b[0m \u001b[0mv\u001b[0m \u001b[1;32min\u001b[0m \u001b[0menumerate\u001b[0m\u001b[1;33m(\u001b[0m\u001b[0mseries_gen\u001b[0m\u001b[1;33m)\u001b[0m\u001b[1;33m:\u001b[0m\u001b[1;33m\u001b[0m\u001b[1;33m\u001b[0m\u001b[0m\n\u001b[0;32m    289\u001b[0m                 \u001b[1;31m# ignore SettingWithCopy here in case the user mutates\u001b[0m\u001b[1;33m\u001b[0m\u001b[1;33m\u001b[0m\u001b[1;33m\u001b[0m\u001b[0m\n\u001b[1;32m--> 290\u001b[1;33m                 \u001b[0mresults\u001b[0m\u001b[1;33m[\u001b[0m\u001b[0mi\u001b[0m\u001b[1;33m]\u001b[0m \u001b[1;33m=\u001b[0m \u001b[0mself\u001b[0m\u001b[1;33m.\u001b[0m\u001b[0mf\u001b[0m\u001b[1;33m(\u001b[0m\u001b[0mv\u001b[0m\u001b[1;33m)\u001b[0m\u001b[1;33m\u001b[0m\u001b[1;33m\u001b[0m\u001b[0m\n\u001b[0m\u001b[0;32m    291\u001b[0m                 \u001b[1;32mif\u001b[0m \u001b[0misinstance\u001b[0m\u001b[1;33m(\u001b[0m\u001b[0mresults\u001b[0m\u001b[1;33m[\u001b[0m\u001b[0mi\u001b[0m\u001b[1;33m]\u001b[0m\u001b[1;33m,\u001b[0m \u001b[0mABCSeries\u001b[0m\u001b[1;33m)\u001b[0m\u001b[1;33m:\u001b[0m\u001b[1;33m\u001b[0m\u001b[1;33m\u001b[0m\u001b[0m\n\u001b[0;32m    292\u001b[0m                     \u001b[1;31m# If we have a view on v, we need to make a copy because\u001b[0m\u001b[1;33m\u001b[0m\u001b[1;33m\u001b[0m\u001b[1;33m\u001b[0m\u001b[0m\n",
      "\u001b[1;32m<ipython-input-175-e056b9423ece>\u001b[0m in \u001b[0;36msum_input\u001b[1;34m(s)\u001b[0m\n\u001b[0;32m      1\u001b[0m \u001b[1;32mdef\u001b[0m \u001b[0msum_input\u001b[0m\u001b[1;33m(\u001b[0m\u001b[0ms\u001b[0m\u001b[1;33m)\u001b[0m\u001b[1;33m:\u001b[0m\u001b[1;33m\u001b[0m\u001b[1;33m\u001b[0m\u001b[0m\n\u001b[1;32m----> 2\u001b[1;33m     \u001b[1;32mreturn\u001b[0m \u001b[0msum\u001b[0m\u001b[1;33m(\u001b[0m\u001b[0ms\u001b[0m\u001b[1;33m)\u001b[0m\u001b[1;33m\u001b[0m\u001b[1;33m\u001b[0m\u001b[0m\n\u001b[0m\u001b[0;32m      3\u001b[0m \u001b[0mdf\u001b[0m\u001b[1;33m.\u001b[0m\u001b[0mapply\u001b[0m\u001b[1;33m(\u001b[0m\u001b[0msum_input\u001b[0m\u001b[1;33m,\u001b[0m \u001b[0maxis\u001b[0m\u001b[1;33m=\u001b[0m\u001b[1;36m1\u001b[0m\u001b[1;33m)\u001b[0m\u001b[1;33m\u001b[0m\u001b[1;33m\u001b[0m\u001b[0m\n",
      "\u001b[1;31mTypeError\u001b[0m: 'int' object is not callable"
     ]
    }
   ],
   "source": [
    "def sum_input(s):\n",
    "    return sum(s)\n",
    "df.apply(sum_input, axis=1)"
   ]
  },
  {
   "cell_type": "code",
   "execution_count": 176,
   "metadata": {},
   "outputs": [
    {
     "ename": "SyntaxError",
     "evalue": "cannot assign to operator (<ipython-input-176-3798706f7a3d>, line 1)",
     "output_type": "error",
     "traceback": [
      "\u001b[1;36m  File \u001b[1;32m\"<ipython-input-176-3798706f7a3d>\"\u001b[1;36m, line \u001b[1;32m1\u001b[0m\n\u001b[1;33m    Syntax -  arr = np.array([1,2,3])\u001b[0m\n\u001b[1;37m    ^\u001b[0m\n\u001b[1;31mSyntaxError\u001b[0m\u001b[1;31m:\u001b[0m cannot assign to operator\n"
     ]
    }
   ],
   "source": [
    "Syntax -  arr = np.array([1,2,3])"
   ]
  },
  {
   "cell_type": "code",
   "execution_count": null,
   "metadata": {},
   "outputs": [],
   "source": []
  }
 ],
 "metadata": {
  "colab": {
   "collapsed_sections": [],
   "name": "Session Notebook - Advanced.ipynb",
   "provenance": []
  },
  "kernelspec": {
   "display_name": "Python 3",
   "language": "python",
   "name": "python3"
  },
  "language_info": {
   "codemirror_mode": {
    "name": "ipython",
    "version": 3
   },
   "file_extension": ".py",
   "mimetype": "text/x-python",
   "name": "python",
   "nbconvert_exporter": "python",
   "pygments_lexer": "ipython3",
   "version": "3.8.8"
  }
 },
 "nbformat": 4,
 "nbformat_minor": 1
}
