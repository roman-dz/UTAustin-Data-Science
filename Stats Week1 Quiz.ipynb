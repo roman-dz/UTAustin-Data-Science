{
 "cells": [
  {
   "cell_type": "markdown",
   "id": "bf1d88fd",
   "metadata": {},
   "source": [
    "### Business Statistics - Week 1 - Quiz"
   ]
  },
  {
   "cell_type": "code",
   "execution_count": 1,
   "id": "78815b9c",
   "metadata": {},
   "outputs": [],
   "source": [
    "#import the important packages\n",
    "import pandas as pd #library used for data manipulation and analysis\n",
    "import numpy as np # library used for working with arrays.\n",
    "import matplotlib.pyplot as plt # library for plots and visualisations\n",
    "import seaborn as sns # library for visualisations\n",
    "%matplotlib inline \n",
    "\n",
    "import scipy.stats as stats # this library contains a large number of probability distributions as well as \n",
    "# ...a growing library of statistical functions."
   ]
  },
  {
   "cell_type": "markdown",
   "id": "3ac5010b",
   "metadata": {},
   "source": [
    "#### Below work (3 cells) is for question 9"
   ]
  },
  {
   "cell_type": "code",
   "execution_count": 5,
   "id": "47ec0707",
   "metadata": {},
   "outputs": [
    {
     "data": {
      "text/plain": [
       "0.18756637083375943"
      ]
     },
     "execution_count": 5,
     "metadata": {},
     "output_type": "execute_result"
    }
   ],
   "source": [
    "lower=stats.norm.cdf(-0.8869,loc=0,scale=1)\n",
    "lower"
   ]
  },
  {
   "cell_type": "code",
   "execution_count": 6,
   "id": "8094b36f",
   "metadata": {},
   "outputs": [
    {
     "data": {
      "text/plain": [
       "0.7779237701569741"
      ]
     },
     "execution_count": 6,
     "metadata": {},
     "output_type": "execute_result"
    }
   ],
   "source": [
    "upper=stats.norm.cdf(0.7652,loc=0,scale=1)\n",
    "upper"
   ]
  },
  {
   "cell_type": "code",
   "execution_count": 11,
   "id": "e2154923",
   "metadata": {},
   "outputs": [
    {
     "data": {
      "text/plain": [
       "0.5903573993232147"
      ]
     },
     "execution_count": 11,
     "metadata": {},
     "output_type": "execute_result"
    }
   ],
   "source": [
    "result=upper-lower\n",
    "result"
   ]
  },
  {
   "cell_type": "markdown",
   "id": "e031e733",
   "metadata": {},
   "source": [
    "## Questions"
   ]
  },
  {
   "cell_type": "markdown",
   "id": "fff0e596",
   "metadata": {},
   "source": [
    "## Q 1\n",
    "\n",
    "#### McDonald's is performing a marketing survey about the customer’s behavior when it comes to eating Burger. The company is trying to understand the favorite taste of their customers in order to redesign the menu. The company gathered the data of 1000 people of different ages, genders, and locations in order to understand the most desired taste of the entire population. Which of the following statistical methods can be used to get the inference about the population ( all customers )?\n",
    "\n",
    "* The company is trying to know the characteristics of the population using sample statistics. Hence, Inferential Statistics should be used to draw an inference about the population."
   ]
  },
  {
   "cell_type": "markdown",
   "id": "a36d1ba8",
   "metadata": {},
   "source": [
    "## Q 2\n",
    "\n",
    "#### Which of the following is not a property of a Normal Distribution?\n",
    "\n",
    "* --> It is slightly skewed towards left\n",
    "* It is bell-shaped\n",
    "* It ranges from negative infinity to positive infinity\n",
    "* Its central tendency measures (mean, median, mode) are equal"
   ]
  },
  {
   "cell_type": "markdown",
   "id": "c23f652a",
   "metadata": {},
   "source": [
    "## Q 3\n",
    "\n",
    "#### The World Economic Forum found that  12% of the U.S. population earn more than 2M per year.  Amazon decided to conduct an internal survey and chose 20 employees at random. Which of the following scipy functions will be used to find the probability that exactly 5 of the 20 employees earn more than 2M per year?\n",
    "\n",
    "* stats.binom.pmf()\n",
    "\n",
    ">* X is the Binomial Random variable which represents the number of employees. We are interested in finding the P(X=5).\n",
    ">* pmf() function is used to find the absolute probability of k successes in n number of trials where the probability of success for each trial is p\n",
    ">* the binomial distribution with parameters n and p is the discrete probability distribution of the number of successes in a sequence of n independent experiments, each asking a yes–no question, and each with its own Boolean-valued outcome: success or failure."
   ]
  },
  {
   "cell_type": "markdown",
   "id": "01dfbff8",
   "metadata": {},
   "source": [
    "## Q 4\n",
    "\n",
    "#### Which one of these random variables is continuous?\n",
    "\n",
    "* --> The time taken by a randomly selected learner to complete the quiz\n",
    "* The number of two wheelers, a randomly selected person has.\n",
    "* The number of men taller than 68 inches in a random sample of 5 men.\n",
    "* The number of phone calls received in a call center\n",
    "\n",
    ">* Time taken by a randomly selected learner in a quiz is continuous because it can take any value within a given range"
   ]
  },
  {
   "cell_type": "markdown",
   "id": "00bf0995",
   "metadata": {},
   "source": [
    "## Q 5\n",
    "\n",
    "#### Suppose X is a continuous random variable that is uniformly distributed between 3 and 8. Which one of the following functions can be used to find P(X<=5.8)?\n",
    "\n",
    "* import scipy.stats as st\n",
    "* st.uniform.cdf(5.8,loc=3,scale=5)\n",
    "\n",
    ">* A continuous random variable X is uniformly distributed between 3 and 8. CDF is used to find the probability that X will take a value less than or equal to x. scipy.stats.norm has a function called cdf() which is used to find the P(X<=x)"
   ]
  },
  {
   "cell_type": "markdown",
   "id": "7a2eaf97",
   "metadata": {},
   "source": [
    "## Q 6\n",
    "\n",
    "#### Scientists want to know the incubation period of coronavirus. They have collected the blood samples of 100 people and found that the mean incubation period is 43 hours with a standard deviation of 3.6 hours. Which of the following code is correct to calculate the 95% confidence interval of the mean Incubation period.\n",
    "\n",
    "* from scipy import stats\n",
    "* import numpy as np\n",
    "* confidence_coef = .95\n",
    "* stats.t.interval(confidence_coef, df = 100-1, loc =43 , scale = 3.6/np.sqrt(100))\n",
    "\n",
    "> Here, population standard deviation is not known therefore we need to use t-distribution to calculate a confidence interval. stats.t.interval() function is used to calculate the interval which takes confidence level, degree of freedom, sample mean ( loc ), and standard error ( scale ) as the arguments."
   ]
  },
  {
   "cell_type": "markdown",
   "id": "976f5e51",
   "metadata": {},
   "source": [
    "## Q 7\n",
    "\n",
    "#### Suppose that the heights of men in the United States are normally distributed with a mean of 65.6 inches and a standard deviation of 2.7 inches. Which of the following functions can be used to find the probability that the mean height is greater than 63.0 inches?\n",
    "\n",
    "* import scipy.stats as st\n",
    "* 1-st.norm.cdf(63,loc=65.6,scale=2.7)\n",
    "\n",
    "> Use 1 - cdf() when greater than...\n",
    ">* CDF is used to find the probability that X ( random variable ) will take a value less than or equal to x ( P( X<=x). But here we are interested in P(X>63). It can be calculated as follows -- P(X>63) = 1-P(X<=63)"
   ]
  },
  {
   "cell_type": "markdown",
   "id": "8bf8af95",
   "metadata": {},
   "source": [
    "## Q 8\n",
    "\n",
    "#### In which of the following situations can a Uniform Distribution be applied? [B, C, D]\n",
    "\n",
    "* A. When each value of a continuous random variable is not equally likely to occur.\n",
    "* --> B. When each discrete value is equally likely to occur.\n",
    "* --> C. When each value of a continuous random variable is equally likely to occur\n",
    "* --> D. Guessing the birthday of a person\n",
    "\n",
    "> In uniform distribution, all outcomes (each value of the random variable) have an equal probability of occurrence. The birthday of a person can be on any date of the year. So, the probability of each date is equal, that is 1/365 (for a year with 365 days)"
   ]
  },
  {
   "cell_type": "markdown",
   "id": "2edf3ed9",
   "metadata": {},
   "source": [
    "## Q 9\n",
    "\n",
    "#### A college conducts a common test for all the students. For the Mathematics portion of this test, the scores are normally distributed with a mean of 502 and a standard deviation of 115. Based on this information, what percentage of students would be expected to score between 400 and 590?\n",
    "\n",
    "* First calculate Z-score for 400 --> (400-502)/115 = -0.8869\n",
    "* Then calculate Z-score for 590 --> (590-502)/115 = 0.7652\n",
    "* Proportion for Z= -0.8869 -- stats.norm.cdf(-0.8869,loc=0,scale=1) = 0.1875 # scalse is 0 to 1\n",
    "* Proportion for Z=0.7652 -- stats.norm.cdf(0.7652,loc=0,scale=1) = 0.77792 # scalse is 0 to 1\n",
    "* Then subtract: 0.77792-0.1875 = 0.5942 ~ 59.42%\n",
    "\n",
    "> Neither of the available answers were correct in the test."
   ]
  },
  {
   "cell_type": "markdown",
   "id": "66a714c8",
   "metadata": {},
   "source": [
    "## Q 10\n",
    "\n",
    "#### At Intel, the sizes of processor chips have a mean of 1 cm with a standard deviation of 0.2 cm. Multiple random samples, each consisting of 35 processor chips, are taken. The sample mean and standard deviation for each sample are recorded to form a sampling distribution. What is the mean and standard deviation of this sampling distribution?\n",
    "\n",
    "* According to the concept of the sampling distribution of means and the Central Limit theorem, X will follow a normal distribution with a mean of 1 cm and a standard deviation of 0.2/sqrt(35).\n",
    "* So, mean = 1 cm\n",
    "* and, standard deviation = 0.2/sqrt(35) = 0.0338\n"
   ]
  },
  {
   "cell_type": "code",
   "execution_count": null,
   "id": "ad24f675",
   "metadata": {},
   "outputs": [],
   "source": []
  }
 ],
 "metadata": {
  "kernelspec": {
   "display_name": "Python 3",
   "language": "python",
   "name": "python3"
  },
  "language_info": {
   "codemirror_mode": {
    "name": "ipython",
    "version": 3
   },
   "file_extension": ".py",
   "mimetype": "text/x-python",
   "name": "python",
   "nbconvert_exporter": "python",
   "pygments_lexer": "ipython3",
   "version": "3.8.8"
  }
 },
 "nbformat": 4,
 "nbformat_minor": 5
}
