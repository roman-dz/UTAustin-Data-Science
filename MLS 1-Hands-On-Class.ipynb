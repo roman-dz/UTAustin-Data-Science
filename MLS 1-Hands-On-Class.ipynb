{
 "cells": [
  {
   "cell_type": "markdown",
   "id": "91a801e9",
   "metadata": {},
   "source": [
    "### MLS 1 - Hands-On coding based discussion - Roman Dzadzic 08/29/2021"
   ]
  },
  {
   "cell_type": "code",
   "execution_count": 29,
   "id": "5ceef4e2",
   "metadata": {},
   "outputs": [],
   "source": [
    "a=2\n",
    "b=2"
   ]
  },
  {
   "cell_type": "code",
   "execution_count": null,
   "id": "a0d6f7a6",
   "metadata": {},
   "outputs": [],
   "source": []
  },
  {
   "cell_type": "code",
   "execution_count": 32,
   "id": "69e65a37",
   "metadata": {},
   "outputs": [
    {
     "name": "stdout",
     "output_type": "stream",
     "text": [
      "4\n"
     ]
    }
   ],
   "source": [
    "print(a+b)"
   ]
  },
  {
   "cell_type": "code",
   "execution_count": 12,
   "id": "2d6145f6",
   "metadata": {},
   "outputs": [
    {
     "name": "stdout",
     "output_type": "stream",
     "text": [
      "1\n",
      "4\n",
      "9\n",
      "25\n"
     ]
    }
   ],
   "source": [
    "for i in [1,2,3,5]:\n",
    "    print(i*i)"
   ]
  },
  {
   "cell_type": "code",
   "execution_count": 23,
   "id": "3316ba6c",
   "metadata": {},
   "outputs": [
    {
     "data": {
      "text/plain": [
       "int"
      ]
     },
     "execution_count": 23,
     "metadata": {},
     "output_type": "execute_result"
    }
   ],
   "source": [
    "int_var=6\n",
    "type(int_var)"
   ]
  },
  {
   "cell_type": "code",
   "execution_count": 24,
   "id": "c2b8d886",
   "metadata": {},
   "outputs": [
    {
     "data": {
      "text/plain": [
       "6.0"
      ]
     },
     "execution_count": 24,
     "metadata": {},
     "output_type": "execute_result"
    }
   ],
   "source": [
    "float_var=float(int_var)\n",
    "float_var"
   ]
  },
  {
   "cell_type": "code",
   "execution_count": 25,
   "id": "1f551448",
   "metadata": {},
   "outputs": [
    {
     "data": {
      "text/plain": [
       "float"
      ]
     },
     "execution_count": 25,
     "metadata": {},
     "output_type": "execute_result"
    }
   ],
   "source": [
    "type(float_var)"
   ]
  },
  {
   "cell_type": "code",
   "execution_count": 28,
   "id": "20805c81",
   "metadata": {},
   "outputs": [
    {
     "data": {
      "text/plain": [
       "float"
      ]
     },
     "execution_count": 28,
     "metadata": {},
     "output_type": "execute_result"
    }
   ],
   "source": [
    "float_var=2.35656565656565656565656565656\n",
    "type(float_var)"
   ]
  },
  {
   "cell_type": "code",
   "execution_count": 35,
   "id": "126b5766",
   "metadata": {},
   "outputs": [
    {
     "data": {
      "text/plain": [
       "complex"
      ]
     },
     "execution_count": 35,
     "metadata": {},
     "output_type": "execute_result"
    }
   ],
   "source": [
    "complex_var=4+0.398J\n",
    "type(complex_var)"
   ]
  },
  {
   "cell_type": "code",
   "execution_count": 36,
   "id": "8a06ad04",
   "metadata": {},
   "outputs": [
    {
     "data": {
      "text/plain": [
       "4.0"
      ]
     },
     "execution_count": 36,
     "metadata": {},
     "output_type": "execute_result"
    }
   ],
   "source": [
    "complex_var.real"
   ]
  },
  {
   "cell_type": "code",
   "execution_count": 37,
   "id": "808f4808",
   "metadata": {},
   "outputs": [
    {
     "data": {
      "text/plain": [
       "0.398"
      ]
     },
     "execution_count": 37,
     "metadata": {},
     "output_type": "execute_result"
    }
   ],
   "source": [
    "complex_var.imag"
   ]
  },
  {
   "cell_type": "code",
   "execution_count": 38,
   "id": "2f544d1b",
   "metadata": {},
   "outputs": [],
   "source": [
    "str_var='MY name Roman Dzadzic'"
   ]
  },
  {
   "cell_type": "code",
   "execution_count": 39,
   "id": "79adb825",
   "metadata": {},
   "outputs": [
    {
     "data": {
      "text/plain": [
       "str"
      ]
     },
     "execution_count": 39,
     "metadata": {},
     "output_type": "execute_result"
    }
   ],
   "source": [
    "type(str_var)"
   ]
  },
  {
   "cell_type": "code",
   "execution_count": 42,
   "id": "3ceb7a9e",
   "metadata": {},
   "outputs": [
    {
     "data": {
      "text/plain": [
       "'MY NAME ROMAN DZADZIC'"
      ]
     },
     "execution_count": 42,
     "metadata": {},
     "output_type": "execute_result"
    }
   ],
   "source": [
    "str_var.upper() #when you put a function on top of variable, variable doesn't change"
   ]
  },
  {
   "cell_type": "code",
   "execution_count": 41,
   "id": "75e7fb89",
   "metadata": {},
   "outputs": [
    {
     "data": {
      "text/plain": [
       "'MY name Roman Dzadzic'"
      ]
     },
     "execution_count": 41,
     "metadata": {},
     "output_type": "execute_result"
    }
   ],
   "source": [
    "str_var"
   ]
  },
  {
   "cell_type": "code",
   "execution_count": 43,
   "id": "221aabed",
   "metadata": {},
   "outputs": [],
   "source": [
    "str_var=str_var.lower()"
   ]
  },
  {
   "cell_type": "code",
   "execution_count": 44,
   "id": "8939a305",
   "metadata": {},
   "outputs": [
    {
     "data": {
      "text/plain": [
       "'my name roman dzadzic'"
      ]
     },
     "execution_count": 44,
     "metadata": {},
     "output_type": "execute_result"
    }
   ],
   "source": [
    "str_var"
   ]
  },
  {
   "cell_type": "code",
   "execution_count": 48,
   "id": "4a84aa9c",
   "metadata": {},
   "outputs": [
    {
     "data": {
      "text/plain": [
       "range(0, 21)"
      ]
     },
     "execution_count": 48,
     "metadata": {},
     "output_type": "execute_result"
    }
   ],
   "source": [
    "range(len(str_var))"
   ]
  },
  {
   "cell_type": "code",
   "execution_count": 52,
   "id": "c02059fd",
   "metadata": {},
   "outputs": [],
   "source": [
    "list_var=['my name is roman dzadzic']"
   ]
  },
  {
   "cell_type": "code",
   "execution_count": 55,
   "id": "c54e5922",
   "metadata": {},
   "outputs": [],
   "source": [
    "str_var='MY/name/roman/dzadzic'"
   ]
  },
  {
   "cell_type": "code",
   "execution_count": 58,
   "id": "919384f7",
   "metadata": {},
   "outputs": [
    {
     "data": {
      "text/plain": [
       "['MY', 'name', 'roman', 'dzadzic']"
      ]
     },
     "execution_count": 58,
     "metadata": {},
     "output_type": "execute_result"
    }
   ],
   "source": [
    "words=str_var.split('/')\n",
    "words"
   ]
  },
  {
   "cell_type": "code",
   "execution_count": 59,
   "id": "cb680eb4",
   "metadata": {},
   "outputs": [
    {
     "name": "stdout",
     "output_type": "stream",
     "text": [
      "MY\n",
      "name\n",
      "roman\n",
      "dzadzic\n"
     ]
    }
   ],
   "source": [
    "#solution 1:  range(15, len(str_var))\n",
    "#solution 2: for i in str_var:\n",
    "#solution 3: str_var.split('/')\n",
    "#solution 4: below\n",
    "for i in words: #string is a collection of characters\n",
    "    print(i)"
   ]
  },
  {
   "cell_type": "markdown",
   "id": "665af4b7",
   "metadata": {},
   "source": [
    "### If else"
   ]
  },
  {
   "cell_type": "code",
   "execution_count": 63,
   "id": "e231de95",
   "metadata": {},
   "outputs": [
    {
     "name": "stdout",
     "output_type": "stream",
     "text": [
      "Hello World\n"
     ]
    }
   ],
   "source": [
    "x=-1\n",
    "if x>0:\n",
    "    print('Hello World')"
   ]
  },
  {
   "cell_type": "code",
   "execution_count": 62,
   "id": "c5cb5312",
   "metadata": {},
   "outputs": [
    {
     "data": {
      "text/plain": [
       "False"
      ]
     },
     "execution_count": 62,
     "metadata": {},
     "output_type": "execute_result"
    }
   ],
   "source": [
    "x>0"
   ]
  },
  {
   "cell_type": "code",
   "execution_count": 65,
   "id": "4fe82373",
   "metadata": {},
   "outputs": [],
   "source": [
    "x=99"
   ]
  },
  {
   "cell_type": "code",
   "execution_count": 77,
   "id": "23082215",
   "metadata": {},
   "outputs": [
    {
     "name": "stdout",
     "output_type": "stream",
     "text": [
      "Hello World\n"
     ]
    }
   ],
   "source": [
    "x=45\n",
    "#play with and use parenthesis, but without them... Python groups or and and\n",
    "if x>0 or x<10 and x>90:\n",
    "    print('Hello World')"
   ]
  },
  {
   "cell_type": "code",
   "execution_count": 81,
   "id": "25be950b",
   "metadata": {},
   "outputs": [
    {
     "name": "stdout",
     "output_type": "stream",
     "text": [
      "Print Something Else\n"
     ]
    }
   ],
   "source": [
    "x=-1\n",
    "if x>0:\n",
    "    print('Hello World')\n",
    "else:\n",
    "    print('Print Something Else')"
   ]
  },
  {
   "cell_type": "code",
   "execution_count": 84,
   "id": "6fedb33c",
   "metadata": {},
   "outputs": [
    {
     "name": "stdout",
     "output_type": "stream",
     "text": [
      "Print Something Else\n"
     ]
    }
   ],
   "source": [
    "x=-1\n",
    "if x>0:\n",
    "    print('Hello World')\n",
    "elif x<-2:\n",
    "    print('Hold on for a sec')\n",
    "else:\n",
    "    print('Print Something Else')"
   ]
  },
  {
   "cell_type": "markdown",
   "id": "ee985a2a",
   "metadata": {},
   "source": [
    "## Loops"
   ]
  },
  {
   "cell_type": "code",
   "execution_count": 88,
   "id": "b8c8d886",
   "metadata": {},
   "outputs": [
    {
     "name": "stdout",
     "output_type": "stream",
     "text": [
      "0\n",
      "1\n",
      "4\n",
      "9\n",
      "16\n",
      "25\n",
      "36\n",
      "49\n",
      "64\n",
      "81\n",
      "100\n"
     ]
    }
   ],
   "source": [
    "for i in range(11):\n",
    "    print(i*i)"
   ]
  },
  {
   "cell_type": "code",
   "execution_count": 95,
   "id": "f25cd11b",
   "metadata": {},
   "outputs": [
    {
     "name": "stdout",
     "output_type": "stream",
     "text": [
      "0\n",
      "1\n",
      "4\n",
      "9\n",
      "16\n",
      "25\n",
      "36\n",
      "49\n",
      "64\n",
      "81\n",
      "100\n"
     ]
    }
   ],
   "source": [
    "i=0\n",
    "while i < 11:\n",
    "    print(i*i)\n",
    "    i=i+1"
   ]
  },
  {
   "cell_type": "code",
   "execution_count": 99,
   "id": "1943db6f",
   "metadata": {},
   "outputs": [
    {
     "name": "stdout",
     "output_type": "stream",
     "text": [
      "Position is:  0 and square is 121\n",
      "Position is:  1 and square is 144\n",
      "Position is:  2 and square is 169\n",
      "Position is:  3 and square is 196\n",
      "Position is:  4 and square is 225\n"
     ]
    }
   ],
   "source": [
    "numbers=[11,12,13,14,15]\n",
    "\n",
    "for i in range(len(numbers)):\n",
    "    print(\"Position is: \", i, \"and square is\", numbers[i]**2)"
   ]
  },
  {
   "cell_type": "code",
   "execution_count": 104,
   "id": "f854a993",
   "metadata": {},
   "outputs": [
    {
     "name": "stdout",
     "output_type": "stream",
     "text": [
      "position: 0 number: 11 square: 121\n",
      "position: 1 number: 12 square: 144\n",
      "position: 2 number: 13 square: 169\n",
      "position: 3 number: 14 square: 196\n",
      "position: 4 number: 15 square: 225\n"
     ]
    }
   ],
   "source": [
    "for i, x in enumerate(numbers):\n",
    "    print(\"position:\",i,\"number:\",x,\"square:\",x*x)"
   ]
  }
 ],
 "metadata": {
  "kernelspec": {
   "display_name": "Python 3",
   "language": "python",
   "name": "python3"
  },
  "language_info": {
   "codemirror_mode": {
    "name": "ipython",
    "version": 3
   },
   "file_extension": ".py",
   "mimetype": "text/x-python",
   "name": "python",
   "nbconvert_exporter": "python",
   "pygments_lexer": "ipython3",
   "version": "3.8.8"
  }
 },
 "nbformat": 4,
 "nbformat_minor": 5
}
