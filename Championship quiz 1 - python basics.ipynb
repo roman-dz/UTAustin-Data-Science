{
 "cells": [
  {
   "cell_type": "code",
   "execution_count": 1,
   "id": "b593791f",
   "metadata": {},
   "outputs": [],
   "source": [
    "# import libraries for data manipulation\n",
    "import numpy as np\n",
    "import pandas as pd\n",
    "\n",
    "# import libraries for data visualization\n",
    "import matplotlib.pyplot as plt\n",
    "import seaborn as sns\n",
    "%matplotlib inline\n"
   ]
  },
  {
   "cell_type": "code",
   "execution_count": 2,
   "id": "c440a4cd",
   "metadata": {},
   "outputs": [
    {
     "data": {
      "text/plain": [
       "float"
      ]
     },
     "execution_count": 2,
     "metadata": {},
     "output_type": "execute_result"
    }
   ],
   "source": [
    "a = 10\n",
    "b = 5.1\n",
    "add = a + b\n",
    "type(add)"
   ]
  },
  {
   "cell_type": "code",
   "execution_count": 3,
   "id": "f6d5c466",
   "metadata": {},
   "outputs": [
    {
     "data": {
      "text/plain": [
       "True"
      ]
     },
     "execution_count": 3,
     "metadata": {},
     "output_type": "execute_result"
    }
   ],
   "source": [
    "5 == (3 + 2)"
   ]
  },
  {
   "cell_type": "code",
   "execution_count": 4,
   "id": "66b05c1b",
   "metadata": {},
   "outputs": [
    {
     "name": "stdout",
     "output_type": "stream",
     "text": [
      "36\n"
     ]
    }
   ],
   "source": [
    "a = 3\n",
    "print(a + (33))"
   ]
  },
  {
   "cell_type": "code",
   "execution_count": 6,
   "id": "00bb5d70",
   "metadata": {},
   "outputs": [],
   "source": [
    "#In Python, the float() method is used to convert a number stored in a string or integer into a floating-point number."
   ]
  },
  {
   "cell_type": "code",
   "execution_count": 7,
   "id": "34e1faf7",
   "metadata": {},
   "outputs": [
    {
     "name": "stdout",
     "output_type": "stream",
     "text": [
      "Five times a is 50\n"
     ]
    }
   ],
   "source": [
    "a = 10 # assign variable a to literal 10\n",
    "print('Five times a is', 5*a)"
   ]
  },
  {
   "cell_type": "code",
   "execution_count": 8,
   "id": "e00665fb",
   "metadata": {},
   "outputs": [
    {
     "name": "stdout",
     "output_type": "stream",
     "text": [
      "Area of triangle: 25.0\n"
     ]
    }
   ],
   "source": [
    "# Which of the below snippets can be used to calculate the area of a triangle with base = 10 and height = 5?\n",
    "area = 0.5 * 10 * 5\n",
    "print(\"Area of triangle:\", area)"
   ]
  },
  {
   "cell_type": "code",
   "execution_count": 10,
   "id": "7b01ba53",
   "metadata": {},
   "outputs": [
    {
     "data": {
      "text/plain": [
       "1225.0"
      ]
     },
     "execution_count": 10,
     "metadata": {},
     "output_type": "execute_result"
    }
   ],
   "source": [
    "v = 10\n",
    "w = 25\n",
    "x = 70\n",
    "y = 2\n",
    "z = (v + w) * (x / y)\n",
    "z"
   ]
  },
  {
   "cell_type": "code",
   "execution_count": 11,
   "id": "7c4680ca",
   "metadata": {},
   "outputs": [
    {
     "name": "stdout",
     "output_type": "stream",
     "text": [
      "A and B before swapping 10,5\n",
      "A and B after swapping 5,10\n"
     ]
    }
   ],
   "source": [
    "a = 10 \n",
    "b = 5\n",
    "print(\"A and B before swapping {},{}\".format(a,b))\n",
    "temp = a #create a third variable and assign the value of a to it\n",
    "#########write the missing code\n",
    "a = b\n",
    "###########\n",
    "b = temp #value of a is in third variable so assign the value to b\n",
    "print(\"A and B after swapping {},{}\".format(a,b))"
   ]
  },
  {
   "cell_type": "code",
   "execution_count": 12,
   "id": "c91a181e",
   "metadata": {},
   "outputs": [
    {
     "name": "stdout",
     "output_type": "stream",
     "text": [
      "Temperature in Fahrenheit = 95.0\n"
     ]
    }
   ],
   "source": [
    "# Which of the below snippets can be used to convert 35 degrees Celsius temperature to Fahrenheit?\n",
    "celsius = 35\n",
    "fah = 1.8 * celsius + 32\n",
    "print(\"Temperature in Fahrenheit =\", fah)"
   ]
  },
  {
   "cell_type": "code",
   "execution_count": 16,
   "id": "4ab432e9",
   "metadata": {},
   "outputs": [
    {
     "name": "stdout",
     "output_type": "stream",
     "text": [
      "['strawberries', 'orange', 'grapes', 'watermelon']\n"
     ]
    }
   ],
   "source": [
    "# replace the first element of the list l with \"strawberries\"?\n",
    "l = [\"apple\",\"orange\",\"grapes\",\"watermelon\"]\n",
    "l[0] = \"strawberries\"\n",
    "print(l)"
   ]
  },
  {
   "cell_type": "code",
   "execution_count": 17,
   "id": "284d6af9",
   "metadata": {},
   "outputs": [
    {
     "name": "stdout",
     "output_type": "stream",
     "text": [
      "a\n",
      "b\n",
      "c\n"
     ]
    }
   ],
   "source": [
    "# Which of the following snippets can be used to iterate through the list l and print the list elements?\n",
    "l = ['a','b','c']\n",
    "for i in l:\n",
    " print(i)"
   ]
  },
  {
   "cell_type": "code",
   "execution_count": 18,
   "id": "d4bef038",
   "metadata": {},
   "outputs": [
    {
     "name": "stdout",
     "output_type": "stream",
     "text": [
      "1\n",
      "144\n",
      "576\n",
      "1296\n",
      "121\n",
      "400\n",
      "2500\n"
     ]
    }
   ],
   "source": [
    "# Which of the following snippets can be used to print squares of all numbers present in the list = [1, 12, 24, 36, 11, 20,50]?\n",
    "number = [1, 12, 24, 36, 11, 20,50]\n",
    "for i in number:\n",
    " sq = i * i\n",
    " print(sq)"
   ]
  },
  {
   "cell_type": "code",
   "execution_count": 19,
   "id": "4c44619d",
   "metadata": {},
   "outputs": [
    {
     "data": {
      "text/plain": [
       "['white', 'red', 'blue', 'green', 'blue', 'black']"
      ]
     },
     "execution_count": 19,
     "metadata": {},
     "output_type": "execute_result"
    }
   ],
   "source": [
    "# Choose the appropriate command to pop the 'yellow' color from the below list l.\n",
    "l = ['white','red', 'blue', 'green','blue','yellow', 'black']\n",
    "l.pop(5)\n",
    "l"
   ]
  },
  {
   "cell_type": "code",
   "execution_count": 21,
   "id": "17afb71c",
   "metadata": {},
   "outputs": [
    {
     "name": "stdout",
     "output_type": "stream",
     "text": [
      "{'brand': 'Audi', 'model': 'Q2', 'year': 1980}\n"
     ]
    }
   ],
   "source": [
    "# Choose the appropriate snippet to create and print a dictionary with the following information.\n",
    "\n",
    "# brand = Audi\n",
    "# Model = Q2\n",
    "# Year = 1980\n",
    "\n",
    "car = { \"brand\" : \"Audi\",\"model\" : \"Q2\", \"year\" : 1980}\n",
    "print(car)"
   ]
  },
  {
   "cell_type": "code",
   "execution_count": 22,
   "id": "b6a425dd",
   "metadata": {},
   "outputs": [
    {
     "data": {
      "text/plain": [
       "{'brand': 'Audi', 'model': 'Q2', 'year': 2019}"
      ]
     },
     "execution_count": 22,
     "metadata": {},
     "output_type": "execute_result"
    }
   ],
   "source": [
    "# Which of the following codes can be used to change the year to 2019 in the below dictionary?\n",
    "car = { \"brand\" : \"Audi\",\"model\" : \"Q2\", \"year\" : 1980}\n",
    "car[\"year\"] = 2019\n",
    "car"
   ]
  },
  {
   "cell_type": "code",
   "execution_count": 23,
   "id": "f8d6a212",
   "metadata": {},
   "outputs": [
    {
     "name": "stdout",
     "output_type": "stream",
     "text": [
      "{'Hello', 1.0, (6, 7, 8), 55}\n"
     ]
    }
   ],
   "source": [
    "# Choose the appropriate snippet to create and print a set with the following data.\n",
    "\n",
    "1.0, \"Hello\", 55 , (6,7,8)\n",
    "\n",
    "s = {1.0, \"Hello\", 55, (6,7,8)}\n",
    "print(s)"
   ]
  },
  {
   "cell_type": "code",
   "execution_count": 29,
   "id": "f484e6d9",
   "metadata": {},
   "outputs": [
    {
     "name": "stdout",
     "output_type": "stream",
     "text": [
      "-10\n",
      "-9\n",
      "-8\n",
      "-7\n",
      "-6\n",
      "-5\n",
      "-4\n",
      "-3\n",
      "-2\n",
      "-1\n"
     ]
    }
   ],
   "source": [
    "# Which of the below snippets can be used to print -10 to -1?\n",
    "for i in range(-10, 0, 1):\n",
    "    print(i)"
   ]
  },
  {
   "cell_type": "code",
   "execution_count": 30,
   "id": "fb5f6810",
   "metadata": {},
   "outputs": [
    {
     "name": "stdout",
     "output_type": "stream",
     "text": [
      "1\n",
      "2\n",
      "3\n",
      "4\n",
      "5\n",
      "6\n",
      "7\n",
      "8\n",
      "9\n",
      "10\n"
     ]
    }
   ],
   "source": [
    "# Choose the missing code to print from 1 - 10\n",
    "n = 10\n",
    "i = 1\n",
    "while i <= n:\n",
    "    print(i)\n",
    " # missing code\n",
    "    i = i + 1"
   ]
  },
  {
   "cell_type": "code",
   "execution_count": 33,
   "id": "569469ec",
   "metadata": {},
   "outputs": [
    {
     "name": "stdout",
     "output_type": "stream",
     "text": [
      "2\n",
      "4\n",
      "6\n",
      "8\n",
      "10\n",
      "12\n",
      "14\n",
      "16\n",
      "18\n",
      "20\n"
     ]
    }
   ],
   "source": [
    "# Choose the missing code in the below snippet to print the first ten even numbers.\n",
    "for i in range(1, 21):\n",
    " # missing code\n",
    "    if i % 2 == 0:\n",
    "        print(i)"
   ]
  },
  {
   "cell_type": "code",
   "execution_count": 34,
   "id": "da9a8701",
   "metadata": {},
   "outputs": [
    {
     "name": "stdout",
     "output_type": "stream",
     "text": [
      "5 * 1 = 5\n",
      "5 * 2 = 10\n",
      "5 * 3 = 15\n",
      "5 * 4 = 20\n",
      "5 * 5 = 25\n",
      "5 * 6 = 30\n",
      "5 * 7 = 35\n",
      "5 * 8 = 40\n",
      "5 * 9 = 45\n",
      "5 * 10 = 50\n"
     ]
    }
   ],
   "source": [
    "# Which of the following snippets can be used to generate the correct multiplication table of 5?\n",
    "n = 5\n",
    "i = 1\n",
    "while i <= 10:\n",
    "    print(\"{} * {} =\".format(n, i), n*i)\n",
    "    i = i + 1"
   ]
  },
  {
   "cell_type": "code",
   "execution_count": 35,
   "id": "ad58b113",
   "metadata": {},
   "outputs": [
    {
     "name": "stdout",
     "output_type": "stream",
     "text": [
      "8 ^ 1 = 8\n",
      "8 ^ 2 = 64\n",
      "8 ^ 3 = 512\n",
      "8 ^ 4 = 4096\n",
      "8 ^ 5 = 32768\n",
      "8 ^ 6 = 262144\n",
      "8 ^ 7 = 2097152\n",
      "8 ^ 8 = 16777216\n",
      "8 ^ 9 = 134217728\n",
      "8 ^ 10 = 1073741824\n"
     ]
    }
   ],
   "source": [
    "# What does this snippet of code do? \n",
    "\n",
    "n = 8\n",
    "for i in range(1, 11):\n",
    "    print(\"{} ^ {} =\".format(n, i), n**i)\n",
    "    # Prints the power table of 8"
   ]
  },
  {
   "cell_type": "code",
   "execution_count": 37,
   "id": "a5fe4f9c",
   "metadata": {},
   "outputs": [
    {
     "name": "stdout",
     "output_type": "stream",
     "text": [
      "1\n",
      "2\n",
      "Fizz\n",
      "4\n",
      "Buzz\n",
      "Fizz\n",
      "7\n",
      "8\n",
      "Fizz\n",
      "Buzz\n",
      "11\n",
      "Fizz\n",
      "13\n",
      "14\n",
      "FizzBuzz\n",
      "16\n",
      "17\n",
      "Fizz\n",
      "19\n"
     ]
    }
   ],
   "source": [
    "#For numbers 1 to 100:\n",
    "\n",
    "# If a number is divisible by 3, then print Fizz.\n",
    "# If a number is divisible by 5, then print Buzz.\n",
    "# If a number is divisible by 3 and 5 both, then print FizzBuzz.\n",
    "# If a number is neither divisible by 3 or 5, just print the number.\n",
    "\n",
    "for i in range(1, 20):\n",
    "    if(i % 3 == 0 and i % 5 == 0):\n",
    "        print(\"FizzBuzz\")\n",
    "    elif (i % 3 == 0):\n",
    "        print(\"Fizz\")\n",
    "    elif(i % 5 == 0):\n",
    "        print(\"Buzz\")\n",
    "    else: \n",
    "        print(i)"
   ]
  },
  {
   "cell_type": "code",
   "execution_count": 39,
   "id": "693e22cf",
   "metadata": {},
   "outputs": [
    {
     "name": "stdout",
     "output_type": "stream",
     "text": [
      "5050\n"
     ]
    }
   ],
   "source": [
    "# Choose the missing code in the below snippet to find the sum of all numbers from 1 to 100.\n",
    "\n",
    "sum = 0\n",
    "for i in range(1, 101):\n",
    " # missing code\n",
    "    sum = sum + i\n",
    "print(sum)"
   ]
  },
  {
   "cell_type": "code",
   "execution_count": 41,
   "id": "9bb96efa",
   "metadata": {},
   "outputs": [
    {
     "name": "stdout",
     "output_type": "stream",
     "text": [
      "203\n",
      "217\n",
      "224\n",
      "231\n",
      "238\n",
      "252\n",
      "259\n",
      "266\n",
      "273\n",
      "287\n",
      "294\n",
      "301\n",
      "308\n"
     ]
    }
   ],
   "source": [
    "# Choose the appropriate snippet to find all such numbers which are divisible by 7 but are not a multiple of 5, between 202 and 320 (both included).\n",
    "for i in range(202, 321):\n",
    "    if i % 7 == 0 and i % 5 != 0:\n",
    "        print(i)\n"
   ]
  },
  {
   "cell_type": "code",
   "execution_count": 47,
   "id": "03b06dd1",
   "metadata": {},
   "outputs": [
    {
     "name": "stdout",
     "output_type": "stream",
     "text": [
      "1\n",
      "2\n",
      "3\n",
      "4\n",
      "5\n"
     ]
    }
   ],
   "source": [
    "# What does this code do?\n",
    "\n",
    "st = \"Data Science\"\n",
    "count = 0\n",
    "for i in st:\n",
    "    if i == \"a\" or i == \"e\" or i == \"i\" or i == \"o\" or i == \"u\": \n",
    "        count = count + 1\n",
    "        print(count)\n",
    "# Prints the number of vowels in the string 'Data Science'"
   ]
  },
  {
   "cell_type": "code",
   "execution_count": 48,
   "id": "a96e6110",
   "metadata": {},
   "outputs": [
    {
     "name": "stdout",
     "output_type": "stream",
     "text": [
      "Data Science\n",
      "Data Science\n",
      "Data Science\n",
      "Data Science\n",
      "Data Science\n"
     ]
    }
   ],
   "source": [
    "# What's the output of this code?\n",
    "a = \"Data Science\"\n",
    "for i in range(0, 5):\n",
    "    print(a)"
   ]
  },
  {
   "cell_type": "code",
   "execution_count": 50,
   "id": "4b5f4a23",
   "metadata": {},
   "outputs": [
    {
     "name": "stdout",
     "output_type": "stream",
     "text": [
      "Area of the rectangle is greater than the Perimeter of the rectangle\n"
     ]
    }
   ],
   "source": [
    "# What's the output of this code?\n",
    "length = 5\n",
    "breadth = 10\n",
    "# find the area and perimeter of the rectangle\n",
    "Area = length * breadth \n",
    "Perimeter = 2 * (length + breadth)\n",
    "# check whether the area of the rectangle is greater than the perimeter of the rectangle\n",
    "if Area > Perimeter:\n",
    "    print(\"Area of the rectangle is greater than the Perimeter of the rectangle\")\n",
    "else:\n",
    "    print(\"Perimeter of the rectangle is greater than the Area of the rectangle\")"
   ]
  },
  {
   "cell_type": "code",
   "execution_count": 53,
   "id": "fe47ed63",
   "metadata": {},
   "outputs": [
    {
     "name": "stdout",
     "output_type": "stream",
     "text": [
      "Average= 78.0\n",
      "Grade C\n"
     ]
    }
   ],
   "source": [
    "marks_sub1 = 72\n",
    "marks_sub2 = 85\n",
    "marks_sub3 = 96\n",
    "marks_sub4 = 42\n",
    "marks_sub5 = 95\n",
    "avg = (marks_sub1 + marks_sub2 + marks_sub3 + marks_sub4 + marks_sub5) / 5\n",
    "print(\"Average=\", avg)\n",
    "if avg>90:\n",
    "    print(\"Grade A\")\n",
    "elif avg>80:\n",
    "    print(\"Grade B\")\n",
    "elif avg>70:\n",
    "    print(\"Grade C\")\n",
    "elif avg>60:\n",
    "    print(\"Grade D\")\n",
    "elif avg>50:\n",
    "    print(\"Grade E\")\n",
    "else:\n",
    "    print(\"Fail\")"
   ]
  },
  {
   "cell_type": "code",
   "execution_count": 55,
   "id": "cf2c1e8a",
   "metadata": {},
   "outputs": [],
   "source": [
    "# 1. An equilateral triangle is a triangle in which all three sides are equal.\n",
    "\n",
    "# 2. An isosceles triangle is a triangle with (at least) two equal sides.\n",
    "\n",
    "# 3. A scalene triangle is a triangle that has three unequal sides"
   ]
  },
  {
   "cell_type": "code",
   "execution_count": 57,
   "id": "76676137",
   "metadata": {},
   "outputs": [
    {
     "name": "stdout",
     "output_type": "stream",
     "text": [
      "X is less than Y\n"
     ]
    }
   ],
   "source": [
    "# Choose the appropriate snippet to check if x is less than y.\n",
    "x = 20\n",
    "y = 30\n",
    "if x < y:\n",
    "    print(\"X is less than Y\")"
   ]
  },
  {
   "cell_type": "code",
   "execution_count": 58,
   "id": "25e2f213",
   "metadata": {},
   "outputs": [
    {
     "name": "stdout",
     "output_type": "stream",
     "text": [
      "Enter your age: 22\n",
      "Eligible to work\n"
     ]
    }
   ],
   "source": [
    "age = int(input('Enter your age: '))\n",
    "if age < 18:\n",
    "    print(\"Not Eligible for work\")\n",
    "elif age >= 18 and age <= 60:\n",
    "    print(\"Eligible to work\")\n",
    "else:\n",
    "    print(\"Too old to work as per the government rules\")"
   ]
  },
  {
   "cell_type": "code",
   "execution_count": 60,
   "id": "4e6becf7",
   "metadata": {},
   "outputs": [
    {
     "name": "stdout",
     "output_type": "stream",
     "text": [
      "14\n",
      "4\n",
      "45\n",
      "1\n"
     ]
    }
   ],
   "source": [
    "def mths(a, b):\n",
    "    print(a + b)\n",
    "    print(a - b)\n",
    "    print(a * b)\n",
    "    print(a // b)\n",
    " \n",
    "mths(9, 5)"
   ]
  },
  {
   "cell_type": "code",
   "execution_count": 61,
   "id": "09a9f124",
   "metadata": {},
   "outputs": [
    {
     "name": "stdout",
     "output_type": "stream",
     "text": [
      "30\n"
     ]
    }
   ],
   "source": [
    "def x2p5(x):\n",
    " y = x * x\n",
    " z = y + 5\n",
    " return z\n",
    "\n",
    "print(x2p5(5))"
   ]
  },
  {
   "cell_type": "code",
   "execution_count": 65,
   "id": "3de8d189",
   "metadata": {},
   "outputs": [
    {
     "data": {
      "text/plain": [
       "14"
      ]
     },
     "execution_count": 65,
     "metadata": {},
     "output_type": "execute_result"
    }
   ],
   "source": [
    "x2p5lam = lambda x: x * x + 5\n",
    "x2p5lam(3)"
   ]
  },
  {
   "cell_type": "code",
   "execution_count": 66,
   "id": "be2fc011",
   "metadata": {},
   "outputs": [],
   "source": [
    "# Python indexes 'list' data structures from 0."
   ]
  },
  {
   "cell_type": "code",
   "execution_count": 67,
   "id": "15764b42",
   "metadata": {},
   "outputs": [
    {
     "data": {
      "text/plain": [
       "float"
      ]
     },
     "execution_count": 67,
     "metadata": {},
     "output_type": "execute_result"
    }
   ],
   "source": [
    "b = 3.1\n",
    "type(b)\n",
    "\n",
    "# The data type of b is 'int'."
   ]
  },
  {
   "cell_type": "code",
   "execution_count": 73,
   "id": "f7668b7d",
   "metadata": {},
   "outputs": [
    {
     "data": {
      "text/plain": [
       "'c'"
      ]
     },
     "execution_count": 73,
     "metadata": {},
     "output_type": "execute_result"
    }
   ],
   "source": [
    "# Which code below gives 'c' output. 1st and 2nd\n",
    "list = ['a','b','c','d']\n",
    "\n",
    "list[-2]\n",
    "list[2]\n",
    "# list[3]\n",
    "# list[-1]\n"
   ]
  },
  {
   "cell_type": "code",
   "execution_count": 74,
   "id": "60a2800b",
   "metadata": {},
   "outputs": [],
   "source": [
    "# Changing one particular data type to another is called typecasting.\n"
   ]
  },
  {
   "cell_type": "code",
   "execution_count": 75,
   "id": "62eb1066",
   "metadata": {},
   "outputs": [
    {
     "name": "stdout",
     "output_type": "stream",
     "text": [
      "1\n",
      "2\n",
      "6\n",
      "24\n",
      "120\n"
     ]
    }
   ],
   "source": [
    "# 4th iteration = 24 (see results below)\n",
    "a= 1\n",
    " \n",
    "for i in range(1,6): \n",
    "     a = a* i\n",
    "     print(a)"
   ]
  },
  {
   "cell_type": "code",
   "execution_count": 79,
   "id": "e6ab36e8",
   "metadata": {},
   "outputs": [
    {
     "data": {
      "text/plain": [
       "78090.77777777778"
      ]
     },
     "execution_count": 79,
     "metadata": {},
     "output_type": "execute_result"
    }
   ],
   "source": [
    "# Consider the following mathematical operations where x,y and z are three different numbers.\n",
    "\n",
    "x = 5\n",
    "y = 7\n",
    "z=9\n",
    "\n",
    "(x**y) + (y/z) + (x-y) +(z-y) - (y*x)\n",
    "\n",
    "# For what combination of x,y and z we get the answer to be 78090.77777777778\n"
   ]
  },
  {
   "cell_type": "code",
   "execution_count": 80,
   "id": "774c7197",
   "metadata": {},
   "outputs": [],
   "source": [
    "# We can use latex commands in-line with dollar signs in the markdown cells."
   ]
  },
  {
   "cell_type": "code",
   "execution_count": 81,
   "id": "a548c054",
   "metadata": {},
   "outputs": [
    {
     "data": {
      "text/plain": [
       "float"
      ]
     },
     "execution_count": 81,
     "metadata": {},
     "output_type": "execute_result"
    }
   ],
   "source": [
    "a=1289.0\n",
    "type(a)"
   ]
  },
  {
   "cell_type": "code",
   "execution_count": 84,
   "id": "04546de0",
   "metadata": {},
   "outputs": [
    {
     "ename": "AttributeError",
     "evalue": "module 'numpy' has no attribute 'arr'",
     "output_type": "error",
     "traceback": [
      "\u001b[1;31m---------------------------------------------------------------------------\u001b[0m",
      "\u001b[1;31mAttributeError\u001b[0m                            Traceback (most recent call last)",
      "\u001b[1;32m<ipython-input-84-52184bfda80e>\u001b[0m in \u001b[0;36m<module>\u001b[1;34m\u001b[0m\n\u001b[1;32m----> 1\u001b[1;33m \u001b[0marray\u001b[0m \u001b[1;33m=\u001b[0m \u001b[0mnp\u001b[0m\u001b[1;33m.\u001b[0m\u001b[0marr\u001b[0m\u001b[1;33m(\u001b[0m\u001b[1;33m[\u001b[0m\u001b[1;33m[\u001b[0m\u001b[1;36m1\u001b[0m\u001b[1;33m]\u001b[0m\u001b[1;33m,\u001b[0m\u001b[1;33m[\u001b[0m\u001b[1;36m3\u001b[0m\u001b[1;33m]\u001b[0m\u001b[1;33m,\u001b[0m\u001b[1;33m[\u001b[0m\u001b[1;36m5\u001b[0m\u001b[1;33m]\u001b[0m\u001b[1;33m]\u001b[0m\u001b[1;33m)\u001b[0m\u001b[1;33m\u001b[0m\u001b[1;33m\u001b[0m\u001b[0m\n\u001b[0m",
      "\u001b[1;32m~\\anaconda3\\lib\\site-packages\\numpy\\__init__.py\u001b[0m in \u001b[0;36m__getattr__\u001b[1;34m(attr)\u001b[0m\n\u001b[0;32m    301\u001b[0m                 \u001b[1;32mreturn\u001b[0m \u001b[0mTester\u001b[0m\u001b[1;33m\u001b[0m\u001b[1;33m\u001b[0m\u001b[0m\n\u001b[0;32m    302\u001b[0m \u001b[1;33m\u001b[0m\u001b[0m\n\u001b[1;32m--> 303\u001b[1;33m             raise AttributeError(\"module {!r} has no attribute \"\n\u001b[0m\u001b[0;32m    304\u001b[0m                                  \"{!r}\".format(__name__, attr))\n\u001b[0;32m    305\u001b[0m \u001b[1;33m\u001b[0m\u001b[0m\n",
      "\u001b[1;31mAttributeError\u001b[0m: module 'numpy' has no attribute 'arr'"
     ]
    }
   ],
   "source": [
    "# This is not an array\n",
    "array = np.arr([[1],[3],[5]])"
   ]
  },
  {
   "cell_type": "code",
   "execution_count": 86,
   "id": "a121fd04",
   "metadata": {},
   "outputs": [
    {
     "data": {
      "text/plain": [
       "dict"
      ]
     },
     "execution_count": 86,
     "metadata": {},
     "output_type": "execute_result"
    }
   ],
   "source": [
    "dictionary = {\"MARKS\": 75, \"RANK\" : 7}\n",
    "type(dictionary)"
   ]
  },
  {
   "cell_type": "code",
   "execution_count": 88,
   "id": "f506175f",
   "metadata": {},
   "outputs": [
    {
     "data": {
      "text/plain": [
       "array([[1, 2],\n",
       "       [3, 4],\n",
       "       [5, 6]])"
      ]
     },
     "execution_count": 88,
     "metadata": {},
     "output_type": "execute_result"
    }
   ],
   "source": [
    "matrix = np.array([[1,2],[3,4],[5,6]])\n",
    "matrix"
   ]
  },
  {
   "cell_type": "code",
   "execution_count": null,
   "id": "7e50e077",
   "metadata": {},
   "outputs": [],
   "source": []
  }
 ],
 "metadata": {
  "kernelspec": {
   "display_name": "Python 3",
   "language": "python",
   "name": "python3"
  },
  "language_info": {
   "codemirror_mode": {
    "name": "ipython",
    "version": 3
   },
   "file_extension": ".py",
   "mimetype": "text/x-python",
   "name": "python",
   "nbconvert_exporter": "python",
   "pygments_lexer": "ipython3",
   "version": "3.8.8"
  }
 },
 "nbformat": 4,
 "nbformat_minor": 5
}
