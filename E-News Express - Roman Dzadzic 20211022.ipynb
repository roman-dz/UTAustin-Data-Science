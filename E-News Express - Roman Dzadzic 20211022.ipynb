{
 "cells": [
  {
   "cell_type": "markdown",
   "id": "a53937e2",
   "metadata": {},
   "source": [
    "### Roman Dzadzic   10/22/2021"
   ]
  },
  {
   "cell_type": "markdown",
   "id": "a96a92ba",
   "metadata": {},
   "source": [
    "## E-news Express Project\n",
    "\n",
    "### Project Description\n",
    "\n",
    "#### Background/context: \n",
    "\n",
    "An online news portal aims to expand its business by acquiring new subscribers. Every visitor to the website takes certain actions based on their interest. The company plans to analyze these interests and wants to determine whether a new feature will be effective or not. Companies often analyze users' responses to two variants of a product to decide which of the two variants is more effective. This experimental technique is known as a/b testing that is used to determine whether a new feature attracts users based on a chosen metric.\n",
    "\n",
    "Suppose you are hired as a Data Scientist in E-news Express. The design team of the company has created a new landing page. You have been assigned the task to decide whether the new landing page is more effective to gather new subscribers. Suppose you randomly selected 100 users and divided them equally into two groups. The old landing page is served to the first group (control group) and the new landing page is served to the second group (treatment group). Various data about the customers in both groups are collected in 'abtest.csv'. Perform the statistical analysis to answer the following questions using the collected data.\n",
    "\n",
    "### Objective:\n",
    "\n",
    "Statistical analysis of business data. Explore the dataset and extract insights from the data. The idea is for you to get comfortable with doing statistical analysis in Python.\n",
    "\n",
    "You are expected to perform the statistical analysis to answer the following questions:\n",
    "\n",
    "1. Explore the dataset and extract insights using Exploratory Data Analysis.\n",
    "2. Do the users spend more time on the new landing page than the old landing page?\n",
    "3. Is the conversion rate (the proportion of users who visit the landing page and get converted) for the new page greater than the conversion rate for the old page?\n",
    "4. Does the converted status depend on the preferred language? [Hint: Create a contingency table using the pandas.crosstab() function]\n",
    "5. Is the mean time spent on the new page same for the different language users?\n",
    "\n",
    "*Consider a significance level of 0.05 for all tests.\n",
    "\n",
    "#### Data Dictionary:\n",
    "\n",
    "* **user_id** - This represents the user ID of the person visiting the website.\n",
    "* **group** - This represents whether the user belongs to the first group (control) or the second group (treatment).\n",
    "* **landing_page** - This represents whether the landing page is new or old.\n",
    "* **time_spent_on_the_page** - This represents the time (in minutes) spent by the user on the landing page.\n",
    "* **converted** - This represents whether the user gets converted to a subscriber of the news portal or not.\n",
    "* **language_preferred** - This represents the language chosen by the user to view the landing page."
   ]
  },
  {
   "cell_type": "markdown",
   "id": "17f0c864",
   "metadata": {},
   "source": [
    "### Let us start by importing the required libraries"
   ]
  },
  {
   "cell_type": "code",
   "execution_count": 1,
   "id": "59071a26",
   "metadata": {},
   "outputs": [],
   "source": [
    "# import libraries for data manipulation\n",
    "import numpy as np\n",
    "import pandas as pd\n",
    "import math\n",
    "import scipy.stats as stats # this library contains a large number of probability distributions as well as \n",
    "# ...a growing library of statistical functions.\n",
    "from scipy.stats import ttest_1samp\n",
    "from numpy import sqrt, abs\n",
    "from scipy.stats import norm \n",
    "\n",
    "# import libraries for data visualization\n",
    "import matplotlib.pyplot as plt\n",
    "import seaborn as sns\n",
    "%matplotlib inline"
   ]
  },
  {
   "cell_type": "code",
   "execution_count": 2,
   "id": "4488c27f",
   "metadata": {},
   "outputs": [],
   "source": [
    "# Library to suppress warnings or deprecation notes \n",
    "import warnings\n",
    "warnings.filterwarnings('ignore')"
   ]
  },
  {
   "cell_type": "code",
   "execution_count": 3,
   "id": "d3abd41d",
   "metadata": {},
   "outputs": [
    {
     "data": {
      "text/html": [
       "<div>\n",
       "<style scoped>\n",
       "    .dataframe tbody tr th:only-of-type {\n",
       "        vertical-align: middle;\n",
       "    }\n",
       "\n",
       "    .dataframe tbody tr th {\n",
       "        vertical-align: top;\n",
       "    }\n",
       "\n",
       "    .dataframe thead th {\n",
       "        text-align: right;\n",
       "    }\n",
       "</style>\n",
       "<table border=\"1\" class=\"dataframe\">\n",
       "  <thead>\n",
       "    <tr style=\"text-align: right;\">\n",
       "      <th></th>\n",
       "      <th>user_id</th>\n",
       "      <th>group</th>\n",
       "      <th>landing_page</th>\n",
       "      <th>time_spent_on_the_page</th>\n",
       "      <th>converted</th>\n",
       "      <th>language_preferred</th>\n",
       "    </tr>\n",
       "  </thead>\n",
       "  <tbody>\n",
       "    <tr>\n",
       "      <th>0</th>\n",
       "      <td>546592</td>\n",
       "      <td>control</td>\n",
       "      <td>old</td>\n",
       "      <td>3.48</td>\n",
       "      <td>no</td>\n",
       "      <td>Spanish</td>\n",
       "    </tr>\n",
       "    <tr>\n",
       "      <th>1</th>\n",
       "      <td>546468</td>\n",
       "      <td>treatment</td>\n",
       "      <td>new</td>\n",
       "      <td>7.13</td>\n",
       "      <td>yes</td>\n",
       "      <td>English</td>\n",
       "    </tr>\n",
       "    <tr>\n",
       "      <th>2</th>\n",
       "      <td>546462</td>\n",
       "      <td>treatment</td>\n",
       "      <td>new</td>\n",
       "      <td>4.40</td>\n",
       "      <td>no</td>\n",
       "      <td>Spanish</td>\n",
       "    </tr>\n",
       "    <tr>\n",
       "      <th>3</th>\n",
       "      <td>546567</td>\n",
       "      <td>control</td>\n",
       "      <td>old</td>\n",
       "      <td>3.02</td>\n",
       "      <td>no</td>\n",
       "      <td>French</td>\n",
       "    </tr>\n",
       "    <tr>\n",
       "      <th>4</th>\n",
       "      <td>546459</td>\n",
       "      <td>treatment</td>\n",
       "      <td>new</td>\n",
       "      <td>4.75</td>\n",
       "      <td>yes</td>\n",
       "      <td>Spanish</td>\n",
       "    </tr>\n",
       "  </tbody>\n",
       "</table>\n",
       "</div>"
      ],
      "text/plain": [
       "   user_id      group landing_page  time_spent_on_the_page converted  \\\n",
       "0   546592    control          old                    3.48        no   \n",
       "1   546468  treatment          new                    7.13       yes   \n",
       "2   546462  treatment          new                    4.40        no   \n",
       "3   546567    control          old                    3.02        no   \n",
       "4   546459  treatment          new                    4.75       yes   \n",
       "\n",
       "  language_preferred  \n",
       "0            Spanish  \n",
       "1            English  \n",
       "2            Spanish  \n",
       "3             French  \n",
       "4            Spanish  "
      ]
     },
     "execution_count": 3,
     "metadata": {},
     "output_type": "execute_result"
    }
   ],
   "source": [
    "# read the data\n",
    "df = pd.read_csv('abtest.csv')\n",
    "# returns the first 5 rows\n",
    "df.head()"
   ]
  },
  {
   "cell_type": "markdown",
   "id": "ea5feb9d",
   "metadata": {},
   "source": [
    "#### Observations:\n",
    "\n",
    "* The DataFrame has 6 columns as mentioned in the Data Dictionary. Data in each row corresponds to the user_id, which test group that user belongs to and the associated landing page along with conversion data and the language.\n",
    "* The 'time_spent_on_the_page' column has numeric values.\n",
    "* The 'user_id' column has the actual generated user id numeric value.\n",
    "* The 'landing_page' column either refers to the 'new' or 'old' page.\n",
    "* The 'converted' column contains 'yes' or 'no' labels to reflect whether the desired CTA (call to action) was achieved.\n",
    "* Lastly, the 'language_preferred' column likely shows users' language preferences."
   ]
  },
  {
   "cell_type": "code",
   "execution_count": 4,
   "id": "8cc9256b",
   "metadata": {},
   "outputs": [
    {
     "data": {
      "text/plain": [
       "(100, 6)"
      ]
     },
     "execution_count": 4,
     "metadata": {},
     "output_type": "execute_result"
    }
   ],
   "source": [
    "df.shape # using data shape understand the dataset"
   ]
  },
  {
   "cell_type": "markdown",
   "id": "575cb85a",
   "metadata": {},
   "source": [
    "#### Observations: The dataset has 100 rows and 6 columns."
   ]
  },
  {
   "cell_type": "code",
   "execution_count": 5,
   "id": "a309cd76",
   "metadata": {},
   "outputs": [
    {
     "data": {
      "text/plain": [
       "user_id                   0\n",
       "group                     0\n",
       "landing_page              0\n",
       "time_spent_on_the_page    0\n",
       "converted                 0\n",
       "language_preferred        0\n",
       "dtype: int64"
      ]
     },
     "execution_count": 5,
     "metadata": {},
     "output_type": "execute_result"
    }
   ],
   "source": [
    "# check for missing values\n",
    "df.isnull().sum()"
   ]
  },
  {
   "cell_type": "markdown",
   "id": "3f489b76",
   "metadata": {},
   "source": [
    "#### Observations:\n",
    "\n",
    "* There are no null values in this dataset."
   ]
  },
  {
   "cell_type": "code",
   "execution_count": 6,
   "id": "4d602fb5",
   "metadata": {},
   "outputs": [
    {
     "data": {
      "text/plain": [
       "100"
      ]
     },
     "execution_count": 6,
     "metadata": {},
     "output_type": "execute_result"
    }
   ],
   "source": [
    "# verifying that there are in fact 100 unique users and that users are not repeating in the two different groups (or page types)\n",
    "df.user_id.nunique()"
   ]
  },
  {
   "cell_type": "code",
   "execution_count": 7,
   "id": "38769153",
   "metadata": {},
   "outputs": [
    {
     "name": "stdout",
     "output_type": "stream",
     "text": [
      "<class 'pandas.core.frame.DataFrame'>\n",
      "RangeIndex: 100 entries, 0 to 99\n",
      "Data columns (total 6 columns):\n",
      " #   Column                  Non-Null Count  Dtype  \n",
      "---  ------                  --------------  -----  \n",
      " 0   user_id                 100 non-null    int64  \n",
      " 1   group                   100 non-null    object \n",
      " 2   landing_page            100 non-null    object \n",
      " 3   time_spent_on_the_page  100 non-null    float64\n",
      " 4   converted               100 non-null    object \n",
      " 5   language_preferred      100 non-null    object \n",
      "dtypes: float64(1), int64(1), object(4)\n",
      "memory usage: 4.8+ KB\n"
     ]
    }
   ],
   "source": [
    "# using info() to print a concise summary of the DataFrame\n",
    "df.info()"
   ]
  },
  {
   "cell_type": "markdown",
   "id": "5cec2038",
   "metadata": {},
   "source": [
    "#### Observations:\n",
    "* All column have 100 data points/observations which means that neither of the columns likely have missing data.\n",
    "* 'group', 'landing_page', 'converted', and 'language_preferred' are represented as objects, but should be categorical variables and we should convert them as such.\n",
    "* 'user_id' is represented as int64.\n",
    "* And lastly, the 'time_spent_on_the_page' is presented as the float64 (decimal number)."
   ]
  },
  {
   "cell_type": "code",
   "execution_count": 8,
   "id": "cc07b43b",
   "metadata": {},
   "outputs": [
    {
     "name": "stdout",
     "output_type": "stream",
     "text": [
      "<class 'pandas.core.frame.DataFrame'>\n",
      "RangeIndex: 100 entries, 0 to 99\n",
      "Data columns (total 6 columns):\n",
      " #   Column                  Non-Null Count  Dtype   \n",
      "---  ------                  --------------  -----   \n",
      " 0   user_id                 100 non-null    int64   \n",
      " 1   group                   100 non-null    category\n",
      " 2   landing_page            100 non-null    category\n",
      " 3   time_spent_on_the_page  100 non-null    float64 \n",
      " 4   converted               100 non-null    category\n",
      " 5   language_preferred      100 non-null    category\n",
      "dtypes: category(4), float64(1), int64(1)\n",
      "memory usage: 2.6 KB\n"
     ]
    }
   ],
   "source": [
    "# converting \"objects\" to \"category\" reduces the data space required to store the dataframe\n",
    "# below is the code used to convert the 4 objects vairables into the categorical data\n",
    "\n",
    "df['group'] = df.group.astype('category') # as type used with all 3 categories\n",
    "df['landing_page'] = df.landing_page.astype('category')\n",
    "df['converted'] = df.converted.astype('category')\n",
    "df['language_preferred'] = df.language_preferred.astype('category')\n",
    "\n",
    "# use info() to print a concise summary of the dataset to verify the action\n",
    "df.info()"
   ]
  },
  {
   "cell_type": "markdown",
   "id": "74f2a872",
   "metadata": {},
   "source": [
    "#### Observations:\n",
    "* There are now 2 numeric columns (one int64 and one float64), 4 categorical columns.\n",
    "* All data types are changed as expected."
   ]
  },
  {
   "cell_type": "code",
   "execution_count": 9,
   "id": "def5fe3d",
   "metadata": {},
   "outputs": [
    {
     "data": {
      "text/html": [
       "<div>\n",
       "<style scoped>\n",
       "    .dataframe tbody tr th:only-of-type {\n",
       "        vertical-align: middle;\n",
       "    }\n",
       "\n",
       "    .dataframe tbody tr th {\n",
       "        vertical-align: top;\n",
       "    }\n",
       "\n",
       "    .dataframe thead th {\n",
       "        text-align: right;\n",
       "    }\n",
       "</style>\n",
       "<table border=\"1\" class=\"dataframe\">\n",
       "  <thead>\n",
       "    <tr style=\"text-align: right;\">\n",
       "      <th></th>\n",
       "      <th>user_id</th>\n",
       "      <th>time_spent_on_the_page</th>\n",
       "    </tr>\n",
       "  </thead>\n",
       "  <tbody>\n",
       "    <tr>\n",
       "      <th>count</th>\n",
       "      <td>100.000000</td>\n",
       "      <td>100.000000</td>\n",
       "    </tr>\n",
       "    <tr>\n",
       "      <th>mean</th>\n",
       "      <td>546517.000000</td>\n",
       "      <td>5.377800</td>\n",
       "    </tr>\n",
       "    <tr>\n",
       "      <th>std</th>\n",
       "      <td>52.295779</td>\n",
       "      <td>2.378166</td>\n",
       "    </tr>\n",
       "    <tr>\n",
       "      <th>min</th>\n",
       "      <td>546443.000000</td>\n",
       "      <td>0.190000</td>\n",
       "    </tr>\n",
       "    <tr>\n",
       "      <th>25%</th>\n",
       "      <td>546467.750000</td>\n",
       "      <td>3.880000</td>\n",
       "    </tr>\n",
       "    <tr>\n",
       "      <th>50%</th>\n",
       "      <td>546492.500000</td>\n",
       "      <td>5.415000</td>\n",
       "    </tr>\n",
       "    <tr>\n",
       "      <th>75%</th>\n",
       "      <td>546567.250000</td>\n",
       "      <td>7.022500</td>\n",
       "    </tr>\n",
       "    <tr>\n",
       "      <th>max</th>\n",
       "      <td>546592.000000</td>\n",
       "      <td>10.710000</td>\n",
       "    </tr>\n",
       "  </tbody>\n",
       "</table>\n",
       "</div>"
      ],
      "text/plain": [
       "             user_id  time_spent_on_the_page\n",
       "count     100.000000              100.000000\n",
       "mean   546517.000000                5.377800\n",
       "std        52.295779                2.378166\n",
       "min    546443.000000                0.190000\n",
       "25%    546467.750000                3.880000\n",
       "50%    546492.500000                5.415000\n",
       "75%    546567.250000                7.022500\n",
       "max    546592.000000               10.710000"
      ]
     },
     "execution_count": 9,
     "metadata": {},
     "output_type": "execute_result"
    }
   ],
   "source": [
    "df.describe() # using describe() to observe the summary statistic"
   ]
  },
  {
   "cell_type": "markdown",
   "id": "90748bfa",
   "metadata": {},
   "source": [
    "#### Observations:\n",
    "\n",
    "* Summary statistics confirms the count of 100 records across the two numeric variables.\n",
    "* Although the CSV data file has 100 'user_id' records, looks like the difference between the min and the max values of 'user_id' is 149 records.\n",
    "* Mean time spent on page is 5.38 min, which is pretty close to the 50%, which is 5.42 min.\n",
    "* Various users have spent anywhere from min of 0.19 to the max of 10.71 minutes.\n",
    "* Based on the min, max, 50%, and the mean, this almost looks like a normal distribution curve, but to be confirmed later in the paper during exploratory data analysis."
   ]
  },
  {
   "cell_type": "markdown",
   "id": "b220b6c3",
   "metadata": {},
   "source": [
    "### Objective 1: Exploratory Data Analysis (EDA)"
   ]
  },
  {
   "cell_type": "markdown",
   "id": "c4c66c32",
   "metadata": {},
   "source": [
    "### Univariate Analysis"
   ]
  },
  {
   "cell_type": "code",
   "execution_count": 10,
   "id": "b14899fb",
   "metadata": {},
   "outputs": [],
   "source": [
    "# Univariate charts go here...\n",
    "\n",
    "# For univariate analysis of numerical variables, looking at their central tendency and dispersion.\n",
    "# The below function helps create a boxplot and histogram for any input numerical variable.\n",
    "# This function takes the numerical column as the input and returns the boxplots + histograms for the variable.\n",
    "# The function allows me to plot a boxplot and a histogram along the same scale for better visibility.\n",
    "# Also, within the 3 quotes below is the text that would be used if somebody searched for help on this function.\n",
    "\n",
    "\n",
    "def histogram_boxplot(data, feature, figsize=(12, 7), kde=False, bins=None):\n",
    "    \"\"\"\n",
    "    Boxplot and histogram combined\n",
    "    data: dataframe\n",
    "    feature: dataframe column\n",
    "    figsize: size of figure (default (12,7))\n",
    "    kde: whether to show the density curve (default False)\n",
    "    bins: number of bins for histogram (default None)\n",
    "    \"\"\"\n",
    "    \n",
    "    f2, (ax_box2, ax_hist2) = plt.subplots(\n",
    "        nrows=2,  # Number of rows of the subplot grid= 2\n",
    "        sharex=True,  # x-axis will be shared among all subplots\n",
    "        gridspec_kw={\"height_ratios\": (0.25, 0.75)},\n",
    "        figsize=figsize,\n",
    "    )  # creating the 2 subplots\n",
    "    sns.boxplot(\n",
    "        data=data, x=feature, ax=ax_box2, showmeans=True, color=\"violet\"\n",
    "    )  # boxplot will be created and a star will indicate the mean value of the column\n",
    "    sns.histplot(\n",
    "        data=data, x=feature, kde=kde, ax=ax_hist2, bins=bins, palette=\"winter\"\n",
    "    ) if bins else sns.histplot(\n",
    "        data=data, x=feature, kde=kde, ax=ax_hist2\n",
    "    )  # For histogram\n",
    "    ax_hist2.axvline(\n",
    "        data[feature].mean(), color=\"green\", linestyle=\"--\"\n",
    "    )  # Add mean to the histogram\n",
    "    ax_hist2.axvline(\n",
    "        data[feature].median(), color=\"black\", linestyle=\"-\"\n",
    "    )  # Add median to the histogram"
   ]
  },
  {
   "cell_type": "code",
   "execution_count": 11,
   "id": "2007ed77",
   "metadata": {},
   "outputs": [
    {
     "data": {
      "text/plain": [
       "Text(0.5, 1.0, 'Distribution of Time Spent on The Page')"
      ]
     },
     "execution_count": 11,
     "metadata": {},
     "output_type": "execute_result"
    },
    {
     "data": {
      "image/png": "[encoded data removed]",
      "text/plain": [
       "<Figure size 864x504 with 2 Axes>"
      ]
     },
     "metadata": {
      "needs_background": "light"
     },
     "output_type": "display_data"
    }
   ],
   "source": [
    "histogram_boxplot(df, 'time_spent_on_the_page')\n",
    "plt.title('Distribution of Time Spent on The Page')"
   ]
  },
  {
   "cell_type": "code",
   "execution_count": 12,
   "id": "4da5e580",
   "metadata": {},
   "outputs": [
    {
     "data": {
      "text/plain": [
       "Text(0.5, 1.0, 'Density of Time Spent on The Page')"
      ]
     },
     "execution_count": 12,
     "metadata": {},
     "output_type": "execute_result"
    },
    {
     "data": {
      "image/png": "[encoded data removed]",
      "text/plain": [
       "<Figure size 432x288 with 1 Axes>"
      ]
     },
     "metadata": {
      "needs_background": "light"
     },
     "output_type": "display_data"
    }
   ],
   "source": [
    "sns.distplot(df['time_spent_on_the_page']);\n",
    "plt.title('Density of Time Spent on The Page')"
   ]
  },
  {
   "cell_type": "markdown",
   "id": "f1004c58",
   "metadata": {},
   "source": [
    "#### Observations (3 charts above):\n",
    "\n",
    "* The 'time_spent_on_the_page' seems like a normal bell-shaped distribution.\n",
    "* It's highest peak is at around 23 counts of users spending close to 5 minutes on the page.\n",
    "* Median time (solid black line) is very close to the mean time (green dashed line) with a very small and almost invisible left skew.\n",
    "* The distribution of the time spent on page is pretty uniformly distributed with almost equal but slightly higher number of counts for the right side of the curve (right of the median), so there are likely a little more users spending more than 5 min on the page than there are users spending less than 5 min on the page. This, however, is likely not a significant difference.\n",
    "* There is a 2nd peak in the curve at around 22 counts of users spending close to 6 minutes on the page."
   ]
  },
  {
   "cell_type": "markdown",
   "id": "7c27e7f4",
   "metadata": {},
   "source": [
    "### Categorical Data Analysis"
   ]
  },
  {
   "cell_type": "code",
   "execution_count": 13,
   "id": "b1480a67",
   "metadata": {},
   "outputs": [],
   "source": [
    "# function to create labeled barplots\n",
    "\n",
    "def labeled_barplot(data, feature, perc=False, n=None):\n",
    "    \"\"\"\n",
    "    Barplot with percentage at the top\n",
    "    data: dataframe\n",
    "    feature: dataframe column\n",
    "    perc: whether to display percentages instead of count (default is False)\n",
    "    n: displays the top n category levels (default is None, i.e., display all levels)\n",
    "    \"\"\"\n",
    "\n",
    "    total = len(data[feature])  # length of the column\n",
    "    count = data[feature].nunique()\n",
    "    if n is None:\n",
    "        plt.figure(figsize=(count + 1, 5))\n",
    "    else:\n",
    "        plt.figure(figsize=(n + 1, 5))\n",
    "\n",
    "    plt.xticks(rotation=90, fontsize=15)\n",
    "    ax = sns.countplot(\n",
    "        data=data,\n",
    "        x=feature,\n",
    "        palette=\"Paired\",\n",
    "        order=data[feature].value_counts().index[:n].sort_values(),\n",
    "    )\n",
    "\n",
    "    for p in ax.patches:\n",
    "        if perc == True:\n",
    "            label = \"{:.1f}%\".format(\n",
    "                100 * p.get_height() / total\n",
    "            )  # percentage of each class of the category\n",
    "        else:\n",
    "            label = p.get_height()  # count of each level of the category\n",
    "\n",
    "        x = p.get_x() + p.get_width() / 2  # width of the plot\n",
    "        y = p.get_height()  # height of the plot\n",
    "\n",
    "        ax.annotate(\n",
    "            label,\n",
    "            (x, y),\n",
    "            ha=\"center\",\n",
    "            va=\"center\",\n",
    "            size=12,\n",
    "            xytext=(0, 5),\n",
    "            textcoords=\"offset points\",\n",
    "        )  # annotate the percentage\n",
    "\n",
    "    plt.show()  # show the plot"
   ]
  },
  {
   "cell_type": "code",
   "execution_count": 14,
   "id": "f09d8eb0",
   "metadata": {},
   "outputs": [
    {
     "data": {
      "text/plain": [
       "<Figure size 720x504 with 0 Axes>"
      ]
     },
     "metadata": {},
     "output_type": "display_data"
    },
    {
     "data": {
      "image/png": "[encoded data removed]",
      "text/plain": [
       "<Figure size 216x360 with 1 Axes>"
      ]
     },
     "metadata": {
      "needs_background": "light"
     },
     "output_type": "display_data"
    }
   ],
   "source": [
    "plt.figure(figsize=(10,7))\n",
    "labeled_barplot(df, 'converted', perc=True)"
   ]
  },
  {
   "cell_type": "markdown",
   "id": "ec990204",
   "metadata": {},
   "source": [
    "#### Observations:\n",
    "\n",
    "* 46% of users did NOT convert and 54% of users DID convert (for both page designs).\n",
    "* There is a difference of about 8% in the number of users who converted / in favor of 'yes' results."
   ]
  },
  {
   "cell_type": "code",
   "execution_count": 15,
   "id": "8163d4f4",
   "metadata": {},
   "outputs": [
    {
     "data": {
      "text/plain": [
       "<Figure size 720x504 with 0 Axes>"
      ]
     },
     "metadata": {},
     "output_type": "display_data"
    },
    {
     "data": {
      "image/png": "[encoded data removed]",
      "text/plain": [
       "<Figure size 288x360 with 1 Axes>"
      ]
     },
     "metadata": {
      "needs_background": "light"
     },
     "output_type": "display_data"
    }
   ],
   "source": [
    "plt.figure(figsize=(10,7))\n",
    "labeled_barplot(df, 'language_preferred', perc=True)"
   ]
  },
  {
   "cell_type": "markdown",
   "id": "0aa36647",
   "metadata": {},
   "source": [
    "#### Observations:\n",
    "\n",
    "* The visiting users have 3 language preferences: English, French, and Spanish.\n",
    "* There are 32 counts of English preference visitors.\n",
    "* There are 34 counts of both/each: French and Spanish visitors."
   ]
  },
  {
   "cell_type": "code",
   "execution_count": 16,
   "id": "dae60e44",
   "metadata": {},
   "outputs": [
    {
     "data": {
      "text/plain": [
       "<Figure size 720x504 with 0 Axes>"
      ]
     },
     "metadata": {},
     "output_type": "display_data"
    },
    {
     "data": {
      "image/png": "[encoded data removed]",
      "text/plain": [
       "<Figure size 216x360 with 1 Axes>"
      ]
     },
     "metadata": {
      "needs_background": "light"
     },
     "output_type": "display_data"
    }
   ],
   "source": [
    "plt.figure(figsize=(10,7))\n",
    "labeled_barplot(df, 'landing_page', perc=True)"
   ]
  },
  {
   "cell_type": "markdown",
   "id": "4d4ebdb6",
   "metadata": {},
   "source": [
    "#### Observations:\n",
    "\n",
    "* There is an intuitively logical count of 50/50 in the 'new' and 'old' landing page visitors, because typically with A/B tests, there is a near even split of user/visitor traffic to both of the tested pages, A and B.\n",
    "* We can see the similarly intuitive 50/50 split in the below chart for the 'group' category."
   ]
  },
  {
   "cell_type": "code",
   "execution_count": 17,
   "id": "3361e82b",
   "metadata": {},
   "outputs": [
    {
     "data": {
      "text/plain": [
       "<Figure size 720x504 with 0 Axes>"
      ]
     },
     "metadata": {},
     "output_type": "display_data"
    },
    {
     "data": {
      "image/png": "[encoded data removed]",
      "text/plain": [
       "<Figure size 216x360 with 1 Axes>"
      ]
     },
     "metadata": {
      "needs_background": "light"
     },
     "output_type": "display_data"
    }
   ],
   "source": [
    "plt.figure(figsize=(10,7))\n",
    "labeled_barplot(df, 'group', perc=True)"
   ]
  },
  {
   "cell_type": "markdown",
   "id": "1ca8f9c7",
   "metadata": {},
   "source": [
    "#### Observations:\n",
    "\n",
    "* There is an intuitively logical count of 50/50 split in the 'control' and 'treatment' groups visitors, because typically with A/B tests, there is a near even split of user/visitor traffic to both types of groups, conrol and treatment.\n",
    "* We can see the similarly intuitive 50/50 split in the above chart for the 'landing_page' category."
   ]
  },
  {
   "cell_type": "markdown",
   "id": "9723176d",
   "metadata": {},
   "source": [
    "### Multivariate Analysis"
   ]
  },
  {
   "cell_type": "code",
   "execution_count": 18,
   "id": "a1b5be57",
   "metadata": {},
   "outputs": [
    {
     "data": {
      "image/png": "[encoded data removed]",
      "text/plain": [
       "<Figure size 1080x504 with 2 Axes>"
      ]
     },
     "metadata": {
      "needs_background": "light"
     },
     "output_type": "display_data"
    }
   ],
   "source": [
    "# Bivariate and multivariate charts go here...\n",
    "\n",
    "# Correlation among numerical variables\n",
    "num_var = ['user_id','time_spent_on_the_page']\n",
    "corr = df[num_var].corr()\n",
    "\n",
    "# plot the heatmap\n",
    "plt.figure(figsize=(15, 7))\n",
    "sns.heatmap(corr, annot=True, vmin=-1, vmax=1, fmt=\".2f\", cmap=\"Spectral\", xticklabels=corr.columns, yticklabels=corr.columns)\n",
    "plt.title('Heatmap of the important numeric variables')\n",
    "plt.show()"
   ]
  },
  {
   "cell_type": "markdown",
   "id": "0eca6a84",
   "metadata": {},
   "source": [
    "### Observations:\n",
    "* In the above chart, I don't see a significant correlation between the two observed variables."
   ]
  },
  {
   "cell_type": "code",
   "execution_count": 19,
   "id": "9d2e6054",
   "metadata": {},
   "outputs": [
    {
     "data": {
      "image/png": "[encoded data removed]",
      "text/plain": [
       "<Figure size 360x360 with 6 Axes>"
      ]
     },
     "metadata": {
      "needs_background": "light"
     },
     "output_type": "display_data"
    }
   ],
   "source": [
    "# using sns pairplot to see if there are any correlations amongst the observable variables.\n",
    "sns.pairplot(data=df[num_var], diag_kind=\"kde\")\n",
    "plt.show()"
   ]
  },
  {
   "cell_type": "markdown",
   "id": "511abb9f",
   "metadata": {},
   "source": [
    "#### Observations:\n",
    "* In the above charts, I don't see a significant correlation between any of the observed variables.\n",
    "* User IDs seem to be distributed across two distinct groups of counts with respect to the ID count itself.\n",
    "* User IDs have twin peaks likely because their visits are distributed across two groups, control and treatment. \n",
    "* As expected, the time spent on page is normally distributed."
   ]
  },
  {
   "cell_type": "code",
   "execution_count": 20,
   "id": "c8018f8c",
   "metadata": {},
   "outputs": [
    {
     "data": {
      "image/png": "[encoded data removed]",
      "text/plain": [
       "<Figure size 1080x504 with 1 Axes>"
      ]
     },
     "metadata": {
      "needs_background": "light"
     },
     "output_type": "display_data"
    }
   ],
   "source": [
    "# drilling further down into the times spent on two landing pages with conversion as hue.\n",
    "plt.figure(figsize=(15,7))           \n",
    "sns.boxplot(df['time_spent_on_the_page'],df['landing_page'], hue=df['converted'])\n",
    "plt.title('Time spent on pages and conversion -distributions across the two landing pages')\n",
    "plt.show()"
   ]
  },
  {
   "cell_type": "markdown",
   "id": "092d89c2",
   "metadata": {},
   "source": [
    "#### Observations:\n",
    "\n",
    "* Converted visits to both landing pages have higher IQRs in terms of the time spent on pages than those visits that haven't converted.\n",
    "* Both landing pages and their yes/no conversions have a small number of outliers, particularly on the higher end in terms of the times spent on pages.\n",
    "* New landing page starts converting at 4.5 min spent on page (or 5.5 min for the 25 percentile of IQR), while the old landing page starts converting as low as 3 min spent on page (or just over 5 min for the 25th percentile of IQR). \n",
    "* One could say that the old landing page requires slightly less time spent on page in order to convert.\n",
    "* One could also say that the old landing page requires considerably less time spent on page in order for the visits to drop (not convert). In other words, the IQR for non-conversions on the old landing page is a lot smaller than the IQR for the non-converted visitors of the new landing page.  "
   ]
  },
  {
   "cell_type": "code",
   "execution_count": 21,
   "id": "20f9a9c4",
   "metadata": {},
   "outputs": [
    {
     "data": {
      "image/png": "[encoded data removed]",
      "text/plain": [
       "<Figure size 1080x504 with 1 Axes>"
      ]
     },
     "metadata": {
      "needs_background": "light"
     },
     "output_type": "display_data"
    }
   ],
   "source": [
    "# looking at the above scenario, but with a slight twist: now converted is on 'y' axis, and new/old page is the hue\n",
    "plt.figure(figsize=(15,7))           \n",
    "sns.boxplot(df['time_spent_on_the_page'],df['converted'],hue=df['landing_page'])\n",
    "plt.title('Time spent on page distributions across the no/yes conversions and landing pages')\n",
    "plt.show()"
   ]
  },
  {
   "cell_type": "markdown",
   "id": "76ff62de",
   "metadata": {},
   "source": [
    "#### Observations:\n",
    "\n",
    "* Now we see that both new and old landing pages have similar IQRs for the converted times spent on page. However, New page seems to have slightly elevated IQRs from 6-7.5 minutes, while the old landing page has IQR from 5.5-7 minutes. The old page, therefore, seems to take visitors less time to read in order to decided that they will convert.\n",
    "* The non-converted times spent on pages shows that visitors take less reading time on the old page to decide that they will NOT convert (IQR from 2-4.5 minutes). While visitors to the new landing page spend longer time on page before they decide to NOT convert (IQR from 4-5.5 min). "
   ]
  },
  {
   "cell_type": "code",
   "execution_count": 22,
   "id": "28d4615d",
   "metadata": {},
   "outputs": [
    {
     "data": {
      "image/png": "[encoded data removed]",
      "text/plain": [
       "<Figure size 720x504 with 1 Axes>"
      ]
     },
     "metadata": {
      "needs_background": "light"
     },
     "output_type": "display_data"
    }
   ],
   "source": [
    "# using histplot to observe time spent on pages counts with hue on conversion.\n",
    "plt.figure(figsize=(10,7))\n",
    "sns.histplot(x='time_spent_on_the_page',data=df,hue=df['converted'])\n",
    "plt.title('Time spent on pages count with conversions')\n",
    "plt.show()"
   ]
  },
  {
   "cell_type": "markdown",
   "id": "1e185f5d",
   "metadata": {},
   "source": [
    "#### Observations:\n",
    "\n",
    "* This chart shows that the count of most conversions, in terms of the time spent on pages, happens at the 6th minute and above.\n",
    "* Simultaneously, the chart shows that most non-conversions happen from 0 - 4 minutes of time spent on pages in terms of the count of occurences.\n",
    "* The most overlaps of the two values (converted and non-converted) happens at the 5th minute of the time spent on pages count."
   ]
  },
  {
   "cell_type": "code",
   "execution_count": 23,
   "id": "790180be",
   "metadata": {},
   "outputs": [
    {
     "data": {
      "image/png": "[encoded data removed]",
      "text/plain": [
       "<Figure size 1080x504 with 1 Axes>"
      ]
     },
     "metadata": {
      "needs_background": "light"
     },
     "output_type": "display_data"
    }
   ],
   "source": [
    "# looking at conversion times spent on pages based on which group users belong to, control or treatment.\n",
    "plt.figure(figsize=(15,7))           \n",
    "sns.boxplot(df['time_spent_on_the_page'],df['converted'],hue=df['group'])\n",
    "plt.title('Conversion times spent on pages based on user group')\n",
    "plt.show()"
   ]
  },
  {
   "cell_type": "markdown",
   "id": "80f6884a",
   "metadata": {},
   "source": [
    "#### Observations:\n",
    "\n",
    "* There is a much bigger overlap of IQRs between the 'control' and 'treatment' groups within the converted times spent on pages vs. the much cleaner separation of IQRs between the 'control' and 'treatment' groups for the non-converted times spent on pages.\n",
    "* IQRs for converted times spent on pages for both groups are above 5 minutes, while IQRs for non-converted times spent on pages are mostly below 5.5 minutes."
   ]
  },
  {
   "cell_type": "markdown",
   "id": "35772224",
   "metadata": {},
   "source": [
    "## Objective 2: Do the users spend more time on the new landing page than the old landing page?"
   ]
  },
  {
   "cell_type": "code",
   "execution_count": 24,
   "id": "049fcae5",
   "metadata": {},
   "outputs": [
    {
     "data": {
      "text/html": [
       "<div>\n",
       "<style scoped>\n",
       "    .dataframe tbody tr th:only-of-type {\n",
       "        vertical-align: middle;\n",
       "    }\n",
       "\n",
       "    .dataframe tbody tr th {\n",
       "        vertical-align: top;\n",
       "    }\n",
       "\n",
       "    .dataframe thead th {\n",
       "        text-align: right;\n",
       "    }\n",
       "</style>\n",
       "<table border=\"1\" class=\"dataframe\">\n",
       "  <thead>\n",
       "    <tr style=\"text-align: right;\">\n",
       "      <th></th>\n",
       "      <th>user_id</th>\n",
       "      <th>group</th>\n",
       "      <th>landing_page</th>\n",
       "      <th>time_spent_on_the_page</th>\n",
       "      <th>converted</th>\n",
       "      <th>language_preferred</th>\n",
       "    </tr>\n",
       "  </thead>\n",
       "  <tbody>\n",
       "    <tr>\n",
       "      <th>0</th>\n",
       "      <td>546592</td>\n",
       "      <td>control</td>\n",
       "      <td>old</td>\n",
       "      <td>3.48</td>\n",
       "      <td>no</td>\n",
       "      <td>Spanish</td>\n",
       "    </tr>\n",
       "    <tr>\n",
       "      <th>1</th>\n",
       "      <td>546468</td>\n",
       "      <td>treatment</td>\n",
       "      <td>new</td>\n",
       "      <td>7.13</td>\n",
       "      <td>yes</td>\n",
       "      <td>English</td>\n",
       "    </tr>\n",
       "    <tr>\n",
       "      <th>2</th>\n",
       "      <td>546462</td>\n",
       "      <td>treatment</td>\n",
       "      <td>new</td>\n",
       "      <td>4.40</td>\n",
       "      <td>no</td>\n",
       "      <td>Spanish</td>\n",
       "    </tr>\n",
       "    <tr>\n",
       "      <th>3</th>\n",
       "      <td>546567</td>\n",
       "      <td>control</td>\n",
       "      <td>old</td>\n",
       "      <td>3.02</td>\n",
       "      <td>no</td>\n",
       "      <td>French</td>\n",
       "    </tr>\n",
       "    <tr>\n",
       "      <th>4</th>\n",
       "      <td>546459</td>\n",
       "      <td>treatment</td>\n",
       "      <td>new</td>\n",
       "      <td>4.75</td>\n",
       "      <td>yes</td>\n",
       "      <td>Spanish</td>\n",
       "    </tr>\n",
       "  </tbody>\n",
       "</table>\n",
       "</div>"
      ],
      "text/plain": [
       "   user_id      group landing_page  time_spent_on_the_page converted  \\\n",
       "0   546592    control          old                    3.48        no   \n",
       "1   546468  treatment          new                    7.13       yes   \n",
       "2   546462  treatment          new                    4.40        no   \n",
       "3   546567    control          old                    3.02        no   \n",
       "4   546459  treatment          new                    4.75       yes   \n",
       "\n",
       "  language_preferred  \n",
       "0            Spanish  \n",
       "1            English  \n",
       "2            Spanish  \n",
       "3             French  \n",
       "4            Spanish  "
      ]
     },
     "execution_count": 24,
     "metadata": {},
     "output_type": "execute_result"
    }
   ],
   "source": [
    "# per chat instructions/suggestions, will use the 'landing_page' variable to answer the question.\n",
    "\n",
    "# copying data just in case\n",
    "df1 = df.copy()\n",
    "df1.head()"
   ]
  },
  {
   "cell_type": "code",
   "execution_count": 25,
   "id": "1952e2b9",
   "metadata": {},
   "outputs": [
    {
     "data": {
      "text/plain": [
       "landing_page\n",
       "new    311.16\n",
       "old    226.62\n",
       "Name: time_spent_on_the_page, dtype: float64"
      ]
     },
     "execution_count": 25,
     "metadata": {},
     "output_type": "execute_result"
    }
   ],
   "source": [
    "# here, I am observing the plain old cumulative time spent on both pages to understand the hared numbers.\n",
    "\n",
    "time_spent=df1.groupby('landing_page')['time_spent_on_the_page'].sum().sort_values(ascending=False)\n",
    "time_spent"
   ]
  },
  {
   "cell_type": "code",
   "execution_count": 26,
   "id": "e26eec92",
   "metadata": {},
   "outputs": [
    {
     "data": {
      "text/plain": [
       "landing_page\n",
       "new    6.2232\n",
       "old    4.5324\n",
       "Name: time_spent_on_the_page, dtype: float64"
      ]
     },
     "execution_count": 26,
     "metadata": {},
     "output_type": "execute_result"
    }
   ],
   "source": [
    "# now observing if the means are the same\n",
    "\n",
    "mean_time=df1.groupby('landing_page')['time_spent_on_the_page'].mean()\n",
    "mean_time"
   ]
  },
  {
   "cell_type": "code",
   "execution_count": 27,
   "id": "064cb224",
   "metadata": {},
   "outputs": [
    {
     "data": {
      "image/png": "[encoded data removed]",
      "text/plain": [
       "<Figure size 1080x504 with 1 Axes>"
      ]
     },
     "metadata": {
      "needs_background": "light"
     },
     "output_type": "display_data"
    }
   ],
   "source": [
    "# the boxplot below shows that indeed the NEW landing page time spent mean is just over 6 minutes, while for the OLD...\n",
    "# ...page the mean time spent on page is just over 4.5 minutes or so.\n",
    "\n",
    "plt.figure(figsize=(15,7))\n",
    "sns.boxplot(df['landing_page'],df['time_spent_on_the_page'], orient=\"v\",showmeans=True)\n",
    "plt.title('Time spent on pages -distributions across the two landing pages')\n",
    "plt.show()"
   ]
  },
  {
   "cell_type": "markdown",
   "id": "62683f83",
   "metadata": {},
   "source": [
    "#### Observations:\n",
    "\n",
    "* It looks like users spend overall (cumulatively speaking) more time on the new version of the landing page vs. the old version. This could potentially mean several things:\n",
    "** A) The new page might have more content, and so it takes longer to read it.\n",
    "** B) Or the new page is written in a less clear manner/format, hence it takes longer time to read it in order to understand it.\n",
    "* Looking at mean times, the NEW page mean time is larger (6.22) vs. the mean time for the OLD page (4.53).\n",
    "\n",
    "* New landing page seems to have IQR positioned between 5 and 7 minutes.\n",
    "* Old landing page has its IQR positioned between 3 and 6.5 minutes.\n",
    "* New landing page has smaller spectrum of times spent on the page (min/max range values) with some outliers on both ends.\n",
    "* Older page has a wider spectrum/range of min/max values."
   ]
  },
  {
   "cell_type": "code",
   "execution_count": 28,
   "id": "6380aa7c",
   "metadata": {},
   "outputs": [
    {
     "data": {
      "image/png": "[encoded data removed]",
      "text/plain": [
       "<Figure size 1080x504 with 1 Axes>"
      ]
     },
     "metadata": {
      "needs_background": "light"
     },
     "output_type": "display_data"
    }
   ],
   "source": [
    "# using boxplots to visually investigate how 'no' and 'yes' conversions look from the mean time spent on page...\n",
    "# and distribution perspectives in terms of both of the landing pages.\n",
    "\n",
    "plt.figure(figsize=(15,7))\n",
    "sns.boxplot(df['time_spent_on_the_page'],df['landing_page'], hue=df['converted'])\n",
    "plt.title('Time spent on pages and conversion -distributions across the two landing pages')\n",
    "plt.show()"
   ]
  },
  {
   "cell_type": "markdown",
   "id": "387c9d26",
   "metadata": {},
   "source": [
    "#### Observations:\n",
    "\n",
    "* The boxplot chart is intitively demonstrating that the NON-conversions have lower means and lower times spent on pages for both page designs. However, the OLD page design shows lower times spent on page for both conversion events, the 'yes' and 'no' conversion events.\n",
    "* Now we see that both new and old landing pages have similar IQRs for the converted times spent on page. However, New page seems to have slightly elevated IQRs from 6-7.5 minutes, while the old landing page has IQR from 5.5-7 minutes. The old page, therefore, seems to take visitors less time to read in order to decided that they will convert.\n",
    "* The non-converted times spent on pages shows that visitors take less reading time on the old page to decide that they will NOT convert (IQR from 2-4.5 minutes). While visitors to the new landing page spend longer time on page before they decide to NOT convert (IQR from 4-5.5 min). "
   ]
  },
  {
   "cell_type": "markdown",
   "id": "f8128f6f",
   "metadata": {},
   "source": [
    "### Now let's look at this problem from the statistical perspective\n",
    "\n",
    "#### Two Independent Sample Z-test for Equality of Means"
   ]
  },
  {
   "cell_type": "markdown",
   "id": "0ccea5fc",
   "metadata": {},
   "source": [
    "#### Let's write the null and alternative hypothesis\n",
    "\n",
    "* Let $\\mu_1, \\mu_2$ be the mean time spent on the NEW and OLD pages respectively.\n",
    "\n",
    "* We want to test whether there is an increase in the time spent on the NEW page compared to the OLD page.\n",
    "\n",
    "* We will test the null hypothesis\n",
    "\n",
    "* >$H_0:\\mu_1=\\mu_2$\n",
    "\n",
    "* against the alternate hypothesis\n",
    "\n",
    "* >$H_a:\\mu_1>\\mu_2$"
   ]
  },
  {
   "cell_type": "markdown",
   "id": "f2706f77",
   "metadata": {},
   "source": [
    "#### Let's test whether the Z-test assumptions are satisfied or not\n",
    "* **Continuous data** - Yes, the time spent on page is measured on a continuous scale.\n",
    "* **Normally distributed populations** - Yes, the visual data representation shows that the populations are normal.\n",
    "* **Independent observations** - As we are taking the sampled unit randomly, the observed time measurements are independent.\n",
    "* **Known population standard deviation 𝜎1 and 𝜎2**  - Yes, we know the population standard deviations of both the populations.\n",
    "* **Random sampling from the population** - Yes, we are informed that the collected sample is a simple random sample."
   ]
  },
  {
   "cell_type": "code",
   "execution_count": 29,
   "id": "a2eb85c0",
   "metadata": {},
   "outputs": [],
   "source": [
    "# here observing the two samples\n",
    "X1=df1[df1.landing_page=='new']['time_spent_on_the_page']\n",
    "X2=df1[df1.landing_page=='old']['time_spent_on_the_page']\n",
    "\n",
    "# here observing the standard deviations of both samples \n",
    "pop_sd1=df1[df1.landing_page=='new']['time_spent_on_the_page'].std()\n",
    "pop_sd2=df1[df1.landing_page=='old']['time_spent_on_the_page'].std()\n",
    "\n",
    "# here observin;g the count of both groups\n",
    "n1=df1[df1.landing_page=='new']['time_spent_on_the_page'].count()\n",
    "n2=df1[df1.landing_page=='old']['time_spent_on_the_page'].count()"
   ]
  },
  {
   "cell_type": "code",
   "execution_count": 30,
   "id": "e723dd71",
   "metadata": {},
   "outputs": [],
   "source": [
    "# user-defined function to compare the equality of two means from two independent populations, where population standard deviations are known\n",
    "# this function returns the p-value for one tailed test\n",
    "# for two-tailed test, multiply the p-value by 2\n",
    "# To know more about the derivation of test statistic and standard error formula, please refer to the monographs and additional materials\n",
    "def ztest_2samp(X1, X2, pop_sd1, pop_sd2, n1, n2):\n",
    "    \"\"\" \n",
    "    X1 - first of the two independent samples (sample 1)\n",
    "    X2 - second of the two independent samples (sample 2)\n",
    "    pop_sd1 - population standard deviation of sample 1\n",
    "    pop_sd2 - population standard deviation of sample 2\n",
    "    n1 - size of sample 1\n",
    "    n2 - size of sample 2\n",
    "    \"\"\"\n",
    "    from numpy import sqrt, abs # import the required functions\n",
    "    from scipy.stats import norm # import the required function\n",
    "\n",
    "    se = sqrt(pop_sd1**2/n1 + pop_sd2**2/n2) # calculate the standard error\n",
    "    test_stat = ((X1.mean() - X2.mean()) - 0)/ se # calculate the test statistic\n",
    "    pvl = 1 - norm.cdf(abs(test_stat)) # calculate the one-tailed p-value\n",
    "    return pvl # return the p-value"
   ]
  },
  {
   "cell_type": "code",
   "execution_count": 31,
   "id": "d364835b",
   "metadata": {},
   "outputs": [
    {
     "name": "stdout",
     "output_type": "stream",
     "text": [
      "The P-value is 7.630904034416908e-05\n"
     ]
    }
   ],
   "source": [
    "# find the p-value using the ztest_2samp() function\n",
    "\n",
    "from numpy import sqrt, abs # import the required functions\n",
    "from scipy.stats import norm \n",
    "from scipy import stats\n",
    "time_p_value = ztest_2samp(X1,X2,pop_sd1,pop_sd2,n1,n2)\n",
    "print('The P-value is', time_p_value)"
   ]
  },
  {
   "cell_type": "code",
   "execution_count": 32,
   "id": "301d83a8",
   "metadata": {},
   "outputs": [
    {
     "name": "stdout",
     "output_type": "stream",
     "text": [
      "Reject the null hypothesis\n"
     ]
    }
   ],
   "source": [
    "if time_p_value<.05:\n",
    "    print(\"Reject the null hypothesis\")\n",
    "else:\n",
    "    print(\"Accept the null hypothesis\")"
   ]
  },
  {
   "cell_type": "markdown",
   "id": "7560aeff",
   "metadata": {},
   "source": [
    "#### Observation:\n",
    "\n",
    "* Since the p_value is much smaller than our significance level of .05, we are rejecting the null hypothesis. The amount of time spent on the NEW page by users is statistically significant (higher) compared to the amount of time spent on the OLD page.\n",
    "* To repeat the above (prior) observation, this could potentially mean several things:\n",
    "** A) The new page might have more content, and so it takes longer to read it.\n",
    "** B) Or the new page is written in a less clear manner/format, hence it takes longer time to read it in order to understand it.\n",
    "* We would still need to further test and understand how time spent on page benefits conversion rates, if at all."
   ]
  },
  {
   "cell_type": "markdown",
   "id": "e2141b28",
   "metadata": {},
   "source": [
    "## Objective 3: Is the conversion rate (the proportion of users who visit the landing page and get converted) for the new page greater than the conversion rate for the old page?"
   ]
  },
  {
   "cell_type": "markdown",
   "id": "c8113d08",
   "metadata": {},
   "source": [
    "*Per project FAQs, the conversion rate is the proportion of users who visit the landing page and get converted. For example, if out of 50 users 20 gets converted, then the conversion rate is 20/50 =0.4*"
   ]
  },
  {
   "cell_type": "code",
   "execution_count": 33,
   "id": "24620147",
   "metadata": {},
   "outputs": [],
   "source": [
    "# let's first calculate how many visitors reached or visited the OLD and NEW landing pages.\n",
    "visits_old=df1[df1.landing_page=='old']['landing_page'].count()\n",
    "visits_new=df1[df1.landing_page=='new']['landing_page'].count()"
   ]
  },
  {
   "cell_type": "code",
   "execution_count": 34,
   "id": "503997fd",
   "metadata": {},
   "outputs": [],
   "source": [
    "# then let's observe how many visitors converted on the OLD page...\n",
    "converted_old=df1[df1.landing_page=='old'][df1.converted=='yes'].count()['converted']\n",
    "# and how many visitors converted on the NEW page.\n",
    "converted_new=df1[df1.landing_page=='new'][df1.converted=='yes'].count()['converted']"
   ]
  },
  {
   "cell_type": "code",
   "execution_count": 35,
   "id": "da5bdd42",
   "metadata": {},
   "outputs": [
    {
     "name": "stdout",
     "output_type": "stream",
     "text": [
      "The old page conversion rate is 0.42 and the new page conversion rate is 0.66\n"
     ]
    }
   ],
   "source": [
    "# and finally, let's calculate and print the conversion rates.\n",
    "rate_old, rate_new = converted_old/visits_old, converted_new/visits_new\n",
    "\n",
    "print('The old page conversion rate is', rate_old, 'and the new page conversion rate is', rate_new)"
   ]
  },
  {
   "cell_type": "markdown",
   "id": "552b5273",
   "metadata": {},
   "source": [
    "#### Observation:\n",
    "\n",
    "* The NEW page conversion rate is by around .24 points higher than the conversion rate for the OLD page."
   ]
  },
  {
   "cell_type": "markdown",
   "id": "04732dd5",
   "metadata": {},
   "source": [
    "####  *Another way to get to this same calculation...*\n",
    "#### =================================================================================="
   ]
  },
  {
   "cell_type": "code",
   "execution_count": 36,
   "id": "97a2b819",
   "metadata": {},
   "outputs": [
    {
     "data": {
      "text/html": [
       "<div>\n",
       "<style scoped>\n",
       "    .dataframe tbody tr th:only-of-type {\n",
       "        vertical-align: middle;\n",
       "    }\n",
       "\n",
       "    .dataframe tbody tr th {\n",
       "        vertical-align: top;\n",
       "    }\n",
       "\n",
       "    .dataframe thead th {\n",
       "        text-align: right;\n",
       "    }\n",
       "</style>\n",
       "<table border=\"1\" class=\"dataframe\">\n",
       "  <thead>\n",
       "    <tr style=\"text-align: right;\">\n",
       "      <th></th>\n",
       "      <th>user_id</th>\n",
       "      <th>group</th>\n",
       "      <th>landing_page</th>\n",
       "      <th>time_spent_on_the_page</th>\n",
       "      <th>converted</th>\n",
       "      <th>language_preferred</th>\n",
       "    </tr>\n",
       "  </thead>\n",
       "  <tbody>\n",
       "    <tr>\n",
       "      <th>0</th>\n",
       "      <td>546592</td>\n",
       "      <td>control</td>\n",
       "      <td>old</td>\n",
       "      <td>3.48</td>\n",
       "      <td>no</td>\n",
       "      <td>Spanish</td>\n",
       "    </tr>\n",
       "    <tr>\n",
       "      <th>1</th>\n",
       "      <td>546468</td>\n",
       "      <td>treatment</td>\n",
       "      <td>new</td>\n",
       "      <td>7.13</td>\n",
       "      <td>yes</td>\n",
       "      <td>English</td>\n",
       "    </tr>\n",
       "    <tr>\n",
       "      <th>2</th>\n",
       "      <td>546462</td>\n",
       "      <td>treatment</td>\n",
       "      <td>new</td>\n",
       "      <td>4.40</td>\n",
       "      <td>no</td>\n",
       "      <td>Spanish</td>\n",
       "    </tr>\n",
       "    <tr>\n",
       "      <th>3</th>\n",
       "      <td>546567</td>\n",
       "      <td>control</td>\n",
       "      <td>old</td>\n",
       "      <td>3.02</td>\n",
       "      <td>no</td>\n",
       "      <td>French</td>\n",
       "    </tr>\n",
       "    <tr>\n",
       "      <th>4</th>\n",
       "      <td>546459</td>\n",
       "      <td>treatment</td>\n",
       "      <td>new</td>\n",
       "      <td>4.75</td>\n",
       "      <td>yes</td>\n",
       "      <td>Spanish</td>\n",
       "    </tr>\n",
       "  </tbody>\n",
       "</table>\n",
       "</div>"
      ],
      "text/plain": [
       "   user_id      group landing_page  time_spent_on_the_page converted  \\\n",
       "0   546592    control          old                    3.48        no   \n",
       "1   546468  treatment          new                    7.13       yes   \n",
       "2   546462  treatment          new                    4.40        no   \n",
       "3   546567    control          old                    3.02        no   \n",
       "4   546459  treatment          new                    4.75       yes   \n",
       "\n",
       "  language_preferred  \n",
       "0            Spanish  \n",
       "1            English  \n",
       "2            Spanish  \n",
       "3             French  \n",
       "4            Spanish  "
      ]
     },
     "execution_count": 36,
     "metadata": {},
     "output_type": "execute_result"
    }
   ],
   "source": [
    "# copying data just in case\n",
    "df2 = df1.copy()\n",
    "df2.head()"
   ]
  },
  {
   "cell_type": "code",
   "execution_count": 37,
   "id": "ba9ebae8",
   "metadata": {},
   "outputs": [
    {
     "data": {
      "text/html": [
       "<div>\n",
       "<style scoped>\n",
       "    .dataframe tbody tr th:only-of-type {\n",
       "        vertical-align: middle;\n",
       "    }\n",
       "\n",
       "    .dataframe tbody tr th {\n",
       "        vertical-align: top;\n",
       "    }\n",
       "\n",
       "    .dataframe thead th {\n",
       "        text-align: right;\n",
       "    }\n",
       "</style>\n",
       "<table border=\"1\" class=\"dataframe\">\n",
       "  <thead>\n",
       "    <tr style=\"text-align: right;\">\n",
       "      <th></th>\n",
       "      <th>user_id</th>\n",
       "      <th>group</th>\n",
       "      <th>landing_page</th>\n",
       "      <th>time_spent_on_the_page</th>\n",
       "      <th>converted</th>\n",
       "      <th>language_preferred</th>\n",
       "      <th>con_count</th>\n",
       "    </tr>\n",
       "  </thead>\n",
       "  <tbody>\n",
       "    <tr>\n",
       "      <th>0</th>\n",
       "      <td>546592</td>\n",
       "      <td>control</td>\n",
       "      <td>old</td>\n",
       "      <td>3.48</td>\n",
       "      <td>no</td>\n",
       "      <td>Spanish</td>\n",
       "      <td>0</td>\n",
       "    </tr>\n",
       "    <tr>\n",
       "      <th>1</th>\n",
       "      <td>546468</td>\n",
       "      <td>treatment</td>\n",
       "      <td>new</td>\n",
       "      <td>7.13</td>\n",
       "      <td>yes</td>\n",
       "      <td>English</td>\n",
       "      <td>0</td>\n",
       "    </tr>\n",
       "    <tr>\n",
       "      <th>2</th>\n",
       "      <td>546462</td>\n",
       "      <td>treatment</td>\n",
       "      <td>new</td>\n",
       "      <td>4.40</td>\n",
       "      <td>no</td>\n",
       "      <td>Spanish</td>\n",
       "      <td>0</td>\n",
       "    </tr>\n",
       "    <tr>\n",
       "      <th>3</th>\n",
       "      <td>546567</td>\n",
       "      <td>control</td>\n",
       "      <td>old</td>\n",
       "      <td>3.02</td>\n",
       "      <td>no</td>\n",
       "      <td>French</td>\n",
       "      <td>0</td>\n",
       "    </tr>\n",
       "    <tr>\n",
       "      <th>4</th>\n",
       "      <td>546459</td>\n",
       "      <td>treatment</td>\n",
       "      <td>new</td>\n",
       "      <td>4.75</td>\n",
       "      <td>yes</td>\n",
       "      <td>Spanish</td>\n",
       "      <td>0</td>\n",
       "    </tr>\n",
       "  </tbody>\n",
       "</table>\n",
       "</div>"
      ],
      "text/plain": [
       "   user_id      group landing_page  time_spent_on_the_page converted  \\\n",
       "0   546592    control          old                    3.48        no   \n",
       "1   546468  treatment          new                    7.13       yes   \n",
       "2   546462  treatment          new                    4.40        no   \n",
       "3   546567    control          old                    3.02        no   \n",
       "4   546459  treatment          new                    4.75       yes   \n",
       "\n",
       "  language_preferred  con_count  \n",
       "0            Spanish          0  \n",
       "1            English          0  \n",
       "2            Spanish          0  \n",
       "3             French          0  \n",
       "4            Spanish          0  "
      ]
     },
     "execution_count": 37,
     "metadata": {},
     "output_type": "execute_result"
    }
   ],
   "source": [
    "# create new column that will hold converted counts ('con_count' or conversion count)\n",
    "df2['con_count']=0\n",
    "df2.head() # use dataframe head function to ensure that the column was added"
   ]
  },
  {
   "cell_type": "code",
   "execution_count": 38,
   "id": "7b9f9101",
   "metadata": {},
   "outputs": [
    {
     "data": {
      "text/html": [
       "<div>\n",
       "<style scoped>\n",
       "    .dataframe tbody tr th:only-of-type {\n",
       "        vertical-align: middle;\n",
       "    }\n",
       "\n",
       "    .dataframe tbody tr th {\n",
       "        vertical-align: top;\n",
       "    }\n",
       "\n",
       "    .dataframe thead th {\n",
       "        text-align: right;\n",
       "    }\n",
       "</style>\n",
       "<table border=\"1\" class=\"dataframe\">\n",
       "  <thead>\n",
       "    <tr style=\"text-align: right;\">\n",
       "      <th></th>\n",
       "      <th>user_id</th>\n",
       "      <th>group</th>\n",
       "      <th>landing_page</th>\n",
       "      <th>time_spent_on_the_page</th>\n",
       "      <th>converted</th>\n",
       "      <th>language_preferred</th>\n",
       "      <th>con_count</th>\n",
       "    </tr>\n",
       "  </thead>\n",
       "  <tbody>\n",
       "    <tr>\n",
       "      <th>0</th>\n",
       "      <td>546592</td>\n",
       "      <td>control</td>\n",
       "      <td>old</td>\n",
       "      <td>3.48</td>\n",
       "      <td>no</td>\n",
       "      <td>Spanish</td>\n",
       "      <td>0</td>\n",
       "    </tr>\n",
       "    <tr>\n",
       "      <th>1</th>\n",
       "      <td>546468</td>\n",
       "      <td>treatment</td>\n",
       "      <td>new</td>\n",
       "      <td>7.13</td>\n",
       "      <td>yes</td>\n",
       "      <td>English</td>\n",
       "      <td>1</td>\n",
       "    </tr>\n",
       "    <tr>\n",
       "      <th>2</th>\n",
       "      <td>546462</td>\n",
       "      <td>treatment</td>\n",
       "      <td>new</td>\n",
       "      <td>4.40</td>\n",
       "      <td>no</td>\n",
       "      <td>Spanish</td>\n",
       "      <td>0</td>\n",
       "    </tr>\n",
       "    <tr>\n",
       "      <th>3</th>\n",
       "      <td>546567</td>\n",
       "      <td>control</td>\n",
       "      <td>old</td>\n",
       "      <td>3.02</td>\n",
       "      <td>no</td>\n",
       "      <td>French</td>\n",
       "      <td>0</td>\n",
       "    </tr>\n",
       "    <tr>\n",
       "      <th>4</th>\n",
       "      <td>546459</td>\n",
       "      <td>treatment</td>\n",
       "      <td>new</td>\n",
       "      <td>4.75</td>\n",
       "      <td>yes</td>\n",
       "      <td>Spanish</td>\n",
       "      <td>1</td>\n",
       "    </tr>\n",
       "  </tbody>\n",
       "</table>\n",
       "</div>"
      ],
      "text/plain": [
       "   user_id      group landing_page  time_spent_on_the_page converted  \\\n",
       "0   546592    control          old                    3.48        no   \n",
       "1   546468  treatment          new                    7.13       yes   \n",
       "2   546462  treatment          new                    4.40        no   \n",
       "3   546567    control          old                    3.02        no   \n",
       "4   546459  treatment          new                    4.75       yes   \n",
       "\n",
       "  language_preferred  con_count  \n",
       "0            Spanish          0  \n",
       "1            English          1  \n",
       "2            Spanish          0  \n",
       "3             French          0  \n",
       "4            Spanish          1  "
      ]
     },
     "execution_count": 38,
     "metadata": {},
     "output_type": "execute_result"
    }
   ],
   "source": [
    "# each 'yes' in the 'converted' column will become a number '1' in the con_count column\n",
    "\n",
    "for i in df2.index:\n",
    "    if 'yes' in df2.loc[i,'converted']: # is the word 'yes' is in the column 'converted'?\n",
    "        df2.loc[i,'con_count'] = 1 # if so, change the value within the 'con_count' (conversion count column) to 1\n",
    "df2.head() # check the dataframe head to verify that the change occured"
   ]
  },
  {
   "cell_type": "code",
   "execution_count": 39,
   "id": "0fecbad5",
   "metadata": {},
   "outputs": [
    {
     "data": {
      "text/html": [
       "<div>\n",
       "<style scoped>\n",
       "    .dataframe tbody tr th:only-of-type {\n",
       "        vertical-align: middle;\n",
       "    }\n",
       "\n",
       "    .dataframe tbody tr th {\n",
       "        vertical-align: top;\n",
       "    }\n",
       "\n",
       "    .dataframe thead th {\n",
       "        text-align: right;\n",
       "    }\n",
       "</style>\n",
       "<table border=\"1\" class=\"dataframe\">\n",
       "  <thead>\n",
       "    <tr style=\"text-align: right;\">\n",
       "      <th></th>\n",
       "      <th>con_count</th>\n",
       "      <th>time_spent_on_the_page</th>\n",
       "    </tr>\n",
       "    <tr>\n",
       "      <th>landing_page</th>\n",
       "      <th></th>\n",
       "      <th></th>\n",
       "    </tr>\n",
       "  </thead>\n",
       "  <tbody>\n",
       "    <tr>\n",
       "      <th>new</th>\n",
       "      <td>0.66</td>\n",
       "      <td>6.2232</td>\n",
       "    </tr>\n",
       "    <tr>\n",
       "      <th>old</th>\n",
       "      <td>0.42</td>\n",
       "      <td>4.5324</td>\n",
       "    </tr>\n",
       "  </tbody>\n",
       "</table>\n",
       "</div>"
      ],
      "text/plain": [
       "              con_count  time_spent_on_the_page\n",
       "landing_page                                   \n",
       "new                0.66                  6.2232\n",
       "old                0.42                  4.5324"
      ]
     },
     "execution_count": 39,
     "metadata": {},
     "output_type": "execute_result"
    }
   ],
   "source": [
    "# group the dataframe by landing page, and find the mean of conversions for both, NEW and OLD pages.\n",
    "\n",
    "df2.groupby('landing_page')[['con_count','time_spent_on_the_page']].mean() # by mean"
   ]
  },
  {
   "cell_type": "markdown",
   "id": "b2840b84",
   "metadata": {},
   "source": [
    "#### ===================================================================================="
   ]
  },
  {
   "cell_type": "markdown",
   "id": "886def76",
   "metadata": {},
   "source": [
    "#### Observation:\n",
    "\n",
    "* The probability of the NEW page converting is 0.66, and is by around 0.24 points higher than the conversion rate for the OLD page, which is at 0.42.\n",
    "* The mean times spent on the NEW page by visitors is also higher than the mean time spent on the OLD page in similar proportions to the conversion means."
   ]
  },
  {
   "cell_type": "code",
   "execution_count": 40,
   "id": "7caa7ef6",
   "metadata": {},
   "outputs": [
    {
     "data": {
      "image/png": "[encoded data removed]",
      "text/plain": [
       "<Figure size 1080x504 with 1 Axes>"
      ]
     },
     "metadata": {
      "needs_background": "light"
     },
     "output_type": "display_data"
    }
   ],
   "source": [
    "# using boxplots to visually observe the NO-conversions and their mean times spent on both landing pages.\n",
    "plt.figure(figsize=(15,7))\n",
    "sns.boxplot(df2['landing_page'],df2['time_spent_on_the_page'], hue=df2[\"con_count\"])\n",
    "plt.title('Distribution of conversions based on times spent on page for the two landing pages')\n",
    "plt.show()"
   ]
  },
  {
   "cell_type": "markdown",
   "id": "aa8564f7",
   "metadata": {},
   "source": [
    "#### Chart observation:\n",
    "\n",
    "* Looking at the charts, intuitively speaking, the distribution of 'yes' conversions (represented as '1' or orange color) look to be similar for the OLD page and the NEW page, especially with respect to IQRs. Means for both landing pages and their 'yes' conversions seem to be in the similar range from 6.5 to 7 min spent on page.\n",
    "* Looking at the charts, similarly, we see that the there are bigger differences between the 'no' conversion time spent on page means (represented as '0' or blue color). Their means range from 3.5 min for OLD landing page to 4.5 min for the NEW landing page."
   ]
  },
  {
   "cell_type": "markdown",
   "id": "19b6080a",
   "metadata": {},
   "source": [
    "### *Now the statistical calculation*"
   ]
  },
  {
   "cell_type": "markdown",
   "id": "a5023c23",
   "metadata": {},
   "source": [
    "### Two Proportion Z-test"
   ]
  },
  {
   "cell_type": "markdown",
   "id": "b6a6c295",
   "metadata": {},
   "source": [
    "### Let's write the null and alternative hypothesis\n",
    "\n",
    "Let $p_1,p_2$ be the proportions of conversions between the two page variations, NEW and OLD respectively.\n",
    "\n",
    "The marketer will test the null hypothesis that both pages have equal conversions\n",
    "\n",
    ">$H_0:p_1 =p_2$\n",
    "\n",
    "against the alternate hypothesis that the NEW page has greater conversion than the OLD page\n",
    "\n",
    ">$H_a:p_1>p_2$"
   ]
  },
  {
   "cell_type": "markdown",
   "id": "8ee9ffff",
   "metadata": {},
   "source": [
    "### Let's test whether the Z-test assumptions are satisfied or not\n",
    "\n",
    "* **Binomally distributed population** - Yes, a visitor will either convert or not-convert. There is nothing in between.\n",
    "* **Random sampling from the population** - Yes, we are informed that the collected sample is a simple random sample.\n",
    "* **Can the binomial distribution approximated to normal distribution** - Yes. For binary data, CLT works slower than usual."
   ]
  },
  {
   "cell_type": "code",
   "execution_count": 41,
   "id": "4c16aff3",
   "metadata": {},
   "outputs": [
    {
     "name": "stdout",
     "output_type": "stream",
     "text": [
      "The p-value is 0.016052616408112556\n"
     ]
    }
   ],
   "source": [
    "# import the required fuction\n",
    "from statsmodels.stats.proportion import proportions_ztest\n",
    "\n",
    "# set the counts of converted times OLD page at 21 times and NEW page at 33 times\n",
    "conversion_count = np.array([21, 33])\n",
    "\n",
    "# set the sample sizes\n",
    "nobs = np.array([50, 50])\n",
    "\n",
    "# find the p-value\n",
    "test_stat, conv_p_value = proportions_ztest(conversion_count, nobs)\n",
    "# above, doesn't pass the value or alternative. It assumes that the H0 is equal.\n",
    "\n",
    "print('The p-value is ' + str(conv_p_value))"
   ]
  },
  {
   "cell_type": "code",
   "execution_count": 42,
   "id": "9292afd3",
   "metadata": {},
   "outputs": [
    {
     "name": "stdout",
     "output_type": "stream",
     "text": [
      "z statistic: -2.41\n",
      "p-value: 0.016\n",
      "At 95% confidence interval for the OLD page: lower bound = 0.283, and upper = 0.557\n",
      "At 95% confidence interval for the NEW page: lower bound = 0.529, and upper = 0.791\n"
     ]
    }
   ],
   "source": [
    "# I also wanted to use the 'proportion_confint' function within stats to find out the confidence interval for...\n",
    "# ...these two binomial proportions (NEW and OLD page conversions)\n",
    "\n",
    "# import the required function\n",
    "from statsmodels.stats.proportion import proportions_ztest, proportion_confint\n",
    "\n",
    "control_results = df2[df2['landing_page']=='old']['con_count']\n",
    "treatment_results = df2[df2['landing_page']=='new']['con_count']\n",
    "n_con = control_results.count()\n",
    "n_treat = treatment_results.count()\n",
    "successes = [control_results.sum(), treatment_results.sum()]\n",
    "nobs = [n_con, n_treat]\n",
    "\n",
    "z_stat, conv1_pval = proportions_ztest(successes, nobs=nobs)\n",
    "(lower_con, lower_treat), (upper_con, upper_treat) = proportion_confint(successes, nobs=nobs, alpha=0.05)\n",
    "\n",
    "print(f'z statistic: {z_stat:.2f}')\n",
    "print(f'p-value: {conv1_pval:.3f}')\n",
    "print(f'At 95% confidence interval for the OLD page: lower bound = {lower_con:.3f}, and upper = {upper_con:.3f}')\n",
    "print(f'At 95% confidence interval for the NEW page: lower bound = {lower_treat:.3f}, and upper = {upper_treat:.3f}')"
   ]
  },
  {
   "cell_type": "code",
   "execution_count": 43,
   "id": "d3cec0d7",
   "metadata": {},
   "outputs": [
    {
     "name": "stdout",
     "output_type": "stream",
     "text": [
      "Reject the null hypothesis\n"
     ]
    }
   ],
   "source": [
    "if conv1_pval<.05:\n",
    "    print(\"Reject the null hypothesis\")\n",
    "else:\n",
    "    print(\"Accept the null hypothesis\")"
   ]
  },
  {
   "cell_type": "markdown",
   "id": "e503aec6",
   "metadata": {},
   "source": [
    "#### Observation:\n",
    "\n",
    "* Since our p-value is smaller than our confidence interval of 0.05, we can assume statistical significance of our data and reject the H0. That also means that we can accept the alternate hypothesis that the conversion rate of the NEW page is likely significantly greater than the conversion rate of the OLD page."
   ]
  },
  {
   "cell_type": "markdown",
   "id": "bcb31877",
   "metadata": {},
   "source": [
    "## Objective 4: Does the converted status depend on the preferred language? [Hint: Create a contingency table using the pandas.crosstab() function]"
   ]
  },
  {
   "cell_type": "markdown",
   "id": "093472b8",
   "metadata": {},
   "source": [
    "#### Let's write the null and alternative hypothesis\n",
    "\n",
    "* We want to test whether there is a dependency between the conversion status and the language preferences.\n",
    "\n",
    "* We will test the null hypothesis\n",
    "\n",
    "* >$H_0:$ converted status does NOT depend on preferred language\n",
    "\n",
    "* against the alternate hypothesis\n",
    "\n",
    "* >$H_a:$ converted status DOES depend on the language preferences"
   ]
  },
  {
   "cell_type": "code",
   "execution_count": 44,
   "id": "7766e77a",
   "metadata": {},
   "outputs": [
    {
     "data": {
      "image/png": "[encoded data removed]",
      "text/plain": [
       "<Figure size 1080x504 with 1 Axes>"
      ]
     },
     "metadata": {
      "needs_background": "light"
     },
     "output_type": "display_data"
    }
   ],
   "source": [
    "# looking at conversion times spent on pages based on the users' language preferences\n",
    "plt.figure(figsize=(15,7))          \n",
    "sns.boxplot(df['time_spent_on_the_page'],df['converted'],hue=df['language_preferred'])\n",
    "plt.title('Conversion status times spent on pages based on user language preferences')\n",
    "plt.show()"
   ]
  },
  {
   "cell_type": "markdown",
   "id": "d5b97748",
   "metadata": {},
   "source": [
    "#### Chart observations:\n",
    "\n",
    "* This chart shows a pretty clear distinction in terms of time spent on pages for all 3 languages. Mainly, it shows that the 5th minute of reading clearly separates the 'yes' from 'non' conversions in that all 3 languages have IQR 25th percentiles at or above the 5th minute of spending time on the page for covnerted visitors.\n",
    "* Similarly, all 3 languages have IQR 75th percentile at or below the 5th minute of spending time on pages for the non-converted visitors.\n",
    "* Spanish language preferences have the shortest IQR within both, non-conversion and conversions. They likely spend the least amount of time to decide whether they will convert as well as not convert (between all 3 language groups).\n",
    "* Overall, all 3 languages show similar patterns with respect to time spent on page for 'yes' conversions, and the 3 languages show similar patterns with respect to time spent on page for the 'no' conversions. Their means are similar too and do not show big diversions, with exception of the Spanish language in the 'no' conversions, which has a big higher mean for times spent on page vs. other langauges in the same category."
   ]
  },
  {
   "cell_type": "code",
   "execution_count": 45,
   "id": "0a2bb80f",
   "metadata": {},
   "outputs": [
    {
     "data": {
      "text/html": [
       "<div>\n",
       "<style scoped>\n",
       "    .dataframe tbody tr th:only-of-type {\n",
       "        vertical-align: middle;\n",
       "    }\n",
       "\n",
       "    .dataframe tbody tr th {\n",
       "        vertical-align: top;\n",
       "    }\n",
       "\n",
       "    .dataframe thead th {\n",
       "        text-align: right;\n",
       "    }\n",
       "</style>\n",
       "<table border=\"1\" class=\"dataframe\">\n",
       "  <thead>\n",
       "    <tr style=\"text-align: right;\">\n",
       "      <th>converted</th>\n",
       "      <th>no</th>\n",
       "      <th>yes</th>\n",
       "    </tr>\n",
       "    <tr>\n",
       "      <th>language_preferred</th>\n",
       "      <th></th>\n",
       "      <th></th>\n",
       "    </tr>\n",
       "  </thead>\n",
       "  <tbody>\n",
       "    <tr>\n",
       "      <th>English</th>\n",
       "      <td>11</td>\n",
       "      <td>21</td>\n",
       "    </tr>\n",
       "    <tr>\n",
       "      <th>French</th>\n",
       "      <td>19</td>\n",
       "      <td>15</td>\n",
       "    </tr>\n",
       "    <tr>\n",
       "      <th>Spanish</th>\n",
       "      <td>16</td>\n",
       "      <td>18</td>\n",
       "    </tr>\n",
       "  </tbody>\n",
       "</table>\n",
       "</div>"
      ],
      "text/plain": [
       "converted           no  yes\n",
       "language_preferred         \n",
       "English             11   21\n",
       "French              19   15\n",
       "Spanish             16   18"
      ]
     },
     "execution_count": 45,
     "metadata": {},
     "output_type": "execute_result"
    }
   ],
   "source": [
    "#import the required functions\n",
    "from scipy.stats import chi2_contingency\n",
    "\n",
    "#preparing the needed data table using 'crosstab function'\n",
    "\n",
    "\"\"\"crosstab() function in Python. This method is used to compute a simple cross-tabulation of \n",
    "two (or more) factors. By default, computes a frequency table of the factors unless an array of \n",
    "values and an aggregation function are passed.\"\"\"\n",
    "\n",
    "table= pd.crosstab(df1['language_preferred'],df1['converted'])\n",
    "table"
   ]
  },
  {
   "cell_type": "code",
   "execution_count": 46,
   "id": "dad83b89",
   "metadata": {},
   "outputs": [
    {
     "name": "stdout",
     "output_type": "stream",
     "text": [
      "The p-value is  0.2129888748754345\n"
     ]
    }
   ],
   "source": [
    "chi, convert_p_value, dof, expected = chi2_contingency(table)\n",
    "\n",
    "print('The p-value is ', convert_p_value)"
   ]
  },
  {
   "cell_type": "code",
   "execution_count": 47,
   "id": "802943fa",
   "metadata": {},
   "outputs": [
    {
     "name": "stdout",
     "output_type": "stream",
     "text": [
      "Accept the null hypothesis\n"
     ]
    }
   ],
   "source": [
    "if convert_p_value<.05:\n",
    "    print(\"Reject the null hypothesis\")\n",
    "else:\n",
    "    print(\"Accept the null hypothesis\")"
   ]
  },
  {
   "cell_type": "markdown",
   "id": "1168a4ae",
   "metadata": {},
   "source": [
    "#### Observation:\n",
    "\n",
    "* As the p-value is much larger than 0.05, we don't have enough evidence to reject the H0. Hence, we can NOT say that the converted status depends on the preferred language."
   ]
  },
  {
   "cell_type": "markdown",
   "id": "10801429",
   "metadata": {},
   "source": [
    "## Objective 5: Is the mean time spent on the new page same for the different language users?"
   ]
  },
  {
   "cell_type": "markdown",
   "id": "e9449f8b",
   "metadata": {},
   "source": [
    "### Let's use F_Oneway"
   ]
  },
  {
   "cell_type": "markdown",
   "id": "737e8c4c",
   "metadata": {},
   "source": [
    "#### Let's write the null and alternative hypothesis\n",
    "\n",
    "* We want to test whether the mean time spent on the new page is same or different for the 3 language preferences.\n",
    "\n",
    "* We will test the null hypothesis\n",
    "\n",
    "* >$H_0:$ mean times spent on the new page are the same for different languages.\n",
    "\n",
    "* against the alternate hypothesis\n",
    "\n",
    "* >$H_a:$ mean times spent on the new page are different for different languages."
   ]
  },
  {
   "cell_type": "markdown",
   "id": "c80bdac3",
   "metadata": {},
   "source": [
    "### Let's test whether the assumptions are satisfied or not\n",
    "\n",
    "* **The populations are normally distributed** - Yes, the normality assumption is verified using the Shapiro-Wilk’s test below.\n",
    "* **Samples are independent simple random samples** - Yes, we are informed that the collected sample is a simple random sample.\n",
    "* **Population variances are equal** - Yes, the homogeneity of variance assumption is verified using the Levene's test below."
   ]
  },
  {
   "cell_type": "markdown",
   "id": "641adc96",
   "metadata": {},
   "source": [
    "### Shapiro-Wilk’s test\n",
    "\n",
    "We will test the null hypothesis\n",
    "\n",
    ">$H_0:$ The time spent on NEW page follows a normal distribution\n",
    "\n",
    "against the alternative hypothesis\n",
    "\n",
    ">$H_a:$ The time spent on NEW page does NOT follow a normal distribution"
   ]
  },
  {
   "cell_type": "code",
   "execution_count": 48,
   "id": "400317c4",
   "metadata": {},
   "outputs": [
    {
     "name": "stdout",
     "output_type": "stream",
     "text": [
      "The p-value is 0.8040016293525696\n"
     ]
    }
   ],
   "source": [
    "# Assumption 1: Normality\n",
    "# Use the shapiro function for the scipy.stats library for this test\n",
    "\n",
    "# find the p-value for the time spent on NEW landing page\n",
    "w, p_value = stats.shapiro(df1[df1.landing_page=='new']['time_spent_on_the_page']) \n",
    "print('The p-value is', p_value)"
   ]
  },
  {
   "cell_type": "markdown",
   "id": "38bfb336",
   "metadata": {},
   "source": [
    "Since p-value of the test is much larger than the 0.05 significance level, we fail to reject the null hypothesis that the time spent on NEW page follows a normal distribution. In other words, the time spent on NEW page DOES follow the normal distribution."
   ]
  },
  {
   "cell_type": "markdown",
   "id": "e93d5638",
   "metadata": {},
   "source": [
    "### Levene’s test\n",
    "\n",
    "We will test the null hypothesis\n",
    "\n",
    ">$H_0$: All the population variances are equal\n",
    "\n",
    "against the alternative hypothesis\n",
    "\n",
    ">$H_a$: At least one variance is different from the rest"
   ]
  },
  {
   "cell_type": "code",
   "execution_count": 49,
   "id": "95895c93",
   "metadata": {},
   "outputs": [
    {
     "name": "stdout",
     "output_type": "stream",
     "text": [
      "The p-value is 0.46711357711340173\n"
     ]
    }
   ],
   "source": [
    "#Assumption 2: Homogeneity of Variance\n",
    "# use levene function from scipy.stats library for this test\n",
    "from scipy.stats import levene\n",
    "\n",
    "# find the p-value for the time spent on NEW landing page and all 3 languages\n",
    "statistic, p_value = levene(df1[df1.landing_page=='new'][df1['language_preferred']=='English']['time_spent_on_the_page'],\n",
    "                            df1[df1.landing_page=='new'][df1['language_preferred']=='Spanish']['time_spent_on_the_page'],\n",
    "                            df1[df1.landing_page=='new'][df1['language_preferred']=='French']['time_spent_on_the_page'])\n",
    "\n",
    "print('The p-value is', p_value)"
   ]
  },
  {
   "cell_type": "markdown",
   "id": "4a16a373",
   "metadata": {},
   "source": [
    "Since the p-value is large than the the 0.05 significance level, we fail to reject the null hypothesis of homogeneity of variances. In other words, the variances for the 3 language preferences across the times spent on pages are fairly homogeneous."
   ]
  },
  {
   "cell_type": "code",
   "execution_count": 50,
   "id": "ffac2ee4",
   "metadata": {},
   "outputs": [
    {
     "data": {
      "image/png": "[encoded data removed]",
      "text/plain": [
       "<Figure size 1080x504 with 1 Axes>"
      ]
     },
     "metadata": {
      "needs_background": "light"
     },
     "output_type": "display_data"
    }
   ],
   "source": [
    "plt.figure(figsize=(15,7))          \n",
    "sns.boxplot(df['time_spent_on_the_page'],df['language_preferred'],hue=df['landing_page'])\n",
    "plt.title('Mean times spent on pages based on user language preferences')\n",
    "plt.show()"
   ]
  },
  {
   "cell_type": "markdown",
   "id": "17db8121",
   "metadata": {},
   "source": [
    "#### Chart observations (observing just for the new page)\n",
    "\n",
    "* The 3 languages, when observed on the NEW page, show similar times spent on page with IQRs starting at around 5 min spent on page (25th percentile), and IQRs ending (75th percentile) between 7-8 min.\n",
    "* The means of the 3 languges are also ranging between 5 min (French), close to 6 min for Spanish, and nearly 7 min for English.\n",
    "* The mean for the French language is very close to its IQRs 25th percentile, which could show a right skewed distribution for the French language."
   ]
  },
  {
   "cell_type": "code",
   "execution_count": 51,
   "id": "c807687b",
   "metadata": {},
   "outputs": [],
   "source": [
    "# import the required function\n",
    "from scipy.stats import f_oneway\n",
    "\n",
    "# preparing the data for the NEW page\n",
    "english=df1[df1.landing_page=='new'][df1.language_preferred=='English']['time_spent_on_the_page']\n",
    "spanish=df1[df1.landing_page=='new'][df1.language_preferred=='Spanish']['time_spent_on_the_page']\n",
    "french=df1[df1.landing_page=='new'][df1.language_preferred=='French']['time_spent_on_the_page']"
   ]
  },
  {
   "cell_type": "code",
   "execution_count": 52,
   "id": "a6189dd4",
   "metadata": {},
   "outputs": [
    {
     "name": "stdout",
     "output_type": "stream",
     "text": [
      "The p-value for the NEW page is  0.43204138694325955\n"
     ]
    }
   ],
   "source": [
    "# find the p-value using f_oneway\n",
    "test_stat, lang_p_value = f_oneway(english,spanish,french)\n",
    "\n",
    "print('The p-value for the NEW page is ', lang_p_value)"
   ]
  },
  {
   "cell_type": "code",
   "execution_count": 53,
   "id": "da516d57",
   "metadata": {},
   "outputs": [
    {
     "name": "stdout",
     "output_type": "stream",
     "text": [
      "Accept the null hypothesis\n"
     ]
    }
   ],
   "source": [
    "if lang_p_value<.05:\n",
    "    print(\"Reject the null hypothesis\")\n",
    "else:\n",
    "    print(\"Accept the null hypothesis\")"
   ]
  },
  {
   "cell_type": "markdown",
   "id": "5332bafd",
   "metadata": {},
   "source": [
    "#### Observations: \n",
    "\n",
    "* As the p-value for the NEW page is greater than 0.05, we do NOT have enough evidence to reject the null hypothesis and therefore we can NOT say that there are statistically significant differences in the mean times spent on the NEW page for different language users. Put yet in another way, the mean times spent on the new page is independent of the language preferences. This conclusion, however, slightly differs from what the chart is showing intuitively."
   ]
  },
  {
   "cell_type": "markdown",
   "id": "9f8c760c",
   "metadata": {},
   "source": [
    "## Conclusion and Recommendations"
   ]
  },
  {
   "cell_type": "markdown",
   "id": "7a87f22d",
   "metadata": {},
   "source": [
    "#### Conclusion Intro:\n",
    "\n",
    "We analyzed an A/B test dataset of around 100 website unique visitors/subscribers for an online news portal - E-news Express. Since E-News Express key objective is to expand their business by acquiring new subscribers, we used the A/B test and its analysis to understand how their new landing page is converting, and what are the impacts of their readers' language preferences on the conversion rates. The old landing page was served to the first group (control group) and the new landing page was served to the second group (treatment group). With that in mind, we used EDA (exploratory data analysis), and statistical analysis to better understand the impact of conversion rates and language preferences. Below is my conclusion and key insights based on data."
   ]
  },
  {
   "cell_type": "markdown",
   "id": "983b3afb",
   "metadata": {},
   "source": [
    "### Current Recommendations\n",
    "\n",
    "##### Time spent on page\n",
    "\n",
    "* The OLD page version has a wider spectrum/range of min/max values for the times spent on page.\n",
    "* The NEW landing page converts starting at 4.5 min spent on page, while the old landing page converts starting as low as 3 min spent on page.\n",
    "* It appears that the OLD landing page requires slightly less time spent on page in order to convert for a certain distribution of the conversions. However, we could also say that the OLD landing page requires considerably less time spent on page in order for the certain number of visitors to drop off (not convert).\n",
    "* The OLD page seems to take visitors less time to read in order to decided that they will convert.\n",
    "* The non-converted times spent on pages shows that visitors take less reading time on the old page to decide that they will NOT convert (IQR from 2-4.5 minutes). While visitors to the new landing page spend longer time on page before they decide to NOT convert (IQR from 4-5.5 min).\n",
    "\n",
    "* The count of most conversions, in terms of the time spent on pages, happens at the 6th minute of time spent on page and above. Simultaneously, the chart shows that most non-conversions happen from 0 - 4 minutes of time spent on pages in terms of the count of occurences.\n",
    "\n",
    "* Statistically speaking, the amount of time spent on the NEW page by users is statistically significant (higher) compared to the amount of time spent on the OLD page. This could potentially mean several things:\n",
    "* * A) The new page might have more content, and so it takes longer to read it before users realize whether they will convert or not.\n",
    "* * B) Or the new page is written in a less clear manner/format, hence it takes longer time to read it in order to understand it and before the decision is made to either drop off or convert.\n",
    "\n",
    "> ##### Future considerations for the time spent on page\n",
    "\n",
    "> * We would need to further test and understand how and why times spent on page benefit conversion rates, if at all, for both NEW and OLD pages. \n",
    "> * The company should invest in the common UX (user experience) practices, and develop user personas and user journeys to understand how the sources of traffic and other pertinent user data (e.g. demographics, psychographics, etc.) influence users' decisions to either drop off or convert.\n",
    "\n",
    "\n",
    "##### Language preferences\n",
    "\n",
    "* The 5th minute of reading clearly separates the 'yes' from 'no' conversions on all 3 languages - English, Spanish, and French. All 3 languages have IQR 25th percentiles at or above the 5th minute of spending time on the page for covnerted visitors. Similarly, all 3 languages have IQR 75th percentile at or below the 5th minute of spending time on pages for the non-converted visitors. So, it appears that the 5th minute of reading is a magical moment for the company, and the company might need to invest to understand that separation of times spent on page in relation to the language preferences.\n",
    "* Spanish language preferences have the shortest IQR within both, non-conversion and conversions. Spanish readers likely spend the least amount of time in both cases, to decide whether they will convert as well as to decide not to convert.\n",
    "* The lack of statistical significance in this area of language preferences and time spent on page tells us that we cannot claim with certainty that the converted status depends on the preferred languages. We do NOT have enough evidence to say whether there are any difference in the mean times spent on the NEW page for different language users. Put yet in another way, the time spent on the new page is independent of the language preference.\n",
    "* Even if there were for a statistical significance, we wouldn't know which mean is different from the rest or whether all pairs of means are different. Multiple comparison tests would be used to test the differences between all pairs of means.\n",
    "\n",
    "> ##### Future considerations for the language preferences and time spent on page\n",
    "\n",
    "> * The company should invest a bit more time in A/B testing various page elements in relation to the language preference. \n",
    "> * They could also hire writers that are native speakers in the targeted languages, to ensure the creation of original content that is specifically intended for those end-users and their language preferences.\n",
    "\n",
    "\n",
    "##### Overall conversions\n",
    "\n",
    "* The probability of the NEW page converting is 0.66, and is by around 0.24 points higher than the conversion rate for the OLD page, which is at 0.42. The mean times spent on the NEW page by visitors is also higher than the mean time spent on the OLD page in similar proportions to the conversion means.\n",
    "* The conversion rate of the NEW page is significantly greater than the conversion rate of the OLD page.\n",
    "\n",
    "> ##### Future considerations for the language preferences and time spent on page\n",
    "\n",
    "> * The company should further elaborate and investigate using A/B and multivariate tests to better understand the impact of language preferences, but also the impact of other user attributes and their demographic, geographic, and psychographic data and context on the overall conversion rates.\n",
    "> * The company should also investigate other types of online data resulting from the tests (other online data and variables), such as other pages visited before/after the landing page (pages per session), overall session length and session by source, bounce rate, common user paths / user flows, users' browser information, screen size and device information, on-page viewing, and many other bits of contextual information in order to understand where and how to improve the conversion rates."
   ]
  },
  {
   "cell_type": "markdown",
   "id": "3b5512b0",
   "metadata": {},
   "source": [
    "### End of paper"
   ]
  },
  {
   "cell_type": "code",
   "execution_count": null,
   "id": "c581f081",
   "metadata": {},
   "outputs": [],
   "source": []
  }
 ],
 "metadata": {
  "kernelspec": {
   "display_name": "Python 3",
   "language": "python",
   "name": "python3"
  },
  "language_info": {
   "codemirror_mode": {
    "name": "ipython",
    "version": 3
   },
   "file_extension": ".py",
   "mimetype": "text/x-python",
   "name": "python",
   "nbconvert_exporter": "python",
   "pygments_lexer": "ipython3",
   "version": "3.8.8"
  }
 },
 "nbformat": 4,
 "nbformat_minor": 5
}
