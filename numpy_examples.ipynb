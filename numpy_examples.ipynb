{
 "cells": [
  {
   "cell_type": "markdown",
   "metadata": {},
   "source": [
    "# NumPy Examples - Roman Dzadzic\n",
    "\n",
    "numpy is python's package for doing math that is more advanced than +-*/\n",
    "\n",
    "This includes special functions like cosine, exponential, sqrt, ...\n",
    "\n",
    "On top of this we can use numpy to generate samples from many types of random variables\n",
    "\n",
    "numpy also has a powerful data type to define vectors, matrices, and tensors\n",
    "\n",
    "With these data types numpy also allows us to do linear algebra - matrix multiplication and matrix-vector solutions"
   ]
  },
  {
   "cell_type": "code",
   "execution_count": 1,
   "metadata": {},
   "outputs": [],
   "source": [
    "# the first step of using numpy is to tell python to use it\n",
    "import numpy as np"
   ]
  },
  {
   "cell_type": "code",
   "execution_count": 5,
   "metadata": {},
   "outputs": [
    {
     "name": "stdout",
     "output_type": "stream",
     "text": [
      "-1.0\n",
      "2.0\n",
      "5.2\n"
     ]
    }
   ],
   "source": [
    "print(np.cos(np.pi))\n",
    "print(np.sqrt(4))\n",
    "print(np.log(np.exp(5.2)))"
   ]
  },
  {
   "cell_type": "code",
   "execution_count": 7,
   "metadata": {},
   "outputs": [
    {
     "name": "stdout",
     "output_type": "stream",
     "text": [
      "[1 2 3]\n",
      "\n",
      "[[1 2 1]\n",
      " [4 5 9]\n",
      " [1 8 9]]\n",
      "\n",
      "[[1 4 1]\n",
      " [2 5 8]\n",
      " [1 9 9]]\n"
     ]
    }
   ],
   "source": [
    "# we can create numpy arrays by converting lists\n",
    "# this is a vector\n",
    "vec = np.array([1,2,3])\n",
    "print(vec)\n",
    "# we can create matrices by converting lists of lists\n",
    "mat = np.array([[1,2,1],[4,5,9],[1,8,9]])\n",
    "print('')\n",
    "print(mat)\n",
    "print('')\n",
    "print(mat.T) # T = Transpose from rows to columns"
   ]
  },
  {
   "cell_type": "code",
   "execution_count": 14,
   "metadata": {},
   "outputs": [
    {
     "name": "stdout",
     "output_type": "stream",
     "text": [
      "[ 0  1  2  3  4  5  6  7  8  9 10 11 12 13 14]\n",
      "\n",
      "[ 3  8 13 18]\n"
     ]
    }
   ],
   "source": [
    "# there are lots of other ways to create numpy arrays\n",
    "vec2 = np.arange(0,15) # arange = array range # exlusive of the last step (number 15 in this case)\n",
    "print(vec2)\n",
    "print('')\n",
    "vec3 = np.arange(3,21,5)\n",
    "print(vec3)\n"
   ]
  },
  {
   "cell_type": "code",
   "execution_count": 19,
   "metadata": {},
   "outputs": [
    {
     "name": "stdout",
     "output_type": "stream",
     "text": [
      "[0.         0.55555556 1.11111111 1.66666667 2.22222222 2.77777778\n",
      " 3.33333333 3.88888889 4.44444444 5.        ]\n",
      "\n",
      "[[0.         0.55555556]\n",
      " [1.11111111 1.66666667]\n",
      " [2.22222222 2.77777778]\n",
      " [3.33333333 3.88888889]\n",
      " [4.44444444 5.        ]]\n",
      "[[0.         0.55555556]\n",
      " [1.11111111 1.66666667]\n",
      " [2.22222222 2.77777778]\n",
      " [3.33333333 3.88888889]\n",
      " [4.44444444 5.        ]]\n",
      "[0.         0.55555556 1.11111111 1.66666667 2.22222222 2.77777778\n",
      " 3.33333333 3.88888889 4.44444444 5.        ]\n"
     ]
    }
   ],
   "source": [
    "\n",
    "vec4 = np.linspace(0,5,10) # in linspace, endpoint is inclusive\n",
    "print(vec4)\n",
    "print('')\n",
    "print(vec4.reshape(5,2))\n",
    "vec4_reshaped = vec4.reshape(5,2)\n",
    "print(vec4_reshaped) # now stored as value\n",
    "print(vec4) # still exists and stored"
   ]
  },
  {
   "cell_type": "code",
   "execution_count": 21,
   "metadata": {},
   "outputs": [
    {
     "name": "stdout",
     "output_type": "stream",
     "text": [
      "[[0. 0. 0.]\n",
      " [0. 0. 0.]\n",
      " [0. 0. 0.]\n",
      " [0. 0. 0.]\n",
      " [0. 0. 0.]]\n",
      "\n",
      "[[1. 1. 1. 1. 1.]\n",
      " [1. 1. 1. 1. 1.]\n",
      " [1. 1. 1. 1. 1.]]\n",
      "\n",
      "Mat 4: [[1. 0. 0. 0. 0.]\n",
      " [0. 1. 0. 0. 0.]\n",
      " [0. 0. 1. 0. 0.]\n",
      " [0. 0. 0. 1. 0.]\n",
      " [0. 0. 0. 0. 1.]]\n"
     ]
    }
   ],
   "source": [
    "mat2 = np.zeros([5,3])\n",
    "print(mat2)\n",
    "mat3 = np.ones((3,5))\n",
    "print('')\n",
    "print(mat3)\n",
    "mat4 = np.eye(5) # identity matrix\n",
    "print('')\n",
    "print(\"Mat 4:\", mat4)"
   ]
  },
  {
   "cell_type": "code",
   "execution_count": 22,
   "metadata": {},
   "outputs": [
    {
     "name": "stdout",
     "output_type": "stream",
     "text": [
      "[1 2 3 4 5]\n",
      "[3 4 5 6 7]\n",
      "[ 4  6  8 10 12]\n",
      "[ 3  8 15 24 35]\n",
      "[1.         0.5        0.33333333 0.25       0.2       ]\n",
      "[1.73205081 2.         2.23606798 2.44948974 2.64575131]\n"
     ]
    }
   ],
   "source": [
    "# we can +-*/ arrays together if they're the right size\n",
    "vec5 = np.arange(1,6)\n",
    "vec6 = np.arange(3,8)\n",
    "print(vec5)\n",
    "print(vec6)\n",
    "print(vec5+vec6)\n",
    "print(vec5*vec6)\n",
    "print(1/vec5)\n",
    "print(np.sqrt(vec6))"
   ]
  },
  {
   "cell_type": "code",
   "execution_count": 28,
   "metadata": {},
   "outputs": [
    {
     "name": "stdout",
     "output_type": "stream",
     "text": [
      "[[1 2 1]\n",
      " [4 5 9]\n",
      " [1 8 9]]\n",
      "\n",
      "[1 2 3]\n",
      "\n",
      "[ 8 41 44]\n"
     ]
    }
   ],
   "source": [
    "# we can do matrix multiplication\n",
    "print(mat)\n",
    "print('')\n",
    "print(vec)\n",
    "print()\n",
    "product = np.matmul(mat,vec)\n",
    "print(product)"
   ]
  },
  {
   "cell_type": "code",
   "execution_count": 34,
   "metadata": {},
   "outputs": [
    {
     "name": "stdout",
     "output_type": "stream",
     "text": [
      "[1. 2. 3.]\n",
      "\n",
      "[[ 0.5         0.18518519 -0.24074074]\n",
      " [ 0.5        -0.14814815  0.09259259]\n",
      " [-0.5         0.11111111  0.05555556]]\n"
     ]
    }
   ],
   "source": [
    "print(np.linalg.solve(mat,product))\n",
    "print('')\n",
    "print(np.linalg.inv(mat))"
   ]
  },
  {
   "cell_type": "code",
   "execution_count": 35,
   "metadata": {},
   "outputs": [
    {
     "name": "stdout",
     "output_type": "stream",
     "text": [
      "['blue' 'red' 'orange' 'purple' 'purple' 'orange' 'Red' '6']\n",
      "['6' 'Red' 'blue' 'orange' 'purple' 'red']\n"
     ]
    }
   ],
   "source": [
    "# we can find the unique values in an array\n",
    "vec7 = np.array(['blue','red','orange','purple','purple','orange','Red',6])\n",
    "print(vec7)\n",
    "print(np.unique(vec7))"
   ]
  },
  {
   "cell_type": "code",
   "execution_count": 45,
   "metadata": {},
   "outputs": [
    {
     "name": "stdout",
     "output_type": "stream",
     "text": [
      "[[0.38168869 0.17362335 0.05694662 0.84474323 0.18503158]\n",
      " [0.90579148 0.66379107 0.29859618 0.72897614 0.60551487]\n",
      " [0.77944666 0.42882678 0.65209904 0.41867761 0.43581577]\n",
      " [0.9516417  0.94595705 0.66476337 0.44784091 0.14951701]\n",
      " [0.70170802 0.87889079 0.27389066 0.28121928 0.38517781]]\n",
      "\n",
      "[[-1.97640733 -1.12237678 -1.80513162  1.55265973  0.13098416]\n",
      " [ 0.63638645  0.16100221  1.42035458  0.16653714 -0.7408978 ]\n",
      " [-1.22655367 -0.30827215 -0.00838035 -0.16312204  1.72409853]\n",
      " [ 0.74272306  0.69052716 -2.46882703 -0.20679059 -0.17115311]\n",
      " [ 0.09720438 -1.7656374   0.662477   -0.19837734  0.32676708]\n",
      " [-0.30162813  2.59372686  2.28288729  0.4049949  -0.95441183]\n",
      " [ 0.06642487  0.10852789 -1.34056459  0.79521463  1.19557428]\n",
      " [-1.23135498 -0.81689858 -0.25249843 -1.2944702  -1.00700304]\n",
      " [ 0.90963119  0.63745779 -2.13283321 -0.12969741 -0.62506995]\n",
      " [-0.13926652 -0.91183635  0.18743212 -0.10404218  0.37498969]]\n"
     ]
    }
   ],
   "source": [
    "# we can also use numpy to generate samples of a random variable\n",
    "rand_mat = np.random.rand(5,5) # uniform random variable (between 0 and 1)\n",
    "print(rand_mat)\n",
    "rand_mat2 = np.random.randn(10,5) # standard normal random variable\n",
    "print('')\n",
    "print(rand_mat2)"
   ]
  },
  {
   "cell_type": "code",
   "execution_count": 46,
   "metadata": {},
   "outputs": [
    {
     "name": "stdout",
     "output_type": "stream",
     "text": [
      "0.5296070276740322\n",
      "1.0762482010136682\n"
     ]
    }
   ],
   "source": [
    "# we can also use numpy for statistical tools on arrays\n",
    "print(np.mean(rand_mat))\n",
    "print(np.std(rand_mat2))"
   ]
  },
  {
   "cell_type": "code",
   "execution_count": 49,
   "metadata": {},
   "outputs": [
    {
     "name": "stdout",
     "output_type": "stream",
     "text": [
      "0.05694662134516992\n",
      "-2.4688270265353154\n",
      "0.9516416989564491\n",
      "2.5937268633968413\n"
     ]
    }
   ],
   "source": [
    "print(np.min(rand_mat))\n",
    "print(np.min(rand_mat2))\n",
    "print(np.max(rand_mat))\n",
    "print(np.max(rand_mat2))"
   ]
  },
  {
   "cell_type": "code",
   "execution_count": null,
   "metadata": {},
   "outputs": [],
   "source": [
    "# break here for next video!"
   ]
  },
  {
   "cell_type": "code",
   "execution_count": 58,
   "metadata": {},
   "outputs": [
    {
     "name": "stdout",
     "output_type": "stream",
     "text": [
      "[-0.65947546  0.77226021 -0.13413564 -1.31610327  1.03133643 -0.50011543\n",
      " -0.435009   -0.35304808  0.64098075 -2.16984683 -1.21576695  0.28145994\n",
      " -1.33764823  0.84629831 -0.85007179  1.12550899  0.59804947 -0.10963079\n",
      " -0.10055886]\n",
      " \n",
      "-0.43500899941194276\n"
     ]
    }
   ],
   "source": [
    "# how do we access entries in a numpy vector\n",
    "rand_vec = np.random.randn(19)\n",
    "print(rand_vec)\n",
    "print(\" \")\n",
    "print(rand_vec[6])"
   ]
  },
  {
   "cell_type": "code",
   "execution_count": 59,
   "metadata": {},
   "outputs": [
    {
     "name": "stdout",
     "output_type": "stream",
     "text": [
      "[ 1.03133643 -0.50011543 -0.435009   -0.35304808  0.64098075]\n"
     ]
    }
   ],
   "source": [
    "# we can access multiple entries at once using :\n",
    "print(rand_vec[4:9])"
   ]
  },
  {
   "cell_type": "code",
   "execution_count": 60,
   "metadata": {},
   "outputs": [
    {
     "name": "stdout",
     "output_type": "stream",
     "text": [
      "[ 0  3  6  9 12]\n",
      "[-0.65947546 -1.31610327 -0.435009   -2.16984683 -1.33764823]\n"
     ]
    }
   ],
   "source": [
    "# we can also access multiple non-consecutive entries using np.arange\n",
    "print(np.arange(0,15,3))\n",
    "print(rand_vec[np.arange(0,15,3)])"
   ]
  },
  {
   "cell_type": "code",
   "execution_count": 61,
   "metadata": {},
   "outputs": [
    {
     "name": "stdout",
     "output_type": "stream",
     "text": [
      "[[0.38168869 0.17362335 0.05694662 0.84474323 0.18503158]\n",
      " [0.90579148 0.66379107 0.29859618 0.72897614 0.60551487]\n",
      " [0.77944666 0.42882678 0.65209904 0.41867761 0.43581577]\n",
      " [0.9516417  0.94595705 0.66476337 0.44784091 0.14951701]\n",
      " [0.70170802 0.87889079 0.27389066 0.28121928 0.38517781]]\n",
      " \n",
      "0.29859618024842405\n",
      " \n",
      "0.29859618024842405\n"
     ]
    }
   ],
   "source": [
    "# what about matrices\n",
    "print(rand_mat)\n",
    "print(\" \")\n",
    "print(rand_mat[1][2])\n",
    "print(\" \")\n",
    "print(rand_mat[1,2])\n"
   ]
  },
  {
   "cell_type": "code",
   "execution_count": 62,
   "metadata": {},
   "outputs": [
    {
     "name": "stdout",
     "output_type": "stream",
     "text": [
      "[[0.17362335 0.05694662]\n",
      " [0.66379107 0.29859618]]\n"
     ]
    }
   ],
   "source": [
    "print(rand_mat[0:2,1:3])"
   ]
  },
  {
   "cell_type": "code",
   "execution_count": 63,
   "metadata": {},
   "outputs": [
    {
     "name": "stdout",
     "output_type": "stream",
     "text": [
      "[-0.65947546  0.77226021 -0.13413564 -1.31610327  1.03133643 -0.50011543\n",
      " -0.435009   -0.35304808  0.64098075 -2.16984683 -1.21576695  0.28145994\n",
      " -1.33764823  0.84629831 -0.85007179  1.12550899  0.59804947 -0.10963079\n",
      " -0.10055886]\n",
      "\n",
      "[-0.65947546  0.77226021 -0.13413564  4.          4.         -0.50011543\n",
      " -0.435009   -0.35304808  0.64098075 -2.16984683 -1.21576695  0.28145994\n",
      " -1.33764823  0.84629831 -0.85007179  1.12550899  0.59804947 -0.10963079\n",
      " -0.10055886]\n",
      "\n",
      "[-0.65947546  0.77226021 -0.13413564  1.          2.         -0.50011543\n",
      " -0.435009   -0.35304808  0.64098075 -2.16984683 -1.21576695  0.28145994\n",
      " -1.33764823  0.84629831 -0.85007179  1.12550899  0.59804947 -0.10963079\n",
      " -0.10055886]\n"
     ]
    }
   ],
   "source": [
    "# let's change some values in an array!\n",
    "print(rand_vec)\n",
    "rand_vec[3:5] = 4\n",
    "print('')\n",
    "print(rand_vec)\n",
    "rand_vec[3:5] = [1,2]\n",
    "print('')\n",
    "print(rand_vec)"
   ]
  },
  {
   "cell_type": "code",
   "execution_count": 69,
   "metadata": {},
   "outputs": [
    {
     "name": "stdout",
     "output_type": "stream",
     "text": [
      "[[0.38168869 0.17362335 0.05694662 0.84474323 0.18503158]\n",
      " [0.90579148 0.66379107 0.29859618 0.         0.        ]\n",
      " [0.77944666 0.42882678 0.65209904 0.         0.        ]\n",
      " [0.9516417  0.94595705 0.66476337 0.44784091 0.14951701]\n",
      " [0.70170802 0.87889079 0.27389066 0.28121928 0.38517781]]\n",
      "\n",
      "[[0.38168869 0.17362335 0.05694662 0.84474323 0.18503158]\n",
      " [0.90579148 0.66379107 0.29859618 0.         0.        ]\n",
      " [0.77944666 0.42882678 0.65209904 0.         0.        ]\n",
      " [0.9516417  0.94595705 0.66476337 0.44784091 0.14951701]\n",
      " [0.70170802 0.87889079 0.27389066 0.28121928 0.38517781]]\n"
     ]
    }
   ],
   "source": [
    "print(rand_mat)\n",
    "rand_mat[1:3,3:5] = 0\n",
    "print('')\n",
    "print(rand_mat)"
   ]
  },
  {
   "cell_type": "code",
   "execution_count": 70,
   "metadata": {},
   "outputs": [
    {
     "name": "stdout",
     "output_type": "stream",
     "text": [
      "[[0.38168869 0.17362335 0.05694662]\n",
      " [0.90579148 0.66379107 0.29859618]]\n",
      "[[3. 3. 3.]\n",
      " [3. 3. 3.]]\n"
     ]
    }
   ],
   "source": [
    "sub_mat = rand_mat[0:2,0:3]\n",
    "print(sub_mat)\n",
    "sub_mat[:] = 3\n",
    "print(sub_mat)\n"
   ]
  },
  {
   "cell_type": "code",
   "execution_count": 71,
   "metadata": {},
   "outputs": [
    {
     "name": "stdout",
     "output_type": "stream",
     "text": [
      "[[3.         3.         3.         0.84474323 0.18503158]\n",
      " [3.         3.         3.         0.         0.        ]\n",
      " [0.77944666 0.42882678 0.65209904 0.         0.        ]\n",
      " [0.9516417  0.94595705 0.66476337 0.44784091 0.14951701]\n",
      " [0.70170802 0.87889079 0.27389066 0.28121928 0.38517781]]\n"
     ]
    }
   ],
   "source": [
    "print(rand_mat)"
   ]
  },
  {
   "cell_type": "code",
   "execution_count": 72,
   "metadata": {},
   "outputs": [
    {
     "name": "stdout",
     "output_type": "stream",
     "text": [
      "[[99. 99. 99.]\n",
      " [99. 99. 99.]]\n",
      "[[3.         3.         3.         0.84474323 0.18503158]\n",
      " [3.         3.         3.         0.         0.        ]\n",
      " [0.77944666 0.42882678 0.65209904 0.         0.        ]\n",
      " [0.9516417  0.94595705 0.66476337 0.44784091 0.14951701]\n",
      " [0.70170802 0.87889079 0.27389066 0.28121928 0.38517781]]\n"
     ]
    }
   ],
   "source": [
    "sub_mat2 = rand_mat[0:2,0:3].copy()\n",
    "sub_mat2[:] = 99\n",
    "print(sub_mat2)\n",
    "print(rand_mat)\n"
   ]
  },
  {
   "cell_type": "code",
   "execution_count": null,
   "metadata": {},
   "outputs": [],
   "source": [
    "# break here for next video"
   ]
  },
  {
   "cell_type": "code",
   "execution_count": 82,
   "metadata": {},
   "outputs": [
    {
     "name": "stdout",
     "output_type": "stream",
     "text": [
      "[-0.21550084  0.06183872 -1.0359988   0.36980944 -0.30354839  2.06108429\n",
      " -0.26466732  0.52025245  1.00915045 -1.05314332  0.57133748  1.15196548\n",
      "  1.40619005  0.45287798  0.5364048 ]\n",
      "\n",
      "[False  True False  True False  True False  True  True False  True  True\n",
      "  True  True  True]\n",
      "\n",
      "[0.06183872 0.36980944 2.06108429 0.52025245 1.00915045 0.57133748\n",
      " 1.15196548 1.40619005 0.45287798 0.5364048 ]\n"
     ]
    }
   ],
   "source": [
    "# we can also access entries with logicals\n",
    "rand_vec = np.random.randn(15)\n",
    "\n",
    "print(rand_vec)\n",
    "print('')\n",
    "print(rand_vec>0)\n",
    "print('')\n",
    "print(rand_vec[rand_vec>0])"
   ]
  },
  {
   "cell_type": "code",
   "execution_count": 86,
   "metadata": {},
   "outputs": [
    {
     "name": "stdout",
     "output_type": "stream",
     "text": [
      "[[-1.97640733 -1.12237678 -1.80513162  1.55265973  0.13098416]\n",
      " [ 0.63638645  0.16100221  1.42035458  0.16653714 -0.7408978 ]\n",
      " [-1.22655367 -0.30827215 -0.00838035 -0.16312204  1.72409853]\n",
      " [ 0.74272306  0.69052716 -2.46882703 -0.20679059 -0.17115311]\n",
      " [ 0.09720438 -1.7656374   0.662477   -0.19837734  0.32676708]\n",
      " [-0.30162813  2.59372686  2.28288729  0.4049949  -0.95441183]\n",
      " [ 0.06642487  0.10852789 -1.34056459  0.79521463  1.19557428]\n",
      " [-1.23135498 -0.81689858 -0.25249843 -1.2944702  -1.00700304]\n",
      " [ 0.90963119  0.63745779 -2.13283321 -0.12969741 -0.62506995]\n",
      " [-0.13926652 -0.91183635  0.18743212 -0.10404218  0.37498969]]\n",
      "\n",
      "[[False False False  True  True]\n",
      " [ True  True  True  True False]\n",
      " [False False False False  True]\n",
      " [ True  True False False False]\n",
      " [ True False  True False  True]\n",
      " [False  True  True  True False]\n",
      " [ True  True False  True  True]\n",
      " [False False False False False]\n",
      " [ True  True False False False]\n",
      " [False False  True False  True]]\n",
      "\n",
      "[1.55265973 0.13098416 0.63638645 0.16100221 1.42035458 0.16653714\n",
      " 1.72409853 0.74272306 0.69052716 0.09720438 0.662477   0.32676708\n",
      " 2.59372686 2.28288729 0.4049949  0.06642487 0.10852789 0.79521463\n",
      " 1.19557428 0.90963119 0.63745779 0.18743212 0.37498969]\n",
      "\n",
      "[[-1.97640733 -1.12237678 -1.80513162  1.55265973  0.13098416]\n",
      " [ 0.63638645  0.16100221  1.42035458  0.16653714 -0.7408978 ]\n",
      " [-1.22655367 -0.30827215 -0.00838035 -0.16312204  1.72409853]\n",
      " [ 0.74272306  0.69052716 -2.46882703 -0.20679059 -0.17115311]\n",
      " [ 0.09720438 -1.7656374   0.662477   -0.19837734  0.32676708]\n",
      " [-0.30162813  2.59372686  2.28288729  0.4049949  -0.95441183]\n",
      " [ 0.06642487  0.10852789 -1.34056459  0.79521463  1.19557428]\n",
      " [-1.23135498 -0.81689858 -0.25249843 -1.2944702  -1.00700304]\n",
      " [ 0.90963119  0.63745779 -2.13283321 -0.12969741 -0.62506995]\n",
      " [-0.13926652 -0.91183635  0.18743212 -0.10404218  0.37498969]]\n"
     ]
    }
   ],
   "source": [
    "print(rand_mat2)\n",
    "print('')\n",
    "print(rand_mat2>0)\n",
    "print('')\n",
    "print(rand_mat2[rand_mat2>0])\n",
    "print('')\n",
    "print(rand_mat2)"
   ]
  },
  {
   "cell_type": "code",
   "execution_count": 87,
   "metadata": {},
   "outputs": [
    {
     "name": "stdout",
     "output_type": "stream",
     "text": [
      "[-0.21550084  0.06183872 -1.0359988   0.36980944 -0.30354839  2.06108429\n",
      " -0.26466732  0.52025245  1.00915045 -1.05314332  0.57133748  1.15196548\n",
      "  1.40619005  0.45287798  0.5364048 ]\n",
      "\n",
      "[-0.21550084  0.06183872 -1.0359988   0.36980944 -0.30354839 -5.\n",
      " -0.26466732 -5.         -5.         -1.05314332 -5.         -5.\n",
      " -5.          0.45287798 -5.        ]\n"
     ]
    }
   ],
   "source": [
    "\n",
    "print(rand_vec)\n",
    "print('')\n",
    "rand_vec[rand_vec>0.5] = -5\n",
    "print(rand_vec)"
   ]
  },
  {
   "cell_type": "code",
   "execution_count": 88,
   "metadata": {},
   "outputs": [],
   "source": [
    "# let's save some arrays on the disk for use later!\n",
    "np.save('saved_file_name',rand_mat2)\n"
   ]
  },
  {
   "cell_type": "code",
   "execution_count": 89,
   "metadata": {},
   "outputs": [],
   "source": [
    "np.savez('zipped_file_name',rand_mat=rand_mat,rand_mat2=rand_mat2)"
   ]
  },
  {
   "cell_type": "code",
   "execution_count": 90,
   "metadata": {},
   "outputs": [
    {
     "name": "stdout",
     "output_type": "stream",
     "text": [
      "[[-1.97640733 -1.12237678 -1.80513162  1.55265973  0.13098416]\n",
      " [ 0.63638645  0.16100221  1.42035458  0.16653714 -0.7408978 ]\n",
      " [-1.22655367 -0.30827215 -0.00838035 -0.16312204  1.72409853]\n",
      " [ 0.74272306  0.69052716 -2.46882703 -0.20679059 -0.17115311]\n",
      " [ 0.09720438 -1.7656374   0.662477   -0.19837734  0.32676708]\n",
      " [-0.30162813  2.59372686  2.28288729  0.4049949  -0.95441183]\n",
      " [ 0.06642487  0.10852789 -1.34056459  0.79521463  1.19557428]\n",
      " [-1.23135498 -0.81689858 -0.25249843 -1.2944702  -1.00700304]\n",
      " [ 0.90963119  0.63745779 -2.13283321 -0.12969741 -0.62506995]\n",
      " [-0.13926652 -0.91183635  0.18743212 -0.10404218  0.37498969]]\n",
      "\n",
      "<numpy.lib.npyio.NpzFile object at 0x0000018A0790D2B0>\n"
     ]
    }
   ],
   "source": [
    "# now let's load it\n",
    "loaded_vec = np.load('saved_file_name.npy')\n",
    "loaded_zip = np.load('zipped_file_name.npz')\n",
    "\n",
    "print(loaded_vec)\n",
    "print('')\n",
    "print(loaded_zip)"
   ]
  },
  {
   "cell_type": "code",
   "execution_count": 92,
   "metadata": {},
   "outputs": [
    {
     "name": "stdout",
     "output_type": "stream",
     "text": [
      "[[3.         3.         3.         0.84474323 0.18503158]\n",
      " [3.         3.         3.         0.         0.        ]\n",
      " [0.77944666 0.42882678 0.65209904 0.         0.        ]\n",
      " [0.9516417  0.94595705 0.66476337 0.44784091 0.14951701]\n",
      " [0.70170802 0.87889079 0.27389066 0.28121928 0.38517781]]\n",
      "\n",
      "[[-1.97640733 -1.12237678 -1.80513162  1.55265973  0.13098416]\n",
      " [ 0.63638645  0.16100221  1.42035458  0.16653714 -0.7408978 ]\n",
      " [-1.22655367 -0.30827215 -0.00838035 -0.16312204  1.72409853]\n",
      " [ 0.74272306  0.69052716 -2.46882703 -0.20679059 -0.17115311]\n",
      " [ 0.09720438 -1.7656374   0.662477   -0.19837734  0.32676708]\n",
      " [-0.30162813  2.59372686  2.28288729  0.4049949  -0.95441183]\n",
      " [ 0.06642487  0.10852789 -1.34056459  0.79521463  1.19557428]\n",
      " [-1.23135498 -0.81689858 -0.25249843 -1.2944702  -1.00700304]\n",
      " [ 0.90963119  0.63745779 -2.13283321 -0.12969741 -0.62506995]\n",
      " [-0.13926652 -0.91183635  0.18743212 -0.10404218  0.37498969]]\n",
      "\n",
      "[[3.         3.         3.         0.84474323 0.18503158]\n",
      " [3.         3.         3.         0.         0.        ]\n",
      " [0.77944666 0.42882678 0.65209904 0.         0.        ]\n",
      " [0.9516417  0.94595705 0.66476337 0.44784091 0.14951701]\n",
      " [0.70170802 0.87889079 0.27389066 0.28121928 0.38517781]]\n"
     ]
    }
   ],
   "source": [
    "print(loaded_zip['rand_mat'])\n",
    "print('')\n",
    "print(loaded_zip['rand_mat2'])\n",
    "print('')\n",
    "new_array  = loaded_zip['rand_mat']\n",
    "print(new_array)"
   ]
  },
  {
   "cell_type": "code",
   "execution_count": 94,
   "metadata": {},
   "outputs": [
    {
     "name": "stdout",
     "output_type": "stream",
     "text": [
      "[[3.         3.         3.         0.84474323 0.18503158]\n",
      " [3.         3.         3.         0.         0.        ]\n",
      " [0.77944666 0.42882678 0.65209904 0.         0.        ]\n",
      " [0.9516417  0.94595705 0.66476337 0.44784091 0.14951701]\n",
      " [0.70170802 0.87889079 0.27389066 0.28121928 0.38517781]]\n",
      "\n",
      "[[3.         3.         3.         0.84474323 0.18503158]\n",
      " [3.         3.         3.         0.         0.        ]\n",
      " [0.77944666 0.42882678 0.65209904 0.         0.        ]\n",
      " [0.9516417  0.94595705 0.66476337 0.44784091 0.14951701]\n",
      " [0.70170802 0.87889079 0.27389066 0.28121928 0.38517781]]\n"
     ]
    }
   ],
   "source": [
    "# we can also save/load as text files...but only single variables\n",
    "np.savetxt('romans_text_file_name.txt',rand_mat,delimiter='|')\n",
    "rand_mat_txt = np.loadtxt('romans_text_file_name.txt',delimiter='|')\n",
    "print(rand_mat)\n",
    "print('')\n",
    "print(rand_mat_txt)"
   ]
  },
  {
   "cell_type": "code",
   "execution_count": 50,
   "metadata": {},
   "outputs": [
    {
     "name": "stdout",
     "output_type": "stream",
     "text": [
      "[10 13 16 19]\n"
     ]
    }
   ],
   "source": [
    "vec = np.arange(10, 20, 3)\n",
    "print(vec)"
   ]
  },
  {
   "cell_type": "code",
   "execution_count": 51,
   "metadata": {},
   "outputs": [
    {
     "name": "stdout",
     "output_type": "stream",
     "text": [
      "[10. 15. 20.]\n"
     ]
    }
   ],
   "source": [
    "vec=np.linspace(10,20,3)\n",
    "print(vec)"
   ]
  },
  {
   "cell_type": "code",
   "execution_count": 53,
   "metadata": {},
   "outputs": [
    {
     "name": "stdout",
     "output_type": "stream",
     "text": [
      "[ 0  1  2  3  4  5  6  7  8  9 10 11]\n",
      "[[ 0  1  2]\n",
      " [ 3  4  5]\n",
      " [ 6  7  8]\n",
      " [ 9 10 11]]\n"
     ]
    }
   ],
   "source": [
    "vec1 = np.arange(0, 12)\n",
    "print(vec1)\n",
    "vec2 = vec1.reshape(4, 3)\n",
    "print(vec2)"
   ]
  },
  {
   "cell_type": "code",
   "execution_count": 55,
   "metadata": {},
   "outputs": [
    {
     "name": "stdout",
     "output_type": "stream",
     "text": [
      "[ 4  9 14 19]\n"
     ]
    }
   ],
   "source": [
    "import numpy as np\n",
    "arr = np.arange(4, 20, 5)\n",
    "print(arr)"
   ]
  },
  {
   "cell_type": "code",
   "execution_count": 79,
   "metadata": {},
   "outputs": [
    {
     "name": "stdout",
     "output_type": "stream",
     "text": [
      "5\n"
     ]
    }
   ],
   "source": [
    "import numpy as np\n",
    "matrix = np.array([[1,2,3],[4,5,6],[7,8,9]])\n",
    "print(matrix[1][1])"
   ]
  },
  {
   "cell_type": "code",
   "execution_count": 80,
   "metadata": {},
   "outputs": [
    {
     "name": "stdout",
     "output_type": "stream",
     "text": [
      "[[1 2 3]\n",
      " [4 5 6]\n",
      " [7 8 9]]\n",
      "\n",
      "[[ 2  3  4]\n",
      " [ 5  6  7]\n",
      " [ 8  9 10]]\n",
      "[[1 2 3]\n",
      " [4 5 6]\n",
      " [7 8 9]]\n"
     ]
    }
   ],
   "source": [
    "array1 = np.array([[1,2,3],[4,5,6],[7,8,9]])\n",
    "array2 = array1+1\n",
    "print(array1)\n",
    "print('')\n",
    "print(array2)\n",
    "print(array1)"
   ]
  },
  {
   "cell_type": "code",
   "execution_count": 95,
   "metadata": {},
   "outputs": [
    {
     "name": "stdout",
     "output_type": "stream",
     "text": [
      "[ 7  8  9 10]\n"
     ]
    }
   ],
   "source": [
    "vec = np.array([4,7,8,9,10,6,1])\n",
    "print(vec[vec>6])"
   ]
  },
  {
   "cell_type": "code",
   "execution_count": 96,
   "metadata": {},
   "outputs": [
    {
     "name": "stdout",
     "output_type": "stream",
     "text": [
      "[4 2 2 2 2 6 1]\n"
     ]
    }
   ],
   "source": [
    "vec1 = np.array([4, 7, 8, 9, 10, 6, 1])\n",
    "vec1[vec1>6] = 2\n",
    "print(vec1)"
   ]
  },
  {
   "cell_type": "code",
   "execution_count": null,
   "metadata": {},
   "outputs": [],
   "source": []
  }
 ],
 "metadata": {
  "kernelspec": {
   "display_name": "Python 3",
   "language": "python",
   "name": "python3"
  },
  "language_info": {
   "codemirror_mode": {
    "name": "ipython",
    "version": 3
   },
   "file_extension": ".py",
   "mimetype": "text/x-python",
   "name": "python",
   "nbconvert_exporter": "python",
   "pygments_lexer": "ipython3",
   "version": "3.8.8"
  }
 },
 "nbformat": 4,
 "nbformat_minor": 2
}
