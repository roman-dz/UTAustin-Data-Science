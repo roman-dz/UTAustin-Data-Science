{
 "cells": [
  {
   "cell_type": "markdown",
   "id": "22d3654c",
   "metadata": {},
   "source": [
    "# Inferential Statistics Notes - Roman Dzadzic"
   ]
  },
  {
   "cell_type": "code",
   "execution_count": 2,
   "id": "4c4a593e",
   "metadata": {},
   "outputs": [],
   "source": [
    "#import the important packages\n",
    "import pandas as pd #library used for data manipulation and analysis\n",
    "import numpy as np # library used for working with arrays.\n",
    "import matplotlib.pyplot as plt # library for plots and visualisations\n",
    "import seaborn as sns # library for visualisations\n",
    "%matplotlib inline \n",
    "\n",
    "import scipy.stats as stats # this library contains a large number of probability distributions as well as \n",
    "# ...a growing library of statistical functions."
   ]
  },
  {
   "cell_type": "markdown",
   "id": "15663372",
   "metadata": {},
   "source": [
    "#### Inferential statistics\n",
    "* Use a random sample of data taken from a population to describe and make inferences about the population.\n",
    "* If a company is trying to know the characteristics of a population using sample statistics, Inferential Statistics should be used to draw an inference about the population.\n",
    "\n",
    "#### Descriptive statistics\n",
    "* Provides the summary statistics of the data.\n",
    "\n",
    "#### What does a distribution tell?\n",
    "* Probability of different possible outcomes (or events) for an experiment.\n",
    "* Draw some conclusions about the population.\n",
    "\n",
    "#### Statistical Sample\n",
    "> A survey has been conducted of the freshmen class at ABC High School . A sample of  200 students randomly selected from the freshmen class at ABC High School. Identify the population in this case?\n",
    ">* All freshmen at ABC High School\n",
    "\n",
    ">  A researcher wants to estimate the average height of women aged 25 years or older. From a simple random sample of 60 women, the researcher obtains a sample mean height of 73.2 inches. Identify the parameter and statistic in this case.\n",
    ">* Parameter -  The average height of all women aged 25 years or older.\n",
    ">* Statistic - The average height of 73.2 inches from the sample of 60 women."
   ]
  },
  {
   "cell_type": "markdown",
   "id": "9aa20787",
   "metadata": {},
   "source": [
    "#### Descrete values\n",
    "* Take finite values - when all values can be listed.\n",
    "* All probabilities must be non-negative and sum to 1\n",
    "* Example: number of customers visiting a shop daily or number of microwaves sold.\n",
    "* Probability mass functions (pmf) are used to describe discrete probability distributions.\n",
    "\n",
    "> pmf() -- A function over the sample space of a discrete random variable X which gives the probability that X is equal to a certain value"
   ]
  },
  {
   "cell_type": "markdown",
   "id": "00a60a79",
   "metadata": {},
   "source": [
    "#### Continuous values\n",
    "* If the random variable can take any value in a given range (like volume of soda in a soda bottle).\n"
   ]
  },
  {
   "cell_type": "markdown",
   "id": "8b3f2119",
   "metadata": {},
   "source": [
    "#### Continuous probability distribution\n",
    "* Represented by Probability density function - pdf()\n",
    "* For continuous function, we do not have to subtract any value as the probability at a single point is always zero.\n",
    "* Continuous value example: the time taken to go from New York City to Houston"
   ]
  },
  {
   "cell_type": "code",
   "execution_count": null,
   "id": "a21adbe1",
   "metadata": {},
   "outputs": [],
   "source": []
  },
  {
   "cell_type": "markdown",
   "id": "e3e189e2",
   "metadata": {},
   "source": [
    "### Basics\n",
    "* mu = population mean\n",
    "* x_bar = sample mean (keep in mind: sample mean is the same as the population mean).\n",
    "* The probability of an event is always greater than or equal to 0 and always less than or equal to 1.\n",
    "* Standard error cannot be negative.\n",
    "* The “outcome of an experiment” referred to as Event.\n",
    "* The “set of all outcomes of an experiment” referred to as Sample Space.\n",
    "* If two events A and B are not mutually exclusive what would be the probability of event A or B occurring, given as P(A U B) --> P(A) + P(B) - P(A⋂B)\n",
    "* For mutually exclusive events P(A⋂B) = 0\n",
    "* From a pack of well-shuffled cards, a card is picked up at random. What is the probability that the selected card is a King or a Queen? \n",
    "> There are 4 kings and 4 queens and the events are mutually exclusive:\n",
    ">* P(A) = 4/52\n",
    ">* P(B) = 4/52\n",
    ">* P(A) + P(B) = 4/52 + 4/52 = 8/52 = 2/13\n",
    "* From a pack of well-shuffled cards, a card is picked up at random. What is the probability of choosing a king or a club?\n",
    "> The events are not mutually exclusive since we have a king in the club suite.\n",
    ">* P(getting king) = 4/52\n",
    ">* P(getting a club) = 13/52\n",
    ">* P(king from a club) = 1/52\n",
    ">* P(A) + P(B) - P(A⋂B) = 4/52 + 13/52 - 1/52 = 4/13\n",
    "* If two events A and B are independent, what is the probability of A and B occurring simultaneously, given as P(A ⋂ B)\n",
    ">* P(A) * P(B)\n",
    "* The probability of getting an A grade in Mathematics is 0.3 and the probability of getting an A grade in Environmental Science is 0.8. Assuming that the two events are independent, what is the probability of getting an A grade in both subjects?\n",
    "> Since the two events are independent:\n",
    ">* P(A ⋂ B) = P(A) * P(B) = 0.8 * 0.3 = 0.24\n",
    "* From a pack of cards, 2 cards are drawn in succession and the selected card is not replaced. What is the probability that the 2 drawn cards are Diamonds?\n",
    "> Since the two events are NOT independent: \n",
    ">* P(A ⋂ B) = P(A) * P(B/A) = 13/52 * 12/51 = 1/17"
   ]
  },
  {
   "cell_type": "markdown",
   "id": "8105c5d8",
   "metadata": {},
   "source": [
    "### Binomial distribution - discrete (distinct)\n",
    "#### How to set the value of k for binom.pmf() and binom.cdf() functions?\n",
    "\n",
    "* probability that the random variable X = to x, then binom.pmf(k=x,...)\n",
    "* probability that the random variable X <= x, then binom.cdf(k=x,...)\n",
    "* probability that the random variable X >= x, then 1-binom.cdf(k=x-1,...)\n",
    "\n",
    "##### Binomial example: coin toss (yes or no).\n",
    "\n",
    "#### Assumptions of Binomial\n",
    "* The probability of success (p) for each trial is the same.\n",
    "* Number of trials (n) is fixed.\n",
    "* Only two possible outcomes : Failure or Success, e.g., coin toss (yes/no).\n",
    "* Each trial is independent of the other trials.\n",
    "\n",
    "#### A binomial random variable is the sum of N Bernoulli random variables where N is the number of trials.\n",
    "\n",
    "#### Binomial examples:\n",
    "\n",
    "> The probability of an employee leaving the company within 6 months is 0.6. If 10 employees are selected randomly, Which of the following codes can be used to find the probability that 7 will leave the company within 6 months?\n",
    ">* from scipy.stats import binom\n",
    ">* binom.pmf(k = 7,n = 10, p = 0.6)\n",
    ">* pmf() function is used to find the absolute probability of k successes in n number of trials where the probability of success for each trial is p\n",
    ">* pmf() is a function over the sample space of a discrete random variable X which gives the probability that X is equal to a certain value.\n",
    "\n",
    "> Several companies are working on the COVID vaccine. The probability of a vaccine getting approved by the CDC is 0.75. If 15 vaccines are randomly selected, which of the following codes can be used to find the probability of at least 6 getting approved by the CDC. (At least 6 \"or more\" - the \"or more\" is implied, hence cumulative...)\n",
    ">* from scipy.stats import binom\n",
    ">* 1 - binom.cdf(k = 5,n = 15, p = 0.75)\n",
    ">* PDF is used to find the absolute probability and CDF is used to find the cumulative probability\n",
    "\n",
    "> 73% is the probability that a cricket batsman will be out without making more than 10 runs during a rainy day. If we select 5 players from a team of 11 players, Which of the following code can be used to find the probability that at most 3 players will be out without making more than 10 runs during a rainy day?\n",
    ">*from scipy.stats import binom\n",
    ">* binom.cdf(k = 3,n = 5, p = 0.73)"
   ]
  },
  {
   "cell_type": "markdown",
   "id": "d7fc7ed3",
   "metadata": {},
   "source": [
    "### Uniform Distribution - can be disrecte and continuous\n",
    "#### How to choose loc and scale for a continuous random variable following uniform distribution?\n",
    "* In scipy.stats.uniform(), the parameters loc and scale refer to the starting point and range of the uniform distribution.  \n",
    "* Using the parameters loc and scale, obtains the uniform distribution on [loc, loc + scale]. \n",
    "* For a continuous random variable following uniform distribution on [1, 4], loc and scale will be 1 and 3 respectively.\n",
    "* In general, if X~U(a,b), the loc and scale are a and (b-a) respectively.\n",
    "\n",
    "##### Uniform distribution example: drawing from a deck of cards OR throwing a dice\n",
    "\n",
    "#### Assumptions of Uniform Distribution\n",
    "* All of the outcomes have an equal probability of occurrence.\n",
    "** When each discrete value is equally likely to occur.\n",
    "** When each value of a continuous random variable is equally likely to occur.\n",
    "* Are mutually exclusive.\n",
    "* The probabilities of occurrence is uniformly distributed.\n",
    "\n",
    "#### Examples\n",
    "> Let us consider that X is a random variable that has continuous uniform distribution between a and b. What is P(X=a-4)?\n",
    ">* The random variable X  is uniformly distributed within a range a and b which means the probability of X having a value less than a will be equal to 0.\n",
    "\n",
    "> Find the probability that a randomly selected software debugging requires <= 2 hours.\n",
    ">* CDF: of a random variable(X) is the probability that X will take the value less than or equal to x. Represented mathematically as FX(x)=P(X≤x)\n",
    ">* The random variable (X) is the number of hours and we want to calculate P(X≤2)\n",
    ">* cdf can be calculated using uniform.cdf() function as:\n",
    ">* uniform.cdf(x = 2, loc = 1, scale = 4)\n",
    "\n",
    "> Find the probability that a randomly selected software debugging requires more than 4.2 hours.\n",
    ">* P(X>4.2)=1-P(X<=4.2) [one is same as the other] \n",
    ">* P(X>4.2)=1-uniform.cdf(x = 4.2, loc = 1, scale = 4)"
   ]
  },
  {
   "cell_type": "markdown",
   "id": "50070d86",
   "metadata": {},
   "source": [
    "#### Uniform cdf() function examples\n",
    "\n",
    "> Find the probability that more than 96 books will be sold on a given day -- 𝑃(𝑋≥96)\n",
    ">* 1 - uniform.cdf(96, loc=90, scale=11)\n",
    "\n",
    "> Find the probability that less than 92 books will be sold on a given day -- 𝑃(𝑋≤92)\n",
    ">* uniform.cdf(93, loc=90, scale=11)"
   ]
  },
  {
   "cell_type": "markdown",
   "id": "b6f97bd5",
   "metadata": {},
   "source": [
    "### Normal Distribution - continuous distribution\n",
    "\n",
    "* Symmetric bell-shaped curve with two parameters -mean (μ) and standard deviation (𝜎).\n",
    "\n",
    "* 68%, 95%, 99.7% respectively represent what percentage of data comes under 1,2, and 3 standard deviations of the mean.\n",
    "* The mean is equal to 0 and the variance is equal to 1.\n",
    "* Mean, median, and mode are equal.\n",
    "* Total area under the normal curve is 1.\n",
    "* The percentage of data that's bigger than 1 but smaller than 2 standard deviations away from the mean = 95% - 68% = 27%\n",
    "* If n(>30) samples are drawn from a population that has a mean μ and standard deviation σ. The sampling distribution will follow a normal distribution with: Mean: μ; Standard Deviation: σ / √n\n",
    "\n",
    "#### Examples\n",
    "\n",
    "> The mean delivery time for a food delivery company is normally distributed with a mean of 47.5 minutes and a standard deviation of 8.7 minutes. 68% of the deliveries will be done between _ minutes and _ minutes.\n",
    ">*  P(μ−σ < X < μ+σ) = 68% ( From the empirical rule )\n",
    ">* P(47.5-8.7 < X < 47.5+8.7) = 68% # [for 68% it's 1 std + and - from the mean]\n",
    ">* P(32.4 < X < 56.2)=68\n"
   ]
  },
  {
   "cell_type": "markdown",
   "id": "d06f2ba7",
   "metadata": {},
   "source": [
    "#### Important points for normal distribution\n",
    "> Suppose we are sampling from a population with mean 𝝁 and standard deviation 𝞂. Let ഥ𝑿 be the random variable representing the sample mean of n independent observations.\n",
    ">* The standard deviation of ഥ𝑿 is equal to 𝞂/√n (Also called the ‘standard error’ of ഥ𝑿).\n",
    ">* The mean of ഥ𝑿 is equal to 𝝁\n",
    ">* Even the population is not normally distributed, then for sufficiently large n ഥ𝑿 is also normally distributed.\n"
   ]
  },
  {
   "cell_type": "markdown",
   "id": "005d3319",
   "metadata": {},
   "source": [
    "#### Normal Distribution and z-score (what and how it is used in real-life scenarios)\n",
    "\n",
    "* A z-score is a standard score used for the process of standardization (X - mu)/sigma \n",
    "* Measures how many standard deviations below or above the mean a data point lies. \n",
    "* Useful to compare 2 scores coming from two different normal populations even if 2 different scales (e.g. - 2 different competitive exams having different scoring systems. To do it, standardize each of your scores, then compare.\n",
    "\n",
    "#### Example of Z score use\n",
    "\n",
    "> The mean weight of a morning breakfast cereal pack is 0.295 kg with a standard deviation of 0.025 kg. The random variable weight of the pack follows a normal distribution. How many standard deviations away from the mean is a pack that weighs 0.260 kg?\n",
    ">* Calculate z value =(x - mu)/sigma OR (0.260-0.295)/(0.025)= -1.4\n",
    ">* A pack of 0.260 kg is -1.4 standard deviations away from the mean 0.295\n",
    "\n",
    "> Salaries of employees in a company are normally distributed with a mean of 55000 dollars with a standard deviation of 6200 dollars. What percentage of employees earn approximately between 59,000 and 67,000 dollars?\n",
    ">* First, calculate z-score for 59000 -> (59000-55000)/ 6200 = 0.645\n",
    ">* Then, calculate z-score for 67000 -> (67000-55000)/ 6200 = 1.9354\n",
    ">* import scipy.stats as sc\n",
    ">* sc.norm.cdf(1.9354,loc=0,scale=1) - sc.norm.cdf(0.645,loc=0,scale=1) and you get 0.23"
   ]
  },
  {
   "cell_type": "markdown",
   "id": "a759f466",
   "metadata": {},
   "source": [
    "#### Normal Distribution and the norm.ppf() function\n",
    "\n",
    "* The norm.ppf() is inverse of the norm.cdf().\n",
    "* norm.cdf() is used to calculate cumulative values to the left of a point on a normal curve.\n",
    "* Takes a percentage p and returns a point such that the probability of the normal random variable being less than or equal to that number is p%. Thus, it just does the opposite work of norm.cdf().\n",
    "* Example: if percentage p = to 0.92, you get the point below which 92% of data falls. This means that 8% of data falls above that point.\n",
    "\n",
    "#### Example of ppf() OR percentile function\n",
    "> Calculate the minimum marks a student must score in order to secure 95th percentile in SAT 2020 (some other data was provided as part of data export).\n",
    ">* norm.ppf(0.95,1007.46, 204.43) and you get 1344\n",
    "\n",
    "> Calculate the minimum marks a student must score in order to be in the top 10% in SAT 2020.\n",
    ">* norm.ppf(0.90,1007.46, 204.43) and you get 1269\n"
   ]
  },
  {
   "cell_type": "markdown",
   "id": "355ddeb9",
   "metadata": {},
   "source": [
    "#### Probability to the right of a binomial distribution using 1-binom.cdf(), we subtract 1 from the k. But, in a normal distribution, we do not subtract 1 from x to the right of the distribution using 1-norm.cdf(). Why the difference?\n",
    "\n",
    "* Binomial distribution is a discrete distribution.\n",
    "* Whereas normal distribution is a continuous one. \n",
    "* cdf() behaves differently for a continuous distribution vs. discrete distribution. \n",
    "* In the case of a continuous distribution, the cdf is a strictly monotonic increasing continuous function; whereas the cdf of a discrete distribution is a step function.\n",
    "* According to the definition of cdf(), 1-binom.cdf() will calculate the probability that X > than a certain value. \n",
    "* 1-norm.cdf() will also do the same thing. But for continuous function, we do not have to subtract any value as the probability at a single point is always zero.\n",
    "\n",
    "#### Example of cdf()\n",
    ">  Calculate the probability that a student will score less than or equal to 750 in SAT exam 2020 (some additional data was provided in a data export).\n",
    ">* CDF: of a random variable(X) is the probability that X will take the value less than or equal to x. It can be represented mathematically as FX(x)=P(X≤x) OR P(X≤750)\n",
    ">* norm.cdf(x = 750, loc = 1007.46, scale = 204.43) and you get 0.10"
   ]
  },
  {
   "cell_type": "markdown",
   "id": "4f2f6268",
   "metadata": {},
   "source": [
    "### Exponential Distribution\n",
    "\n",
    "* from scipy.stats import expon\n",
    "* exp_pop = expon.rvs(size = 100000)\n",
    "\n",
    "#### Example\n",
    "> Which of the following code can be used to collect 600 samples of size 50 from exponential population.\n",
    ">* import numpy as np\n",
    ">* sample_means=[]\n",
    ">* for j in range(600):\n",
    ">> sample = np.random.choice (exp_pop, size = 50)\n",
    ">> sample_mean = np.mean(sample)   \n",
    ">> sample_means.append(sample_mean)"
   ]
  },
  {
   "cell_type": "markdown",
   "id": "9f64bbc4",
   "metadata": {},
   "source": [
    "## Central Limit Theorem"
   ]
  },
  {
   "cell_type": "markdown",
   "id": "a0171668",
   "metadata": {},
   "source": [
    "#### Can be used on Continuous and Discrete Distributions\n",
    "\n",
    "##### It's not just for normal distributions\n",
    "\n",
    "#### Assumptions of Central Limit Theorem\n",
    "* Data must be sampled randomly.\n",
    "* Sample values must be independent of each other.\n",
    "* Samples should come from the same distribution.\n",
    "* The sample size must be sufficiently large >= 30"
   ]
  },
  {
   "cell_type": "code",
   "execution_count": null,
   "id": "71a108f4",
   "metadata": {},
   "outputs": [],
   "source": []
  },
  {
   "cell_type": "markdown",
   "id": "5a086cd7",
   "metadata": {},
   "source": [
    "### Confidence Interval for Mean 𝜇\n",
    "\n",
    "#### Interpretation of 95% Confidence Interval\n",
    "* The interpretation of a 95% confidence interval is that, if the process is repeated a large number of times, then the intervals so constructed, will contain the true population parameter 95% of times.\n",
    "\n",
    "### Point Estimates\n",
    "\n",
    "#### A point estimate of a population parameter is a single value of a statistic\n",
    "\n",
    "#### More definition/rules:\n",
    "* The sample mean X̅ is a point estimate of the population mean μ. OR sample mean is the same as the population mean.\n",
    "* Similarly, the sample standard deviation s is a point estimate of the population standard deviation σ.\n",
    "* Point estimates vary from sample to sample. Often an interval is used to providea range of values the parameter can take, instead of a single point estimate.\n",
    "\n",
    "#### Examples:\n",
    "\n",
    "> A random sample of 100 men is taken and their mean height is found to be 180 cm. The population variance is 6 cm2. Find the 95% confidence interval for the mean height of the population(μ).\n",
    ">* from  scipy.stats import norm\n",
    ">* import numpy as np\n",
    ">* np.round(norm.interval(0.95, loc = 180, scale = 6/np.sqrt(100)), 3)\n",
    ">* You get: (178.824, 181.176)\n",
    "\n",
    ">  A landlord wants to rent an unfurnished one-bedroom apartment in Chicago. The mean monthly rent for a random sample of 100 apartments advertised on a website that lists apartments in Chicago for rent is 1,000 dollars. Assume a population standard deviation of 200 dollars. Construct a 95% confidence interval for the mean rent.\n",
    ">* from  scipy.stats import norm\n",
    ">* import numpy as np\n",
    ">* np.round(norm.interval(0.95, loc = 1000, scale = 200/np.sqrt(100)), 1)\n",
    ">* You get: (960.8, 1039.2)\n",
    "\n",
    "> A survey of females aged 16-60 years was conducted by the Department of Population Censuses (DPC), it was found that a sample of 50 female students has a mean height of 160.9 cm with a standard deviation of 6 cm. Determine the confidence interval of height with a confidence level of 95% and conclude whether their heights are typical of the general population?\n",
    ">* Here, the population standard deviation is unknown and the sample standard deviation is known. Therefore, we need to use t-distribution.\n",
    ">* from  scipy.stats import norm\n",
    ">* import numpy as np\n",
    ">* np.round(t.interval(0.95, df = 50-1, loc = 160.9, scale = 6/np.sqrt(50)), 2)\n",
    ">* You get: (159.19,162.61) - Heights are typical to the general population"
   ]
  },
  {
   "cell_type": "markdown",
   "id": "ff8bf9aa",
   "metadata": {},
   "source": [
    "### Tools"
   ]
  },
  {
   "cell_type": "markdown",
   "id": "0998ae69",
   "metadata": {},
   "source": [
    "* Statistics Calculator: https://www.danielsoper.com/statcalc/calculator.aspx?id=53\n",
    "* PMF and CDF Calculator: https://kwojcicki.github.io/blog/PDF-CDF-CALCULATOR\n",
    "* CDF Calculator: https://solvemymath.com/online_math_calculator/statistics/cdf_calculator.php\n",
    "* Sampling Distribution: https://onlinestatbook.com/stat_sim/sampling_dist/\n",
    "* Understand Probability Dist.: https://statisticsbyjim.com/basics/probability-distributions/"
   ]
  },
  {
   "cell_type": "code",
   "execution_count": null,
   "id": "e0d42784",
   "metadata": {},
   "outputs": [],
   "source": []
  }
 ],
 "metadata": {
  "kernelspec": {
   "display_name": "Python 3",
   "language": "python",
   "name": "python3"
  },
  "language_info": {
   "codemirror_mode": {
    "name": "ipython",
    "version": 3
   },
   "file_extension": ".py",
   "mimetype": "text/x-python",
   "name": "python",
   "nbconvert_exporter": "python",
   "pygments_lexer": "ipython3",
   "version": "3.8.8"
  }
 },
 "nbformat": 4,
 "nbformat_minor": 5
}
