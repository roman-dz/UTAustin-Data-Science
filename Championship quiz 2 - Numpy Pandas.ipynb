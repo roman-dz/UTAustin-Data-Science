{
 "cells": [
  {
   "cell_type": "code",
   "execution_count": 88,
   "id": "edde80f3",
   "metadata": {},
   "outputs": [],
   "source": [
    "# import libraries for data manipulation\n",
    "import numpy as np\n",
    "import pandas as pd\n"
   ]
  },
  {
   "cell_type": "code",
   "execution_count": 3,
   "id": "9f909dfd",
   "metadata": {},
   "outputs": [],
   "source": [
    "# We can create matrices by converting lists of lists."
   ]
  },
  {
   "cell_type": "code",
   "execution_count": 4,
   "id": "c21b4a78",
   "metadata": {},
   "outputs": [
    {
     "name": "stdout",
     "output_type": "stream",
     "text": [
      "[[ 0  1  2]\n",
      " [ 3  4  5]\n",
      " [ 6  7  8]\n",
      " [ 9 10 11]]\n"
     ]
    }
   ],
   "source": [
    "vec1 = np.arange(0, 12)\n",
    "vec2 = vec1.reshape(4, 3)\n",
    "print(vec2)"
   ]
  },
  {
   "cell_type": "code",
   "execution_count": 5,
   "id": "6ef434f2",
   "metadata": {},
   "outputs": [],
   "source": [
    "# An Identity matrix is a square matrix in which all the elements of the \n",
    "# ...principal diagonal are ones and all other elements are zeros."
   ]
  },
  {
   "cell_type": "code",
   "execution_count": 6,
   "id": "a83d6ca2",
   "metadata": {},
   "outputs": [],
   "source": [
    "# An array can take the values of only one datatype."
   ]
  },
  {
   "cell_type": "code",
   "execution_count": 7,
   "id": "97f8bac0",
   "metadata": {},
   "outputs": [],
   "source": [
    "# The following snippets of code are valid function(s) for NumPy\n",
    "\n",
    "# A. numpy.cos(numpy.pi)\n",
    "# B. numpy.sqrt(1.44)\n",
    "# C. numpy.log(6)\n",
    "# D. numpy.exp(4)"
   ]
  },
  {
   "cell_type": "code",
   "execution_count": 8,
   "id": "21f68d86",
   "metadata": {},
   "outputs": [
    {
     "name": "stdout",
     "output_type": "stream",
     "text": [
      "5\n"
     ]
    }
   ],
   "source": [
    "import numpy as np\n",
    "matrix = np.array([[1,2,3],[4,5,6],[7,8,9]])\n",
    "print(matrix[1][1])"
   ]
  },
  {
   "cell_type": "code",
   "execution_count": 10,
   "id": "aaa8c8ee",
   "metadata": {},
   "outputs": [
    {
     "data": {
      "text/plain": [
       "array([[1, 2, 3],\n",
       "       [4, 5, 6],\n",
       "       [7, 8, 9]])"
      ]
     },
     "execution_count": 10,
     "metadata": {},
     "output_type": "execute_result"
    }
   ],
   "source": [
    "# If we change array 2, array 1 will also be impacted\n",
    "import numpy as np\n",
    "array1 = np.array([[1,2,3],[4,5,6],[7,8,9]])\n",
    "array2 = array1\n",
    "array2"
   ]
  },
  {
   "cell_type": "code",
   "execution_count": 11,
   "id": "1781e5c8",
   "metadata": {},
   "outputs": [],
   "source": [
    "# we replace/change any value in an array?"
   ]
  },
  {
   "cell_type": "code",
   "execution_count": 12,
   "id": "57f5ffda",
   "metadata": {},
   "outputs": [],
   "source": [
    "# NumPy array can be saved on the disk for later use."
   ]
  },
  {
   "cell_type": "code",
   "execution_count": 14,
   "id": "6544ce2b",
   "metadata": {},
   "outputs": [],
   "source": [
    "# The following code can be used to load a numpy array (matrix.npy is a data file)\n",
    "# import numpy as np\n",
    "# loaded_array = np.load('matrix.npy')"
   ]
  },
  {
   "cell_type": "code",
   "execution_count": 15,
   "id": "e56a9fbd",
   "metadata": {},
   "outputs": [],
   "source": [
    "# I. A NumPy array can create a matrix with all entries of the same data type.\n",
    "\n",
    "# II. In a Pandas DataFrame, each column can have its own data type."
   ]
  },
  {
   "cell_type": "code",
   "execution_count": 16,
   "id": "01e18b1f",
   "metadata": {},
   "outputs": [],
   "source": [
    "# A data frame is made up of several series where each column is a series."
   ]
  },
  {
   "cell_type": "code",
   "execution_count": 17,
   "id": "d0dbc09c",
   "metadata": {},
   "outputs": [],
   "source": [
    "# A data frame can have columns of different data types?"
   ]
  },
  {
   "cell_type": "code",
   "execution_count": 18,
   "id": "300f4866",
   "metadata": {},
   "outputs": [],
   "source": [
    "# Pandas library of Python has functions for merging, sorting, and joining data frames."
   ]
  },
  {
   "cell_type": "code",
   "execution_count": 19,
   "id": "c626803e",
   "metadata": {},
   "outputs": [],
   "source": [
    "# We can name each column of a data frame in Pandas."
   ]
  },
  {
   "cell_type": "code",
   "execution_count": 21,
   "id": "aa36cabc",
   "metadata": {},
   "outputs": [],
   "source": [
    "# Statement: After executing the above code, either series1 will stack on top of series2 or \n",
    "# ...series2 will stack on top of series1.\n",
    "\n",
    "##########\n",
    "#df1 = pd.concat([series1,series2],axis=1)\n",
    "##########\n",
    "\n",
    "# the series will be combined side-by-side. When axis=0, two series will stack on each other\n",
    "# ...when axis=1, two series will stack parallel to each other"
   ]
  },
  {
   "cell_type": "code",
   "execution_count": 22,
   "id": "606739af",
   "metadata": {},
   "outputs": [
    {
     "data": {
      "text/html": [
       "<div>\n",
       "<style scoped>\n",
       "    .dataframe tbody tr th:only-of-type {\n",
       "        vertical-align: middle;\n",
       "    }\n",
       "\n",
       "    .dataframe tbody tr th {\n",
       "        vertical-align: top;\n",
       "    }\n",
       "\n",
       "    .dataframe thead th {\n",
       "        text-align: right;\n",
       "    }\n",
       "</style>\n",
       "<table border=\"1\" class=\"dataframe\">\n",
       "  <thead>\n",
       "    <tr style=\"text-align: right;\">\n",
       "      <th></th>\n",
       "    </tr>\n",
       "  </thead>\n",
       "  <tbody>\n",
       "  </tbody>\n",
       "</table>\n",
       "</div>"
      ],
      "text/plain": [
       "Empty DataFrame\n",
       "Columns: []\n",
       "Index: []"
      ]
     },
     "execution_count": 22,
     "metadata": {},
     "output_type": "execute_result"
    }
   ],
   "source": [
    "# This function creates a dataframe\n",
    "pd.DataFrame()"
   ]
  },
  {
   "cell_type": "code",
   "execution_count": 24,
   "id": "b856a13e",
   "metadata": {},
   "outputs": [],
   "source": [
    "# this command is used to reset the index of a dataframe(df3)\n",
    "# df3.reset_index()"
   ]
  },
  {
   "cell_type": "code",
   "execution_count": 25,
   "id": "5a4c40b3",
   "metadata": {},
   "outputs": [],
   "source": [
    "# We have a data frame (df4), which contains the Name, Age, and Gender Columns. Now if we run the below code:\n",
    "# df4.drop(\"Age\",axis=1)\n",
    "# Will the above code impact the original data frame (df4)?\n",
    "\n",
    "# Answer: NO\n",
    "# Because if you want to change the original dataframe then below code is to be used (add inplace=True)\n",
    "\n",
    "# df.drop(\"Age\",axis=1,inplace=True)"
   ]
  },
  {
   "cell_type": "code",
   "execution_count": 26,
   "id": "e86cb0fc",
   "metadata": {},
   "outputs": [],
   "source": [
    "# The name of one the rows of a data frame \"df\" is \"3rd Row\". To print it, use...\n",
    "# print(df.loc['3rd Row'])\n",
    "\n",
    "# The name of one of the columns of a data frame \"df\" is \"4th Column\". To print it, use...\n",
    "# print(df['4th Column'])"
   ]
  },
  {
   "cell_type": "code",
   "execution_count": 27,
   "id": "2c3b7bbe",
   "metadata": {},
   "outputs": [],
   "source": [
    "# merge() is a function in the Python library \"Pandas\", which provides standard database join operations \n",
    "# ...between DataFrame or named Series objects:"
   ]
  },
  {
   "cell_type": "code",
   "execution_count": 28,
   "id": "5935de92",
   "metadata": {},
   "outputs": [],
   "source": [
    "# Merging types...\n",
    "# how=\" outer\"  - This will show the union values for \"on\" variable\n",
    "# how= \"inner\" - This will show intersection(common entries ) values for \"on\" variable\n",
    "# how=\"left\" - This will show all the values of left dataframe (here in this question all the values of\n",
    "# ...df1 will be reflected)\n",
    "# how=\"right\"- This will show all the values of right dataframe (here in this question all the values of \n",
    "# ...df2 will be reflected)"
   ]
  },
  {
   "cell_type": "code",
   "execution_count": 29,
   "id": "8ff68b36",
   "metadata": {},
   "outputs": [],
   "source": [
    "# merge() can be used for combining data on common columns\n",
    "\n",
    "# concat() can be used for combining DataFrames across rows or columns."
   ]
  },
  {
   "cell_type": "code",
   "execution_count": 30,
   "id": "a9fa01f9",
   "metadata": {},
   "outputs": [],
   "source": [
    "# Given a dataframe(df1) with columns \"Product\" , \"Age\" and \"Price\". Which function will display the \n",
    "# ...unique values in the Product column.\n",
    "# df1[\"Product\"].unique()"
   ]
  },
  {
   "cell_type": "code",
   "execution_count": 31,
   "id": "5bf24fdc",
   "metadata": {},
   "outputs": [],
   "source": [
    "# dataframe.groupby() function of the \"Pandas\" library performs one or more of the following steps:\n",
    "# a) splits the data into groups based on some criteria\n",
    "# b) applies a function to each category\n",
    "# c) combines the result based on the applied function"
   ]
  },
  {
   "cell_type": "code",
   "execution_count": 32,
   "id": "97cff337",
   "metadata": {},
   "outputs": [],
   "source": [
    "# I. The apply() function of the \"Pandas\" library of Python, can be applied to both series and data frames.\n",
    "\n",
    "# II. The apply() function of the \"Pandas\" library of Python, returns some value after passing each \n",
    "# ...row/column of a data frame with some function. The function can be both default and user-defined."
   ]
  },
  {
   "cell_type": "code",
   "execution_count": 33,
   "id": "92c29b32",
   "metadata": {},
   "outputs": [],
   "source": [
    "# I. Pandas Series.value_counts() function returns a Series containing counts of unique values.\n",
    "\n",
    "# II. The resulting object will be in descending order so that the first element is the most \n",
    "# ...frequently-occurring element."
   ]
  },
  {
   "cell_type": "code",
   "execution_count": 34,
   "id": "9215346b",
   "metadata": {},
   "outputs": [],
   "source": [
    "# to load csv file into the Jupyter Notebook?\n",
    "\n",
    "# pd.read_csv()"
   ]
  },
  {
   "cell_type": "code",
   "execution_count": 35,
   "id": "a8fdded3",
   "metadata": {},
   "outputs": [],
   "source": [
    "# to save a dataframe(df2) as an excel file?\n",
    "\n",
    "# df2.to_excel()"
   ]
  },
  {
   "cell_type": "code",
   "execution_count": 40,
   "id": "560c7276",
   "metadata": {},
   "outputs": [
    {
     "data": {
      "text/plain": [
       "['learning', 'Python', 'is fun?', True, 'hello']"
      ]
     },
     "execution_count": 40,
     "metadata": {},
     "output_type": "execute_result"
    }
   ],
   "source": [
    "# to add 'hello'\n",
    "\n",
    "l1 = ['learning', \"Python\", 'is fun?', True]\n",
    "l1.append(\"hello\")\n",
    "l1"
   ]
  },
  {
   "cell_type": "code",
   "execution_count": 39,
   "id": "36e567a6",
   "metadata": {},
   "outputs": [
    {
     "data": {
      "text/plain": [
       "['learning', 'is fun?', True]"
      ]
     },
     "execution_count": 39,
     "metadata": {},
     "output_type": "execute_result"
    }
   ],
   "source": [
    "# to remove 'Python'\n",
    "l2 = ['learning', \"Python\", 'is fun?', True]\n",
    "l2.remove(\"Python\")\n",
    "l2"
   ]
  },
  {
   "cell_type": "code",
   "execution_count": 42,
   "id": "a23e070f",
   "metadata": {},
   "outputs": [
    {
     "data": {
      "text/plain": [
       "[1, 2, 3, 4, 5, 6]"
      ]
     },
     "execution_count": 42,
     "metadata": {},
     "output_type": "execute_result"
    }
   ],
   "source": [
    "l1 = [1,2,3]\n",
    "l2 = [4,5,6]\n",
    "l1 + l2"
   ]
  },
  {
   "cell_type": "code",
   "execution_count": 43,
   "id": "fab4862f",
   "metadata": {},
   "outputs": [
    {
     "data": {
      "text/plain": [
       "10.4681"
      ]
     },
     "execution_count": 43,
     "metadata": {},
     "output_type": "execute_result"
    }
   ],
   "source": [
    "l1 = [2.0001, 3.908, 4.56]\n",
    "sum(l1)"
   ]
  },
  {
   "cell_type": "code",
   "execution_count": 45,
   "id": "90f6da5f",
   "metadata": {},
   "outputs": [
    {
     "data": {
      "text/plain": [
       "17"
      ]
     },
     "execution_count": 45,
     "metadata": {},
     "output_type": "execute_result"
    }
   ],
   "source": [
    "def sum_3(a,b,c):\n",
    "    d = a + b + c\n",
    "    s = sum(d)\n",
    "    return s\n",
    "# Note that the inputs of the function must be lists. For example, the below code will return 17.\n",
    "sum_3([1,2], [4,5], [2,3])"
   ]
  },
  {
   "cell_type": "code",
   "execution_count": 46,
   "id": "098a39cb",
   "metadata": {},
   "outputs": [
    {
     "data": {
      "text/plain": [
       "5.0"
      ]
     },
     "execution_count": 46,
     "metadata": {},
     "output_type": "execute_result"
    }
   ],
   "source": [
    "f = lambda x,y,z: x*y/z*z\n",
    "f(1, 5, 78)"
   ]
  },
  {
   "cell_type": "code",
   "execution_count": 47,
   "id": "2f0bf4d9",
   "metadata": {},
   "outputs": [
    {
     "name": "stdout",
     "output_type": "stream",
     "text": [
      "[2, 4, 6, 8, 10, 12, 14, 16, 18, 20, 22, 24, 26, 28, 30, 32, 34, 36, 38, 40, 42, 44, 46, 48, 50, 52, 54, 56, 58, 60, 62, 64, 66, 68, 70, 72, 74, 76, 78, 80, 82, 84, 86, 88, 90, 92, 94, 96, 98, 100]\n"
     ]
    }
   ],
   "source": [
    "# will output all even numbers ranging from 1 to 100\n",
    "set = [i for i in range(1,101) if i%2 == 0] \n",
    "print(set)"
   ]
  },
  {
   "cell_type": "code",
   "execution_count": 49,
   "id": "ed78073f",
   "metadata": {},
   "outputs": [
    {
     "name": "stdout",
     "output_type": "stream",
     "text": [
      "[5, 8, 2, 1, 5, 8, 2, 5, 5, 4, 7, 2, 2, 3, 5, 7, 3, 8]\n"
     ]
    }
   ],
   "source": [
    "# prints the length of each word\n",
    "sentence = 'great learning is a great platform to learn about data science as it has great faculty and content.'\n",
    "count = [len(i) for i in sentence.split()]\n",
    "print(count)"
   ]
  },
  {
   "cell_type": "code",
   "execution_count": 50,
   "id": "42f3eede",
   "metadata": {},
   "outputs": [
    {
     "data": {
      "text/plain": [
       "array([[1., 0.],\n",
       "       [0., 1.]])"
      ]
     },
     "execution_count": 50,
     "metadata": {},
     "output_type": "execute_result"
    }
   ],
   "source": [
    "# will create a 2D identity matrix of size 2\n",
    "np.identity(2)"
   ]
  },
  {
   "cell_type": "code",
   "execution_count": 52,
   "id": "e8e0e7de",
   "metadata": {},
   "outputs": [
    {
     "data": {
      "text/plain": [
       "array([[9, 8, 7],\n",
       "       [6, 5, 4],\n",
       "       [3, 2, 1]])"
      ]
     },
     "execution_count": 52,
     "metadata": {},
     "output_type": "execute_result"
    }
   ],
   "source": [
    "# will create a 2D array or matrix of order 3x3 with values = 9,8,7,6,5,4,3,2,1 arranged in the same order\n",
    "np.array([[9,8,7],[6,5,4],[3,2,1]])\n",
    "\n",
    "# np.array() function helps to create arrays and matrices in python.\n",
    "# The input for np.array() is a list of lists, where each list will work as a row of the matrix"
   ]
  },
  {
   "cell_type": "code",
   "execution_count": 54,
   "id": "a8ef14ff",
   "metadata": {},
   "outputs": [
    {
     "data": {
      "text/plain": [
       "array([[10,  9,  8],\n",
       "       [ 7,  6,  5],\n",
       "       [ 4,  3,  2]])"
      ]
     },
     "execution_count": 54,
     "metadata": {},
     "output_type": "execute_result"
    }
   ],
   "source": [
    "# codes will add '1' to each element of d1, where d1 is\n",
    "d1 = np.array([[9,8,7],[6,5,4],[3,2,1]])\n",
    "d2=d1 + 1\n",
    "d2"
   ]
  },
  {
   "cell_type": "code",
   "execution_count": 58,
   "id": "4b13429e",
   "metadata": {},
   "outputs": [
    {
     "data": {
      "text/plain": [
       "131.66666666666666"
      ]
     },
     "execution_count": 58,
     "metadata": {},
     "output_type": "execute_result"
    }
   ],
   "source": [
    "# What will be the average value of all the elements in n6, where\n",
    "n6 = np.matrix([[ 1, 4, 9, 121, 144, 169], \n",
    "[ 16, 25, 36, 196, 225, 256], [ 49, 64, 81, 289, 324, 361]])\n",
    "n6\n",
    "n6.mean()"
   ]
  },
  {
   "cell_type": "code",
   "execution_count": 60,
   "id": "ad8824a8",
   "metadata": {},
   "outputs": [
    {
     "data": {
      "text/plain": [
       "matrix([[1786, 1880, 3017],\n",
       "        [2725, 2933, 4712],\n",
       "        [3862, 4220, 6785]])"
      ]
     },
     "execution_count": 60,
     "metadata": {},
     "output_type": "execute_result"
    }
   ],
   "source": [
    "# What will be the dot product of n1 and n2, where\n",
    "\n",
    "n1 = np.matrix([[121, 144, 169], \n",
    "[196, 225, 256], [ 289, 324, 361]])\n",
    "\n",
    "n2 = np.matrix([[ 1, 4, 9], \n",
    "[ 1, 5, 4], [ 9, 4, 8]])\n",
    "\n",
    "np.dot(n1, n2)"
   ]
  },
  {
   "cell_type": "code",
   "execution_count": 62,
   "id": "1a11e855",
   "metadata": {},
   "outputs": [
    {
     "data": {
      "text/plain": [
       "array([2, 3, 4, 5, 6])"
      ]
     },
     "execution_count": 62,
     "metadata": {},
     "output_type": "execute_result"
    }
   ],
   "source": [
    "# what's the output\n",
    "np.arange(20)[2:7] "
   ]
  },
  {
   "cell_type": "code",
   "execution_count": 69,
   "id": "d5fd802a",
   "metadata": {},
   "outputs": [
    {
     "data": {
      "text/plain": [
       "array([19, 18, 17, 16, 15, 14, 13, 12, 11, 10,  9,  8,  7,  6,  5,  4,  3,\n",
       "        2,  1,  0])"
      ]
     },
     "execution_count": 69,
     "metadata": {},
     "output_type": "execute_result"
    }
   ],
   "source": [
    "# Which of the following command will reverse the array p, where\n",
    "p = np.arange(20)\n",
    "p[::-1]"
   ]
  },
  {
   "cell_type": "code",
   "execution_count": 72,
   "id": "6e6006cf",
   "metadata": {},
   "outputs": [
    {
     "data": {
      "text/plain": [
       "array([0, 1, 2, 3, 4, 5, 6, 7, 8, 9])"
      ]
     },
     "execution_count": 72,
     "metadata": {},
     "output_type": "execute_result"
    }
   ],
   "source": [
    "import numpy as np\n",
    "demo_array = np.arange(0,10) \n",
    "\n",
    "demo_array\n",
    "#demo_array <3\n",
    "#demo_array[demo_array <6]\n",
    "#np.max(demo_array)"
   ]
  },
  {
   "cell_type": "code",
   "execution_count": 73,
   "id": "ef6225d0",
   "metadata": {},
   "outputs": [],
   "source": [
    "# Vectors are 1 dimensional and matrices are 2 dimensional"
   ]
  },
  {
   "cell_type": "code",
   "execution_count": 75,
   "id": "8ab9313c",
   "metadata": {},
   "outputs": [],
   "source": [
    "# the following code would add a new column to a dataframe\n",
    "\n",
    "#newcolumn = [\"A\", \"B\", \"C\", \"D\", \"E\"]\n",
    "#dataframe['Alphabets'] = newcolumn"
   ]
  },
  {
   "cell_type": "code",
   "execution_count": 76,
   "id": "2d710972",
   "metadata": {},
   "outputs": [
    {
     "data": {
      "text/plain": [
       "array([101, 101, 101, 101, 101, 101, 101])"
      ]
     },
     "execution_count": 76,
     "metadata": {},
     "output_type": "execute_result"
    }
   ],
   "source": [
    "demo_array = np.arange(10,21)\n",
    "\n",
    "subset_demo_array = demo_array[0:7]\n",
    "\n",
    "subset_demo_array[:]= 101\n",
    "\n",
    "subset_demo_array"
   ]
  },
  {
   "cell_type": "code",
   "execution_count": 77,
   "id": "8102522e",
   "metadata": {},
   "outputs": [
    {
     "data": {
      "text/plain": [
       "5"
      ]
     },
     "execution_count": 77,
     "metadata": {},
     "output_type": "execute_result"
    }
   ],
   "source": [
    "flowers = pd.Series([2, 3, 5, 4], index=['lily', 'rose', 'daisy', 'lotus'])\n",
    "\n",
    "flowers['daisy']"
   ]
  },
  {
   "cell_type": "code",
   "execution_count": 78,
   "id": "d67f4c97",
   "metadata": {},
   "outputs": [],
   "source": [
    "# axis 1 is for searching columns"
   ]
  },
  {
   "cell_type": "code",
   "execution_count": 81,
   "id": "ab668d67",
   "metadata": {},
   "outputs": [
    {
     "data": {
      "text/plain": [
       "0    a\n",
       "1    b\n",
       "0    c\n",
       "1    d\n",
       "dtype: object"
      ]
     },
     "execution_count": 81,
     "metadata": {},
     "output_type": "execute_result"
    }
   ],
   "source": [
    "s1 = pd.Series(['a', 'b'])\n",
    "\n",
    "s2 = pd.Series(['c', 'd'])\n",
    "pd.concat([s1, s2])\n",
    "\n",
    "# When concatenating all Series along the index (axis=0), a Series is returned. When objs contains at least\n",
    "# ...one DataFrame, a DataFrame is returned. When concatenating along the columns (axis=1), a DataFrame is \n",
    "# ...returned."
   ]
  },
  {
   "cell_type": "code",
   "execution_count": 82,
   "id": "3302c842",
   "metadata": {},
   "outputs": [],
   "source": [
    "# to create a dataframe from external sources\n",
    "# dataframe = pd.read_csv(‘filename’)"
   ]
  },
  {
   "cell_type": "code",
   "execution_count": 83,
   "id": "80b0f852",
   "metadata": {},
   "outputs": [],
   "source": [
    "# to convert the list called 'football' into array\n",
    "# np.array(football)"
   ]
  },
  {
   "cell_type": "code",
   "execution_count": 95,
   "id": "f6bdaa3b",
   "metadata": {},
   "outputs": [
    {
     "data": {
      "text/html": [
       "<div>\n",
       "<style scoped>\n",
       "    .dataframe tbody tr th:only-of-type {\n",
       "        vertical-align: middle;\n",
       "    }\n",
       "\n",
       "    .dataframe tbody tr th {\n",
       "        vertical-align: top;\n",
       "    }\n",
       "\n",
       "    .dataframe thead th {\n",
       "        text-align: right;\n",
       "    }\n",
       "</style>\n",
       "<table border=\"1\" class=\"dataframe\">\n",
       "  <thead>\n",
       "    <tr style=\"text-align: right;\">\n",
       "      <th></th>\n",
       "      <th>Scorecard</th>\n",
       "      <th>Team 1</th>\n",
       "      <th>Team 2</th>\n",
       "      <th>Winner</th>\n",
       "      <th>Margin</th>\n",
       "      <th>Ground</th>\n",
       "      <th>Match Date</th>\n",
       "    </tr>\n",
       "  </thead>\n",
       "  <tbody>\n",
       "    <tr>\n",
       "      <th>0</th>\n",
       "      <td>ODI # 1</td>\n",
       "      <td>Australia</td>\n",
       "      <td>England</td>\n",
       "      <td>Australia</td>\n",
       "      <td>5 wickets</td>\n",
       "      <td>Melbourne</td>\n",
       "      <td>Jan 5, 1971</td>\n",
       "    </tr>\n",
       "    <tr>\n",
       "      <th>1</th>\n",
       "      <td>ODI # 2</td>\n",
       "      <td>England</td>\n",
       "      <td>Australia</td>\n",
       "      <td>England</td>\n",
       "      <td>6 wickets</td>\n",
       "      <td>Manchester</td>\n",
       "      <td>Aug 24, 1972</td>\n",
       "    </tr>\n",
       "    <tr>\n",
       "      <th>2</th>\n",
       "      <td>ODI # 3</td>\n",
       "      <td>England</td>\n",
       "      <td>Australia</td>\n",
       "      <td>Australia</td>\n",
       "      <td>5 wickets</td>\n",
       "      <td>Lord's</td>\n",
       "      <td>Aug 26, 1972</td>\n",
       "    </tr>\n",
       "    <tr>\n",
       "      <th>3</th>\n",
       "      <td>ODI # 4</td>\n",
       "      <td>England</td>\n",
       "      <td>Australia</td>\n",
       "      <td>England</td>\n",
       "      <td>2 wickets</td>\n",
       "      <td>Birmingham</td>\n",
       "      <td>Aug 28, 1972</td>\n",
       "    </tr>\n",
       "    <tr>\n",
       "      <th>4</th>\n",
       "      <td>ODI # 5</td>\n",
       "      <td>New Zealand</td>\n",
       "      <td>Pakistan</td>\n",
       "      <td>New Zealand</td>\n",
       "      <td>22 runs</td>\n",
       "      <td>Christchurch</td>\n",
       "      <td>Feb 11, 1973</td>\n",
       "    </tr>\n",
       "  </tbody>\n",
       "</table>\n",
       "</div>"
      ],
      "text/plain": [
       "  Scorecard       Team 1     Team 2       Winner     Margin        Ground  \\\n",
       "0   ODI # 1    Australia    England    Australia  5 wickets     Melbourne   \n",
       "1   ODI # 2      England  Australia      England  6 wickets    Manchester   \n",
       "2   ODI # 3      England  Australia    Australia  5 wickets        Lord's   \n",
       "3   ODI # 4      England  Australia      England  2 wickets    Birmingham   \n",
       "4   ODI # 5  New Zealand   Pakistan  New Zealand    22 runs  Christchurch   \n",
       "\n",
       "     Match Date  \n",
       "0   Jan 5, 1971  \n",
       "1  Aug 24, 1972  \n",
       "2  Aug 26, 1972  \n",
       "3  Aug 28, 1972  \n",
       "4  Feb 11, 1973  "
      ]
     },
     "execution_count": 95,
     "metadata": {},
     "output_type": "execute_result"
    }
   ],
   "source": [
    "# read the data\n",
    "df = pd.read_csv('Dateset_ODI.csv')\n",
    "# returns the first 5 rows\n",
    "df.head()"
   ]
  },
  {
   "cell_type": "code",
   "execution_count": 155,
   "id": "63db8c95",
   "metadata": {},
   "outputs": [
    {
     "name": "stdout",
     "output_type": "stream",
     "text": [
      "['x', 'y', 'z', ['w']]\n"
     ]
    }
   ],
   "source": [
    "a = ['x', 'y', 'z']\n",
    "b = ['w']\n",
    "a.append(b)\n",
    "print(a)"
   ]
  },
  {
   "cell_type": "code",
   "execution_count": 153,
   "id": "b63e89fd",
   "metadata": {},
   "outputs": [
    {
     "name": "stdout",
     "output_type": "stream",
     "text": [
      "['apple', 'banana', 'cherry', ['Ford', 'BMW', 'Volvo']]\n"
     ]
    }
   ],
   "source": [
    "a = [\"apple\", \"banana\", \"cherry\"]\n",
    "\n",
    "b = [\"Ford\", \"BMW\", \"Volvo\"]\n",
    "\n",
    "a.append(b)\n",
    "\n",
    "print(a)"
   ]
  },
  {
   "cell_type": "code",
   "execution_count": 96,
   "id": "839e0156",
   "metadata": {},
   "outputs": [
    {
     "data": {
      "text/html": [
       "<div>\n",
       "<style scoped>\n",
       "    .dataframe tbody tr th:only-of-type {\n",
       "        vertical-align: middle;\n",
       "    }\n",
       "\n",
       "    .dataframe tbody tr th {\n",
       "        vertical-align: top;\n",
       "    }\n",
       "\n",
       "    .dataframe thead th {\n",
       "        text-align: right;\n",
       "    }\n",
       "</style>\n",
       "<table border=\"1\" class=\"dataframe\">\n",
       "  <thead>\n",
       "    <tr style=\"text-align: right;\">\n",
       "      <th></th>\n",
       "      <th>Scorecard</th>\n",
       "      <th>Team 1</th>\n",
       "      <th>Team 2</th>\n",
       "      <th>Winner</th>\n",
       "      <th>Margin</th>\n",
       "      <th>Ground</th>\n",
       "      <th>Match Date</th>\n",
       "    </tr>\n",
       "  </thead>\n",
       "  <tbody>\n",
       "    <tr>\n",
       "      <th>count</th>\n",
       "      <td>3932</td>\n",
       "      <td>3932</td>\n",
       "      <td>3932</td>\n",
       "      <td>3932</td>\n",
       "      <td>3753</td>\n",
       "      <td>3932</td>\n",
       "      <td>3932</td>\n",
       "    </tr>\n",
       "    <tr>\n",
       "      <th>unique</th>\n",
       "      <td>3932</td>\n",
       "      <td>24</td>\n",
       "      <td>25</td>\n",
       "      <td>25</td>\n",
       "      <td>227</td>\n",
       "      <td>173</td>\n",
       "      <td>3386</td>\n",
       "    </tr>\n",
       "    <tr>\n",
       "      <th>top</th>\n",
       "      <td>ODI # 1744</td>\n",
       "      <td>Australia</td>\n",
       "      <td>Sri Lanka</td>\n",
       "      <td>Australia</td>\n",
       "      <td>6 wickets</td>\n",
       "      <td>Sharjah</td>\n",
       "      <td>Feb 4, 2007</td>\n",
       "    </tr>\n",
       "    <tr>\n",
       "      <th>freq</th>\n",
       "      <td>1</td>\n",
       "      <td>583</td>\n",
       "      <td>508</td>\n",
       "      <td>555</td>\n",
       "      <td>347</td>\n",
       "      <td>228</td>\n",
       "      <td>6</td>\n",
       "    </tr>\n",
       "  </tbody>\n",
       "</table>\n",
       "</div>"
      ],
      "text/plain": [
       "         Scorecard     Team 1     Team 2     Winner     Margin   Ground  \\\n",
       "count         3932       3932       3932       3932       3753     3932   \n",
       "unique        3932         24         25         25        227      173   \n",
       "top     ODI # 1744  Australia  Sri Lanka  Australia  6 wickets  Sharjah   \n",
       "freq             1        583        508        555        347      228   \n",
       "\n",
       "         Match Date  \n",
       "count          3932  \n",
       "unique         3386  \n",
       "top     Feb 4, 2007  \n",
       "freq              6  "
      ]
     },
     "execution_count": 96,
     "metadata": {},
     "output_type": "execute_result"
    }
   ],
   "source": [
    "df.describe()"
   ]
  },
  {
   "cell_type": "code",
   "execution_count": 101,
   "id": "b2641494",
   "metadata": {},
   "outputs": [
    {
     "data": {
      "text/plain": [
       "Scorecard       ODI # 999\n",
       "Team 1           Zimbabwe\n",
       "Team 2           Zimbabwe\n",
       "Winner               tied\n",
       "Ground          Worcester\n",
       "Match Date    Sep 9, 2011\n",
       "dtype: object"
      ]
     },
     "execution_count": 101,
     "metadata": {},
     "output_type": "execute_result"
    }
   ],
   "source": [
    "df.max()"
   ]
  },
  {
   "cell_type": "code",
   "execution_count": 100,
   "id": "b8da6511",
   "metadata": {},
   "outputs": [
    {
     "data": {
      "text/plain": [
       "'Worcester'"
      ]
     },
     "execution_count": 100,
     "metadata": {},
     "output_type": "execute_result"
    }
   ],
   "source": [
    "df['Ground'].max()"
   ]
  },
  {
   "cell_type": "code",
   "execution_count": 111,
   "id": "e428d15e",
   "metadata": {},
   "outputs": [
    {
     "data": {
      "text/plain": [
       "Ground\n",
       "Sharjah      228\n",
       "Dhaka        156\n",
       "Sydney       154\n",
       "Melbourne    147\n",
       "Harare       136\n",
       "            ... \n",
       "Ballarat       1\n",
       "Mackay         1\n",
       "Devonport      1\n",
       "Nairobi        1\n",
       "Kwekwe         1\n",
       "Name: Scorecard, Length: 173, dtype: int64"
      ]
     },
     "execution_count": 111,
     "metadata": {},
     "output_type": "execute_result"
    }
   ],
   "source": [
    "df.groupby(['Ground'])['Scorecard'].count().sort_values(ascending=False)"
   ]
  },
  {
   "cell_type": "code",
   "execution_count": 107,
   "id": "9442efda",
   "metadata": {},
   "outputs": [
    {
     "data": {
      "text/plain": [
       "Scorecard\n",
       "ODI # 3379      Aberdeen\n",
       "ODI # 3381      Aberdeen\n",
       "ODI # 3164      Aberdeen\n",
       "ODI # 3491      Aberdeen\n",
       "ODI # 2731      Aberdeen\n",
       "                 ...    \n",
       "ODI # 822     Wellington\n",
       "ODI # 3232     Whangarei\n",
       "ODI # 208      Worcester\n",
       "ODI # 1446     Worcester\n",
       "ODI # 1456     Worcester\n",
       "Name: Ground, Length: 3932, dtype: object"
      ]
     },
     "execution_count": 107,
     "metadata": {},
     "output_type": "execute_result"
    }
   ],
   "source": [
    "df.groupby(['Scorecard'])['Ground'].max().sort_values(ascending=True)"
   ]
  },
  {
   "cell_type": "code",
   "execution_count": 139,
   "id": "f9c05c25",
   "metadata": {},
   "outputs": [
    {
     "data": {
      "text/plain": [
       "Match Date\n",
       "Apr 1, 1984     1\n",
       "Mar 22, 2017    1\n",
       "Mar 23, 1989    1\n",
       "Mar 23, 1993    1\n",
       "Mar 23, 1999    1\n",
       "               ..\n",
       "Jun 11, 1975    4\n",
       "Jun 13, 1983    4\n",
       "Jan 31, 2007    4\n",
       "Jun 14, 1975    4\n",
       "Feb 4, 2007     6\n",
       "Name: Scorecard, Length: 3386, dtype: int64"
      ]
     },
     "execution_count": 139,
     "metadata": {},
     "output_type": "execute_result"
    }
   ],
   "source": [
    "# On which date 6 matches were played\n",
    "# This solution provides accidental solution, because 6 matches in one day happen to be the max value\n",
    "df.groupby(['Match Date'])['Scorecard'].count().sort_values(ascending=True)\n",
    "# better solution is below..."
   ]
  },
  {
   "cell_type": "code",
   "execution_count": 141,
   "id": "88818057",
   "metadata": {},
   "outputs": [
    {
     "data": {
      "text/plain": [
       "Feb 4, 2007     6\n",
       "Jun 20, 1983    4\n",
       "Jun 13, 1983    4\n",
       "Jun 9, 1979     4\n",
       "Jun 11, 1975    4\n",
       "               ..\n",
       "Aug 12, 1993    1\n",
       "Feb 21, 1993    1\n",
       "Jan 15, 2003    1\n",
       "Nov 25, 1981    1\n",
       "Jan 26, 1982    1\n",
       "Name: Match Date, Length: 3386, dtype: int64"
      ]
     },
     "execution_count": 141,
     "metadata": {},
     "output_type": "execute_result"
    }
   ],
   "source": [
    "# On which date 6 matches were played\n",
    "# better solution than above\n",
    "df['Match Date'].value_counts() # auto sorts by top/max value first"
   ]
  },
  {
   "cell_type": "code",
   "execution_count": 145,
   "id": "72c39718",
   "metadata": {},
   "outputs": [
    {
     "data": {
      "text/plain": [
       "Winner\n",
       "Pakistan        83\n",
       "India           35\n",
       "Sri Lanka       29\n",
       "West Indies     19\n",
       "Australia       14\n",
       "South Africa    10\n",
       "Afghanistan      9\n",
       "New Zealand      9\n",
       "England          8\n",
       "Zimbabwe         8\n",
       "tied             2\n",
       "Canada           1\n",
       "Netherlands      1\n",
       "Name: Scorecard, dtype: int64"
      ]
     },
     "execution_count": 145,
     "metadata": {},
     "output_type": "execute_result"
    }
   ],
   "source": [
    "# Which team won maximum matches on Ground ‘ Sharjah’ ?\n",
    "\n",
    "df_weekend = df[df.Ground=='Sharjah']\n",
    "df_weekend.groupby(['Winner'])['Scorecard'].count().sort_values(ascending=False)"
   ]
  },
  {
   "cell_type": "code",
   "execution_count": 146,
   "id": "4eac7283",
   "metadata": {},
   "outputs": [
    {
     "data": {
      "text/plain": [
       "Pakistan        83\n",
       "India           35\n",
       "Sri Lanka       29\n",
       "West Indies     19\n",
       "Australia       14\n",
       "South Africa    10\n",
       "Afghanistan      9\n",
       "New Zealand      9\n",
       "Zimbabwe         8\n",
       "England          8\n",
       "tied             2\n",
       "Netherlands      1\n",
       "Canada           1\n",
       "Name: Winner, dtype: int64"
      ]
     },
     "execution_count": 146,
     "metadata": {},
     "output_type": "execute_result"
    }
   ],
   "source": [
    "# Another way to solve the above\n",
    "# Which team won maximum matches on Ground ‘ Sharjah’ ?\n",
    "\n",
    "df1 = df[df['Ground'] == 'Sharjah']\n",
    "df1['Winner'].value_counts()"
   ]
  },
  {
   "cell_type": "code",
   "execution_count": 142,
   "id": "8e8a4dcb",
   "metadata": {},
   "outputs": [
    {
     "data": {
      "text/plain": [
       "Ground\n",
       "Sydney        85\n",
       "Melbourne     74\n",
       "Adelaide      34\n",
       "Perth         29\n",
       "Brisbane      23\n",
       "              ..\n",
       "Faridabad      1\n",
       "Georgetown     1\n",
       "Hambantota     1\n",
       "Jaipur         1\n",
       "Worcester      1\n",
       "Name: Scorecard, Length: 97, dtype: int64"
      ]
     },
     "execution_count": 142,
     "metadata": {},
     "output_type": "execute_result"
    }
   ],
   "source": [
    "# On which ground did Australia win the most number of matches?\n",
    "df_winner = df[df.Winner=='Australia']\n",
    "df_winner.groupby(['Ground'])['Scorecard'].count().sort_values(ascending=False)"
   ]
  },
  {
   "cell_type": "code",
   "execution_count": 144,
   "id": "70cd1331",
   "metadata": {},
   "outputs": [
    {
     "data": {
      "text/plain": [
       "Sydney         85\n",
       "Melbourne      74\n",
       "Adelaide       34\n",
       "Perth          29\n",
       "Brisbane       23\n",
       "               ..\n",
       "Chandigarh      1\n",
       "Faridabad       1\n",
       "Hambantota      1\n",
       "Rajkot          1\n",
       "Mumbai (BS)     1\n",
       "Name: Ground, Length: 97, dtype: int64"
      ]
     },
     "execution_count": 144,
     "metadata": {},
     "output_type": "execute_result"
    }
   ],
   "source": [
    "# On which ground did Australia win the most number of matches?\n",
    "# similar solution but better than above\n",
    "df1 = df[df['Winner'] == 'Australia']  \n",
    "df1['Ground'].value_counts()"
   ]
  },
  {
   "cell_type": "code",
   "execution_count": 137,
   "id": "29c3e5f3",
   "metadata": {},
   "outputs": [
    {
     "data": {
      "text/plain": [
       "1637"
      ]
     },
     "execution_count": 137,
     "metadata": {},
     "output_type": "execute_result"
    }
   ],
   "source": [
    "# What is the number of times in which the winner was \"Team 2\"?\n",
    "(df['Team 2'] == df['Winner']).sum()\n",
    "# The use of count() would be inaccurate, because it was just count the number column entries...\n",
    "# ...which would then provide the total number of records"
   ]
  },
  {
   "cell_type": "code",
   "execution_count": 131,
   "id": "54ee8509",
   "metadata": {},
   "outputs": [
    {
     "name": "stdout",
     "output_type": "stream",
     "text": [
      "1\n",
      "3\n",
      "5\n",
      "7\n",
      "9\n"
     ]
    }
   ],
   "source": [
    "x = 1\n",
    "\n",
    "for i in range(1,10,2):\n",
    "\n",
    "    print(x*i)"
   ]
  },
  {
   "cell_type": "code",
   "execution_count": 132,
   "id": "b5b646a9",
   "metadata": {},
   "outputs": [
    {
     "data": {
      "text/plain": [
       "'2'"
      ]
     },
     "execution_count": 132,
     "metadata": {},
     "output_type": "execute_result"
    }
   ],
   "source": [
    "a = np.array([['m', '2'],['n','3']])\n",
    "a[0,1]"
   ]
  },
  {
   "cell_type": "code",
   "execution_count": null,
   "id": "f37f0b9c",
   "metadata": {},
   "outputs": [],
   "source": []
  }
 ],
 "metadata": {
  "kernelspec": {
   "display_name": "Python 3",
   "language": "python",
   "name": "python3"
  },
  "language_info": {
   "codemirror_mode": {
    "name": "ipython",
    "version": 3
   },
   "file_extension": ".py",
   "mimetype": "text/x-python",
   "name": "python",
   "nbconvert_exporter": "python",
   "pygments_lexer": "ipython3",
   "version": "3.8.8"
  }
 },
 "nbformat": 4,
 "nbformat_minor": 5
}
